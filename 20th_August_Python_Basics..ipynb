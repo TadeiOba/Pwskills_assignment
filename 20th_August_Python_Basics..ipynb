{
 "cells": [
  {
   "cell_type": "markdown",
   "id": "de0d7a20-efe7-4288-89e7-881e2c250830",
   "metadata": {},
   "source": [
    "1. Write a program to reverse a string."
   ]
  },
  {
   "cell_type": "code",
   "execution_count": null,
   "id": "84bb4efb-7695-4ca3-bd1f-1f64113b37a4",
   "metadata": {},
   "outputs": [
    {
     "data": {
      "text/plain": [
       "'esruoC ecneicSataD'"
      ]
     },
     "execution_count": 1,
     "metadata": {},
     "output_type": "execute_result"
    }
   ],
   "source": [
    "#Create a string\n",
    "p=\"DataScience Course\"\n",
    "#reverse the string\n",
    "p[::-1]"
   ]
  },
  {
   "cell_type": "markdown",
   "id": "da7c67da-0d15-4895-9233-fd2f5132df84",
   "metadata": {},
   "source": [
    "2. Check if a string is a palindrome."
   ]
  },
  {
   "cell_type": "code",
   "execution_count": 1,
   "id": "8774efc4-302b-438f-a64f-6d84dbe084ab",
   "metadata": {},
   "outputs": [
    {
     "name": "stdin",
     "output_type": "stream",
     "text": [
      "Enter the String  datascience\n"
     ]
    },
    {
     "name": "stdout",
     "output_type": "stream",
     "text": [
      "Not Palindrome\n"
     ]
    }
   ],
   "source": [
    "#input the string \n",
    "s=input(\"Enter the String \")\n",
    "\n",
    "#check if forward and backwards reverse are same\n",
    "\n",
    "if s==s[: : -1]:\n",
    "    print(\"Its a Palindrome\")\n",
    "    \n",
    "else:\n",
    "    print(\"Not Palindrome\")"
   ]
  },
  {
   "cell_type": "markdown",
   "id": "ea10c419-dcd1-4f9c-86e3-8923d6aa84b0",
   "metadata": {},
   "source": [
    "3. Convert a string to uppercase."
   ]
  },
  {
   "cell_type": "code",
   "execution_count": null,
   "id": "4512a343-4a38-4aaa-881e-83a474a39905",
   "metadata": {},
   "outputs": [],
   "source": [
    "#declare the string variable\n",
    "r='ryoba'\n",
    "r.upper()\n",
    "\n"
   ]
  },
  {
   "cell_type": "markdown",
   "id": "c9d4ed03-9f41-453f-9e54-94104af5fda9",
   "metadata": {},
   "source": [
    "4. Convert a string to lowercase."
   ]
  },
  {
   "cell_type": "code",
   "execution_count": null,
   "id": "72431474-5e96-4ce1-9364-2312f71558c9",
   "metadata": {},
   "outputs": [],
   "source": [
    "r='NYAIsaRa'\n",
    "\n",
    "r.lower()"
   ]
  },
  {
   "cell_type": "markdown",
   "id": "be445bfc-ef03-459e-a0c3-a4c1e3f8e02c",
   "metadata": {},
   "source": [
    "5. Count the number of vowels in a string."
   ]
  },
  {
   "cell_type": "code",
   "execution_count": null,
   "id": "ff51f2d8-32cc-4025-9486-c016f662a0ee",
   "metadata": {},
   "outputs": [],
   "source": [
    "#Input the senetence \n",
    "Data_string=input(\"Enter the sentence \")\n",
    "\n",
    "vowel=0\n",
    "\n",
    "for j in Data_string:\n",
    "    if(j=='a' or j=='e' or j=='i' or j=='o' or j=='u'):\n",
    "        vowel=vowel+1\n",
    "print(\"The number of vowels are: \",vowel)"
   ]
  },
  {
   "cell_type": "markdown",
   "id": "123afeff-0f35-4a08-8f25-9e0533f17587",
   "metadata": {},
   "source": [
    "6. Count the number of consonants in a string."
   ]
  },
  {
   "cell_type": "code",
   "execution_count": null,
   "id": "da114b14-83aa-49c1-b83b-cda73dd1ea84",
   "metadata": {},
   "outputs": [],
   "source": [
    "Data=input(\"Enter the sentence \")\n",
    "\n",
    "consonants = 0\n",
    "\n",
    "for j in Data:\n",
    "    if Data not in \"aeiouAEIOU\":\n",
    "        consonants+=1\n",
    "        \n",
    "print(\"The number of consonants are: \",consonants)\n",
    "    \n",
    "\n"
   ]
  },
  {
   "cell_type": "markdown",
   "id": "93cf19c9-1231-4dcb-9f54-d5f22bc528dc",
   "metadata": {},
   "source": [
    "7. Remove all whitespaces from a string."
   ]
  },
  {
   "cell_type": "code",
   "execution_count": null,
   "id": "970e4242-f392-4b57-a299-54fdb8766169",
   "metadata": {},
   "outputs": [],
   "source": [
    "#enter the string data with spaces \n",
    "string=input(\"Enter the string \")\n",
    "\n",
    "#remove the space\n",
    "newstring=string.replace(\" \",\"\")\n",
    "\n",
    "print(\"The New string is \",newstring)"
   ]
  },
  {
   "cell_type": "markdown",
   "id": "2fd03228-a072-4729-b15c-7ae0f3aa5668",
   "metadata": {},
   "source": [
    "8. Find the length of a string without using the `len()` function."
   ]
  },
  {
   "cell_type": "code",
   "execution_count": null,
   "id": "718c7c77-796d-4548-bc80-4dbf21cf57de",
   "metadata": {},
   "outputs": [],
   "source": [
    "#enter the inputs string\n",
    "\n",
    "y=input(\"Enter the string \")\n",
    " \n",
    "l=len(y)\n",
    "\n",
    "print(\"The Length of a string is \",l)"
   ]
  },
  {
   "cell_type": "markdown",
   "id": "cd60ba35-84da-4d51-9932-70daa768429e",
   "metadata": {},
   "source": [
    "9. Check if a string contains a specific word."
   ]
  },
  {
   "cell_type": "code",
   "execution_count": null,
   "id": "24654e4d-e23c-439a-bd3a-cb8527e58df5",
   "metadata": {},
   "outputs": [],
   "source": [
    "#we can use find method\n",
    "x=\"The Data Science in Pwskills\"\n",
    "\n",
    "x.find(\"Data\")"
   ]
  },
  {
   "cell_type": "markdown",
   "id": "1cfc550a-623f-40e4-94e5-93865eefc5c5",
   "metadata": {},
   "source": [
    "10. Replace a word in a string with another word."
   ]
  },
  {
   "cell_type": "code",
   "execution_count": null,
   "id": "65fc9364-a833-4edc-bc4c-863767a73a1a",
   "metadata": {},
   "outputs": [],
   "source": [
    "#use replace function \n",
    "y= \"Good Morning\"\n",
    "z = y.replace(\"Good\", \"Great\")\n",
    " \n",
    "print(z)"
   ]
  },
  {
   "cell_type": "markdown",
   "id": "07247f40-1516-4a76-a4ce-6df3080e7902",
   "metadata": {},
   "source": [
    "11. Count the occurrences of a word in a string."
   ]
  },
  {
   "cell_type": "code",
   "execution_count": null,
   "id": "b600b567-1cbe-4e92-b1e9-ca3aebc8cfe3",
   "metadata": {},
   "outputs": [],
   "source": [
    "w=\" Programming\"\n",
    "\n",
    "#use count function to count the number of occurance\n",
    "\n",
    "print(\"Number occuence of m :\",w.count('m'))"
   ]
  },
  {
   "cell_type": "markdown",
   "id": "0a04cbed-5e96-4795-b709-ce6284bdd17d",
   "metadata": {},
   "source": [
    "12. Find the first occurrence of a word in a string."
   ]
  },
  {
   "cell_type": "code",
   "execution_count": null,
   "id": "e88f13f6-a629-4495-a659-04e1bd1e97ac",
   "metadata": {},
   "outputs": [],
   "source": [
    "w=\"programming\"\n",
    "\n",
    "w[0]"
   ]
  },
  {
   "cell_type": "markdown",
   "id": "768ff130-c4a9-4c30-8568-bebba74e37cf",
   "metadata": {},
   "source": [
    "13. Find the last occurrence of a word in a string."
   ]
  },
  {
   "cell_type": "code",
   "execution_count": null,
   "id": "a726b367-b8fc-4717-b810-e46d9579a722",
   "metadata": {},
   "outputs": [],
   "source": [
    "w=\"programming\"\n",
    "w[-1]"
   ]
  },
  {
   "cell_type": "markdown",
   "id": "e71a9955-d1ad-487d-9868-28612806ea82",
   "metadata": {},
   "source": [
    "14. Split a string into a list of words."
   ]
  },
  {
   "cell_type": "code",
   "execution_count": null,
   "id": "a3ba2561-7675-4017-8e34-4d0f363406e5",
   "metadata": {},
   "outputs": [],
   "source": [
    "p=\"The pwskills, Ineuron\"\n",
    "#use split function \n",
    "p.split(\",\")"
   ]
  },
  {
   "cell_type": "markdown",
   "id": "c5ce4f94-0aca-4c70-a122-5973a4a941df",
   "metadata": {},
   "source": [
    "15. Join a list of words into a string."
   ]
  },
  {
   "cell_type": "code",
   "execution_count": null,
   "id": "bb94ba6f-649a-4baa-971a-de476c8c1cd3",
   "metadata": {},
   "outputs": [],
   "source": [
    "x='prog'\n",
    "\n",
    "h=\"ramming\"\n",
    "\n",
    "print(x + h)"
   ]
  },
  {
   "cell_type": "markdown",
   "id": "679bac61-918c-4b2c-a9ce-a2d78b606cd7",
   "metadata": {},
   "source": [
    "16. Convert a string where words are separated by spaces to one where words\n",
    "are separated by underscores."
   ]
  },
  {
   "cell_type": "code",
   "execution_count": null,
   "id": "e77244e2-3bb9-4e24-8ce8-f3642b062e09",
   "metadata": {},
   "outputs": [],
   "source": [
    "x='Java'\n",
    "\n",
    "\n",
    "h=\"Mongodb\"\n",
    "\n",
    "print(x +\" \"+ h)\n",
    "print(x +\"_\"+ h)"
   ]
  },
  {
   "cell_type": "markdown",
   "id": "96541543-0fce-4612-bd1f-a8331e67d7de",
   "metadata": {},
   "source": [
    "17. Check if a string starts with a specific word or phrase."
   ]
  },
  {
   "cell_type": "code",
   "execution_count": null,
   "id": "ae85c323-bc54-4570-9d09-50e70dacc583",
   "metadata": {},
   "outputs": [],
   "source": [
    "#use the function startswith and \n",
    "qr=\"I am play Football\"\n",
    "\n",
    "vx=qr.startswith('I')\n",
    "\n",
    "vx"
   ]
  },
  {
   "cell_type": "markdown",
   "id": "61945675-ddd0-4aba-979b-bf77c20e3acd",
   "metadata": {},
   "source": [
    "18. Check if a string ends with a specific word or phrase."
   ]
  },
  {
   "cell_type": "code",
   "execution_count": null,
   "id": "1285ea17-bf58-448d-9179-e7cdc3432b96",
   "metadata": {},
   "outputs": [],
   "source": [
    "qr=\"I am play Football\"\n",
    "\n",
    "pr=qr.endswith('o')\n",
    "\n",
    "pr"
   ]
  },
  {
   "cell_type": "markdown",
   "id": "6c3647a5-b8b1-48af-a3a1-a83dc095f067",
   "metadata": {},
   "source": [
    "19. Convert a string to title case (e.g., \"hello world\" to \"Hello World\")."
   ]
  },
  {
   "cell_type": "code",
   "execution_count": null,
   "id": "5ddbfe9e-15f6-4213-af23-2af3a86118a3",
   "metadata": {},
   "outputs": [],
   "source": [
    "\n",
    "xq=\"hello world\"\n",
    "\n",
    "xq.title()"
   ]
  },
  {
   "cell_type": "markdown",
   "id": "480d969a-eb90-4ffd-b47d-ea3867eee9a2",
   "metadata": {},
   "source": [
    "20. Find the longest word in a string."
   ]
  },
  {
   "cell_type": "code",
   "execution_count": null,
   "id": "71612916-629e-4b0d-8beb-64f3db08adb9",
   "metadata": {},
   "outputs": [],
   "source": [
    "pp=\"chukua hatua Kaka\"\n",
    "\n",
    "ll=pp.split()\n",
    "\n",
    "longest=max(ll,key=len)\n",
    "\n",
    "longest"
   ]
  },
  {
   "cell_type": "markdown",
   "id": "c0940307-552c-46a4-9a1b-97701ac31607",
   "metadata": {},
   "source": [
    "21. Find the shortest word in a string."
   ]
  },
  {
   "cell_type": "code",
   "execution_count": null,
   "id": "6bb9e99b-2182-4cdf-9a8a-b0bd9ef91001",
   "metadata": {},
   "outputs": [],
   "source": [
    "pp=\"chukua hatua Kaka\"\n",
    "\n",
    "ll=pp.split()\n",
    "\n",
    "shotest=min(ll,key=len)\n",
    "\n",
    "shotest"
   ]
  },
  {
   "cell_type": "markdown",
   "id": "676c985a-3f4e-46d4-919b-f58871efb0a5",
   "metadata": {},
   "source": [
    "22. Reverse the order of words in a string."
   ]
  },
  {
   "cell_type": "code",
   "execution_count": null,
   "id": "4033ba94-fa04-461f-a062-7ad8facc8d83",
   "metadata": {},
   "outputs": [],
   "source": [
    "string=\"Bigdata\"\n",
    "\n",
    "string[::-1]"
   ]
  },
  {
   "cell_type": "markdown",
   "id": "636bbd3f-e144-4221-93d8-889bd778525b",
   "metadata": {},
   "source": [
    "23. Check if a string is alphanumeric."
   ]
  },
  {
   "cell_type": "code",
   "execution_count": null,
   "id": "a05594b8-9fe6-4bc3-b30b-564b8f071877",
   "metadata": {},
   "outputs": [],
   "source": [
    "string1=\"Bigdata\"\n",
    "\n",
    "string1.isalnum()\n"
   ]
  },
  {
   "cell_type": "markdown",
   "id": "674ca770-46fd-45ac-b291-1cb3a3619d27",
   "metadata": {},
   "source": [
    "24. Extract all digits from a string."
   ]
  },
  {
   "cell_type": "code",
   "execution_count": null,
   "id": "d6182ca5-6b7e-4ae2-8515-4509bf0fe3d7",
   "metadata": {},
   "outputs": [],
   "source": [
    "dig=\"2012\"\n",
    "\n",
    "dig.isdigit()"
   ]
  },
  {
   "cell_type": "markdown",
   "id": "6b96678d-47cb-4600-900e-99e2c54f3367",
   "metadata": {},
   "source": [
    "25. Extract all alphabets from a string."
   ]
  },
  {
   "cell_type": "code",
   "execution_count": null,
   "id": "83f877fe-0657-490d-8497-bb28dd8118d8",
   "metadata": {},
   "outputs": [],
   "source": [
    "pig='Digits'\n",
    "\n",
    "pig.isalpha()"
   ]
  },
  {
   "cell_type": "markdown",
   "id": "3e78ab24-fefa-4643-b1f6-7060bf75a361",
   "metadata": {},
   "source": [
    "26. Count the number of uppercase letters in a string."
   ]
  },
  {
   "cell_type": "code",
   "execution_count": null,
   "id": "879d46c8-6069-4e20-a4a4-232c42723d86",
   "metadata": {},
   "outputs": [],
   "source": [
    "pw=\"Piga Kazi Sana\"\n",
    "\n",
    "count=0\n",
    "\n",
    "for j in pw:\n",
    "    \n",
    "    if(j.isupper()):\n",
    "        count=count+1\n",
    "print(count)"
   ]
  },
  {
   "cell_type": "markdown",
   "id": "72dc1630-ae11-4841-a6d9-ea4ea0b84db0",
   "metadata": {},
   "source": [
    "27. Count the number of lowercase letters in a string."
   ]
  },
  {
   "cell_type": "code",
   "execution_count": null,
   "id": "be7ce1b0-5767-41bd-95a3-447c454531dd",
   "metadata": {},
   "outputs": [],
   "source": [
    "pw=\"Piga Kazi Sana\"\n",
    "\n",
    "count=0\n",
    "\n",
    "for j in pw:\n",
    "    \n",
    "    if(j.islower()):\n",
    "        \n",
    "        count=count+1\n",
    "        \n",
    "print(count)"
   ]
  },
  {
   "cell_type": "markdown",
   "id": "9894689e-3105-4f00-bd35-db5a838a05c9",
   "metadata": {},
   "source": [
    "28. Swap the case of each character in a string."
   ]
  },
  {
   "cell_type": "code",
   "execution_count": null,
   "id": "34e173b5-c98c-4d79-aaa5-24457aa0140b",
   "metadata": {},
   "outputs": [],
   "source": [
    "name = 'Mr.Ed'\n",
    "name.swapcase()"
   ]
  },
  {
   "cell_type": "markdown",
   "id": "07111332-08ad-42f7-96f9-31c1519a72aa",
   "metadata": {},
   "source": [
    "29. Remove a specific word from a string."
   ]
  },
  {
   "cell_type": "code",
   "execution_count": null,
   "id": "6482d3c0-2a52-4cb3-8e92-9d9c8b9c686a",
   "metadata": {},
   "outputs": [],
   "source": [
    "name1 = 'Mr.Ed'\n",
    "\n",
    "name1.replace('Mr.','')"
   ]
  },
  {
   "cell_type": "markdown",
   "id": "9c301b75-4057-4c25-a795-f7361a1ec899",
   "metadata": {},
   "source": [
    "30. Check if a string is a valid email address."
   ]
  },
  {
   "cell_type": "code",
   "execution_count": null,
   "id": "4b9bd2cb-5872-4914-86ce-eae56624f5b0",
   "metadata": {},
   "outputs": [],
   "source": [
    "import re \n",
    "email=input(\"Enter the email address here :\")\n",
    "\n",
    "const=r'\\b[A-Za-z0-9._%+-]+@[A-Za-z0-9.-]+\\.[A-Z|a-z]{2,7}\\b'\n",
    "\n",
    "if re.match(const,email):\n",
    "    print(\"Valid email\")\n",
    "    print(\"The Email is :\",email)\n",
    "    \n",
    "else:\n",
    "    print(\"Not valid email\")\n",
    "\n"
   ]
  },
  {
   "cell_type": "markdown",
   "id": "5e9501fa-d790-46e5-be1b-5f2f14cd2cf8",
   "metadata": {},
   "source": [
    "31. Extract the username from an email address string."
   ]
  },
  {
   "cell_type": "code",
   "execution_count": null,
   "id": "f5a144dd-a1cf-42fc-bf07-90819b8d100c",
   "metadata": {},
   "outputs": [],
   "source": [
    "email2=\"ryonyaisara@gmail.com\"\n",
    "\n",
    "username=email2.split('@')[0]\n",
    "\n",
    "print(username)"
   ]
  },
  {
   "cell_type": "markdown",
   "id": "a90bc7c2-60b3-4e00-a5a1-166c450f0186",
   "metadata": {},
   "source": [
    "32. Extract the domain name from an email address string."
   ]
  },
  {
   "cell_type": "code",
   "execution_count": null,
   "id": "6bbc96f6-05e9-4730-b059-0b0f31a7a09a",
   "metadata": {},
   "outputs": [],
   "source": [
    "email2=\"ryonyaisara@gmail.com\"\n",
    "\n",
    "username=email2.split('@')[1]\n",
    "\n",
    "print(username)"
   ]
  },
  {
   "cell_type": "markdown",
   "id": "591e8dc2-7f61-42d0-9348-7ff148bae34f",
   "metadata": {},
   "source": [
    "33. Replace multiple spaces in a string with a single space."
   ]
  },
  {
   "cell_type": "code",
   "execution_count": null,
   "id": "59cf2b5d-7f10-4fb4-8711-46460e64d1d8",
   "metadata": {},
   "outputs": [],
   "source": [
    "text = \"   Hello, World!   \"\n",
    "\n",
    "trimmed_text = text.strip()\n",
    "\n",
    "print(trimmed_text)"
   ]
  },
  {
   "cell_type": "markdown",
   "id": "6691033f-9756-41ff-9cce-12baa587d5a7",
   "metadata": {},
   "source": [
    "34. Check if a string is a valid URL."
   ]
  },
  {
   "cell_type": "code",
   "execution_count": null,
   "id": "c0125710-a121-4d62-8bff-caecb6f2c356",
   "metadata": {},
   "outputs": [],
   "source": [
    "url='https://lab.pwskills.com/my-labs'\n",
    "\n",
    "check=url.startswith('https:')\n",
    "\n",
    "print(check)\n",
    "\n"
   ]
  },
  {
   "cell_type": "markdown",
   "id": "790e0b29-dff8-4cdc-a138-17f4c5343382",
   "metadata": {},
   "source": [
    "35. Extract the protocol (http or https) from a URL string."
   ]
  },
  {
   "cell_type": "code",
   "execution_count": null,
   "id": "9c798884-c239-4983-94d0-397f870ed1e7",
   "metadata": {},
   "outputs": [],
   "source": [
    "url='https://lab.pwskills.com/my-labs'\n",
    "\n",
    "protocal=url.split(':')[0]\n",
    "\n",
    "\n",
    "print(protocal)\n"
   ]
  },
  {
   "cell_type": "markdown",
   "id": "d985ab54-0598-4cf9-9efd-f003c050c097",
   "metadata": {},
   "source": [
    "36. Find the frequency of each character in a string."
   ]
  },
  {
   "cell_type": "code",
   "execution_count": null,
   "id": "ab5e2229-c3ee-4918-9d1a-05db33e18d2f",
   "metadata": {},
   "outputs": [],
   "source": [
    "word=\"playing\"\n",
    "\n",
    "word.count('p')"
   ]
  },
  {
   "cell_type": "markdown",
   "id": "fd1352cc-ac5e-4215-8b6b-85586f14fa87",
   "metadata": {},
   "source": [
    "37. Remove all punctuation from a string."
   ]
  },
  {
   "cell_type": "code",
   "execution_count": null,
   "id": "f9b71fb6-8f4a-41ef-a21d-e52f27e9d429",
   "metadata": {},
   "outputs": [],
   "source": [
    "Punct=\"Hello,World!\"\n",
    "\n",
    "Punct1=Punct.replace(\",\",\" \")\n",
    "Punct1=Punct.replace(\"!\",\" \")\n",
    "\n",
    "print(Punct1)\n"
   ]
  },
  {
   "cell_type": "markdown",
   "id": "c0819a49-0e97-478d-99e2-6b714f62e549",
   "metadata": {},
   "source": [
    "38. Check if a string contains only digits."
   ]
  },
  {
   "cell_type": "code",
   "execution_count": null,
   "id": "2b8660e3-ecf1-4b88-bce2-289c9f028d82",
   "metadata": {},
   "outputs": [],
   "source": [
    "xp=input(\"The string name\")\n",
    "\n",
    "if xp.isdigit():\n",
    "    \n",
    "    print(\"Contains Digits only\")\n",
    "    \n",
    "else:\n",
    "    \n",
    "    print(\"Not have Digits only \")\n",
    "\n"
   ]
  },
  {
   "cell_type": "markdown",
   "id": "ce6d403e-c0d4-4158-8be3-782a094c1b1d",
   "metadata": {},
   "source": [
    "39. Check if a string contains only alphabets."
   ]
  },
  {
   "cell_type": "code",
   "execution_count": null,
   "id": "2d743ff6-cc59-40a9-a414-60fb1bed4052",
   "metadata": {},
   "outputs": [],
   "source": [
    "pw=input(\"The string name\")\n",
    "\n",
    "if pw.isalpha():\n",
    "    \n",
    "    print(\"Contains Alphabet only\")\n",
    "    \n",
    "else:\n",
    "    \n",
    "    print(\"Not have Alphabet only \")"
   ]
  },
  {
   "cell_type": "markdown",
   "id": "544f2469-63a9-4e4a-bc4c-66c4ef70f366",
   "metadata": {},
   "source": [
    "40. Convert a string to a list of characters."
   ]
  },
  {
   "cell_type": "code",
   "execution_count": null,
   "id": "d022b4ec-07b7-48f0-95ff-7f6688f5b438",
   "metadata": {},
   "outputs": [],
   "source": [
    "Convert=\"Libert\"\n",
    "\n",
    "inp=list(Convert)\n",
    "\n",
    "inp"
   ]
  },
  {
   "cell_type": "markdown",
   "id": "70ccfa72-020c-4f90-8d3d-daceeab7adc3",
   "metadata": {},
   "source": [
    "41. Check if two strings are anagrams."
   ]
  },
  {
   "cell_type": "code",
   "execution_count": null,
   "id": "5e2a8da4-e316-4fd7-8aaf-3f779005e177",
   "metadata": {},
   "outputs": [],
   "source": [
    "str1 = \"Race\"\n",
    "str2 = \"Care\"\n",
    "\n",
    "# convert both the strings into lowercase\n",
    "str1 = str1.lower()\n",
    "str2 = str2.lower()\n",
    "\n",
    "# check if length is same\n",
    "if(len(str1) == len(str2)):\n",
    "\n",
    "    # sort the strings\n",
    "    sorted_str1 = sorted(str1)\n",
    "    sorted_str2 = sorted(str2)\n",
    "\n",
    "    # if sorted char arrays are same\n",
    "    if(sorted_str1 == sorted_str2):\n",
    "        print(str1 + \" and \" + str2 + \" are anagram.\")\n",
    "    else:\n",
    "        print(str1 + \" and \" + str2 + \" are not anagram.\")\n",
    "\n",
    "else:\n",
    "    print(str1 + \" and \" + str2 + \" are not anagram.\")"
   ]
  },
  {
   "cell_type": "markdown",
   "id": "8581931c-92a3-484f-8077-608d10eededa",
   "metadata": {},
   "source": [
    "42. Encode a string using a Caesar cipher."
   ]
  },
  {
   "cell_type": "code",
   "execution_count": null,
   "id": "8ed32a19-4984-4c04-b233-0c6ee29632fc",
   "metadata": {},
   "outputs": [],
   "source": [
    "shift = 3 # defining the shift count\n",
    "\n",
    "text = \"HELLO WORLD\"\n",
    "\n",
    "encryption = \"\"\n",
    "\n",
    "for c in text:\n",
    "\n",
    "    # check if character is an uppercase letter\n",
    "    if c.isupper():\n",
    "\n",
    "        # find the position in 0-25\n",
    "        c_unicode = ord(c)\n",
    "\n",
    "        c_index = ord(c) - ord(\"A\")\n",
    "\n",
    "        # perform the shift\n",
    "        new_index = (c_index + shift) % 26\n",
    "\n",
    "        # convert to new character\n",
    "        new_unicode = new_index + ord(\"A\")\n",
    "\n",
    "        new_character = chr(new_unicode)\n",
    "\n",
    "        # append to encrypted string\n",
    "        encryption = encryption + new_character\n",
    "\n",
    "    else:\n",
    "\n",
    "        # since character is not uppercase, leave it as it is\n",
    "        encryption += c\n",
    "        \n",
    "print(\"Plain text:\",text)\n",
    "\n",
    "print(\"Encrypted text:\",encryption)"
   ]
  },
  {
   "cell_type": "markdown",
   "id": "829926c4-bd68-41ef-9699-7c2fbb3e0466",
   "metadata": {},
   "source": [
    "43. Decode a Caesar cipher encoded string."
   ]
  },
  {
   "cell_type": "code",
   "execution_count": null,
   "id": "71a507ac-95a5-4236-871c-dfc4a3d44d57",
   "metadata": {},
   "outputs": [],
   "source": [
    "shift = 3 # defining the shift count\n",
    "\n",
    "encrypted_text = \"KHOOR ZRUOG\"\n",
    "\n",
    "plain_text = \"\"\n",
    "\n",
    "for c in encrypted_text:\n",
    "\n",
    "    # check if character is an uppercase letter\n",
    "    if c.isupper():\n",
    "\n",
    "        # find the position in 0-25\n",
    "        c_unicode = ord(c)\n",
    "\n",
    "        c_index = ord(c) - ord(\"A\")\n",
    "\n",
    "        # perform the negative shift\n",
    "        new_index = (c_index - shift) % 26\n",
    "\n",
    "        # convert to new character\n",
    "        new_unicode = new_index + ord(\"A\")\n",
    "\n",
    "        new_character = chr(new_unicode)\n",
    "\n",
    "        # append to plain string\n",
    "        plain_text = plain_text + new_character\n",
    "\n",
    "    else:\n",
    "\n",
    "        # since character is not uppercase, leave it as it is\n",
    "        plain_text += c\n",
    "\n",
    "print(\"Encrypted text:\",encrypted_text)\n",
    "\n",
    "print(\"Decrypted text:\",plain_text)"
   ]
  },
  {
   "cell_type": "markdown",
   "id": "049cadc9-a3a9-4759-818b-6f4e966d6c67",
   "metadata": {},
   "source": [
    "44. Find the most frequent word in a string."
   ]
  },
  {
   "cell_type": "code",
   "execution_count": null,
   "id": "de042991-5e0e-4a41-acc7-6216beb4c7e7",
   "metadata": {},
   "outputs": [],
   "source": [
    "pp=\"programs\"\n",
    "\n",
    "#ll=pp.split()\n",
    "\n",
    "frequency=max(pp,key=pp.count)\n",
    "\n",
    "frequency"
   ]
  },
  {
   "cell_type": "markdown",
   "id": "18b0b0b3-bc72-4348-9b7b-1e04709ae3a7",
   "metadata": {},
   "source": [
    "45. Find all unique words in a string."
   ]
  },
  {
   "cell_type": "code",
   "execution_count": null,
   "id": "0a3be289-dd53-4021-8980-582bbbaf70fb",
   "metadata": {},
   "outputs": [],
   "source": [
    "vex=\"Good For Good\"\n",
    "\n",
    "unique=set(vex.split(\" \"))\n",
    "\n",
    "unique"
   ]
  },
  {
   "cell_type": "markdown",
   "id": "c3d3d2df-31b1-4dd5-a94d-3133e2eb3f52",
   "metadata": {},
   "source": [
    "46. Count the number of syllables in a string."
   ]
  },
  {
   "cell_type": "code",
   "execution_count": null,
   "id": "d6583240-b500-4e41-9f50-c4864881bbe7",
   "metadata": {},
   "outputs": [],
   "source": [
    "#Input the senetence \n",
    "syllables=\"the sentence \"\n",
    "\n",
    "data=0\n",
    "\n",
    "for j in syllables:\n",
    "    if(j=='a' or j=='e' or j=='i' or j=='o' or j=='u'):\n",
    "        data=data+1\n",
    "print(\"The number of syllables are: \",data)"
   ]
  },
  {
   "cell_type": "markdown",
   "id": "4981cd4e-beb5-4696-ac9f-7f6bedd6d1c8",
   "metadata": {},
   "source": [
    "47. Check if a string contains any special characters."
   ]
  },
  {
   "cell_type": "code",
   "execution_count": null,
   "id": "0f4ecb61-6471-4c8a-8205-c227db57a6df",
   "metadata": {},
   "outputs": [],
   "source": [
    "special_characters = \"!@#$%^&*()-+?_=,<>/\"\n",
    "s=input(\"Enter the string\")\n",
    "# Example: $tackoverflow\n",
    "\n",
    "if any(c in special_characters for c in s):\n",
    "    print(\"yes\")\n",
    "else:\n",
    "    print(\"no\")"
   ]
  },
  {
   "cell_type": "markdown",
   "id": "575acdcf-fd3c-4711-8db3-2214171f8ba3",
   "metadata": {},
   "source": [
    "48. Remove the nth word from a string."
   ]
  },
  {
   "cell_type": "code",
   "execution_count": null,
   "id": "f2e58ee9-6b5b-484d-9161-3fc3c0e582de",
   "metadata": {},
   "outputs": [],
   "source": [
    "n=int(input(\"Enter the number nth :\"))\n",
    "word=\"aabccd\"\n",
    "first=word[:n]\n",
    "last=word[n+1:]\n",
    "\n",
    "result=first+last\n",
    "\n",
    "print(result)"
   ]
  },
  {
   "cell_type": "markdown",
   "id": "52893d03-9493-4bcc-b6e3-14755ad18e56",
   "metadata": {},
   "source": [
    "49. Insert a word at the nth position in a string."
   ]
  },
  {
   "cell_type": "code",
   "execution_count": null,
   "id": "d72dbf34-83eb-40f9-b29d-eb62d7e681e3",
   "metadata": {},
   "outputs": [],
   "source": [
    "original_string = \"Hello, this is a test.\"\n",
    "word_to_insert = \"awesome \"\n",
    "n = 7\n",
    "new_string = original_string[:n] + word_to_insert + original_string[n:]\n",
    "\n",
    "new_string"
   ]
  },
  {
   "cell_type": "markdown",
   "id": "cff7e71c-bec6-46f6-8ca5-4100658d806d",
   "metadata": {},
   "source": [
    "50. Convert a CSV string to a list of lists."
   ]
  },
  {
   "cell_type": "code",
   "execution_count": null,
   "id": "797534ff-b3ae-449e-a1d8-e9d32c4daf09",
   "metadata": {},
   "outputs": [],
   "source": [
    "x = 'apple,banana,cherry'\n",
    "output = x.split(',')\n",
    "print(output)"
   ]
  },
  {
   "cell_type": "markdown",
   "id": "045cf101-9791-441c-a3d3-8aa9fedd8380",
   "metadata": {},
   "source": [
    "1.Create a list with integers from 1 to 10."
   ]
  },
  {
   "cell_type": "code",
   "execution_count": null,
   "id": "2fb8c23d-3d44-4f94-8019-239ffccb345b",
   "metadata": {},
   "outputs": [],
   "source": [
    "x=[1,2,3,4,5,6,7,8,9,10]\n",
    "x"
   ]
  },
  {
   "cell_type": "markdown",
   "id": "4458cacd-d0bb-44c9-bb2a-74ce15d2a002",
   "metadata": {},
   "source": [
    "2. Find the length of a list without using the `len()` function."
   ]
  },
  {
   "cell_type": "code",
   "execution_count": null,
   "id": "fac7aba3-1782-40b4-9a65-097163fbaf15",
   "metadata": {},
   "outputs": [],
   "source": [
    "list1=[1,2,3,4,5,6,7,8,9,10]\n",
    "\n",
    "count=0\n",
    "for j in list1:\n",
    "    \n",
    "    count+=1\n",
    "    \n",
    "length =count\n",
    "\n",
    "print(length)"
   ]
  },
  {
   "cell_type": "markdown",
   "id": "af9038d8-d559-44ca-adb7-ecc177fe093e",
   "metadata": {},
   "source": [
    "3. Append an element to the end of a list."
   ]
  },
  {
   "cell_type": "code",
   "execution_count": null,
   "id": "1d940e58-23df-4c0b-a68e-80def537c64f",
   "metadata": {},
   "outputs": [],
   "source": [
    "#use the append function\n",
    "list2=[2,4,6,\"ryoba\"]\n",
    "\n",
    "list2.append([7,8,9])\n",
    "\n",
    "print(list2)"
   ]
  },
  {
   "cell_type": "markdown",
   "id": "de3d02b2-aee6-40df-92e9-f395708c87c3",
   "metadata": {},
   "source": [
    "4. Insert an element at a specific index in a list."
   ]
  },
  {
   "cell_type": "code",
   "execution_count": null,
   "id": "21878673-0b67-4367-a912-99e2a1dc0b99",
   "metadata": {},
   "outputs": [],
   "source": [
    "#insert function\n",
    "list3=[2, 4, 6, 'ryoba', [7, 8, 9]]\n",
    "\n",
    "list3.insert(3,[11,12,13])\n",
    "\n",
    "print(list3)"
   ]
  },
  {
   "cell_type": "markdown",
   "id": "bd77bd71-39b8-44bd-9d1e-826377498ff2",
   "metadata": {},
   "source": [
    "5. Remove an element from a list by its value."
   ]
  },
  {
   "cell_type": "code",
   "execution_count": null,
   "id": "60732382-2e5c-47c5-aaba-a33088a822e1",
   "metadata": {},
   "outputs": [],
   "source": [
    "list4=[2, 4, 6, [11, 12, 13], 'ryoba', [7, 8, 9]]\n",
    "\n",
    "list4.pop()\n",
    "\n",
    "print(list4)"
   ]
  },
  {
   "cell_type": "markdown",
   "id": "2328dab6-2328-4bd0-9cb2-a490c6e63956",
   "metadata": {},
   "source": [
    "6. Remove an element from a list by its index."
   ]
  },
  {
   "cell_type": "code",
   "execution_count": null,
   "id": "9a369cfe-e4b4-4af6-907b-4de159b6786e",
   "metadata": {},
   "outputs": [],
   "source": [
    "list5=[2, 4, 6, [11, 12, 13], 'ryoba']\n",
    "list5.pop(2)\n",
    "print(list5)"
   ]
  },
  {
   "cell_type": "markdown",
   "id": "3ff47018-293d-4d4d-82cc-70480e43ae21",
   "metadata": {},
   "source": [
    "7. Check if an element exists in a list."
   ]
  },
  {
   "cell_type": "code",
   "execution_count": null,
   "id": "85d7e502-d139-45c3-83f7-0a0f8f18e66e",
   "metadata": {},
   "outputs": [],
   "source": [
    "my_list = [1, 2, 3, 4, 5]\n",
    "element_to_check = 3\n",
    "\n",
    "if element_to_check in my_list:\n",
    "    print(\"Element exists in the list.\")\n",
    "else:\n",
    "    print(\"Element does not exist in the list.\")"
   ]
  },
  {
   "cell_type": "markdown",
   "id": "d30a4dd7-4712-4e95-bc88-5eaf5d177a47",
   "metadata": {},
   "source": [
    "8. Find the index of the first occurrence of an element in a list."
   ]
  },
  {
   "cell_type": "code",
   "execution_count": null,
   "id": "55f13678-dbf8-4415-a410-aeecee367130",
   "metadata": {},
   "outputs": [],
   "source": [
    "my_list2 = [1, 2, 3, 4, 5]\n",
    "\n",
    "my_list3=my_list2.index(1)\n",
    "\n",
    "print(\"The indes of the firts occurrence is :\",my_list3)\n"
   ]
  },
  {
   "cell_type": "markdown",
   "id": "a91562c8-f749-41aa-b905-fa01df8fdf5c",
   "metadata": {},
   "source": [
    "9. Count the occurrences of an element in a list."
   ]
  },
  {
   "cell_type": "code",
   "execution_count": null,
   "id": "feb6d106-c85a-434f-bb55-f908f861c403",
   "metadata": {},
   "outputs": [],
   "source": [
    "my_list = [1, 2, 3, 4, 2, 2, 5]\n",
    "\n",
    "element_to_count = 2\n",
    "\n",
    "count = my_list.count(element_to_count)\n",
    "\n",
    "print(\"Occurrences of\", element_to_count, \"in the list:\", count)"
   ]
  },
  {
   "cell_type": "markdown",
   "id": "2716f0f5-9330-492a-bfb1-00fee95d19a8",
   "metadata": {},
   "source": [
    "10. Reverse the order of elements in a list."
   ]
  },
  {
   "cell_type": "code",
   "execution_count": null,
   "id": "b19ab9a6-25d4-4a0a-b1ec-adfb65a7af39",
   "metadata": {},
   "outputs": [],
   "source": [
    "mylist = [1, 2, 3, 4, 2, 2, 5]\n",
    "\n",
    "mylist1=mylist[::-1]\n",
    "\n",
    "print(\"The reverse of order elements\",mylist1)"
   ]
  },
  {
   "cell_type": "markdown",
   "id": "1a3b6d7a-86ba-4bd4-a008-0d844cca7655",
   "metadata": {},
   "source": [
    "11. Sort a list in ascending order."
   ]
  },
  {
   "cell_type": "code",
   "execution_count": null,
   "id": "1a975722-c7a2-43a7-a6a4-dbffa007c134",
   "metadata": {},
   "outputs": [],
   "source": [
    "List=[5, 2, 2, 4, 3, 2, 1]\n",
    "\n",
    "List.sort()\n",
    "\n",
    "print(\"List in asceding Order\",List)"
   ]
  },
  {
   "cell_type": "markdown",
   "id": "be89d17c-54b1-4f84-9681-6f4648f49b31",
   "metadata": {},
   "source": [
    "12. Sort a list in descending order."
   ]
  },
  {
   "cell_type": "code",
   "execution_count": null,
   "id": "b513b27f-5084-464f-8a6c-e52887a4fbf0",
   "metadata": {},
   "outputs": [],
   "source": [
    "List1=[5, 2, 2, 4, 3, 2, 1]\n",
    "\n",
    "List1.sort(reverse=True)\n",
    "\n",
    "print(\"List in asceding Order\",List1)"
   ]
  },
  {
   "cell_type": "markdown",
   "id": "798c2b2a-5881-485e-a148-5a7d8d9518d5",
   "metadata": {},
   "source": [
    "13. Create a list of even numbers from 1 to 20."
   ]
  },
  {
   "cell_type": "code",
   "execution_count": 40,
   "id": "144568f3-c495-488a-9c69-d3e812bc5422",
   "metadata": {},
   "outputs": [
    {
     "name": "stdout",
     "output_type": "stream",
     "text": [
      "[2, 4, 6, 8, 10, 12, 14, 16, 18, 20]\n"
     ]
    }
   ],
   "source": [
    "even_numbers = [x for x in range(1, 21) if x % 2 == 0]\n",
    "\n",
    "print(even_numbers)"
   ]
  },
  {
   "cell_type": "markdown",
   "id": "1e0ecd8c-beaa-4fc6-b458-c7c3893f6b41",
   "metadata": {},
   "source": [
    "14. Create a list of odd numbers from 1 to 20."
   ]
  },
  {
   "cell_type": "code",
   "execution_count": null,
   "id": "1e2ed35a-f8b1-4dd7-ac49-32dd045946f6",
   "metadata": {},
   "outputs": [],
   "source": [
    "odd_numbers = [x for x in range(1, 21) if x % 2 != 0]\n",
    "\n",
    "print(odd_numbers)"
   ]
  },
  {
   "cell_type": "markdown",
   "id": "8497d0df-f209-4c9d-b712-eeaef6638f39",
   "metadata": {},
   "source": [
    "15. Find the sum of all elements in a list."
   ]
  },
  {
   "cell_type": "code",
   "execution_count": null,
   "id": "78d8fa01-302a-4173-8d0c-840ae721b6bc",
   "metadata": {},
   "outputs": [],
   "source": [
    "my_Sum = [1, 2, 3, 4, 5]\n",
    "\n",
    "sum_elements= sum(my_Sum)\n",
    "\n",
    "print(\"Sum of elements:\", sum_elements)"
   ]
  },
  {
   "cell_type": "markdown",
   "id": "fe4d7375-9689-4dd6-9428-aac6fcc315fd",
   "metadata": {},
   "source": [
    "16. Find the maximum value in a list."
   ]
  },
  {
   "cell_type": "code",
   "execution_count": null,
   "id": "bd864da2-d196-4618-b137-1dd5e1b89711",
   "metadata": {},
   "outputs": [],
   "source": [
    " L=[10,5,20,18,30,56]\n",
    "    \n",
    "maximum_value=max(L)\n",
    "\n",
    "print('The maximum value is :',maximum_value)"
   ]
  },
  {
   "cell_type": "markdown",
   "id": "455ecfd2-32a9-4256-9efb-b4b124598f58",
   "metadata": {},
   "source": [
    "17. Find the minimum value in a list."
   ]
  },
  {
   "cell_type": "code",
   "execution_count": null,
   "id": "3b41b586-def4-4cc4-b3c5-84f3b9508092",
   "metadata": {},
   "outputs": [],
   "source": [
    "L1=[10,5,20,18,30,56]\n",
    "    \n",
    "minimum_value=min(L1)\n",
    "\n",
    "print('The minimum value is :',minimum_value)"
   ]
  },
  {
   "cell_type": "markdown",
   "id": "e1e180d2-c518-4e25-bff9-97f90e375176",
   "metadata": {},
   "source": [
    "18. Create a list of squares of numbers from 1 to 10."
   ]
  },
  {
   "cell_type": "code",
   "execution_count": null,
   "id": "88d8fc07-c024-4b2c-bcf9-d6426864ebeb",
   "metadata": {},
   "outputs": [],
   "source": [
    "squares = [x**2 for x in range(1, 11)]\n",
    "\n",
    "print(squares)"
   ]
  },
  {
   "cell_type": "markdown",
   "id": "f27c2c44-f9ae-409a-802d-9f968faec597",
   "metadata": {},
   "source": [
    "19. Create a list of random numbers."
   ]
  },
  {
   "cell_type": "code",
   "execution_count": null,
   "id": "0590aa80-49fc-45fb-b007-3366ef8fc242",
   "metadata": {},
   "outputs": [],
   "source": [
    "seed = 42\n",
    "\n",
    "num_of_numbers = 10\n",
    "\n",
    "random_numbers = [(hash(str(seed) + str(i)) % 100) + 1 for i in range(num_of_numbers)]\n",
    "\n",
    "print(random_numbers)"
   ]
  },
  {
   "cell_type": "markdown",
   "id": "0dbc7b3a-52f7-46b3-a42b-1e3c11b0c1d2",
   "metadata": {},
   "source": [
    "20. Remove duplicates from a list."
   ]
  },
  {
   "cell_type": "code",
   "execution_count": null,
   "id": "a55a83a1-73ed-4e61-8002-8c52d7a887bc",
   "metadata": {},
   "outputs": [],
   "source": [
    "\n",
    "list_1 = [1, 2, 2, 3, 4, 4, 5, 5]\n",
    "\n",
    "unique = []\n",
    "\n",
    "for i in list_1:\n",
    "    \n",
    "    if i not in unique:\n",
    "        unique.append(i)\n",
    "\n",
    "print(unique)"
   ]
  },
  {
   "cell_type": "markdown",
   "id": "242800a0-4592-4c12-94bb-a840dbb2b4c8",
   "metadata": {},
   "source": [
    "21. Find the common elements between two lists."
   ]
  },
  {
   "cell_type": "code",
   "execution_count": 1,
   "id": "61fedfbd-324b-4cf5-b226-f9f0be3ec4f9",
   "metadata": {},
   "outputs": [
    {
     "name": "stdout",
     "output_type": "stream",
     "text": [
      "[3, 4, 5]\n"
     ]
    }
   ],
   "source": [
    "li1 = [1, 2, 3, 4, 5]\n",
    "li2 = [3, 4, 5, 6, 7]\n",
    "\n",
    "common_elements = set(li1) & set(li2)\n",
    "\n",
    "print(list(common_elements))"
   ]
  },
  {
   "cell_type": "markdown",
   "id": "1aeec6aa-99e0-4338-be64-4ff3c717e325",
   "metadata": {},
   "source": [
    "22. Find the difference between two lists."
   ]
  },
  {
   "cell_type": "code",
   "execution_count": 3,
   "id": "54b629e0-7490-47db-86e7-ddcb10dd7f9e",
   "metadata": {},
   "outputs": [
    {
     "name": "stdout",
     "output_type": "stream",
     "text": [
      "[1, 2]\n"
     ]
    }
   ],
   "source": [
    "lis1 = [1, 2, 3, 4, 5]\n",
    "lis2 = [3, 4, 5, 6, 7]\n",
    "\n",
    "difference = list(set(lis1) - set(lis2)) \n",
    "print(difference)"
   ]
  },
  {
   "cell_type": "markdown",
   "id": "fcb3263d-1430-4487-aa9f-faad7a417f4c",
   "metadata": {},
   "source": [
    "23. Merge two lists."
   ]
  },
  {
   "cell_type": "code",
   "execution_count": 5,
   "id": "cdcc76e6-b8d2-445a-b00e-4a4ab61c52c0",
   "metadata": {},
   "outputs": [
    {
     "name": "stdout",
     "output_type": "stream",
     "text": [
      "[1, 2, 3, 4, 5, 6]\n"
     ]
    }
   ],
   "source": [
    "lit1 = [1, 2, 3]\n",
    "lit2 = [4, 5, 6]\n",
    "\n",
    "lit1.extend(lit2)\n",
    "print(lit1)"
   ]
  },
  {
   "cell_type": "markdown",
   "id": "b40d1da7-5451-44c0-8e63-0eed46df429f",
   "metadata": {},
   "source": [
    "24. Multiply all elements in a list by 2."
   ]
  },
  {
   "cell_type": "code",
   "execution_count": 6,
   "id": "3cc5ddae-977a-462c-a1a3-e6d4f675253d",
   "metadata": {},
   "outputs": [
    {
     "name": "stdout",
     "output_type": "stream",
     "text": [
      "[2, 4, 6, 8, 10]\n"
     ]
    }
   ],
   "source": [
    "original_li = [1, 2, 3, 4, 5]\n",
    "multiplied_li = []\n",
    "\n",
    "for i in original_li:\n",
    "    multiplied_li.append(i * 2)\n",
    "\n",
    "print(multiplied_li)\n"
   ]
  },
  {
   "cell_type": "markdown",
   "id": "0d9aa6cb-fbfa-4eff-88e5-285b7e7bc919",
   "metadata": {},
   "source": [
    "25. Filter out all even numbers from a list."
   ]
  },
  {
   "cell_type": "code",
   "execution_count": 7,
   "id": "071a90af-a7d7-4a78-b4c8-9dfca5f5e97a",
   "metadata": {},
   "outputs": [
    {
     "name": "stdout",
     "output_type": "stream",
     "text": [
      "[1, 3, 5, 7, 9]\n"
     ]
    }
   ],
   "source": [
    "List_original = [1, 2, 3, 4, 5, 6, 7, 8, 9, 10]\n",
    "\n",
    "List_filtered = [x for x in List_original if x % 2 != 0]\n",
    "\n",
    "print(List_filtered)"
   ]
  },
  {
   "cell_type": "markdown",
   "id": "d7548858-1660-40f7-b2f5-c1cd12d9f8db",
   "metadata": {},
   "source": [
    "26. Convert a list of strings to a list of integers."
   ]
  },
  {
   "cell_type": "code",
   "execution_count": 8,
   "id": "6401f42b-d4c4-46d2-8704-7f2d2ba82d3d",
   "metadata": {},
   "outputs": [
    {
     "name": "stdout",
     "output_type": "stream",
     "text": [
      "[1, 2, 3, 4, 5]\n"
     ]
    }
   ],
   "source": [
    "lx = [\"1\", \"2\", \"3\", \"4\", \"5\"]\n",
    "\n",
    "ly = list(map(int, lx))\n",
    "\n",
    "print(ly)"
   ]
  },
  {
   "cell_type": "markdown",
   "id": "9de46aab-1e53-44af-8e20-49bef76c2346",
   "metadata": {},
   "source": [
    "27. Convert a list of integers to a list of strings."
   ]
  },
  {
   "cell_type": "code",
   "execution_count": 9,
   "id": "ec9a0f0f-f1d6-4630-bb1b-b3d102615bd1",
   "metadata": {},
   "outputs": [
    {
     "name": "stdout",
     "output_type": "stream",
     "text": [
      "['1', '2', '3', '4', '5']\n"
     ]
    }
   ],
   "source": [
    "lp = [1, 2, 3, 4, 5]\n",
    "\n",
    "lq = list(map(str, lp))\n",
    "\n",
    "print(lq)"
   ]
  },
  {
   "cell_type": "markdown",
   "id": "e5f34953-0bab-4fea-b989-7445d931ff17",
   "metadata": {},
   "source": [
    "28. Flatten a nested list."
   ]
  },
  {
   "cell_type": "code",
   "execution_count": 2,
   "id": "8181b278-2f94-439a-badf-8cc1b3230a85",
   "metadata": {},
   "outputs": [
    {
     "name": "stdout",
     "output_type": "stream",
     "text": [
      "[1, 2, 3, 4, [5, 6], 7]\n"
     ]
    }
   ],
   "source": [
    "nested_list = [1, [2, 3], [4, [5, 6]], 7]\n",
    "flattened_list = [item for sublist in nested_list for item in (sublist if isinstance(sublist, list) else [sublist])]\n",
    "\n",
    "print(flattened_list)\n",
    "\n"
   ]
  },
  {
   "cell_type": "markdown",
   "id": "afe4b0a8-71e2-458f-b10e-2bf022b14c8e",
   "metadata": {},
   "source": [
    "29. Create a list of the first 10 Fibonacci numbers."
   ]
  },
  {
   "cell_type": "code",
   "execution_count": 5,
   "id": "e92b0737-fadd-490f-908e-83f2134d5b69",
   "metadata": {},
   "outputs": [
    {
     "name": "stdout",
     "output_type": "stream",
     "text": [
      "[0, 1, 1, 2, 3, 5, 8, 13, 21, 34]\n"
     ]
    }
   ],
   "source": [
    "fibonacci_list = [0, 1]\n",
    "\n",
    "n=10\n",
    "\n",
    "for i in range(2, n):\n",
    "    next_fibonacci = fibonacci_list[i-1] + fibonacci_list[i-2]\n",
    "    fibonacci_list.append(next_fibonacci)\n",
    "print(fibonacci_list)\n"
   ]
  },
  {
   "cell_type": "markdown",
   "id": "3afae8de-3c8d-4ba1-85b6-22da47106a2c",
   "metadata": {},
   "source": [
    "30. Check if a list is sorted."
   ]
  },
  {
   "cell_type": "code",
   "execution_count": 6,
   "id": "9539aa1c-3796-4e91-a1a3-60742524502e",
   "metadata": {},
   "outputs": [
    {
     "name": "stdout",
     "output_type": "stream",
     "text": [
      "True\n"
     ]
    }
   ],
   "source": [
    "sorted_list = [1, 2, 3, 4, 5]\n",
    "\n",
    "for i in range(len(sorted_list) - 1):\n",
    "    \n",
    "    if sorted_list[i] > sorted_list[i + 1]:\n",
    "        \n",
    "        print(\"False\")\n",
    "        \n",
    "print(\"True\")\n"
   ]
  },
  {
   "cell_type": "markdown",
   "id": "c2d7802e-5dd6-4626-8742-de7e562a0b38",
   "metadata": {},
   "source": [
    "31. Rotate a list to the left by `n` positions."
   ]
  },
  {
   "cell_type": "code",
   "execution_count": 8,
   "id": "a9991fc9-bc11-443f-a704-e5be2844097f",
   "metadata": {},
   "outputs": [
    {
     "name": "stdout",
     "output_type": "stream",
     "text": [
      "[3, 4, 5, 1, 2]\n"
     ]
    }
   ],
   "source": [
    "xw = [1, 2, 3, 4, 5]\n",
    "n = 2\n",
    "\n",
    "n = n % len(xw)  # Handle cases where n is larger than the list length\n",
    "\n",
    "rotated_list = xw[n:] + xw[:n]\n",
    "\n",
    "print(rotated_list)\n"
   ]
  },
  {
   "cell_type": "markdown",
   "id": "9fe95ee7-d9b0-4caf-bc3c-a0d80fea2815",
   "metadata": {},
   "source": [
    "32. Rotate a list to the right by `n` positions."
   ]
  },
  {
   "cell_type": "code",
   "execution_count": 9,
   "id": "a2904d17-5b8e-4b65-a130-c30121765347",
   "metadata": {},
   "outputs": [
    {
     "name": "stdout",
     "output_type": "stream",
     "text": [
      "[4, 5, 1, 2, 3]\n"
     ]
    }
   ],
   "source": [
    "xy = [1, 2, 3, 4, 5]\n",
    "n = 2\n",
    "\n",
    "n = n % len(xy)  # Handle cases where n is larger than the list length\n",
    "\n",
    "rotated_list = xy[-n:] + xy[:-n]\n",
    "\n",
    "print(rotated_list)"
   ]
  },
  {
   "cell_type": "markdown",
   "id": "f0f8c48a-71fb-4d36-8377-9ee28da6c919",
   "metadata": {},
   "source": [
    "33. Create a list of prime numbers up to 50."
   ]
  },
  {
   "cell_type": "code",
   "execution_count": 3,
   "id": "9fc85471-55a6-4931-b893-fd21f7ed0858",
   "metadata": {},
   "outputs": [
    {
     "name": "stdout",
     "output_type": "stream",
     "text": [
      "[2, 3, 5, 7, 11, 13, 17, 19, 23, 29, 31, 37, 41, 43, 47]\n"
     ]
    }
   ],
   "source": [
    "prime_numbers = [num for num in range(2, 51) if all(num % i != 0 for i in range(2, int(num**0.5) + 1))]\n",
    "\n",
    "print(prime_numbers)"
   ]
  },
  {
   "cell_type": "markdown",
   "id": "4c7b0334-37c3-4e3d-b22e-8a1a55c0ccbb",
   "metadata": {},
   "source": [
    "34. Split a list into chunks of size `n`."
   ]
  },
  {
   "cell_type": "code",
   "execution_count": 5,
   "id": "f1f3c2c9-0604-4088-99da-87126e206cd8",
   "metadata": {},
   "outputs": [
    {
     "name": "stdout",
     "output_type": "stream",
     "text": [
      "[[1, 2, 3], [4, 5, 6], [7, 8, 9], [10]]\n"
     ]
    }
   ],
   "source": [
    "lw = [1, 2, 3, 4, 5, 6, 7, 8, 9, 10]\n",
    "chunk = 3\n",
    "\n",
    "chunks = [lw[i:i + chunk] for i in range(0, len(lw), chunk)]\n",
    "print(chunks)"
   ]
  },
  {
   "cell_type": "markdown",
   "id": "72bfc75b-1db6-45a6-8dde-05496d1a297b",
   "metadata": {},
   "source": [
    "35. Find the second largest number in a list."
   ]
  },
  {
   "cell_type": "code",
   "execution_count": 7,
   "id": "e47d40a2-85ae-4d8d-a15d-039a9c8a6a5f",
   "metadata": {},
   "outputs": [
    {
     "name": "stdout",
     "output_type": "stream",
     "text": [
      "The second largest number is : 9\n"
     ]
    }
   ],
   "source": [
    "lx=[1, 2, 3, 4, 5, 6, 7, 8, 9, 10]\n",
    "\n",
    "lx_sorted=sorted(lx,reverse=True)\n",
    "\n",
    "print(\"The second largest number is :\",lx_sorted[1])"
   ]
  },
  {
   "cell_type": "markdown",
   "id": "50e4d72a-ea0c-482e-b80e-d7f39e6753c7",
   "metadata": {},
   "source": [
    "36. Replace every element in a list with its square."
   ]
  },
  {
   "cell_type": "code",
   "execution_count": 8,
   "id": "0cb7b5a1-aac8-415a-9f22-9634ced64c16",
   "metadata": {},
   "outputs": [
    {
     "name": "stdout",
     "output_type": "stream",
     "text": [
      "[1, 4, 9, 16, 25]\n"
     ]
    }
   ],
   "source": [
    "ln = [1, 2, 3, 4, 5]\n",
    "\n",
    "#squire each every element in list\n",
    "sl = [i ** 2 for i in ln]\n",
    "\n",
    "print(sl)"
   ]
  },
  {
   "cell_type": "markdown",
   "id": "f1fd9d67-1cf0-4e84-ba13-e6815aeb89f3",
   "metadata": {},
   "source": [
    "37. Convert a list to a dictionary where list elements become keys and their\n",
    "indices become values."
   ]
  },
  {
   "cell_type": "code",
   "execution_count": 9,
   "id": "0d2ea7fb-4d84-447c-a418-cb030acff402",
   "metadata": {},
   "outputs": [
    {
     "name": "stdout",
     "output_type": "stream",
     "text": [
      "{'a': 0, 'b': 1, 'c': 2, 'd': 3, 'e': 4}\n"
     ]
    }
   ],
   "source": [
    "OL = ['a', 'b', 'c', 'd', 'e']\n",
    "Dict = {value: index for index, value in enumerate(OL)}\n",
    "\n",
    "print(Dict)"
   ]
  },
  {
   "cell_type": "markdown",
   "id": "cdc6a094-1d92-4147-a2f1-838dc0351d6e",
   "metadata": {},
   "source": [
    "38. Shuffle the elements of a list randomly."
   ]
  },
  {
   "cell_type": "code",
   "execution_count": 11,
   "id": "6176d9fd-10bf-4f98-b776-90a4b40342db",
   "metadata": {},
   "outputs": [
    {
     "name": "stdout",
     "output_type": "stream",
     "text": [
      "[3, 2, 5, 1, 4]\n"
     ]
    }
   ],
   "source": [
    "import random \n",
    "\n",
    "lb = [1, 2, 3, 4, 5]\n",
    "shuffled_list = lb.copy()  # Make a copy to keep the original list unchanged\n",
    "random.shuffle(shuffled_list)\n",
    "print(shuffled_list)"
   ]
  },
  {
   "cell_type": "markdown",
   "id": "0a9af515-d0d9-4597-9fb4-f0b48ce0ed04",
   "metadata": {},
   "source": [
    "39. Create a list of the first 10 factorial numbers."
   ]
  },
  {
   "cell_type": "code",
   "execution_count": 15,
   "id": "b4f254a0-7db1-48d5-8324-e291df9fbb72",
   "metadata": {},
   "outputs": [
    {
     "name": "stdout",
     "output_type": "stream",
     "text": [
      "[1, 1, 2, 6, 24, 120, 720, 5040, 40320, 362880]\n"
     ]
    }
   ],
   "source": [
    "lf = [1]\n",
    "for i in range(1, 10):\n",
    "    lf.append(lf[-1] * i)\n",
    "\n",
    "print(lf)"
   ]
  },
  {
   "cell_type": "markdown",
   "id": "fbed6fda-315c-4f2a-8ff9-627835f5c845",
   "metadata": {},
   "source": [
    "40. Check if two lists have at least one element in common."
   ]
  },
  {
   "cell_type": "code",
   "execution_count": 16,
   "id": "4b500869-3ee3-4a69-b21c-988a3dc8c178",
   "metadata": {},
   "outputs": [
    {
     "name": "stdout",
     "output_type": "stream",
     "text": [
      "True\n"
     ]
    }
   ],
   "source": [
    "Lg1 = [1, 2, 3, 4, 5]\n",
    "Lg2 = [4, 5, 6, 7, 8]\n",
    "\n",
    "common_elements = any(x in Lg1 for x in Lg2)\n",
    "print(common_elements)"
   ]
  },
  {
   "cell_type": "markdown",
   "id": "146e5ee0-1179-47d0-bf39-0695a9165c75",
   "metadata": {},
   "source": [
    "41. Remove all elements from a list."
   ]
  },
  {
   "cell_type": "code",
   "execution_count": 17,
   "id": "984bbf78-81ec-4cbe-9dae-5497bab9da60",
   "metadata": {},
   "outputs": [
    {
     "name": "stdout",
     "output_type": "stream",
     "text": [
      "[]\n"
     ]
    }
   ],
   "source": [
    "LL = [1, 2, 3, 4, 5]\n",
    "\n",
    "LL.clear()#Clear function to remove elements\n",
    "print(LL) "
   ]
  },
  {
   "cell_type": "code",
   "execution_count": 18,
   "id": "9c6f4b0a-4189-42ca-a824-28d2d8e7c2d3",
   "metadata": {},
   "outputs": [
    {
     "name": "stdout",
     "output_type": "stream",
     "text": [
      "[3, 0, 5, 0, 1, 0]\n"
     ]
    }
   ],
   "source": [
    "r = [3, -2, 5, -7, 1, -9]\n",
    "Ul = []\n",
    "\n",
    "for i in r:\n",
    "    Ul.append(i if i >= 0 else 0)\n",
    "\n",
    "print(Ul)"
   ]
  },
  {
   "cell_type": "markdown",
   "id": "38f80512-4201-47f9-b2a2-2d41de056e94",
   "metadata": {},
   "source": [
    "43. Convert a string into a list of words."
   ]
  },
  {
   "cell_type": "code",
   "execution_count": 19,
   "id": "4c1731a0-a3db-45a5-8305-ed32a709802c",
   "metadata": {},
   "outputs": [
    {
     "name": "stdout",
     "output_type": "stream",
     "text": [
      "['Hello,', 'how', 'are', 'you', 'doing', 'today?']\n"
     ]
    }
   ],
   "source": [
    "st1 = \"Hello, how are you doing today?\"\n",
    "wordList = st1.split()\n",
    "\n",
    "print(wordList)"
   ]
  },
  {
   "cell_type": "markdown",
   "id": "85314516-4e61-415d-81d1-1e7cd4cf3033",
   "metadata": {},
   "source": [
    "44. Convert a list of words into a string."
   ]
  },
  {
   "cell_type": "code",
   "execution_count": 20,
   "id": "428e0031-7cbc-4106-9cb4-74aae6973814",
   "metadata": {},
   "outputs": [
    {
     "name": "stdout",
     "output_type": "stream",
     "text": [
      "Hello, how are you doing today?\n"
     ]
    }
   ],
   "source": [
    "word2 = ['Hello,', 'how', 'are', 'you', 'doing', 'today?']\n",
    "Sent1 = ' '.join(word2)\n",
    "\n",
    "print(Sent1)"
   ]
  },
  {
   "cell_type": "markdown",
   "id": "f2403c20-fe0b-4c4a-9e9a-c337d588d75b",
   "metadata": {},
   "source": [
    "45. Create a list of the first `n` powers of 2."
   ]
  },
  {
   "cell_type": "code",
   "execution_count": 21,
   "id": "bd4817ae-aabd-4f20-8359-f3160227de33",
   "metadata": {},
   "outputs": [
    {
     "name": "stdout",
     "output_type": "stream",
     "text": [
      "[1, 2, 4, 8, 16]\n"
     ]
    }
   ],
   "source": [
    "n = 5  # Change this to the desired value of n\n",
    "powers_of_2 = [2 ** i for i in range(n)]\n",
    "\n",
    "print(powers_of_2)"
   ]
  },
  {
   "cell_type": "markdown",
   "id": "8b65b8e2-e3ec-41c1-a219-ed03d5030c76",
   "metadata": {},
   "source": [
    "46. Find the longest string in a list of strings."
   ]
  },
  {
   "cell_type": "code",
   "execution_count": 22,
   "id": "6f08bab1-7f2b-4aed-8c14-d4aa0493f977",
   "metadata": {},
   "outputs": [
    {
     "name": "stdout",
     "output_type": "stream",
     "text": [
      "The longest string is: elderberry\n"
     ]
    }
   ],
   "source": [
    "strings1 = [\"apple\", \"banana\", \"cherry\", \"date\", \"elderberry\"]\n",
    "\n",
    "longest = max(strings1, key=len)\n",
    "\n",
    "print(\"The longest string is:\", longest)"
   ]
  },
  {
   "cell_type": "markdown",
   "id": "494cd232-2b82-4e49-b8db-3379de7a457f",
   "metadata": {},
   "source": [
    "47. Find the shortest string in a list of strings."
   ]
  },
  {
   "cell_type": "code",
   "execution_count": 23,
   "id": "ebdf8026-3648-4548-8a59-d24460a0f4e3",
   "metadata": {},
   "outputs": [
    {
     "name": "stdout",
     "output_type": "stream",
     "text": [
      "The longest string is: date\n"
     ]
    }
   ],
   "source": [
    "strings2 = [\"apple\", \"banana\", \"cherry\", \"date\", \"elderberry\"]\n",
    "\n",
    "shotest = min(strings1, key=len)\n",
    "\n",
    "print(\"The longest string is:\", shotest)"
   ]
  },
  {
   "cell_type": "markdown",
   "id": "b8b10294-4e2a-4f6f-b751-5c552ef021fe",
   "metadata": {},
   "source": [
    "48. Create a list of the first `n` triangular numbers."
   ]
  },
  {
   "cell_type": "code",
   "execution_count": 24,
   "id": "2cc67078-333e-4ab0-a065-9322baaa9e33",
   "metadata": {},
   "outputs": [
    {
     "name": "stdout",
     "output_type": "stream",
     "text": [
      "List of the first 5 triangular numbers: [1, 3, 6, 10, 15]\n"
     ]
    }
   ],
   "source": [
    "n = 5\n",
    "triangular_numbers = []\n",
    "total = 0\n",
    "for i in range(1, n + 1):\n",
    "    total += i\n",
    "    triangular_numbers.append(total)\n",
    "print(\"List of the first\", n, \"triangular numbers:\", triangular_numbers)"
   ]
  },
  {
   "cell_type": "markdown",
   "id": "d1be1536-6ea2-44ea-a50e-5027f73afe5d",
   "metadata": {},
   "source": [
    "49. Check if a list contains another list as a subsequence."
   ]
  },
  {
   "cell_type": "code",
   "execution_count": 25,
   "id": "469a67c7-6772-4b03-9383-b4a889115de5",
   "metadata": {},
   "outputs": [
    {
     "name": "stdout",
     "output_type": "stream",
     "text": [
      "Sublist is a subsequence of the main list.\n"
     ]
    }
   ],
   "source": [
    "main_list = [1, 2, 3, 4, 5, 6, 7, 8, 9]\n",
    "sub_list = [3, 5, 7]\n",
    "\n",
    "main_idx = 0\n",
    "sub_idx = 0\n",
    "\n",
    "while main_idx < len(main_list) and sub_idx < len(sub_list):\n",
    "    if main_list[main_idx] == sub_list[sub_idx]:\n",
    "        sub_idx += 1\n",
    "    main_idx += 1\n",
    "\n",
    "if sub_idx == len(sub_list):\n",
    "    print(\"Sublist is a subsequence of the main list.\")\n",
    "else:\n",
    "    print(\"Sublist is not a subsequence of the main list.\")"
   ]
  },
  {
   "cell_type": "markdown",
   "id": "19207e00-4960-4780-a262-7574ba335b85",
   "metadata": {},
   "source": [
    "50. Swap two elements in a list by their indices."
   ]
  },
  {
   "cell_type": "code",
   "execution_count": 26,
   "id": "7e388ff7-aad8-4fae-8801-89bc9fc6b88b",
   "metadata": {},
   "outputs": [
    {
     "name": "stdout",
     "output_type": "stream",
     "text": [
      "Original list: [1, 2, 3, 4, 5]\n",
      "List after swapping elements: [1, 4, 3, 2, 5]\n"
     ]
    }
   ],
   "source": [
    "q1 = [1, 2, 3, 4, 5]\n",
    "index1 = 1\n",
    "index2 = 3\n",
    "\n",
    "print(\"Original list:\", q1)\n",
    "\n",
    "# Swap elements\n",
    "q1[index1], q1[index2] = q1[index2], q1[index1]\n",
    "\n",
    "print(\"List after swapping elements:\", q1)"
   ]
  },
  {
   "cell_type": "markdown",
   "id": "75c06856-fc4e-4fdf-be19-e25db7fac5b0",
   "metadata": {},
   "source": [
    "1. Create a tuple with integers from 1 to 5."
   ]
  },
  {
   "cell_type": "code",
   "execution_count": 27,
   "id": "ebfcd82b-ede3-405c-95c7-1bc0ce9c0e6f",
   "metadata": {},
   "outputs": [
    {
     "name": "stdout",
     "output_type": "stream",
     "text": [
      "(1, 2, 3, 4, 5)\n"
     ]
    }
   ],
   "source": [
    "t = (1, 2, 3, 4, 5)\n",
    "print(t)"
   ]
  },
  {
   "cell_type": "markdown",
   "id": "df4e5603-c089-492a-88db-afb890f6edf7",
   "metadata": {},
   "source": [
    "2. Access the third element of a tuple."
   ]
  },
  {
   "cell_type": "code",
   "execution_count": 30,
   "id": "fb617728-219c-46ea-88ec-5a75b66126e6",
   "metadata": {},
   "outputs": [
    {
     "name": "stdout",
     "output_type": "stream",
     "text": [
      "3\n"
     ]
    }
   ],
   "source": [
    "t1=(1,2,3,4,5)\n",
    "\n",
    "print(t1[2])"
   ]
  },
  {
   "cell_type": "markdown",
   "id": "38f5b3fe-b5af-4043-bb10-d6b63df11500",
   "metadata": {},
   "source": [
    "3. Find the length of a tuple without using the `len()` function."
   ]
  },
  {
   "cell_type": "code",
   "execution_count": 31,
   "id": "ea0915c3-97f1-45c9-8e4c-66e48eca57b2",
   "metadata": {},
   "outputs": [
    {
     "name": "stdout",
     "output_type": "stream",
     "text": [
      "Length of the tuple: 5\n"
     ]
    }
   ],
   "source": [
    "t2 = (1, 2, 3, 4, 5)\n",
    "\n",
    "length = 0\n",
    "for i in t2:\n",
    "    length += 1\n",
    "\n",
    "print(\"Length of the tuple:\", length)"
   ]
  },
  {
   "cell_type": "markdown",
   "id": "09a7078d-70e1-4d35-9853-87e88387dcac",
   "metadata": {},
   "source": [
    "4. Count the occurrences of an element in a tuple."
   ]
  },
  {
   "cell_type": "code",
   "execution_count": 32,
   "id": "b3f8aceb-ef1d-41ea-94af-7c057eb23296",
   "metadata": {},
   "outputs": [
    {
     "name": "stdout",
     "output_type": "stream",
     "text": [
      "The element 2 appears 3 times in the tuple.\n"
     ]
    }
   ],
   "source": [
    "\n",
    "t3 = (1, 2, 2, 3, 4, 2, 5)\n",
    "\n",
    "element_to_count = 2\n",
    "\n",
    "count = t3.count(element_to_count)\n",
    "\n",
    "print(\"The element\", element_to_count, \"appears\", count, \"times in the tuple.\")\n"
   ]
  },
  {
   "cell_type": "markdown",
   "id": "62d82f8f-e131-4f05-b4f3-6f7e2fcab870",
   "metadata": {},
   "source": [
    "5. Find the index of the first occurrence of an element in a tuple."
   ]
  },
  {
   "cell_type": "code",
   "execution_count": 33,
   "id": "df158e95-beb9-4590-8755-1c9c821acf20",
   "metadata": {},
   "outputs": [
    {
     "name": "stdout",
     "output_type": "stream",
     "text": [
      "The index of the first occurrence of 2 is: 1\n"
     ]
    }
   ],
   "source": [
    "t4 = (1, 2, 2, 3, 4, 2, 5)\n",
    "element_to_find = 2\n",
    "\n",
    "index = t4.index(element_to_find)\n",
    "\n",
    "print(\"The index of the first occurrence of\", element_to_find, \"is:\", index)\n"
   ]
  },
  {
   "cell_type": "markdown",
   "id": "97b2bfe0-67ea-4ee3-a038-6ba924d989d9",
   "metadata": {},
   "source": [
    "6. Check if an element exists in a tuple."
   ]
  },
  {
   "cell_type": "code",
   "execution_count": 34,
   "id": "b3817cc8-7ff0-49e5-b534-7d3d1d58cb89",
   "metadata": {},
   "outputs": [
    {
     "name": "stdout",
     "output_type": "stream",
     "text": [
      "3 exists in the tuple.\n"
     ]
    }
   ],
   "source": [
    "t5 = (1, 2, 3, 4, 5)\n",
    "element_to_check = 3\n",
    "\n",
    "if element_to_check in t5:\n",
    "    print(element_to_check, \"exists in the tuple.\")\n",
    "else:\n",
    "    print(element_to_check, \"does not exist in the tuple.\")\n"
   ]
  },
  {
   "cell_type": "markdown",
   "id": "4ddfd5df-3174-46b7-bf79-5bb6b5f628fb",
   "metadata": {},
   "source": [
    "7. Convert a tuple to a list."
   ]
  },
  {
   "cell_type": "code",
   "execution_count": 35,
   "id": "2d332a8d-1bcc-4a68-9a48-74cc1cf0f789",
   "metadata": {},
   "outputs": [
    {
     "name": "stdout",
     "output_type": "stream",
     "text": [
      "Tuple: (1, 2, 3, 4, 5)\n",
      "List: [1, 2, 3, 4, 5]\n"
     ]
    }
   ],
   "source": [
    "tt1 = (1, 2, 3, 4, 5)\n",
    "listtt1 = list(tt1)\n",
    "\n",
    "print(\"Tuple:\", tt1)\n",
    "print(\"List:\", listtt1)"
   ]
  },
  {
   "cell_type": "markdown",
   "id": "deb4be84-1eab-4714-8c0a-87c35d8979a2",
   "metadata": {},
   "source": [
    "8. Convert a list to a tuple."
   ]
  },
  {
   "cell_type": "code",
   "execution_count": 36,
   "id": "59d9a30e-e992-4936-be08-54978526333e",
   "metadata": {},
   "outputs": [
    {
     "name": "stdout",
     "output_type": "stream",
     "text": [
      "List: [1, 2, 3, 4, 5]\n",
      "Tuple: (1, 2, 3, 4, 5)\n"
     ]
    }
   ],
   "source": [
    "LL1 = [1, 2, 3, 4, 5]\n",
    "TT1 = tuple(LL1)\n",
    "\n",
    "print(\"List:\", LL1)\n",
    "print(\"Tuple:\", TT1)"
   ]
  },
  {
   "cell_type": "markdown",
   "id": "60b3a836-6bba-4955-9267-840efe47948c",
   "metadata": {},
   "source": [
    "9. Unpack the elements of a tuple into variables."
   ]
  },
  {
   "cell_type": "code",
   "execution_count": 37,
   "id": "2207f9d9-2b41-42fd-93fa-65135ece5a89",
   "metadata": {},
   "outputs": [
    {
     "name": "stdout",
     "output_type": "stream",
     "text": [
      "a: 1\n",
      "b: 2\n",
      "c: 3\n"
     ]
    }
   ],
   "source": [
    "tuple1 = (1, 2, 3)\n",
    "a, b, c = tuple1\n",
    "\n",
    "print(\"a:\", a)\n",
    "print(\"b:\", b)\n",
    "print(\"c:\", c)"
   ]
  },
  {
   "cell_type": "markdown",
   "id": "066d0484-0ea3-445c-8272-8451996f7d9a",
   "metadata": {},
   "source": [
    "10. Create a tuple of even numbers from 1 to 10."
   ]
  },
  {
   "cell_type": "code",
   "execution_count": 38,
   "id": "deded8e9-24a3-4131-b81d-67550991534d",
   "metadata": {},
   "outputs": [
    {
     "name": "stdout",
     "output_type": "stream",
     "text": [
      "(2, 4, 6, 8, 10)\n"
     ]
    }
   ],
   "source": [
    "even_numbers = (2, 4, 6, 8, 10)\n",
    "print(even_numbers)"
   ]
  },
  {
   "cell_type": "code",
   "execution_count": 48,
   "id": "8d2764db-bfb3-4efa-b6c3-bdfc689d90fd",
   "metadata": {},
   "outputs": [
    {
     "name": "stdout",
     "output_type": "stream",
     "text": [
      "(2, 4, 6, 8, 10)\n"
     ]
    }
   ],
   "source": [
    "list1=[]\n",
    "for x in range(1, 11):\n",
    "    if x % 2==0:\n",
    "        list1.append(x)\n",
    "        \n",
    "print(tuple(list1))"
   ]
  },
  {
   "cell_type": "markdown",
   "id": "1c9bb458-ed40-4136-b5de-39dbda4ca134",
   "metadata": {},
   "source": [
    "11. Create a tuple of odd numbers from 1 to 10."
   ]
  },
  {
   "cell_type": "code",
   "execution_count": 2,
   "id": "d50d7a79-88cb-419e-8208-15acbd320d0b",
   "metadata": {},
   "outputs": [
    {
     "name": "stdout",
     "output_type": "stream",
     "text": [
      "(1, 3, 5, 7, 9)\n"
     ]
    }
   ],
   "source": [
    "odd_numbers = (1, 3, 5, 7, 9)\n",
    "print(odd_numbers)"
   ]
  },
  {
   "cell_type": "code",
   "execution_count": 50,
   "id": "9ac4c10b-0244-4058-99f2-0dcb1df386a7",
   "metadata": {},
   "outputs": [
    {
     "name": "stdout",
     "output_type": "stream",
     "text": [
      "(1, 3, 5, 7, 9)\n"
     ]
    }
   ],
   "source": [
    "list1=[]\n",
    "for x in range(1, 11):\n",
    "    if x % 2!=0:\n",
    "        list1.append(x)\n",
    "        \n",
    "print(tuple(list1))\n",
    "       "
   ]
  },
  {
   "cell_type": "markdown",
   "id": "fb53a2ad-ee7c-48bd-a8a7-62b5d879d36c",
   "metadata": {},
   "source": [
    "12. Concatenate two tuples."
   ]
  },
  {
   "cell_type": "code",
   "execution_count": 1,
   "id": "b5495232-72b4-4ebe-a744-9412cc0cd044",
   "metadata": {},
   "outputs": [
    {
     "name": "stdout",
     "output_type": "stream",
     "text": [
      "The concatenate tuple are : (1, 2, 3, 4, 5, 6, 7, 8, 9, 10)\n"
     ]
    }
   ],
   "source": [
    "tup1=(1,2,3,4,5)\n",
    "tup2=(6,7,8,9,10)\n",
    "\n",
    "concatenate=tup1+tup2\n",
    "\n",
    "print(\"The concatenate tuple are :\",concatenate)"
   ]
  },
  {
   "cell_type": "markdown",
   "id": "cc8975dd-246a-41ca-9b03-8a3b41bf96d0",
   "metadata": {},
   "source": [
    "13. Repeat a tuple three times."
   ]
  },
  {
   "cell_type": "code",
   "execution_count": 4,
   "id": "2d8527cd-8137-44c9-b8d0-ff5f963cde8d",
   "metadata": {},
   "outputs": [
    {
     "name": "stdout",
     "output_type": "stream",
     "text": [
      " three times Repeated tuple : (2, 4, 7, 2, 4, 7, 2, 4, 7)\n"
     ]
    }
   ],
   "source": [
    "tupl1=(2,4,7)\n",
    "\n",
    "repeat=tupl1*3\n",
    "\n",
    "print(\" three times Repeated tuple :\",repeat)"
   ]
  },
  {
   "cell_type": "markdown",
   "id": "ea862e3b-b48b-455b-bc98-84c88738465c",
   "metadata": {},
   "source": [
    "14. Check if a tuple is empty."
   ]
  },
  {
   "cell_type": "code",
   "execution_count": 5,
   "id": "90890af4-1ac3-4c7e-94ed-4254c992d936",
   "metadata": {},
   "outputs": [
    {
     "name": "stdout",
     "output_type": "stream",
     "text": [
      "The tuple is empty\n"
     ]
    }
   ],
   "source": [
    "tuple1= ()\n",
    "\n",
    "if not tuple1:\n",
    "    print(\"The tuple is empty\")\n",
    "    \n",
    "else:\n",
    "    print(\"The tuple not empty\")"
   ]
  },
  {
   "cell_type": "markdown",
   "id": "16b8bc42-0088-4c59-9adc-d1f5cf5f8582",
   "metadata": {},
   "source": [
    "15. Create a nested tuple."
   ]
  },
  {
   "cell_type": "code",
   "execution_count": 6,
   "id": "fc59ed4a-d05c-4ff9-9f62-d336e5c4a785",
   "metadata": {},
   "outputs": [
    {
     "name": "stdout",
     "output_type": "stream",
     "text": [
      "((1, 2), (3, 4), (5, 6))\n"
     ]
    }
   ],
   "source": [
    "nested = ((1, 2), (3, 4), (5, 6))\n",
    "\n",
    "print(nested)"
   ]
  },
  {
   "cell_type": "markdown",
   "id": "3a70df20-2aad-4b99-9690-b72cae06268c",
   "metadata": {},
   "source": [
    "16. Access the first element of a nested tuple."
   ]
  },
  {
   "cell_type": "code",
   "execution_count": 7,
   "id": "7574463a-8a6c-4514-a1fd-9bf4596883a1",
   "metadata": {},
   "outputs": [
    {
     "name": "stdout",
     "output_type": "stream",
     "text": [
      "The first element of the nested tuple: 1\n"
     ]
    }
   ],
   "source": [
    "nested1 = ((1, 2), (3, 4), (5, 6))\n",
    "\n",
    "first_element = nested1[0][0]\n",
    "\n",
    "print(\"The first element of the nested tuple:\", first_element)"
   ]
  },
  {
   "cell_type": "markdown",
   "id": "cfed6f8d-a3d7-4a39-a96f-18011424741d",
   "metadata": {},
   "source": [
    "17. Create a tuple with a single element."
   ]
  },
  {
   "cell_type": "code",
   "execution_count": 9,
   "id": "a886dfd5-1d31-4a85-beec-f2b51375938c",
   "metadata": {},
   "outputs": [
    {
     "name": "stdout",
     "output_type": "stream",
     "text": [
      "the single_element : (3,)\n"
     ]
    }
   ],
   "source": [
    "single_element=(3,)\n",
    "\n",
    "print(\"the single_element :\",single_element)"
   ]
  },
  {
   "cell_type": "markdown",
   "id": "9c598acc-3eb1-45af-8694-629937483a01",
   "metadata": {},
   "source": [
    "18. Compare two tuples."
   ]
  },
  {
   "cell_type": "code",
   "execution_count": 10,
   "id": "30fe4fda-0fda-458b-9fa0-128bc506e999",
   "metadata": {},
   "outputs": [
    {
     "name": "stdout",
     "output_type": "stream",
     "text": [
      "tup11 is less than tup12\n"
     ]
    }
   ],
   "source": [
    "tup11 = (1, 2, 3)\n",
    "tup12 = (1, 2, 4)\n",
    "\n",
    "if tup11 < tup12:\n",
    "    print(\"tup11 is less than tup12\")\n",
    "elif tup11 > tup12:\n",
    "    print(\"tup11 is greater than tup12\")\n",
    "else:\n",
    "    print(\"tup11 and tup12 are equal\")"
   ]
  },
  {
   "cell_type": "markdown",
   "id": "90952eb0-986d-42c1-8260-089137e838ea",
   "metadata": {},
   "source": [
    "19. Delete a tuple."
   ]
  },
  {
   "cell_type": "code",
   "execution_count": 12,
   "id": "63e4fbcb-b56d-46f8-a483-fb419c0ad3e9",
   "metadata": {},
   "outputs": [
    {
     "ename": "NameError",
     "evalue": "name 'tt1' is not defined",
     "output_type": "error",
     "traceback": [
      "\u001b[0;31m---------------------------------------------------------------------------\u001b[0m",
      "\u001b[0;31mNameError\u001b[0m                                 Traceback (most recent call last)",
      "Cell \u001b[0;32mIn[12], line 5\u001b[0m\n\u001b[1;32m      1\u001b[0m tt1\u001b[38;5;241m=\u001b[39m(\u001b[38;5;241m1\u001b[39m,\u001b[38;5;241m3\u001b[39m,\u001b[38;5;241m5\u001b[39m,\u001b[38;5;241m7\u001b[39m)\n\u001b[1;32m      3\u001b[0m \u001b[38;5;28;01mdel\u001b[39;00m tt1\n\u001b[0;32m----> 5\u001b[0m \u001b[43mtt1\u001b[49m\n",
      "\u001b[0;31mNameError\u001b[0m: name 'tt1' is not defined"
     ]
    }
   ],
   "source": [
    "tt1=(1,3,5,7)\n",
    "\n",
    "del tt1\n",
    "\n",
    "tt1 # not be accessible becuse the tule has been deleted."
   ]
  },
  {
   "cell_type": "markdown",
   "id": "2e8343f6-0fde-4c31-b34a-cc6149e1d4ec",
   "metadata": {},
   "source": [
    "20. Slice a tuple."
   ]
  },
  {
   "cell_type": "code",
   "execution_count": 13,
   "id": "f7715dc8-f85a-4690-adc6-f0cf0a479c8d",
   "metadata": {},
   "outputs": [
    {
     "name": "stdout",
     "output_type": "stream",
     "text": [
      "Sliced Tuple: (4, 5, 6, 7, 8)\n"
     ]
    }
   ],
   "source": [
    "my_tup = (1, 2, 3, 4, 5, 6, 7, 8, 9, 10)\n",
    "\n",
    "# Slice from index 2 to index 6 (exclusive)\n",
    "sliced = my_tup[3:8]\n",
    "\n",
    "print(\"Sliced Tuple:\", sliced)\n"
   ]
  },
  {
   "cell_type": "markdown",
   "id": "8dad4e67-709e-4013-9cb8-9f528f315fae",
   "metadata": {},
   "source": [
    "21. Find the maximum value in a tuple."
   ]
  },
  {
   "cell_type": "code",
   "execution_count": 14,
   "id": "dc060ceb-9b26-4e7a-83f7-5fdd7ad1345b",
   "metadata": {},
   "outputs": [
    {
     "name": "stdout",
     "output_type": "stream",
     "text": [
      "Maximum value: 87\n"
     ]
    }
   ],
   "source": [
    "my1 = (12, 45, 8, 24, 56, 37,87,22,11,65)\n",
    "\n",
    "max_value = max(my1)\n",
    "\n",
    "print(\"Maximum value:\", max_value)"
   ]
  },
  {
   "cell_type": "markdown",
   "id": "ff9544e1-d352-48dc-8e68-0b8633472180",
   "metadata": {},
   "source": [
    "22. Find the minimum value in a tuple."
   ]
  },
  {
   "cell_type": "code",
   "execution_count": 16,
   "id": "58647a99-921b-4442-83f8-3072925d1196",
   "metadata": {},
   "outputs": [
    {
     "name": "stdout",
     "output_type": "stream",
     "text": [
      "Minimum value: 8\n"
     ]
    }
   ],
   "source": [
    "my2 = (12, 45, 8, 24, 56, 37,87,22,11,65)\n",
    "\n",
    "min_value = min(my2)\n",
    "\n",
    "print(\"Minimum value:\", min_value)"
   ]
  },
  {
   "cell_type": "markdown",
   "id": "1358dde5-43a2-4e8c-bceb-e589e6cc4531",
   "metadata": {},
   "source": [
    "23. Convert a string to a tuple of characters."
   ]
  },
  {
   "cell_type": "code",
   "execution_count": 17,
   "id": "51dea2b6-d8be-4bed-b38b-3ebbdd1cacf4",
   "metadata": {},
   "outputs": [
    {
     "name": "stdout",
     "output_type": "stream",
     "text": [
      "The tuple from sting will be : ('M', 'y', ' ', 's', 't', 'r', 'i', 'n', 'g')\n"
     ]
    }
   ],
   "source": [
    "let=\"My string\"\n",
    "\n",
    "tu1=tuple(let)\n",
    "\n",
    "print(\"The tuple from sting will be :\",tu1)\n"
   ]
  },
  {
   "cell_type": "markdown",
   "id": "93f8ddc4-896c-4f50-bd7c-1b16d374add8",
   "metadata": {},
   "source": [
    "24. Convert a tuple of characters to a string."
   ]
  },
  {
   "cell_type": "code",
   "execution_count": 19,
   "id": "beb81d0a-e4de-40e8-82f0-1dd57ff3ba80",
   "metadata": {},
   "outputs": [
    {
     "name": "stdout",
     "output_type": "stream",
     "text": [
      "My string\n"
     ]
    }
   ],
   "source": [
    "tu2=('M', 'y', ' ', 's', 't', 'r', 'i', 'n', 'g')\n",
    "\n",
    "string1=''.join(tu2)\n",
    "\n",
    "print(string1)"
   ]
  },
  {
   "cell_type": "markdown",
   "id": "7629c122-2f01-49cd-b642-1b7c09e7602e",
   "metadata": {},
   "source": [
    "25. Create a tuple from multiple data types."
   ]
  },
  {
   "cell_type": "code",
   "execution_count": 20,
   "id": "6a6285e8-df62-4f95-9f73-241e084246ee",
   "metadata": {},
   "outputs": [
    {
     "name": "stdout",
     "output_type": "stream",
     "text": [
      "(1, 'hello', 3.14, True)\n"
     ]
    }
   ],
   "source": [
    "mixed = (1, \"hello\", 3.14, True)\n",
    "\n",
    "print(mixed)"
   ]
  },
  {
   "cell_type": "markdown",
   "id": "fb0cd627-9b67-4fc3-9e16-f88029b37494",
   "metadata": {},
   "source": [
    "26. Check if two tuples are identical."
   ]
  },
  {
   "cell_type": "code",
   "execution_count": 21,
   "id": "0e9c5be3-6530-4d0b-8ad6-fc11206ef9b2",
   "metadata": {},
   "outputs": [
    {
     "name": "stdout",
     "output_type": "stream",
     "text": [
      "The two tuples are identical.\n"
     ]
    }
   ],
   "source": [
    "tu3 = (1, 2, 3)\n",
    "tu4 = (1, 2, 3)\n",
    "\n",
    "if tu3 == tu4:\n",
    "    print(\"The two tuples are identical.\")\n",
    "else:\n",
    "    print(\"The two tuples are not identical.\")"
   ]
  },
  {
   "cell_type": "markdown",
   "id": "4648b82d-ae20-4de3-840f-1cc0b429b228",
   "metadata": {},
   "source": [
    "27. Sort the elements of a tuple."
   ]
  },
  {
   "cell_type": "code",
   "execution_count": 22,
   "id": "4c0bb518-639a-4119-b638-863eaadca529",
   "metadata": {},
   "outputs": [
    {
     "name": "stdout",
     "output_type": "stream",
     "text": [
      "Original Tuple: [1, 1, 2, 3, 4, 5, 6, 9]\n",
      "Sorted Tuple: (1, 1, 2, 3, 4, 5, 6, 9)\n"
     ]
    }
   ],
   "source": [
    "my_tuple = (3, 1, 4, 1, 5, 9, 2, 6)\n",
    "\n",
    "sorted_list = sorted(my_tuple)\n",
    "sorted_tuple = tuple(sorted_list)\n",
    "\n",
    "print(\"sorted_list :\",sorted_list)\n",
    "print(\"Sorted Tuple:\", sorted_tuple)"
   ]
  },
  {
   "cell_type": "markdown",
   "id": "adfc380a-b865-451e-8f89-b0ed3da9c04e",
   "metadata": {},
   "source": [
    "28. Convert a tuple of integers to a tuple of strings."
   ]
  },
  {
   "cell_type": "code",
   "execution_count": 23,
   "id": "ef327836-5e7e-4c24-9268-fa15ae8d6938",
   "metadata": {},
   "outputs": [
    {
     "name": "stdout",
     "output_type": "stream",
     "text": [
      "Original Tuple of Integers: (1, 2, 3, 4, 5)\n",
      "Tuple of Strings: ('1', '2', '3', '4', '5')\n"
     ]
    }
   ],
   "source": [
    "int_tuple = (1, 2, 3, 4, 5)\n",
    "str_tuple = tuple(map(str, int_tuple))\n",
    "\n",
    "print(\"Original Tuple of Integers:\", int_tuple)\n",
    "print(\"Tuple of Strings:\", str_tuple)"
   ]
  },
  {
   "cell_type": "markdown",
   "id": "42cbf6bd-ab6b-4828-9afd-5fcadb5e547b",
   "metadata": {},
   "source": [
    "29. Convert a tuple of strings to a tuple of integers."
   ]
  },
  {
   "cell_type": "code",
   "execution_count": 24,
   "id": "10c74a4e-1fe5-4db2-b43c-6a3338d50ba6",
   "metadata": {},
   "outputs": [
    {
     "name": "stdout",
     "output_type": "stream",
     "text": [
      "Original Tuple of Strings: ('1', '2', '3', '4', '5')\n",
      "Tuple of Integers: (1, 2, 3, 4, 5)\n"
     ]
    }
   ],
   "source": [
    "str_tuple1 = ('1', '2', '3', '4', '5')\n",
    "int_tuple = tuple(map(int, str_tuple1))\n",
    "\n",
    "print(\"Original Tuple of Strings:\", str_tuple1)\n",
    "print(\"Tuple of Integers:\", int_tuple)"
   ]
  },
  {
   "cell_type": "markdown",
   "id": "76670bac-e1ff-4c06-b223-43672fbb82ea",
   "metadata": {},
   "source": [
    "30. Merge two tuples."
   ]
  },
  {
   "cell_type": "code",
   "execution_count": 25,
   "id": "070e6c08-0919-4bd6-85e5-08ff13317509",
   "metadata": {},
   "outputs": [
    {
     "name": "stdout",
     "output_type": "stream",
     "text": [
      "Merged Tuple: (1, 2, 3, 4, 5, 6)\n"
     ]
    }
   ],
   "source": [
    "t11 = (1, 2, 3)\n",
    "t12 = (4, 5, 6)\n",
    "\n",
    "merged = t11 + t12\n",
    "\n",
    "print(\"Merged Tuple:\", merged)"
   ]
  },
  {
   "cell_type": "markdown",
   "id": "fd494e4f-d0a9-44ef-8cc1-5d6cf9521fbf",
   "metadata": {},
   "source": [
    "31. Flatten a nested tuple."
   ]
  },
  {
   "cell_type": "code",
   "execution_count": 26,
   "id": "07b151d4-1206-4ebf-b3a1-4a821f005b84",
   "metadata": {},
   "outputs": [
    {
     "name": "stdout",
     "output_type": "stream",
     "text": [
      "Flattened Tuple: (1, 2, 3, 4, 5, 6, 7)\n"
     ]
    }
   ],
   "source": [
    "nested2= ((1, 2), (3, 4, 5), (6, 7))\n",
    "\n",
    "flat_tuple = tuple(i for x in nested2 for i in x)\n",
    "\n",
    "print(\"Flattened Tuple:\", flat_tuple)\n"
   ]
  },
  {
   "cell_type": "markdown",
   "id": "36ac2c64-8139-4880-95a9-b68afa782b7a",
   "metadata": {},
   "source": [
    "32. Create a tuple of the first 5 prime numbers."
   ]
  },
  {
   "cell_type": "code",
   "execution_count": 27,
   "id": "3c00e9d8-723c-4154-b000-08bca63ab971",
   "metadata": {},
   "outputs": [
    {
     "name": "stdout",
     "output_type": "stream",
     "text": [
      "(2, 3, 5, 7, 11)\n"
     ]
    }
   ],
   "source": [
    "prime_numbers = (2, 3, 5, 7, 11)\n",
    "print(prime_numbers)"
   ]
  },
  {
   "cell_type": "markdown",
   "id": "2b965422-6423-4b90-8f5b-96600ddeebad",
   "metadata": {},
   "source": [
    "33. Check if a tuple is a palindrome."
   ]
  },
  {
   "cell_type": "code",
   "execution_count": 29,
   "id": "a4a691c6-6650-444a-8432-86db92f1af95",
   "metadata": {},
   "outputs": [
    {
     "name": "stdout",
     "output_type": "stream",
     "text": [
      "The tuple is a palindrome.\n"
     ]
    }
   ],
   "source": [
    "m1 = (1, 2, 3, 2, 1)\n",
    "\n",
    "is_palindrome = m1[::-1]\n",
    "\n",
    "if is_palindrome:\n",
    "    print(\"The tuple is a palindrome.\")\n",
    "else:\n",
    "    print(\"The tuple is not a palindrome.\")"
   ]
  },
  {
   "cell_type": "markdown",
   "id": "1d25fb3d-fde2-4bc3-ac11-203c2c5d9bbf",
   "metadata": {},
   "source": [
    "34. Create a tuple of squares of numbers from 1 to 5."
   ]
  },
  {
   "cell_type": "code",
   "execution_count": 31,
   "id": "d0217c9a-5f66-4eac-bb0e-4bb81e5fa145",
   "metadata": {},
   "outputs": [
    {
     "name": "stdout",
     "output_type": "stream",
     "text": [
      "Tuple of squares of numbers: (1, 4, 9, 16, 25)\n"
     ]
    }
   ],
   "source": [
    "n = 5 # Number of squares you want to calculate\n",
    "squares_tuple = tuple(i**2 for i in range(1, n+1))\n",
    "\n",
    "print(\"Tuple of squares of numbers:\", squares_tuple)"
   ]
  },
  {
   "cell_type": "markdown",
   "id": "12bd5da1-97f4-4e07-9989-0696718ed203",
   "metadata": {},
   "source": [
    "35. Filter out all even numbers from a tuple."
   ]
  },
  {
   "cell_type": "code",
   "execution_count": 32,
   "id": "5a3d147a-11b6-4278-a40b-058577495a74",
   "metadata": {},
   "outputs": [
    {
     "name": "stdout",
     "output_type": "stream",
     "text": [
      "Filtered Tuple (odd numbers only): (1, 3, 5, 7, 9)\n"
     ]
    }
   ],
   "source": [
    "number = (1, 2, 3, 4, 5, 6, 7, 8, 9, 10)\n",
    "\n",
    "filtered_tuple = tuple(x for x in number if x % 2 != 0)\n",
    "\n",
    "print(\"Filtered Tuple (odd numbers only):\", filtered_tuple)"
   ]
  },
  {
   "cell_type": "markdown",
   "id": "39faadda-a670-4b85-9728-ef6e071088c1",
   "metadata": {},
   "source": [
    "36. Multiply all elements in a tuple by 2."
   ]
  },
  {
   "cell_type": "code",
   "execution_count": 39,
   "id": "3501625b-1098-442e-92fc-936b7a22c1b5",
   "metadata": {},
   "outputs": [
    {
     "name": "stdout",
     "output_type": "stream",
     "text": [
      "Multple of 2 for all elements are : (2, 4, 6, 8, 10, 12, 14, 16, 18, 20)\n"
     ]
    }
   ],
   "source": [
    "number1 = (1, 2, 3, 4, 5, 6, 7, 8, 9, 10)\n",
    "\n",
    "Element = tuple(x*2 for x in number1 )\n",
    "\n",
    "print(\"Multple of 2 for all elements are :\", Element)"
   ]
  },
  {
   "cell_type": "markdown",
   "id": "9c6c9240-8523-4ea7-b1fe-dd774298d9ba",
   "metadata": {},
   "source": [
    "37. Create a tuple of random numbers."
   ]
  },
  {
   "cell_type": "code",
   "execution_count": 45,
   "id": "118b89ed-3e1d-4140-84f8-cd8e30a86abc",
   "metadata": {},
   "outputs": [
    {
     "name": "stdout",
     "output_type": "stream",
     "text": [
      "Random Tuple: [3, 4, 9, 13, 13]\n"
     ]
    }
   ],
   "source": [
    "import random\n",
    "n=20\n",
    "random_tuple = tuple(random.randint(1, n+1) for i in range(5))\n",
    "\n",
    "print(\"Random Tuple:\", sorted(random_tuple))\n"
   ]
  },
  {
   "cell_type": "markdown",
   "id": "1e7673bd-1c0c-4db3-929f-aaae15ec625a",
   "metadata": {},
   "source": [
    "38. Check if a tuple is sorted."
   ]
  },
  {
   "cell_type": "code",
   "execution_count": 47,
   "id": "ae56a5ec-a6d2-4cc3-9eaa-4fda9d261c3f",
   "metadata": {},
   "outputs": [
    {
     "name": "stdout",
     "output_type": "stream",
     "text": [
      "The tuple sorted [1, 2, 2, 5, 6, 9, 10]\n"
     ]
    }
   ],
   "source": [
    "pp1=(2,5,2,9,1,10,6)\n",
    "\n",
    "sort=sorted(pp1)\n",
    "\n",
    "if sort:\n",
    "    print(\"The tuple sorted\",sort)\n",
    "    \n",
    "else:\n",
    "    print(\"Th tuple not sorted\",pp1)\n",
    "    "
   ]
  },
  {
   "cell_type": "markdown",
   "id": "5ff6c27e-9876-4e0b-8901-aef74d995ba3",
   "metadata": {},
   "source": [
    "39. Rotate a tuple to the left by `n` positions."
   ]
  },
  {
   "cell_type": "code",
   "execution_count": 51,
   "id": "473cbd11-b293-44b3-ab8d-61766c268703",
   "metadata": {},
   "outputs": [
    {
     "name": "stdout",
     "output_type": "stream",
     "text": [
      "The Rotate left tuple is : (3, 4, 5, 1, 2)\n"
     ]
    }
   ],
   "source": [
    "\n",
    "MyTuple=(1,2,3,4,5)\n",
    "n = 2\n",
    "n = n % len(MyTuple)\n",
    "\n",
    "RotatedTuple=MyTuple[n:] + MyTuple[:n]\n",
    "\n",
    "print(\"The Rotate left tuple is :\" , RotatedTuple)"
   ]
  },
  {
   "cell_type": "markdown",
   "id": "c61c99a0-d90e-419f-bcc4-1596ce86e4cf",
   "metadata": {},
   "source": [
    "40. Rotate a tuple to the right by `n` positions."
   ]
  },
  {
   "cell_type": "code",
   "execution_count": 52,
   "id": "5dcc7309-d955-4f67-8dbd-3c16c5f69d9a",
   "metadata": {},
   "outputs": [
    {
     "name": "stdout",
     "output_type": "stream",
     "text": [
      "The Rotate Right tuple is : (4, 5, 1, 2, 3)\n"
     ]
    }
   ],
   "source": [
    "MyTuple=(1,2,3,4,5)\n",
    "n = 2\n",
    "n = n % len(MyTuple)\n",
    "\n",
    "RotatedTuple=MyTuple[-n:] + MyTuple[:-n]\n",
    "\n",
    "print(\"The Rotate Right tuple is :\" , RotatedTuple)"
   ]
  },
  {
   "cell_type": "markdown",
   "id": "a8792c6d-117d-4bc3-8243-4a15b59a0cb6",
   "metadata": {},
   "source": [
    "41. Create a tuple of the first 5 Fibonacci numbers."
   ]
  },
  {
   "cell_type": "code",
   "execution_count": 53,
   "id": "09735486-9459-41ba-bc18-c8d0fd819c3e",
   "metadata": {},
   "outputs": [
    {
     "name": "stdout",
     "output_type": "stream",
     "text": [
      "The Fibonacci tuple : (0, 1, 1, 2, 3)\n"
     ]
    }
   ],
   "source": [
    "\n",
    "Fibon=[0,1]\n",
    "n = 5\n",
    "for i in range(2,n):\n",
    "    \n",
    "    Fib = Fibon[i - 1] + Fibon[i - 2]\n",
    "    Fibon.append(Fib)\n",
    "    \n",
    "Fibonacci=tuple(Fibon)\n",
    "\n",
    "print(\"The Fibonacci tuple :\" ,Fibonacci)"
   ]
  },
  {
   "cell_type": "markdown",
   "id": "2cd0491b-d9ea-4aa6-94fc-fe9a6f486652",
   "metadata": {},
   "source": [
    "42. Create a tuple from user input."
   ]
  },
  {
   "cell_type": "code",
   "execution_count": 55,
   "id": "35dc1fc5-a722-4d7c-a22d-267b78fec5ec",
   "metadata": {},
   "outputs": [
    {
     "name": "stdin",
     "output_type": "stream",
     "text": [
      "Enter elements separated by spaces:  3 5 7 8 9\n"
     ]
    },
    {
     "name": "stdout",
     "output_type": "stream",
     "text": [
      "User Tuple: ('3', '5', '7', '8', '9')\n"
     ]
    }
   ],
   "source": [
    "user_input = input(\"Enter elements separated by spaces: \")\n",
    "user_elements = user_input.split()\n",
    "\n",
    "user_tuple = tuple(user_elements)\n",
    "\n",
    "print(\"User Tuple:\", user_tuple)"
   ]
  },
  {
   "cell_type": "markdown",
   "id": "b86c7240-738a-497c-a3e2-b5ff8cfbc4a2",
   "metadata": {},
   "source": [
    "43. Swap two elements in a tuple."
   ]
  },
  {
   "cell_type": "code",
   "execution_count": 56,
   "id": "9757856d-57e5-480d-bbd6-6edfaeacfead",
   "metadata": {},
   "outputs": [
    {
     "name": "stdout",
     "output_type": "stream",
     "text": [
      "Swapped Tuple: (1, 4, 3, 2, 5)\n"
     ]
    }
   ],
   "source": [
    "MyTuple2 = (1, 2, 3, 4, 5)\n",
    "index1 = 1  # Index of the first element to swap\n",
    "index2 = 3  # Index of the second element to swap\n",
    "\n",
    "# Convert the tuple to a list\n",
    "tuple_list = list(MyTuple2)\n",
    "\n",
    "# Swap the elements at the specified indices\n",
    "tuple_list[index1], tuple_list[index2] = tuple_list[index2], tuple_list[index1]\n",
    "\n",
    "# Convert the list back to a tuple\n",
    "swapped_tuple = tuple(tuple_list)\n",
    "\n",
    "print(\"Swapped Tuple:\", swapped_tuple)"
   ]
  },
  {
   "cell_type": "markdown",
   "id": "52818e33-6df1-4e1d-bc7a-f26fb2cf9342",
   "metadata": {},
   "source": [
    "44. Reverse the elements of a tuple."
   ]
  },
  {
   "cell_type": "code",
   "execution_count": 57,
   "id": "9b1ebffd-b917-4525-8541-44a8755f9ddc",
   "metadata": {},
   "outputs": [
    {
     "name": "stdout",
     "output_type": "stream",
     "text": [
      "Reversed Tuple: (5, 4, 3, 2, 1)\n"
     ]
    }
   ],
   "source": [
    "mytt = (1, 2, 3, 4, 5)\n",
    "\n",
    "reverse1 = mytt[::-1]\n",
    "\n",
    "print(\"Reversed Tuple:\", reverse1)\n"
   ]
  },
  {
   "cell_type": "markdown",
   "id": "da6fa467-8a54-4e1e-a473-d8d3e0199690",
   "metadata": {},
   "source": [
    "45. Create a tuple of the first `n` powers of 2."
   ]
  },
  {
   "cell_type": "code",
   "execution_count": 58,
   "id": "59e3a729-0880-4de2-85dc-706d3c60565d",
   "metadata": {},
   "outputs": [
    {
     "name": "stdout",
     "output_type": "stream",
     "text": [
      "Powers of 2 Tuple: (1, 2, 4, 8, 16)\n"
     ]
    }
   ],
   "source": [
    "n = 5  # Number of powers of 2\n",
    "powers_of_2_tuple = tuple(2 ** i for i in range(n))\n",
    "\n",
    "print(\"Powers of 2 Tuple:\", powers_of_2_tuple)"
   ]
  },
  {
   "cell_type": "markdown",
   "id": "0af08231-c6f9-4817-acee-514e8b674a71",
   "metadata": {},
   "source": [
    "46. Find the longest string in a tuple of strings."
   ]
  },
  {
   "cell_type": "code",
   "execution_count": 59,
   "id": "7c697043-a161-4dd8-bcca-98c147a56323",
   "metadata": {},
   "outputs": [
    {
     "name": "stdout",
     "output_type": "stream",
     "text": [
      "Longest String: grapefruit\n"
     ]
    }
   ],
   "source": [
    "TupleString = (\"apple\", \"banana\", \"grapefruit\", \"cherry\", \"pear\")\n",
    "\n",
    "longest_string = max(TupleString, key=len)\n",
    "\n",
    "print(\"Longest String:\", longest_string)\n"
   ]
  },
  {
   "cell_type": "markdown",
   "id": "7a161f96-4d97-45b8-9c65-585be1268cf8",
   "metadata": {},
   "source": [
    "47. Find the shortest string in a tuple of strings."
   ]
  },
  {
   "cell_type": "code",
   "execution_count": 60,
   "id": "87ff840c-9539-4c29-8534-2191bfcd973b",
   "metadata": {},
   "outputs": [
    {
     "name": "stdout",
     "output_type": "stream",
     "text": [
      "Longest String: pear\n"
     ]
    }
   ],
   "source": [
    "TupleString1 = (\"apple\", \"banana\", \"grapefruit\", \"cherry\", \"pear\")\n",
    "\n",
    "shortest_string = min(TupleString, key=len)\n",
    "\n",
    "print(\"Longest String:\", shortest_string)"
   ]
  },
  {
   "cell_type": "markdown",
   "id": "af075d0c-78c4-4540-a10d-2fa3e7257c2c",
   "metadata": {},
   "source": [
    "48. Create a tuple of the first `n` triangular numbers."
   ]
  },
  {
   "cell_type": "code",
   "execution_count": 61,
   "id": "daca5f46-1934-4b22-89f7-2747f5e6914e",
   "metadata": {},
   "outputs": [
    {
     "name": "stdout",
     "output_type": "stream",
     "text": [
      "Triangular Numbers Tuple: (1, 3, 6, 10, 15)\n"
     ]
    }
   ],
   "source": [
    "n = 5  # Number of triangular numbers\n",
    "triangular_numbers_tuple = tuple(i * (i + 1) // 2 for i in range(1, n + 1))\n",
    "\n",
    "print(\"Triangular Numbers Tuple:\", triangular_numbers_tuple)\n"
   ]
  },
  {
   "cell_type": "markdown",
   "id": "f3d185dd-e1af-4193-996a-76974bbeaf8c",
   "metadata": {},
   "source": [
    "49. Check if a tuple contains another tuple as a subsequence."
   ]
  },
  {
   "cell_type": "code",
   "execution_count": 62,
   "id": "abb4a4ed-c438-46b1-a2a7-5de14690b094",
   "metadata": {},
   "outputs": [
    {
     "name": "stdout",
     "output_type": "stream",
     "text": [
      "Subtuple is a subsequence of the main tuple.\n"
     ]
    }
   ],
   "source": [
    "main_tuple = (1, 2, 3, 4, 5, 6, 7, 8, 9)\n",
    "sub_tuple = (3, 5, 7)\n",
    "\n",
    "main_idx = 0\n",
    "sub_idx = 0\n",
    "\n",
    "while main_idx < len(main_tuple) and sub_idx < len(sub_tuple):\n",
    "    if main_tuple[main_idx] == sub_tuple[sub_idx]:\n",
    "        sub_idx += 1\n",
    "    main_idx += 1\n",
    "\n",
    "if sub_idx == len(sub_tuple):\n",
    "    print(\"Subtuple is a subsequence of the main tuple.\")\n",
    "else:\n",
    "    print(\"Subtuple is not a subsequence of the main tuple.\")"
   ]
  },
  {
   "cell_type": "markdown",
   "id": "f0b98477-77e0-44b5-bd78-29fa10f5d94e",
   "metadata": {},
   "source": [
    "50. Create a tuple of alternating 1s and 0s of length `n`."
   ]
  },
  {
   "cell_type": "code",
   "execution_count": 63,
   "id": "7b5ef268-7a64-4154-ad44-52fda3f852f2",
   "metadata": {},
   "outputs": [
    {
     "name": "stdout",
     "output_type": "stream",
     "text": [
      "Alternating Tuple: (0, 1, 0, 1, 0, 1, 0, 1, 0, 1)\n"
     ]
    }
   ],
   "source": [
    "n = 10  # Length of the tuple\n",
    "alternating_tuple = tuple(i % 2 for i in range(n))\n",
    "\n",
    "print(\"Alternating Tuple:\", alternating_tuple)"
   ]
  },
  {
   "cell_type": "markdown",
   "id": "e83b74d7-7d2d-4008-a75e-877944f69f74",
   "metadata": {},
   "source": [
    "1. Create a set with integers from 1 to 5."
   ]
  },
  {
   "cell_type": "code",
   "execution_count": 64,
   "id": "ed3fbaa3-c983-4830-ba1c-d79a0e88220d",
   "metadata": {},
   "outputs": [
    {
     "name": "stdout",
     "output_type": "stream",
     "text": [
      "{1, 2, 3, 4, 5}\n"
     ]
    }
   ],
   "source": [
    "myset = {1, 2, 3, 4, 5}\n",
    "print(myset)"
   ]
  },
  {
   "cell_type": "markdown",
   "id": "a484a6a4-3d5e-4243-9cc9-3bd1de88c8b3",
   "metadata": {},
   "source": [
    "2. Add an element to a set."
   ]
  },
  {
   "cell_type": "code",
   "execution_count": 65,
   "id": "520f8099-1654-40bc-a5e8-fab09eaed5fe",
   "metadata": {},
   "outputs": [
    {
     "name": "stdout",
     "output_type": "stream",
     "text": [
      "Updated Set: {1, 2, 3, 4}\n"
     ]
    }
   ],
   "source": [
    "myset1 = {1, 2, 3}\n",
    "myset1.add(4)\n",
    "\n",
    "print(\"Updated Set:\", myset1)"
   ]
  },
  {
   "cell_type": "markdown",
   "id": "5bdce563-d342-45a1-adab-8b74c431df63",
   "metadata": {},
   "source": [
    "3. Remove an element from a set."
   ]
  },
  {
   "cell_type": "code",
   "execution_count": 68,
   "id": "e08f78fc-72ff-4096-a61f-b2d55d925afc",
   "metadata": {},
   "outputs": [
    {
     "name": "stdout",
     "output_type": "stream",
     "text": [
      "Updated Set: {1, 2, 4, 5}\n"
     ]
    }
   ],
   "source": [
    "my_set1 = {1, 2, 3, 4, 5}\n",
    "\n",
    "my_set1.remove(3)\n",
    "\n",
    "print(\"Updated Set:\", my_set1)"
   ]
  },
  {
   "cell_type": "code",
   "execution_count": 69,
   "id": "53b36c2a-eeb5-4f10-bfef-e63e657b3a39",
   "metadata": {},
   "outputs": [
    {
     "name": "stdout",
     "output_type": "stream",
     "text": [
      "The element exists in the set.\n"
     ]
    }
   ],
   "source": [
    "my_set2 = {1, 2, 3, 4, 5}\n",
    "element_to_check = 3\n",
    "\n",
    "if element_to_check in my_set2:\n",
    "    print(\"The element exists in the set.\")\n",
    "else:\n",
    "    print(\"The element does not exist in the set.\")"
   ]
  },
  {
   "cell_type": "markdown",
   "id": "51219a15-f953-405f-89c5-079191643601",
   "metadata": {},
   "source": [
    "5. Find the length of a set without using the `len()` function."
   ]
  },
  {
   "cell_type": "code",
   "execution_count": 70,
   "id": "150c91f1-71e4-4c0f-947d-877b4ad41901",
   "metadata": {},
   "outputs": [
    {
     "name": "stdout",
     "output_type": "stream",
     "text": [
      "Length of the set: 5\n"
     ]
    }
   ],
   "source": [
    "my_set = {1, 2, 3, 4, 5}\n",
    "count = 0\n",
    "\n",
    "for i in my_set:\n",
    "    count += 1\n",
    "\n",
    "print(\"Length of the set:\", count)"
   ]
  },
  {
   "cell_type": "code",
   "execution_count": 71,
   "id": "a1a9068d-151c-4ee1-9c1c-4a951548a54f",
   "metadata": {},
   "outputs": [
    {
     "name": "stdout",
     "output_type": "stream",
     "text": [
      "Cleared Set: set()\n"
     ]
    }
   ],
   "source": [
    "my_set3 = {1, 2, 3, 4, 5}\n",
    "my_set3.clear()\n",
    "\n",
    "print(\"Cleared Set:\", my_set3)"
   ]
  },
  {
   "cell_type": "code",
   "execution_count": 72,
   "id": "9687699d-24f2-4044-9408-5837c8ebb77e",
   "metadata": {},
   "outputs": [
    {
     "name": "stdout",
     "output_type": "stream",
     "text": [
      "Set of Even Numbers: {2, 4, 6, 8, 10}\n"
     ]
    }
   ],
   "source": [
    "even_numbers_set = {x for x in range(1, 11) if x % 2 == 0}\n",
    "\n",
    "print(\"Set of Even Numbers:\", even_numbers_set)"
   ]
  },
  {
   "cell_type": "markdown",
   "id": "9fc96848-c5eb-4d01-b856-01b987d39d5a",
   "metadata": {},
   "source": [
    "8. Create a set of odd numbers from 1 to 10."
   ]
  },
  {
   "cell_type": "code",
   "execution_count": 74,
   "id": "85692716-bf5f-4d1f-a94b-2471a3ddec8c",
   "metadata": {},
   "outputs": [
    {
     "name": "stdout",
     "output_type": "stream",
     "text": [
      "Set of Odd Numbers: {1, 3, 5, 7, 9}\n"
     ]
    }
   ],
   "source": [
    "odd_numbers_set = {x for x in range(1, 11) if x % 2 != 0}\n",
    "\n",
    "print(\"Set of Odd Numbers:\", odd_numbers_set)"
   ]
  },
  {
   "cell_type": "markdown",
   "id": "7f3fc2f2-bba8-4b10-ab32-240b79d22413",
   "metadata": {},
   "source": [
    "9. Find the union of two sets."
   ]
  },
  {
   "cell_type": "code",
   "execution_count": 75,
   "id": "04eee0b8-8bbd-498c-a6ea-fbb0873472b9",
   "metadata": {},
   "outputs": [
    {
     "name": "stdout",
     "output_type": "stream",
     "text": [
      "Union Set: {1, 2, 3, 4, 5}\n"
     ]
    }
   ],
   "source": [
    "set1 = {1, 2, 3}\n",
    "set2 = {3, 4, 5}\n",
    "# you can use | instead of union\n",
    "union_set = set1.union(set2)\n",
    "\n",
    "print(\"Union Set:\", union_set)"
   ]
  },
  {
   "cell_type": "markdown",
   "id": "50a28635-09b1-43c2-8e63-d64f6ece40f2",
   "metadata": {},
   "source": [
    "10. Find the intersection of two sets."
   ]
  },
  {
   "cell_type": "code",
   "execution_count": 76,
   "id": "87073cfd-7e95-4c03-966f-8991af48ce59",
   "metadata": {},
   "outputs": [
    {
     "name": "stdout",
     "output_type": "stream",
     "text": [
      "Intersection Set: {3}\n"
     ]
    }
   ],
   "source": [
    "set3 = {1, 2, 3, 4}\n",
    "set4 = {3, 4, 5, 6}\n",
    "#you can use & instead of intersection\n",
    "intersection_set = set1.intersection(set2)\n",
    "\n",
    "print(\"Intersection Set:\", intersection_set)"
   ]
  },
  {
   "cell_type": "markdown",
   "id": "b7a66ebb-6b0b-404c-9a2c-29d8b9f3077c",
   "metadata": {},
   "source": [
    "11. Find the difference between two sets."
   ]
  },
  {
   "cell_type": "code",
   "execution_count": 77,
   "id": "4e7a17ec-7058-4dd0-a8cb-cd15bee8cc60",
   "metadata": {},
   "outputs": [
    {
     "name": "stdout",
     "output_type": "stream",
     "text": [
      "Difference Set: {1, 2}\n"
     ]
    }
   ],
   "source": [
    "se1 = {1, 2, 3, 4}\n",
    "se2 = {3, 4, 5, 6}\n",
    "\n",
    "# you can use also  se1.difference(se2)\n",
    "difference_set = se1 - se2\n",
    "\n",
    "print(\"Difference Set:\", difference_set)"
   ]
  },
  {
   "cell_type": "markdown",
   "id": "29046839-9f59-41a7-ac86-47a02a288100",
   "metadata": {},
   "source": [
    "12. Check if a set is a subset of another set."
   ]
  },
  {
   "cell_type": "code",
   "execution_count": 80,
   "id": "120c1405-e046-44ee-9ef4-537e03141c6e",
   "metadata": {},
   "outputs": [
    {
     "name": "stdout",
     "output_type": "stream",
     "text": [
      "se3 is a subset of se2.\n"
     ]
    }
   ],
   "source": [
    "se2 = {1, 2, 3, 4, 5}\n",
    "se3 = {2, 3}\n",
    " \n",
    "# you can use also se3 <= se2:\n",
    "if se3.issubset(se2):\n",
    "    print(\"se3 is a subset of se2.\")\n",
    "else:\n",
    "    print(\"se3 is not a subset of se2.\")"
   ]
  },
  {
   "cell_type": "markdown",
   "id": "4b7e90a8-af8a-4389-b2f5-b5d3450837c3",
   "metadata": {},
   "source": [
    "13. Check if a set is a superset of another set."
   ]
  },
  {
   "cell_type": "code",
   "execution_count": 81,
   "id": "d4c68e70-d8e9-4081-8540-07b731a6ce4d",
   "metadata": {},
   "outputs": [
    {
     "name": "stdout",
     "output_type": "stream",
     "text": [
      "set2 is a superset of set3.\n"
     ]
    }
   ],
   "source": [
    "set2 = {1, 2, 3, 4, 5}\n",
    "set3 = {2, 3}\n",
    "\n",
    "# you can laso use set1 >= set2:\n",
    "if set2.issuperset(set3):\n",
    "    print(\"set2 is a superset of set3.\")\n",
    "else:\n",
    "    print(\"set2 is not a superset of set3.\")"
   ]
  },
  {
   "cell_type": "markdown",
   "id": "698c2fba-7778-4408-b9d0-750bd1775316",
   "metadata": {},
   "source": [
    "14. Create a set from a list."
   ]
  },
  {
   "cell_type": "code",
   "execution_count": 83,
   "id": "3dfb7123-b1fa-4617-9b16-c2c36d5e5b60",
   "metadata": {},
   "outputs": [
    {
     "name": "stdout",
     "output_type": "stream",
     "text": [
      "Set: {1, 2, 3, 4, 5}\n"
     ]
    }
   ],
   "source": [
    "mylis1 = [1, 2, 3, 4, 5]\n",
    "myse1 = set(mylis1)\n",
    "\n",
    "print(\"Set:\", myse1)"
   ]
  },
  {
   "cell_type": "markdown",
   "id": "6af64e18-1f3b-4502-98f6-d159ba5291e5",
   "metadata": {},
   "source": [
    "15. Convert a set to a list."
   ]
  },
  {
   "cell_type": "code",
   "execution_count": 84,
   "id": "1a7a5ef8-1926-418e-b46f-a378711a1eb1",
   "metadata": {},
   "outputs": [
    {
     "name": "stdout",
     "output_type": "stream",
     "text": [
      "List: [1, 2, 3, 4, 5]\n"
     ]
    }
   ],
   "source": [
    "MySet = {1, 2, 3, 4, 5}\n",
    "MyList = list(MySet)\n",
    "\n",
    "print(\"List:\", MyList)"
   ]
  },
  {
   "cell_type": "markdown",
   "id": "6823dbd9-eb30-4825-93f1-5d1da1b1cd57",
   "metadata": {},
   "source": [
    "16. Remove a random element from a set."
   ]
  },
  {
   "cell_type": "code",
   "execution_count": 85,
   "id": "39adad86-33ca-4a81-998b-c7b000dde30e",
   "metadata": {},
   "outputs": [
    {
     "name": "stdout",
     "output_type": "stream",
     "text": [
      "Removed Element: 1\n"
     ]
    }
   ],
   "source": [
    "\n",
    "my_set11 = {1, 2, 3, 4, 5}\n",
    "random_element = my_set11.pop()\n",
    "\n",
    "print(\"Removed Element:\", random_element)"
   ]
  },
  {
   "cell_type": "markdown",
   "id": "5cc2f44c-0ee4-43c1-8d6c-bbb867b8bd43",
   "metadata": {},
   "source": [
    "17. Pop an element from a set."
   ]
  },
  {
   "cell_type": "code",
   "execution_count": 89,
   "id": "d1fe04b3-9f8f-4a6a-bc6b-287255c00378",
   "metadata": {},
   "outputs": [
    {
     "name": "stdout",
     "output_type": "stream",
     "text": [
      "Popped Element: 1\n"
     ]
    }
   ],
   "source": [
    "\n",
    "my_set12 = {1, 2, 3, 4, 5}\n",
    "popped_element = my_set12.pop()\n",
    "\n",
    "print(\"Popped Element:\", popped_element)"
   ]
  },
  {
   "cell_type": "markdown",
   "id": "f73dac26-3d22-4d1b-bf36-0e9ac36cd0b5",
   "metadata": {},
   "source": [
    "18. Check if two sets have no elements in common."
   ]
  },
  {
   "cell_type": "code",
   "execution_count": 90,
   "id": "abfa757f-f68d-4459-9515-45e984294529",
   "metadata": {},
   "outputs": [
    {
     "name": "stdout",
     "output_type": "stream",
     "text": [
      "The sets have no elements in common.\n"
     ]
    }
   ],
   "source": [
    "set11 = {1, 2, 3}\n",
    "set21 = {4, 5, 6}\n",
    "\n",
    "if set11.isdisjoint(set21):\n",
    "    print(\"The sets have no elements in common.\")\n",
    "else:\n",
    "    print(\"The sets have elements in common.\")"
   ]
  },
  {
   "cell_type": "markdown",
   "id": "2ca07243-c850-416f-8ad2-ac6a5e205fd9",
   "metadata": {},
   "source": [
    "19. Find the symmetric difference between two sets."
   ]
  },
  {
   "cell_type": "code",
   "execution_count": 91,
   "id": "a909b503-64e3-42ab-ba5f-fe0ddd78f35b",
   "metadata": {},
   "outputs": [
    {
     "name": "stdout",
     "output_type": "stream",
     "text": [
      "Set 1: {1, 2, 3, 4}\n",
      "Set 2: {3, 4, 5, 6}\n",
      "Symmetric Difference Set: {1, 2, 5, 6}\n"
     ]
    }
   ],
   "source": [
    "set1 = {1, 2, 3, 4}\n",
    "set2 = {3, 4, 5, 6}\n",
    "\n",
    "#symmetric_difference_set = set1 ^ set2\n",
    "symmetric_difference_set = set1.symmetric_difference(set2)\n",
    "\n",
    "print(\"Set 1:\", set1)\n",
    "print(\"Set 2:\", set2)\n",
    "print(\"Symmetric Difference Set:\", symmetric_difference_set)\n"
   ]
  },
  {
   "cell_type": "markdown",
   "id": "2d49584a-e77e-429d-98da-aa585f083692",
   "metadata": {},
   "source": [
    "20. Update a set with elements from another set."
   ]
  },
  {
   "cell_type": "code",
   "execution_count": 93,
   "id": "b84334b4-3c8f-48d1-91b5-6fb3e9dc5473",
   "metadata": {},
   "outputs": [
    {
     "name": "stdout",
     "output_type": "stream",
     "text": [
      "Updated Set 1: {1, 2, 3, 4, 5}\n"
     ]
    }
   ],
   "source": [
    "set12 = {1, 2, 3}\n",
    "set22 = {3, 4, 5}\n",
    "\n",
    "#set1 |= set2\n",
    "set12.update(set22)\n",
    "\n",
    "print(\"Updated Set 1:\", set12)\n"
   ]
  },
  {
   "cell_type": "markdown",
   "id": "dc3389b9-a8c5-4b57-ad54-e2eb468ebc6b",
   "metadata": {},
   "source": [
    "21. Create a set of the first 5 prime numbers."
   ]
  },
  {
   "cell_type": "code",
   "execution_count": 94,
   "id": "75934250-4778-4804-834d-4eb70c6dce48",
   "metadata": {},
   "outputs": [
    {
     "name": "stdout",
     "output_type": "stream",
     "text": [
      "Set of Prime Numbers: {2, 3, 5, 7, 11}\n"
     ]
    }
   ],
   "source": [
    "prime_numbers_set = {2, 3, 5, 7, 11}\n",
    "\n",
    "print(\"Set of Prime Numbers:\", prime_numbers_set)"
   ]
  },
  {
   "cell_type": "markdown",
   "id": "e79aded4-6530-4908-b25a-90af8ddb320d",
   "metadata": {},
   "source": [
    "22. Check if two sets are identical."
   ]
  },
  {
   "cell_type": "code",
   "execution_count": 95,
   "id": "8c28f2e6-b33e-450a-83a8-4630801eaef7",
   "metadata": {},
   "outputs": [
    {
     "name": "stdout",
     "output_type": "stream",
     "text": [
      "The sets are identical.\n"
     ]
    }
   ],
   "source": [
    "set13 = {1, 2, 3}\n",
    "set23 = {1, 2, 3}\n",
    "\n",
    "# set13 is set23:\n",
    "if set13 == set23:\n",
    "    print(\"The sets are identical.\")\n",
    "else:\n",
    "    print(\"The sets are not identical.\")"
   ]
  },
  {
   "cell_type": "markdown",
   "id": "36da15db-e08f-4473-9674-ca91104e8ac1",
   "metadata": {},
   "source": [
    "23. Create a frozen set."
   ]
  },
  {
   "cell_type": "code",
   "execution_count": 96,
   "id": "ddfe7c7a-8bdf-4a80-b05f-08047744c11b",
   "metadata": {},
   "outputs": [
    {
     "name": "stdout",
     "output_type": "stream",
     "text": [
      "Frozen Set: frozenset({1, 2, 3, 4, 5})\n"
     ]
    }
   ],
   "source": [
    "\n",
    "my_set22= {1, 2, 3, 4, 5}\n",
    "frozen_set = frozenset(my_set22)\n",
    "\n",
    "print(\"Frozen Set:\", frozen_set)"
   ]
  },
  {
   "cell_type": "markdown",
   "id": "5e009149-a0d8-4ead-b110-8f54f57431a4",
   "metadata": {},
   "source": [
    "24. Check if a set is disjoint with another set."
   ]
  },
  {
   "cell_type": "code",
   "execution_count": 97,
   "id": "ad28c97c-3ceb-4c37-a08c-7e976a7f8561",
   "metadata": {},
   "outputs": [
    {
     "name": "stdout",
     "output_type": "stream",
     "text": [
      "The sets are disjoint (have no common elements).\n"
     ]
    }
   ],
   "source": [
    "\n",
    "set14 = {1, 2, 3}\n",
    "set24 = {4, 5, 6}\n",
    "\n",
    "if set14.isdisjoint(set24):\n",
    "    print(\"The sets are disjoint (have no common elements).\")\n",
    "else:\n",
    "    print(\"The sets have common elements.\")"
   ]
  },
  {
   "cell_type": "markdown",
   "id": "929073f4-9f75-4935-aeda-f942f960fe9b",
   "metadata": {},
   "source": [
    "25. Create a set of squares of numbers from 1 to 5."
   ]
  },
  {
   "cell_type": "code",
   "execution_count": 98,
   "id": "d56f8f11-68a0-462c-a2d9-5ffe2655896e",
   "metadata": {},
   "outputs": [
    {
     "name": "stdout",
     "output_type": "stream",
     "text": [
      "Set of Squares: {1, 4, 9, 16, 25}\n"
     ]
    }
   ],
   "source": [
    "squares_set = {x ** 2 for x in range(1, 6)}\n",
    "\n",
    "print(\"Set of Squares:\", squares_set)"
   ]
  },
  {
   "cell_type": "markdown",
   "id": "0ee480e3-a5d8-41b5-bd9e-82361efc7d7f",
   "metadata": {},
   "source": [
    "26. Filter out all even numbers from a set."
   ]
  },
  {
   "cell_type": "code",
   "execution_count": 99,
   "id": "f6ccad2d-b154-4ada-90b6-b3a4183da13f",
   "metadata": {},
   "outputs": [
    {
     "name": "stdout",
     "output_type": "stream",
     "text": [
      "Filter out all even numbe: {1, 3, 5, 7, 9}\n"
     ]
    }
   ],
   "source": [
    "set55 = {1, 2, 3, 4, 5, 6, 7, 8, 9, 10}\n",
    "\n",
    "Filter_even_numbers = {x for x in set55 if x % 2 != 0}\n",
    "\n",
    "print(\"Filter out all even numbe:\", Filter_even_numbers)"
   ]
  },
  {
   "cell_type": "markdown",
   "id": "45159f0a-2fb0-4d3f-a4a4-d032aa714671",
   "metadata": {},
   "source": [
    "27. Multiply all elements in a set by 2."
   ]
  },
  {
   "cell_type": "code",
   "execution_count": 100,
   "id": "4d22756c-b99e-46a7-bc95-c98bb70542f1",
   "metadata": {},
   "outputs": [
    {
     "name": "stdout",
     "output_type": "stream",
     "text": [
      "Multiplied Set: {2, 4, 6, 8, 10}\n"
     ]
    }
   ],
   "source": [
    "\n",
    "original_set = {1, 2, 3, 4, 5}\n",
    "\n",
    "multiplied_set = {x * 2 for x in original_set}\n",
    "\n",
    "print(\"Multiplied Set:\", multiplied_set)"
   ]
  },
  {
   "cell_type": "markdown",
   "id": "4b930217-d4e3-44dd-8bc5-97bbf4d132cc",
   "metadata": {},
   "source": [
    "28. Create a set of random numbers."
   ]
  },
  {
   "cell_type": "code",
   "execution_count": 101,
   "id": "c4cd0fae-f081-4e6d-8556-080ba8722da3",
   "metadata": {},
   "outputs": [
    {
     "name": "stdout",
     "output_type": "stream",
     "text": [
      "Set of Random Numbers: {8, 43, 44, 18, 20, 84, 88, 25, 26, 24}\n"
     ]
    }
   ],
   "source": [
    "import random\n",
    "\n",
    "random_numbers_set = {random.randint(1, 100) for i in range(10)}\n",
    "\n",
    "print(\"Set of Random Numbers:\", random_numbers_set)\n"
   ]
  },
  {
   "cell_type": "markdown",
   "id": "4e0145f2-e3df-43a8-a1f9-97f112ca6de3",
   "metadata": {},
   "source": [
    "29. Check if a set is empty."
   ]
  },
  {
   "cell_type": "code",
   "execution_count": 102,
   "id": "306fde04-87b4-45a3-ab8f-ab42481534ea",
   "metadata": {},
   "outputs": [
    {
     "name": "stdout",
     "output_type": "stream",
     "text": [
      "The set is empty.\n"
     ]
    }
   ],
   "source": [
    "my_set = set()\n",
    "\n",
    "if not my_set:\n",
    "    print(\"The set is empty.\")\n",
    "else:\n",
    "    print(\"The set is not empty.\")"
   ]
  },
  {
   "cell_type": "markdown",
   "id": "86f92de1-8090-4649-9e66-1f8eb1944ff2",
   "metadata": {},
   "source": [
    "30. Create a nested set (hint: use frozenset)."
   ]
  },
  {
   "cell_type": "code",
   "execution_count": 103,
   "id": "93acaad5-9e0a-4779-b803-88f5c336873c",
   "metadata": {},
   "outputs": [
    {
     "name": "stdout",
     "output_type": "stream",
     "text": [
      "Nested Set: {frozenset({1, 2, 3}), frozenset({4, 5, 6})}\n"
     ]
    }
   ],
   "source": [
    "nested = {frozenset({1, 2, 3}), frozenset({4, 5, 6})}\n",
    "\n",
    "print(\"Nested Set:\", nested)"
   ]
  },
  {
   "cell_type": "markdown",
   "id": "c213449c-9ac0-4997-9c54-35e0b642a7c6",
   "metadata": {},
   "source": [
    "31. Remove an element from a set using the discard method."
   ]
  },
  {
   "cell_type": "code",
   "execution_count": 104,
   "id": "9c012aaf-ba4e-400f-bfc2-3263a0ca7016",
   "metadata": {},
   "outputs": [
    {
     "name": "stdout",
     "output_type": "stream",
     "text": [
      "Updated Set: {1, 2, 4, 5}\n"
     ]
    }
   ],
   "source": [
    "\n",
    "Set66 = {1, 2, 3, 4, 5}\n",
    "element_to_remove = 3\n",
    "\n",
    "Set66.discard(element_to_remove)\n",
    "\n",
    "print(\"Updated Set:\", Set66)"
   ]
  },
  {
   "cell_type": "markdown",
   "id": "280a6594-39a3-4493-8b9d-7a36e4c05347",
   "metadata": {},
   "source": [
    "32. Compare two sets."
   ]
  },
  {
   "cell_type": "code",
   "execution_count": 105,
   "id": "0c97e868-9bea-4463-a583-3655ac67aa0c",
   "metadata": {},
   "outputs": [
    {
     "name": "stdout",
     "output_type": "stream",
     "text": [
      "The sets are equal.\n"
     ]
    }
   ],
   "source": [
    "set15 = {1, 2, 3}\n",
    "set25 = {3, 2, 1}\n",
    "\n",
    "if set15 == set25:\n",
    "    print(\"The sets are equal.\")\n",
    "else:\n",
    "    print(\"The sets are not equal.\")"
   ]
  },
  {
   "cell_type": "markdown",
   "id": "5699b24f-721a-42b1-9758-bc0ffc653852",
   "metadata": {},
   "source": [
    "33. Create a set from a string."
   ]
  },
  {
   "cell_type": "code",
   "execution_count": 106,
   "id": "b6dabc27-b371-4b58-9be6-b080cf8ebe96",
   "metadata": {},
   "outputs": [
    {
     "name": "stdout",
     "output_type": "stream",
     "text": [
      "Set from String: {'o', 'h', 'l', 'e'}\n"
     ]
    }
   ],
   "source": [
    "\n",
    "MyString = \"hello\"\n",
    "string_set = {char for char in MyString}\n",
    "\n",
    "print(\"Set from String:\", string_set)"
   ]
  },
  {
   "cell_type": "markdown",
   "id": "d0eabf11-e265-450e-b960-074fbad5a171",
   "metadata": {},
   "source": [
    "34. Convert a set of strings to a set of integers."
   ]
  },
  {
   "cell_type": "code",
   "execution_count": 107,
   "id": "755cf4f4-0cc6-463d-982a-fde835325749",
   "metadata": {},
   "outputs": [
    {
     "name": "stdout",
     "output_type": "stream",
     "text": [
      "Set of Integers: {1, 2, 3, 4, 5}\n"
     ]
    }
   ],
   "source": [
    "string_set = {\"1\", \"2\", \"3\", \"4\", \"5\"}\n",
    "\n",
    "int_set = {int(element) for element in string_set}\n",
    "\n",
    "print(\"Set of Integers:\", int_set)"
   ]
  },
  {
   "cell_type": "markdown",
   "id": "022c90aa-f614-460c-a0b8-a39daed1f849",
   "metadata": {},
   "source": [
    "35. Convert a set of integers to a set of strings."
   ]
  },
  {
   "cell_type": "code",
   "execution_count": 108,
   "id": "9a2d11db-f4a7-43fa-8b8d-c57cb05c3a6a",
   "metadata": {},
   "outputs": [
    {
     "name": "stdout",
     "output_type": "stream",
     "text": [
      "Set of Strings: {'2', '3', '4', '5', '1'}\n"
     ]
    }
   ],
   "source": [
    "int_set = {1, 2, 3, 4, 5}\n",
    "\n",
    "string_set = {str(element) for element in int_set}\n",
    "\n",
    "print(\"Set of Strings:\", string_set)"
   ]
  },
  {
   "cell_type": "markdown",
   "id": "5e7b2221-7cfe-4028-bc4c-b432ebd8921f",
   "metadata": {},
   "source": [
    "36. Create a set from a tuple."
   ]
  },
  {
   "cell_type": "code",
   "execution_count": 109,
   "id": "33d9468f-cdc9-4a6a-b017-cdc278a3a56d",
   "metadata": {},
   "outputs": [
    {
     "name": "stdout",
     "output_type": "stream",
     "text": [
      "Set from Tuple: {1, 2, 3, 4, 5}\n"
     ]
    }
   ],
   "source": [
    "\n",
    "my_tuple = (1, 2, 3, 4, 5)\n",
    "tuple_set = set(my_tuple)\n",
    "\n",
    "print(\"Set from Tuple:\", tuple_set)"
   ]
  },
  {
   "cell_type": "markdown",
   "id": "b1ba49df-4e45-4517-a4ab-48472ccff592",
   "metadata": {},
   "source": [
    "37. Convert a set to a tuple."
   ]
  },
  {
   "cell_type": "code",
   "execution_count": 110,
   "id": "858f5534-22e7-4f82-ae60-c2f1d5e7bbf2",
   "metadata": {},
   "outputs": [
    {
     "name": "stdout",
     "output_type": "stream",
     "text": [
      "Tuple from Set: (1, 2, 3, 4, 5)\n"
     ]
    }
   ],
   "source": [
    "\n",
    "my_set = {1, 2, 3, 4, 5}\n",
    "set_tuple = tuple(my_set)\n",
    "\n",
    "print(\"Tuple from Set:\", set_tuple)\n"
   ]
  },
  {
   "cell_type": "markdown",
   "id": "08948fa5-559b-4779-84df-02fbcd671ba2",
   "metadata": {},
   "source": [
    "38. Find the maximum value in a set."
   ]
  },
  {
   "cell_type": "code",
   "execution_count": 111,
   "id": "f8053314-22b6-4726-a298-fb35a7accd26",
   "metadata": {},
   "outputs": [
    {
     "name": "stdout",
     "output_type": "stream",
     "text": [
      "Maximum Value: 20\n"
     ]
    }
   ],
   "source": [
    "my_set = {10, 5, 8, 20, 15}\n",
    "\n",
    "max_value = max(my_set)\n",
    "\n",
    "print(\"Maximum Value:\", max_value)\n"
   ]
  },
  {
   "cell_type": "markdown",
   "id": "a4ee1ee8-c928-46b1-a8af-df73cef5f05b",
   "metadata": {},
   "source": [
    "39. Find the minimum value in a set."
   ]
  },
  {
   "cell_type": "code",
   "execution_count": 112,
   "id": "b6f4bc0a-9b95-45a4-bdb3-563edf415bc1",
   "metadata": {},
   "outputs": [
    {
     "name": "stdout",
     "output_type": "stream",
     "text": [
      "Minimum Value: 5\n"
     ]
    }
   ],
   "source": [
    "my_set22 = {10, 5, 8, 20, 15}\n",
    "\n",
    "min_value = min(my_set22)\n",
    "\n",
    "print(\"Minimum Value:\", min_value)"
   ]
  },
  {
   "cell_type": "markdown",
   "id": "09dee365-cfa0-4b2b-aa07-40a945aaa116",
   "metadata": {},
   "source": [
    "40. Create a set from user input."
   ]
  },
  {
   "cell_type": "code",
   "execution_count": 113,
   "id": "92ef1e40-4739-4e62-84dd-89b60c43065b",
   "metadata": {},
   "outputs": [
    {
     "name": "stdin",
     "output_type": "stream",
     "text": [
      "Enter elements separated by spaces:  4 6 8 9 10 1 \n"
     ]
    },
    {
     "name": "stdout",
     "output_type": "stream",
     "text": [
      "Set from User Input: {'10', '8', '4', '6', '1', '9'}\n"
     ]
    }
   ],
   "source": [
    "user_input = input(\"Enter elements separated by spaces: \")\n",
    "user_list = user_input.split()\n",
    "user_set = set(user_list)\n",
    "\n",
    "print(\"Set from User Input:\", user_set)"
   ]
  },
  {
   "cell_type": "markdown",
   "id": "c47c7452-bdc8-4341-b1b6-9c02a5fa3c36",
   "metadata": {},
   "source": [
    "41. Check if the intersection of two sets is empty."
   ]
  },
  {
   "cell_type": "code",
   "execution_count": 114,
   "id": "73601265-08de-4b5b-b78a-50bc5df05126",
   "metadata": {},
   "outputs": [
    {
     "name": "stdout",
     "output_type": "stream",
     "text": [
      "The intersection is empty.\n"
     ]
    }
   ],
   "source": [
    "set17 = {1, 2, 3}\n",
    "set27 = {4, 5, 6}\n",
    "\n",
    "if set17.isdisjoint(set27):\n",
    "    print(\"The intersection is empty.\")\n",
    "else:\n",
    "    print(\"The intersection is not empty.\")"
   ]
  },
  {
   "cell_type": "markdown",
   "id": "70ed8516-7647-4e3f-bf03-fe7be6093417",
   "metadata": {},
   "source": [
    "42. Create a set of the first 5 Fibonacci numbers."
   ]
  },
  {
   "cell_type": "code",
   "execution_count": 115,
   "id": "9daaad4a-a6a1-40c2-a326-6f632570ced3",
   "metadata": {},
   "outputs": [
    {
     "name": "stdout",
     "output_type": "stream",
     "text": [
      "Set of the First 5 Fibonacci Numbers: {0, 1, 2, 3}\n"
     ]
    }
   ],
   "source": [
    "fibonacci_set = set()\n",
    "a, b = 0, 1\n",
    "count = 0\n",
    "\n",
    "while count < 5:\n",
    "    fibonacci_set.add(a)\n",
    "    a, b = b, a + b\n",
    "    count += 1\n",
    "\n",
    "print(\"Set of the First 5 Fibonacci Numbers:\", fibonacci_set)"
   ]
  },
  {
   "cell_type": "markdown",
   "id": "dcd0c00a-b0d6-459c-982b-66f123a893dc",
   "metadata": {},
   "source": [
    "43. Remove duplicates from a list using sets."
   ]
  },
  {
   "cell_type": "code",
   "execution_count": 116,
   "id": "8e79ade2-0305-417c-a6cd-035ab658f3f8",
   "metadata": {},
   "outputs": [
    {
     "name": "stdout",
     "output_type": "stream",
     "text": [
      "List with Duplicates Removed: [1, 2, 3, 4, 5]\n"
     ]
    }
   ],
   "source": [
    "List7 = [1, 2, 2, 3, 4, 4, 5, 5]\n",
    "\n",
    "unique_list = list(set(List7))\n",
    "\n",
    "print(\"List with Duplicates Removed:\", unique_list)"
   ]
  },
  {
   "cell_type": "markdown",
   "id": "05b8aaf8-c1cc-47ed-8053-7cf3a252b9b4",
   "metadata": {},
   "source": [
    "44. Check if two sets have the same elements, regardless of their count."
   ]
  },
  {
   "cell_type": "code",
   "execution_count": 117,
   "id": "f9cbb616-2226-483a-86f4-0dd7366956dc",
   "metadata": {},
   "outputs": [
    {
     "name": "stdout",
     "output_type": "stream",
     "text": [
      "The sets have the same elements, regardless of count.\n"
     ]
    }
   ],
   "source": [
    "set18 = {1, 2, 3}\n",
    "set28 = {3, 2, 1, 1, 2, 3}\n",
    "\n",
    "if set18 == set28:\n",
    "    print(\"The sets have the same elements, regardless of count.\")\n",
    "else:\n",
    "    print(\"The sets do not have the same elements.\")\n"
   ]
  },
  {
   "cell_type": "markdown",
   "id": "5a8787af-7232-4b6c-b6d1-555687d3c7eb",
   "metadata": {},
   "source": [
    "45. Create a set of the first `n` powers of 2."
   ]
  },
  {
   "cell_type": "code",
   "execution_count": 118,
   "id": "6365557e-2782-4574-89b1-f43375d921a8",
   "metadata": {},
   "outputs": [
    {
     "name": "stdout",
     "output_type": "stream",
     "text": [
      "Set of the First 5 Powers of 2: {1, 2, 4, 8, 16}\n"
     ]
    }
   ],
   "source": [
    "n = 5\n",
    "powers_of_2_set = set()\n",
    "\n",
    "for i in range(n):\n",
    "    powers_of_2_set.add(2 ** i)\n",
    "\n",
    "print(f\"Set of the First {n} Powers of 2:\", powers_of_2_set)"
   ]
  },
  {
   "cell_type": "markdown",
   "id": "711ad80a-3f96-4f96-a61a-73ab045d1ea3",
   "metadata": {},
   "source": [
    "46. Find the common elements between a set and a list."
   ]
  },
  {
   "cell_type": "code",
   "execution_count": 119,
   "id": "b44263aa-a2fb-4fbc-a440-15aa4716a7a1",
   "metadata": {},
   "outputs": [
    {
     "name": "stdout",
     "output_type": "stream",
     "text": [
      "Common Elements: {3, 4, 5}\n"
     ]
    }
   ],
   "source": [
    "\n",
    "my_set2 = {1, 2, 3, 4, 5}\n",
    "my_list2 = [3, 4, 5, 6, 7]\n",
    "\n",
    "common_elements = my_set2 & set(my_list2)\n",
    "\n",
    "print(\"Common Elements:\", common_elements)\n"
   ]
  },
  {
   "cell_type": "markdown",
   "id": "22806099-81f7-416f-933c-0026c8fc343e",
   "metadata": {},
   "source": [
    "47. Create a set of the first `n` triangular numbers."
   ]
  },
  {
   "cell_type": "code",
   "execution_count": 120,
   "id": "bcf67e0f-aec3-4cc8-8def-96428613f197",
   "metadata": {},
   "outputs": [
    {
     "name": "stdout",
     "output_type": "stream",
     "text": [
      "Set of the First 5 Triangular Numbers: {1, 3, 6, 10, 15}\n"
     ]
    }
   ],
   "source": [
    "n = 5\n",
    "triangular_numbers_set = set()\n",
    "\n",
    "for i in range(1, n + 1):\n",
    "    triangular_numbers_set.add(i * (i + 1) // 2)\n",
    "\n",
    "print(f\"Set of the First {n} Triangular Numbers:\", triangular_numbers_set)\n"
   ]
  },
  {
   "cell_type": "markdown",
   "id": "150a238f-e473-4927-b621-8374f1983ad2",
   "metadata": {},
   "source": [
    "48. Check if a set contains another set as a subset."
   ]
  },
  {
   "cell_type": "code",
   "execution_count": 122,
   "id": "e7e442b3-d134-47c8-b63e-668c921acbc6",
   "metadata": {},
   "outputs": [
    {
     "name": "stdout",
     "output_type": "stream",
     "text": [
      "set28 is a subset of set18.\n"
     ]
    }
   ],
   "source": [
    "set18 = {1, 2, 3, 4, 5, 6}\n",
    "set28 = {2, 4, 6}\n",
    "\n",
    "if set28 <= set18:\n",
    "    print(\"set28 is a subset of set18.\")\n",
    "else:\n",
    "    print(\"set28 is not a subset of set18.\")"
   ]
  },
  {
   "cell_type": "markdown",
   "id": "f71e9a86-fd25-4e86-bd3d-15e344b61454",
   "metadata": {},
   "source": [
    "49. Create a set of alternating 1s and 0s of length `n`."
   ]
  },
  {
   "cell_type": "code",
   "execution_count": 124,
   "id": "4463cc8b-6e71-4af4-a0d6-e5d36c71359a",
   "metadata": {},
   "outputs": [
    {
     "name": "stdout",
     "output_type": "stream",
     "text": [
      "Set of Alternating 1s and 0s of Length 5: {0, 1}\n"
     ]
    }
   ],
   "source": [
    "n = 5\n",
    "alternating_set = {i % 2 for i in range(n)}\n",
    "\n",
    "print(f\"Set of Alternating 1s and 0s of Length {n}:\", alternating_set)\n"
   ]
  },
  {
   "cell_type": "markdown",
   "id": "2a8a0460-a4a8-4b4b-ac28-e8fad03c89c1",
   "metadata": {},
   "source": [
    "50. Merge multiple sets into one."
   ]
  },
  {
   "cell_type": "code",
   "execution_count": null,
   "id": "b7729d94-ff41-40f5-a1e3-99760ebfd0b2",
   "metadata": {},
   "outputs": [],
   "source": [
    "set19 = {1, 2, 3}\n",
    "set29 = {3, 4, 5}\n",
    "set39 = {5, 6, 7}\n",
    "\n",
    "merged_set = set1.union(set2, set3)\n",
    "\n",
    "print(\"Merged Set:\", merged_set)"
   ]
  }
 ],
 "metadata": {
  "kernelspec": {
   "display_name": "Python 3 (ipykernel)",
   "language": "python",
   "name": "python3"
  },
  "language_info": {
   "codemirror_mode": {
    "name": "ipython",
    "version": 3
   },
   "file_extension": ".py",
   "mimetype": "text/x-python",
   "name": "python",
   "nbconvert_exporter": "python",
   "pygments_lexer": "ipython3",
   "version": "3.10.8"
  }
 },
 "nbformat": 4,
 "nbformat_minor": 5
}
