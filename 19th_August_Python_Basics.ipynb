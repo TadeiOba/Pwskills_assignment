{
 "cells": [
  {
   "cell_type": "code",
   "execution_count": 9,
   "id": "f99934d3-c48c-4338-b947-b6d476608efd",
   "metadata": {},
   "outputs": [
    {
     "data": {
      "text/plain": [
       "'1. Declare two variables, `x` and `y`, and assign them integer values. Swap the\\nvalues of these variables without using any temporary variable.'"
      ]
     },
     "execution_count": 9,
     "metadata": {},
     "output_type": "execute_result"
    }
   ],
   "source": [
    "'''1. Declare two variables, `x` and `y`, and assign them integer values. Swap the\n",
    "values of these variables without using any temporary variable.'''"
   ]
  },
  {
   "cell_type": "code",
   "execution_count": 3,
   "id": "0256e9bf-9bf1-40d8-8d41-bb5f458b8742",
   "metadata": {},
   "outputs": [],
   "source": [
    "#declare the varariable x,y\n",
    "x =10\n",
    "y=20"
   ]
  },
  {
   "cell_type": "code",
   "execution_count": 4,
   "id": "36871ddb-1eb4-43c6-80ab-8c52532c6c8a",
   "metadata": {},
   "outputs": [],
   "source": [
    "x,y=y,x #swap the variables"
   ]
  },
  {
   "cell_type": "code",
   "execution_count": 7,
   "id": "f396d3dd-eefe-42af-b7e5-d1296bcf1840",
   "metadata": {},
   "outputs": [
    {
     "name": "stdout",
     "output_type": "stream",
     "text": [
      "the value of x is  20\n",
      "The value of y is  10\n"
     ]
    }
   ],
   "source": [
    "print(\"the value of x is \", x)\n",
    "print(\"The value of y is \", y)"
   ]
  },
  {
   "cell_type": "code",
   "execution_count": 8,
   "id": "3e4aa2ae-e52a-4200-897a-29f1fa7f0850",
   "metadata": {},
   "outputs": [
    {
     "data": {
      "text/plain": [
       "'2.Create a program that calculates the area of a rectangle. Take the length and\\nwidth as inputs from the user and store them in variables. Calculate and\\ndisplay the area.'"
      ]
     },
     "execution_count": 8,
     "metadata": {},
     "output_type": "execute_result"
    }
   ],
   "source": [
    "'''2.Create a program that calculates the area of a rectangle. Take the length and\n",
    "width as inputs from the user and store them in variables. Calculate and\n",
    "display the area.'''"
   ]
  },
  {
   "cell_type": "code",
   "execution_count": 14,
   "id": "fe746342-a0f4-4e3c-bbf1-f91db57f67c7",
   "metadata": {},
   "outputs": [
    {
     "name": "stdin",
     "output_type": "stream",
     "text": [
      "Enter the lenght  20\n",
      "Enter the width 30\n"
     ]
    },
    {
     "name": "stdout",
     "output_type": "stream",
     "text": [
      "The Area of rectangle is  600.0\n"
     ]
    }
   ],
   "source": [
    "length = float(input(\"Enter the lenght \"))\n",
    "width= float(input(\"Enter the width\"))\n",
    "\n",
    "#Calculate the Area of a rectangle\n",
    "\n",
    "Area= width * length\n",
    "\n",
    "print(\"The Area of rectangle is \", Area )"
   ]
  },
  {
   "cell_type": "code",
   "execution_count": 15,
   "id": "52c04b17-ec16-40db-a461-4ad527b7e637",
   "metadata": {},
   "outputs": [
    {
     "data": {
      "text/plain": [
       "'3. Write a Python program that converts temperatures from Celsius to\\nFahrenheit. Take the temperature in Celsius as input, store it in a variable,\\nconvert it to Fahrenheit, and display the result.'"
      ]
     },
     "execution_count": 15,
     "metadata": {},
     "output_type": "execute_result"
    }
   ],
   "source": [
    "'''3. Write a Python program that converts temperatures from Celsius to\n",
    "Fahrenheit. Take the temperature in Celsius as input, store it in a variable,\n",
    "convert it to Fahrenheit, and display the result.'''"
   ]
  },
  {
   "cell_type": "code",
   "execution_count": 20,
   "id": "da363228-cc40-4b05-a8b9-e12b2d429059",
   "metadata": {},
   "outputs": [
    {
     "name": "stdin",
     "output_type": "stream",
     "text": [
      "Enter the temperature in Celsius 200\n"
     ]
    },
    {
     "name": "stdout",
     "output_type": "stream",
     "text": [
      "The results will be 392.0 Fahrenheit\n"
     ]
    }
   ],
   "source": [
    "#Input the variable data\n",
    "C=float(input(\"Enter the temperature in Celsius\"))\n",
    "# Convert Celsius in fahrenheit\n",
    "F=C*9/5 + 32\n",
    "\n",
    "print(\"The results will be\" ,F,\"Fahrenheit\")"
   ]
  },
  {
   "cell_type": "code",
   "execution_count": 21,
   "id": "aa5a1678-1a66-497d-a351-e45bdd55bb48",
   "metadata": {},
   "outputs": [],
   "source": [
    "#Python Basics Variable"
   ]
  },
  {
   "cell_type": "code",
   "execution_count": 22,
   "id": "e46456c9-e620-402e-b87b-86b5760c7bf5",
   "metadata": {},
   "outputs": [
    {
     "data": {
      "text/plain": [
       "'1. Write a Python program that takes a string as input and prints the length of\\nthe string.'"
      ]
     },
     "execution_count": 22,
     "metadata": {},
     "output_type": "execute_result"
    }
   ],
   "source": [
    "'''1. Write a Python program that takes a string as input and prints the length of\n",
    "the string.'''"
   ]
  },
  {
   "cell_type": "code",
   "execution_count": 23,
   "id": "e2109d6c-43a7-4cc1-88e9-761a00f9dac0",
   "metadata": {},
   "outputs": [
    {
     "name": "stdin",
     "output_type": "stream",
     "text": [
      "Enter the string  ryoba nyaisara\n"
     ]
    },
    {
     "name": "stdout",
     "output_type": "stream",
     "text": [
      "The Length of a string is  14\n"
     ]
    }
   ],
   "source": [
    "#enter the inputs string\n",
    "\n",
    "y=input(\"Enter the string \")\n",
    " \n",
    "l=len(y)\n",
    "\n",
    "print(\"The Length of a string is \",l)\n"
   ]
  },
  {
   "cell_type": "code",
   "execution_count": 24,
   "id": "0ed1a9c5-2bea-493c-8dfc-ed9d5ffdfa99",
   "metadata": {},
   "outputs": [
    {
     "data": {
      "text/plain": [
       "'2. Create a program that takes a sentence from the user and counts the number\\nof vowels (a, e, i, o, u) in the string.'"
      ]
     },
     "execution_count": 24,
     "metadata": {},
     "output_type": "execute_result"
    }
   ],
   "source": [
    "'''2. Create a program that takes a sentence from the user and counts the number\n",
    "of vowels (a, e, i, o, u) in the string.'''"
   ]
  },
  {
   "cell_type": "code",
   "execution_count": 25,
   "id": "962519e6-ae3e-4be5-b0ce-11fbc1911d88",
   "metadata": {},
   "outputs": [
    {
     "name": "stdin",
     "output_type": "stream",
     "text": [
      "Enter the senetence  The boy is playing football\n"
     ]
    },
    {
     "name": "stdout",
     "output_type": "stream",
     "text": [
      "The number of vowels are:  8\n"
     ]
    }
   ],
   "source": [
    "#Input the senetence \n",
    "Data_string=input(\"Enter the senetence \")\n",
    "\n",
    "vowel=0\n",
    "\n",
    "for j in Data_string:\n",
    "    if(j=='a' or j=='e' or j=='i' or j=='o' or j=='u'):\n",
    "        vowel=vowel+1\n",
    "print(\"The number of vowels are: \",vowel)"
   ]
  },
  {
   "cell_type": "code",
   "execution_count": 27,
   "id": "f1670792-b7a5-4801-9d1e-a4775c775d61",
   "metadata": {},
   "outputs": [
    {
     "data": {
      "text/plain": [
       "'3.Given a string, reverse the order of characters using string slicing and print\\nthe reversed string.'"
      ]
     },
     "execution_count": 27,
     "metadata": {},
     "output_type": "execute_result"
    }
   ],
   "source": [
    "'''3.Given a string, reverse the order of characters using string slicing and print\n",
    "the reversed string.'''"
   ]
  },
  {
   "cell_type": "code",
   "execution_count": 29,
   "id": "f2f2c54b-014c-4eba-9524-cfb16b145a37",
   "metadata": {},
   "outputs": [],
   "source": [
    "#Create a string\n",
    "p=\"DataScience Course\""
   ]
  },
  {
   "cell_type": "code",
   "execution_count": 30,
   "id": "429a7585-8836-4d1b-ac4a-e177c715d064",
   "metadata": {},
   "outputs": [
    {
     "data": {
      "text/plain": [
       "'esruoC ecneicSataD'"
      ]
     },
     "execution_count": 30,
     "metadata": {},
     "output_type": "execute_result"
    }
   ],
   "source": [
    "#reverse the stering\n",
    "p[::-1]"
   ]
  },
  {
   "cell_type": "code",
   "execution_count": 31,
   "id": "60ed20c7-8095-4a2e-a9eb-ca1fc1e1cc25",
   "metadata": {},
   "outputs": [
    {
     "data": {
      "text/plain": [
       "'4.Write a program that takes a string as input and checks if it is a palindrome\\n(reads the same forwards and backwards).'"
      ]
     },
     "execution_count": 31,
     "metadata": {},
     "output_type": "execute_result"
    }
   ],
   "source": [
    "'''4.Write a program that takes a string as input and checks if it is a palindrome\n",
    "(reads the same forwards and backwards).'''"
   ]
  },
  {
   "cell_type": "code",
   "execution_count": 34,
   "id": "77c29add-87d1-450e-86d1-c9020ae529bb",
   "metadata": {},
   "outputs": [
    {
     "name": "stdin",
     "output_type": "stream",
     "text": [
      "Enter the String  radar\n"
     ]
    },
    {
     "name": "stdout",
     "output_type": "stream",
     "text": [
      "Its a Palindrome\n"
     ]
    }
   ],
   "source": [
    "#input the string \n",
    "s=input(\"Enter the String \")\n",
    "\n",
    "#check if forward and backwards reverse are same\n",
    "\n",
    "if s==s[: : -1]:\n",
    "    print(\"Its a Palindrome\")\n",
    "    \n",
    "else:\n",
    "    print(\"Not Palindrome\")"
   ]
  },
  {
   "cell_type": "code",
   "execution_count": 35,
   "id": "97aa97b7-27ca-4a61-8c49-82c85883722c",
   "metadata": {},
   "outputs": [
    {
     "data": {
      "text/plain": [
       "'5. Create a program that takes a string as input and removes all the spaces from\\nit. Print the modified string without spaces.'"
      ]
     },
     "execution_count": 35,
     "metadata": {},
     "output_type": "execute_result"
    }
   ],
   "source": [
    "'''5. Create a program that takes a string as input and removes all the spaces from\n",
    "it. Print the modified string without spaces.'''"
   ]
  },
  {
   "cell_type": "code",
   "execution_count": 38,
   "id": "c84836e9-a5b4-4cb1-b212-f4648a00e1cb",
   "metadata": {},
   "outputs": [
    {
     "name": "stdin",
     "output_type": "stream",
     "text": [
      "Enter the string  r   o    b    a    \n"
     ]
    },
    {
     "name": "stdout",
     "output_type": "stream",
     "text": [
      "The New string is  roba\n"
     ]
    }
   ],
   "source": [
    "#enter the string data with spaces \n",
    "string=input(\"Enter the string \")\n",
    "\n",
    "newstring=string.replace(\" \",\"\")\n",
    "\n",
    "print(\"The New string is \",newstring)"
   ]
  },
  {
   "cell_type": "code",
   "execution_count": null,
   "id": "97c9fdcd-46d1-4cea-91f7-f73590d8765f",
   "metadata": {},
   "outputs": [],
   "source": []
  }
 ],
 "metadata": {
  "kernelspec": {
   "display_name": "Python 3 (ipykernel)",
   "language": "python",
   "name": "python3"
  },
  "language_info": {
   "codemirror_mode": {
    "name": "ipython",
    "version": 3
   },
   "file_extension": ".py",
   "mimetype": "text/x-python",
   "name": "python",
   "nbconvert_exporter": "python",
   "pygments_lexer": "ipython3",
   "version": "3.10.8"
  }
 },
 "nbformat": 4,
 "nbformat_minor": 5
}
