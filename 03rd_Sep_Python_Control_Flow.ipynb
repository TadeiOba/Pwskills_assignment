{
 "cells": [
  {
   "cell_type": "markdown",
   "id": "d1c89e39-95bc-408f-834e-1f72de4e77e8",
   "metadata": {},
   "source": [
    "### **Basic If-Else Statements:**\n",
    "---\n",
    "---"
   ]
  },
  {
   "cell_type": "markdown",
   "id": "a4054fac-fbde-456a-8e6d-e7f3f4f64d48",
   "metadata": {},
   "source": [
    "1. Write a Python program to check if a given number is positive or negative."
   ]
  },
  {
   "cell_type": "code",
   "execution_count": 1,
   "id": "e977b91c-2529-4a92-b148-202578b39215",
   "metadata": {},
   "outputs": [
    {
     "name": "stdout",
     "output_type": "stream",
     "text": [
      "The number is positive.\n"
     ]
    }
   ],
   "source": [
    "# Input a number from the user\n",
    "number = 5\n",
    "\n",
    "# Check if the number is positive, negative, or zero\n",
    "if number > 0:\n",
    "    print(\"The number is positive.\")\n",
    "elif number < 0:\n",
    "    print(\"The number is negative.\")\n",
    "else:\n",
    "    print(\"The number is zero.\")\n"
   ]
  },
  {
   "cell_type": "markdown",
   "id": "b4ed20f4-59b3-485a-adcf-3f21d55284db",
   "metadata": {},
   "source": [
    "2. Create a program that determines if a person is eligible to vote based on their age."
   ]
  },
  {
   "cell_type": "code",
   "execution_count": 2,
   "id": "c7fa070f-d19c-4a09-be47-5b942b46910e",
   "metadata": {},
   "outputs": [
    {
     "name": "stdout",
     "output_type": "stream",
     "text": [
      "You are eligible to vote.\n"
     ]
    }
   ],
   "source": [
    "# Input the person's age\n",
    "age = 20\n",
    "\n",
    "# Check if the person is eligible to vote\n",
    "if age >= 18:\n",
    "    print(\"You are eligible to vote.\")\n",
    "else:\n",
    "    print(\"You are not eligible to vote yet.\")\n"
   ]
  },
  {
   "cell_type": "markdown",
   "id": "9a64ba5f-e547-4377-b5b8-ab730d5cd285",
   "metadata": {},
   "source": [
    "3. Develop a program to find the maximum of two numbers using if-else statements."
   ]
  },
  {
   "cell_type": "code",
   "execution_count": 3,
   "id": "6aa91617-a420-4ed5-a346-6fb31e45c9cd",
   "metadata": {},
   "outputs": [
    {
     "name": "stdout",
     "output_type": "stream",
     "text": [
      "The maximum number is: 20\n"
     ]
    }
   ],
   "source": [
    "# Input two numbers from the user\n",
    "num1 = 10\n",
    "num2 = 20\n",
    "\n",
    "# Compare the two numbers to find the maximum\n",
    "if num1 > num2:\n",
    "    maximum = num1\n",
    "else:\n",
    "    maximum = num2\n",
    "\n",
    "# Print the maximum number\n",
    "print(\"The maximum number is:\", maximum)\n"
   ]
  },
  {
   "cell_type": "markdown",
   "id": "a4b64995-0891-4b4e-b512-86394365e99a",
   "metadata": {},
   "source": [
    "4. Write a Python script to classify a given year as a leap year or not."
   ]
  },
  {
   "cell_type": "code",
   "execution_count": 5,
   "id": "2b717008-0580-4a12-9767-e11ebf926561",
   "metadata": {},
   "outputs": [
    {
     "name": "stdout",
     "output_type": "stream",
     "text": [
      "2023 is not a leap year.\n"
     ]
    }
   ],
   "source": [
    "# Input a year from the user\n",
    "year = 2023\n",
    "\n",
    "# Check if the year is a leap year\n",
    "if (year % 4 == 0 and year % 100 != 0) or (year % 400 == 0):\n",
    "    print(f\"{year} is a leap year.\")\n",
    "else:\n",
    "    print(f\"{year} is not a leap year.\")\n"
   ]
  },
  {
   "cell_type": "markdown",
   "id": "9fdb5795-2996-48a7-8fd2-1c83f481fab7",
   "metadata": {},
   "source": [
    "5. Create a program that checks whether a character is a vowel or a consonant."
   ]
  },
  {
   "cell_type": "code",
   "execution_count": 10,
   "id": "7692f7c6-5243-4b29-95d0-c4228ff49834",
   "metadata": {},
   "outputs": [
    {
     "name": "stdin",
     "output_type": "stream",
     "text": [
      "Enter a character:  a\n"
     ]
    },
    {
     "name": "stdout",
     "output_type": "stream",
     "text": [
      "a is a vowel.\n"
     ]
    }
   ],
   "source": [
    "# Input a character from the user\n",
    "char = input(\"Enter a character: \").lower()  # Convert to lowercase for case-insensitivity\n",
    "\n",
    "# Check if the input is a single character\n",
    "if len(char) == 1:\n",
    "    # Check if the character is a vowel\n",
    "    if char in 'aeiou':\n",
    "        print(f\"{char} is a vowel.\")\n",
    "    else:\n",
    "        print(f\"{char} is a consonant.\")\n",
    "else:\n",
    "    print(\"Please enter a single character.\")\n"
   ]
  },
  {
   "cell_type": "markdown",
   "id": "045353ff-89b5-4469-b895-470684454964",
   "metadata": {},
   "source": [
    "6. Implement a program to determine whether a given number is even or odd."
   ]
  },
  {
   "cell_type": "code",
   "execution_count": 11,
   "id": "a109b2fa-ba07-4d39-8448-48c5d4b832e0",
   "metadata": {},
   "outputs": [
    {
     "name": "stdin",
     "output_type": "stream",
     "text": [
      "Enter a number:  46\n"
     ]
    },
    {
     "name": "stdout",
     "output_type": "stream",
     "text": [
      "46 is even.\n"
     ]
    }
   ],
   "source": [
    "# Input a number from the user\n",
    "number = int(input(\"Enter a number: \"))\n",
    "\n",
    "# Check if the number is even or odd\n",
    "if number % 2 == 0:\n",
    "    print(f\"{number} is even.\")\n",
    "else:\n",
    "    print(f\"{number} is odd.\")\n"
   ]
  },
  {
   "cell_type": "markdown",
   "id": "73c739fd-daa4-434a-9966-09561c927eca",
   "metadata": {},
   "source": [
    "7. Write a Python function to calculate the absolute value of a number without using the `abs()` function."
   ]
  },
  {
   "cell_type": "code",
   "execution_count": 19,
   "id": "833d455b-9730-43b1-b50f-4a32c6501db4",
   "metadata": {},
   "outputs": [
    {
     "name": "stdin",
     "output_type": "stream",
     "text": [
      "Enter a number:  -26\n"
     ]
    },
    {
     "name": "stdout",
     "output_type": "stream",
     "text": [
      "The absolute value of -26.0 is 26.0\n"
     ]
    }
   ],
   "source": [
    "\n",
    "# Test the function\n",
    "number = float(input(\"Enter a number: \"))\n",
    "\n",
    "if number < 0:\n",
    "    result = -number\n",
    "else:\n",
    "    result = number\n",
    "\n",
    "print(f\"The absolute value of {number} is {result}\")"
   ]
  },
  {
   "cell_type": "markdown",
   "id": "1ac0a779-1f1e-4592-8c50-e205bde1cd80",
   "metadata": {},
   "source": [
    "8. Develop a program that determines the largest of three given numbers using if-else statements."
   ]
  },
  {
   "cell_type": "code",
   "execution_count": 20,
   "id": "9dfa2c7c-3fcb-4f31-85cf-e0da755da18e",
   "metadata": {},
   "outputs": [
    {
     "name": "stdin",
     "output_type": "stream",
     "text": [
      "Enter the first number:  10\n",
      "Enter the second number:  20\n",
      "Enter the third number:  30\n"
     ]
    },
    {
     "name": "stdout",
     "output_type": "stream",
     "text": [
      "The largest number is: 30.0\n"
     ]
    }
   ],
   "source": [
    "# Input three numbers from the user\n",
    "num1 = float(input(\"Enter the first number: \"))\n",
    "num2 = float(input(\"Enter the second number: \"))\n",
    "num3 = float(input(\"Enter the third number: \"))\n",
    "\n",
    "# Determine the largest number using if-else statements\n",
    "if num1 >= num2 and num1 >= num3:\n",
    "    largest = num1\n",
    "elif num2 >= num1 and num2 >= num3:\n",
    "    largest = num2\n",
    "else:\n",
    "    largest = num3\n",
    "\n",
    "# Print the largest number\n",
    "print(f\"The largest number is: {largest}\")\n"
   ]
  },
  {
   "cell_type": "markdown",
   "id": "f9a021be-eb12-46d0-afdc-244bc842a163",
   "metadata": {},
   "source": [
    "9. Create a program that checks if a given string is a palindrome."
   ]
  },
  {
   "cell_type": "code",
   "execution_count": 21,
   "id": "e7b85ae0-128d-45fd-a085-3befc8a0e1fe",
   "metadata": {},
   "outputs": [
    {
     "name": "stdin",
     "output_type": "stream",
     "text": [
      "Enter a string:  awa\n"
     ]
    },
    {
     "name": "stdout",
     "output_type": "stream",
     "text": [
      "awa is a palindrome.\n"
     ]
    }
   ],
   "source": [
    "# Input a string from the user\n",
    "input_string = input(\"Enter a string: \")\n",
    "\n",
    "# Remove spaces and convert to lowercase for case-insensitivity\n",
    "cleaned_string = input_string.replace(\" \", \"\").lower()\n",
    "\n",
    "# Check if the cleaned string is equal to its reverse\n",
    "if cleaned_string == cleaned_string[::-1]:\n",
    "    print(f\"{input_string} is a palindrome.\")\n",
    "else:\n",
    "    print(f\"{input_string} is not a palindrome.\")\n"
   ]
  },
  {
   "cell_type": "markdown",
   "id": "016bfd84-ecb9-4eb9-a646-53d8dc73fe1e",
   "metadata": {},
   "source": [
    "10. Write a Python program to calculate the grade based on a student's score."
   ]
  },
  {
   "cell_type": "code",
   "execution_count": 22,
   "id": "753c82c3-dd25-4fc2-a13f-eb249dccceb2",
   "metadata": {},
   "outputs": [
    {
     "name": "stdin",
     "output_type": "stream",
     "text": [
      "Enter the student's score (0-100):  75\n"
     ]
    },
    {
     "name": "stdout",
     "output_type": "stream",
     "text": [
      "The student's grade is: C\n"
     ]
    }
   ],
   "source": [
    "# Input the student's score from the user\n",
    "score = float(input(\"Enter the student's score (0-100): \"))\n",
    "\n",
    "# Check the score and determine the grade\n",
    "if 0 <= score <= 100:\n",
    "    if score >= 90:\n",
    "        grade = 'A'\n",
    "    elif score >= 80:\n",
    "        grade = 'B'\n",
    "    elif score >= 70:\n",
    "        grade = 'C'\n",
    "    elif score >= 60:\n",
    "        grade = 'D'\n",
    "    else:\n",
    "        grade = 'F'\n",
    "    \n",
    "    # Print the grade\n",
    "    print(f\"The student's grade is: {grade}\")\n",
    "else:\n",
    "    print(\"Invalid score. Please enter a score between 0 and 100.\")\n"
   ]
  },
  {
   "cell_type": "markdown",
   "id": "5582b52e-c5ce-4284-b4da-168789fa2493",
   "metadata": {},
   "source": [
    "### **Nested If-Else Statements:**\n",
    "---\n",
    "---"
   ]
  },
  {
   "cell_type": "markdown",
   "id": "276ca6a9-400b-45c5-8206-03cb883f3441",
   "metadata": {},
   "source": [
    "11. Write a program to find the largest among three numbers using nested if-else statements."
   ]
  },
  {
   "cell_type": "code",
   "execution_count": 24,
   "id": "39a68315-f285-4862-b67a-ca8c5f385407",
   "metadata": {},
   "outputs": [
    {
     "name": "stdin",
     "output_type": "stream",
     "text": [
      "Enter the first number:  30\n",
      "Enter the second number:  10\n",
      "Enter the third number:  20\n"
     ]
    },
    {
     "name": "stdout",
     "output_type": "stream",
     "text": [
      "The largest number is: 30.0\n"
     ]
    }
   ],
   "source": [
    "# Input three numbers from the user\n",
    "num1 = float(input(\"Enter the first number: \"))\n",
    "num2 = float(input(\"Enter the second number: \"))\n",
    "num3 = float(input(\"Enter the third number: \"))\n",
    "\n",
    "# Find the largest number using nested if-else statements\n",
    "if num1 >= num2:\n",
    "    if num1 >= num3:\n",
    "        largest = num1\n",
    "    else:\n",
    "        largest = num3\n",
    "else:\n",
    "    if num2 >= num3:\n",
    "        largest = num2\n",
    "    else:\n",
    "        largest = num3\n",
    "\n",
    "# Print the largest number\n",
    "print(f\"The largest number is: {largest}\")\n"
   ]
  },
  {
   "cell_type": "markdown",
   "id": "ee51db00-48f5-479f-af92-69936527977b",
   "metadata": {},
   "source": [
    "12. Implement a program to determine if a triangle is equilateral, isosceles, or scalene."
   ]
  },
  {
   "cell_type": "code",
   "execution_count": 28,
   "id": "ba64b966-d2cd-42ef-b813-4a340c875355",
   "metadata": {},
   "outputs": [
    {
     "name": "stdin",
     "output_type": "stream",
     "text": [
      "Enter the length of the first side:  3\n",
      "Enter the length of the second side:  2\n",
      "Enter the length of the third side:  4\n"
     ]
    },
    {
     "name": "stdout",
     "output_type": "stream",
     "text": [
      "It's a scalene triangle.\n"
     ]
    }
   ],
   "source": [
    "# Input the lengths of the three sides of the triangle\n",
    "side1 = float(input(\"Enter the length of the first side: \"))\n",
    "side2 = float(input(\"Enter the length of the second side: \"))\n",
    "side3 = float(input(\"Enter the length of the third side: \"))\n",
    "\n",
    "# Check if it's a valid triangle (the sum of any two sides must be greater than the third side)\n",
    "if side1 + side2 > side3 and side1 + side3 > side2 and side2 + side3 > side1:\n",
    "    # Check the type of triangle\n",
    "    if side1 == side2 == side3:\n",
    "        triangle_type = \"equilateral\"\n",
    "    elif side1 == side2 or side1 == side3 or side2 == side3:\n",
    "        triangle_type = \"isosceles\"\n",
    "    else:\n",
    "        triangle_type = \"scalene\"\n",
    "    \n",
    "    # Print the type of triangle\n",
    "    print(f\"It's a {triangle_type} triangle.\")\n",
    "else:\n",
    "    print(\"It's not a valid triangle.\")\n"
   ]
  },
  {
   "cell_type": "markdown",
   "id": "bfca6163-c407-4ac2-92ad-a006c9ecc4cf",
   "metadata": {},
   "source": [
    "13. Develop a program that checks if a year is a leap year and also if it is a century year."
   ]
  },
  {
   "cell_type": "code",
   "execution_count": 29,
   "id": "02fd362d-e9a3-4495-9991-4602b058c448",
   "metadata": {},
   "outputs": [
    {
     "name": "stdin",
     "output_type": "stream",
     "text": [
      "Enter a year:  2000\n"
     ]
    },
    {
     "name": "stdout",
     "output_type": "stream",
     "text": [
      "2000 is a leap year and a century year.\n"
     ]
    }
   ],
   "source": [
    "# Input a year from the user\n",
    "year = int(input(\"Enter a year: \"))\n",
    "\n",
    "# Check if it's a leap year\n",
    "is_leap_year = False\n",
    "\n",
    "# Check if it's a century year\n",
    "is_century_year = False\n",
    "\n",
    "# Check if it's a leap year\n",
    "if year % 4 == 0:\n",
    "    if year % 100 == 0:\n",
    "        if year % 400 == 0:\n",
    "            is_leap_year = True\n",
    "    else:\n",
    "        is_leap_year = True\n",
    "\n",
    "# Check if it's a century year\n",
    "if year % 100 == 0:\n",
    "    is_century_year = True\n",
    "\n",
    "# Determine and print the result\n",
    "if is_leap_year and is_century_year:\n",
    "    print(f\"{year} is a leap year and a century year.\")\n",
    "elif is_leap_year:\n",
    "    print(f\"{year} is a leap year but not a century year.\")\n",
    "elif is_century_year:\n",
    "    print(f\"{year} is a century year but not a leap year.\")\n",
    "else:\n",
    "    print(f\"{year} is neither a leap year nor a century year.\")\n"
   ]
  },
  {
   "cell_type": "markdown",
   "id": "5f580a22-4403-4868-a042-b36d0624c77c",
   "metadata": {},
   "source": [
    "14. Write a Python script to determine if a number is positive, negative, or zero."
   ]
  },
  {
   "cell_type": "code",
   "execution_count": 30,
   "id": "d326c9eb-3d42-45c0-9752-c67559932e1b",
   "metadata": {},
   "outputs": [
    {
     "name": "stdin",
     "output_type": "stream",
     "text": [
      "Enter a number:  0\n"
     ]
    },
    {
     "name": "stdout",
     "output_type": "stream",
     "text": [
      "0.0 is zero.\n"
     ]
    }
   ],
   "source": [
    "# Input a number from the user\n",
    "number = float(input(\"Enter a number: \"))\n",
    "\n",
    "# Check if the number is positive, negative, or zero\n",
    "if number > 0:\n",
    "    print(f\"{number} is a positive number.\")\n",
    "elif number < 0:\n",
    "    print(f\"{number} is a negative number.\")\n",
    "else:\n",
    "    print(f\"{number} is zero.\")\n"
   ]
  },
  {
   "cell_type": "markdown",
   "id": "734ce80d-f5a1-483a-99c1-18b8a4bb652c",
   "metadata": {},
   "source": [
    "15. Create a program to check if a person is a teenager (between 13 and 19 years old)."
   ]
  },
  {
   "cell_type": "code",
   "execution_count": 31,
   "id": "1cd1420e-9698-46cb-9e94-51baafa9b866",
   "metadata": {},
   "outputs": [
    {
     "name": "stdin",
     "output_type": "stream",
     "text": [
      "Enter the person's age:  16\n"
     ]
    },
    {
     "name": "stdout",
     "output_type": "stream",
     "text": [
      "The person is a teenager.\n"
     ]
    }
   ],
   "source": [
    "# Input the person's age from the user\n",
    "age = int(input(\"Enter the person's age: \"))\n",
    "\n",
    "# Check if the age is within the teenager range (between 13 and 19)\n",
    "if 13 <= age <= 19:\n",
    "    print(\"The person is a teenager.\")\n",
    "else:\n",
    "    print(\"The person is not a teenager.\")\n"
   ]
  },
  {
   "cell_type": "markdown",
   "id": "8354385c-a19d-427d-bbd2-eeb285322dea",
   "metadata": {},
   "source": [
    "16. Develop a program that determines the type of angle based on its measure (acute, obtuse, or right)."
   ]
  },
  {
   "cell_type": "code",
   "execution_count": 32,
   "id": "93906704-3fec-408c-bf2f-10dc242f7b0c",
   "metadata": {},
   "outputs": [
    {
     "name": "stdin",
     "output_type": "stream",
     "text": [
      "Enter the angle measure in degrees:  38\n"
     ]
    },
    {
     "name": "stdout",
     "output_type": "stream",
     "text": [
      "The angle is acute.\n"
     ]
    }
   ],
   "source": [
    "# Input the angle measure from the user\n",
    "angle_measure = float(input(\"Enter the angle measure in degrees: \"))\n",
    "\n",
    "# Check the type of angle based on its measure\n",
    "if angle_measure > 0 and angle_measure < 90:\n",
    "    angle_type = \"acute\"\n",
    "elif angle_measure == 90:\n",
    "    angle_type = \"right\"\n",
    "elif angle_measure > 90 and angle_measure < 180:\n",
    "    angle_type = \"obtuse\"\n",
    "else:\n",
    "    angle_type = \"invalid\"\n",
    "\n",
    "# Print the type of angle\n",
    "if angle_type == \"invalid\":\n",
    "    print(\"Invalid angle measure. Angle must be between 0 and 180 degrees.\")\n",
    "else:\n",
    "    print(f\"The angle is {angle_type}.\")\n"
   ]
  },
  {
   "cell_type": "markdown",
   "id": "75e7a8d6-0e3c-49bf-8a13-766d460feeec",
   "metadata": {},
   "source": [
    "17. Write a Python program to calculate the roots of a quadratic equation."
   ]
  },
  {
   "cell_type": "code",
   "execution_count": 34,
   "id": "f447d1ab-c100-46dd-bea6-76b11fc695e5",
   "metadata": {},
   "outputs": [
    {
     "name": "stdin",
     "output_type": "stream",
     "text": [
      "Enter the coefficient 'a':  2\n",
      "Enter the coefficient 'b':  6\n",
      "Enter the coefficient 'c':  3\n"
     ]
    },
    {
     "name": "stdout",
     "output_type": "stream",
     "text": [
      "The roots are real and distinct: -0.6339745962155614 and -2.3660254037844384\n"
     ]
    }
   ],
   "source": [
    "# Input coefficients of the quadratic equation (a, b, and c)\n",
    "a = float(input(\"Enter the coefficient 'a': \"))\n",
    "b = float(input(\"Enter the coefficient 'b': \"))\n",
    "c = float(input(\"Enter the coefficient 'c': \"))\n",
    "\n",
    "# Calculate the discriminant (D)\n",
    "D = b**2 - 4*a*c\n",
    "\n",
    "# Check if the discriminant is positive, zero, or negative\n",
    "if D > 0:\n",
    "    # Two real and distinct roots\n",
    "    root1 = (-b + (D**0.5)) / (2*a)\n",
    "    root2 = (-b - (D**0.5)) / (2*a)\n",
    "    print(f\"The roots are real and distinct: {root1} and {root2}\")\n",
    "elif D == 0:\n",
    "    # One real root (repeated)\n",
    "    root1 = -b / (2*a)\n",
    "    print(f\"The root is real and repeated: {root1}\")\n",
    "else:\n",
    "    # Complex roots\n",
    "    real_part = -b / (2*a)\n",
    "    imaginary_part = ((-D)**0.5) / (2*a)\n",
    "    print(f\"The roots are complex: {real_part} + {imaginary_part}i and {real_part} - {imaginary_part}i\")\n"
   ]
  },
  {
   "cell_type": "markdown",
   "id": "202eba41-d42d-473e-b6d8-3e3f3064649c",
   "metadata": {},
   "source": [
    "18. Implement a program to determine the day of the week based on a user-provided number (1 for Monday, 2\n",
    "for Tuesday, etc.)."
   ]
  },
  {
   "cell_type": "code",
   "execution_count": 35,
   "id": "8c9fdfa0-0d44-40ed-b5ff-45e6e3a97336",
   "metadata": {},
   "outputs": [
    {
     "name": "stdin",
     "output_type": "stream",
     "text": [
      "Enter a number (1 for Monday, 2 for Tuesday, etc.):  5\n"
     ]
    },
    {
     "name": "stdout",
     "output_type": "stream",
     "text": [
      "The day is Friday.\n"
     ]
    }
   ],
   "source": [
    "# Input a number representing the day of the week\n",
    "day_number = int(input(\"Enter a number (1 for Monday, 2 for Tuesday, etc.): \"))\n",
    "\n",
    "# Create a list of days of the week\n",
    "days_of_week = [\"Monday\", \"Tuesday\", \"Wednesday\", \"Thursday\", \"Friday\", \"Saturday\", \"Sunday\"]\n",
    "\n",
    "# Check if the provided number is valid\n",
    "if 1 <= day_number <= 7:\n",
    "    # Subtract 1 from the number to get the index in the list\n",
    "    day_index = day_number - 1\n",
    "    # Get the corresponding day from the list\n",
    "    day_name = days_of_week[day_index]\n",
    "    print(f\"The day is {day_name}.\")\n",
    "else:\n",
    "    print(\"Invalid input. Please enter a number between 1 and 7.\")\n"
   ]
  },
  {
   "cell_type": "markdown",
   "id": "30dc1dc3-0fd1-483b-b396-9465e78f98b0",
   "metadata": {},
   "source": [
    "19. Create a program that determines if a year is a leap year and also if it is evenly divisible by 400."
   ]
  },
  {
   "cell_type": "code",
   "execution_count": 36,
   "id": "cfc79d85-e28c-4fec-a2e4-5f37df637f01",
   "metadata": {},
   "outputs": [
    {
     "name": "stdin",
     "output_type": "stream",
     "text": [
      "Enter a year:  1900\n"
     ]
    },
    {
     "name": "stdout",
     "output_type": "stream",
     "text": [
      "1900 is not a leap year.\n"
     ]
    }
   ],
   "source": [
    "# Input a year from the user\n",
    "year = int(input(\"Enter a year: \"))\n",
    "\n",
    "# Check if it's a leap year and divisible by 400\n",
    "if year % 400 == 0:\n",
    "    print(f\"{year} is a leap year and evenly divisible by 400.\")\n",
    "elif year % 4 == 0 and year % 100 != 0:\n",
    "    print(f\"{year} is a leap year but not evenly divisible by 400.\")\n",
    "else:\n",
    "    print(f\"{year} is not a leap year.\")\n"
   ]
  },
  {
   "cell_type": "markdown",
   "id": "d1aadc91-bd54-4ea8-9eb0-098dd7545d64",
   "metadata": {},
   "source": [
    "20. Develop a program that checks if a given number is prime or not using nested if-else statements."
   ]
  },
  {
   "cell_type": "code",
   "execution_count": 38,
   "id": "6dc61184-2a5c-40e3-b462-b76d6bb88e3f",
   "metadata": {},
   "outputs": [
    {
     "name": "stdin",
     "output_type": "stream",
     "text": [
      "Enter a number:  2\n"
     ]
    },
    {
     "name": "stdout",
     "output_type": "stream",
     "text": [
      "2 is a prime number.\n"
     ]
    }
   ],
   "source": [
    "# Input a number from the user\n",
    "num = int(input(\"Enter a number: \"))\n",
    "\n",
    "# Check if the number is less than 2 (not prime)\n",
    "if num < 2:\n",
    "    print(f\"{num} is not a prime number.\")\n",
    "else:\n",
    "    is_prime = True  # Assume the number is prime initially\n",
    "    \n",
    "    # Check for factors from 2 to the square root of the number\n",
    "    for i in range(2, int(num**0.5) + 1):\n",
    "        if num % i == 0:\n",
    "            is_prime = False  # Found a factor, so it's not prime\n",
    "            break\n",
    "    \n",
    "    if is_prime:\n",
    "        print(f\"{num} is a prime number.\")\n",
    "    else:\n",
    "        print(f\"{num} is not a prime number.\")\n"
   ]
  },
  {
   "cell_type": "markdown",
   "id": "954d0c67-fa0b-47ff-91c0-05e7d0894a25",
   "metadata": {},
   "source": [
    "### **Elif Statements:**\n",
    "---\n",
    "---"
   ]
  },
  {
   "cell_type": "markdown",
   "id": "b5babf69-79bc-482f-9758-a10f7a2ad8dd",
   "metadata": {},
   "source": [
    "21. Write a Python program to assign grades based on different ranges of scores using elif statements."
   ]
  },
  {
   "cell_type": "code",
   "execution_count": 39,
   "id": "8cb7f5ee-5451-4280-a97a-4e48ee74f81b",
   "metadata": {},
   "outputs": [
    {
     "name": "stdin",
     "output_type": "stream",
     "text": [
      "Enter the student's score:  50\n"
     ]
    },
    {
     "name": "stdout",
     "output_type": "stream",
     "text": [
      "The student's grade is: F\n"
     ]
    }
   ],
   "source": [
    "# Input the student's score from the user\n",
    "score = float(input(\"Enter the student's score: \"))\n",
    "\n",
    "# Assign grades based on score ranges\n",
    "if score >= 90:\n",
    "    grade = \"A\"\n",
    "elif score >= 80:\n",
    "    grade = \"B\"\n",
    "elif score >= 70:\n",
    "    grade = \"C\"\n",
    "elif score >= 60:\n",
    "    grade = \"D\"\n",
    "else:\n",
    "    grade = \"F\"\n",
    "\n",
    "# Print the assigned grade\n",
    "print(f\"The student's grade is: {grade}\")\n"
   ]
  },
  {
   "cell_type": "markdown",
   "id": "163098d4-4558-4462-8a0f-8305d38d6ccd",
   "metadata": {},
   "source": [
    "22. Implement a program to determine the type of a triangle based on its angles."
   ]
  },
  {
   "cell_type": "code",
   "execution_count": 2,
   "id": "ace32668-a8f4-431d-ac38-8a6e3e6ffc20",
   "metadata": {},
   "outputs": [
    {
     "name": "stdin",
     "output_type": "stream",
     "text": [
      "Enter the first angle in degrees:  45\n",
      "Enter the second angle in degrees:  45\n",
      "Enter the third angle in degrees:  90\n"
     ]
    },
    {
     "name": "stdout",
     "output_type": "stream",
     "text": [
      "The triangle is a isosceles triangle.\n"
     ]
    }
   ],
   "source": [
    "# Input angles of the triangle\n",
    "angle1 = float(input(\"Enter the first angle in degrees: \"))\n",
    "angle2 = float(input(\"Enter the second angle in degrees: \"))\n",
    "angle3 = float(input(\"Enter the third angle in degrees: \"))\n",
    "\n",
    "# Check if the angles form a valid triangle\n",
    "if angle1 + angle2 + angle3 == 180:\n",
    "    # Check the type of triangle based on angles\n",
    "    if angle1 == angle2 == angle3:\n",
    "        triangle_type = \"equilateral\"\n",
    "    elif angle1 == angle2 or angle1 == angle3 or angle2 == angle3:\n",
    "        triangle_type = \"isosceles\"\n",
    "    else:\n",
    "        triangle_type = \"scalene\"\n",
    "    print(f\"The triangle is a {triangle_type} triangle.\")\n",
    "else:\n",
    "    print(\"Invalid input. The angles do not form a valid triangle.\")\n"
   ]
  },
  {
   "cell_type": "markdown",
   "id": "6d861a94-7661-4799-b77f-be433bf91ebd",
   "metadata": {},
   "source": [
    "23. Develop a program to categorize a given person's BMI into underweight, normal, overweight, or obese using\n",
    "elif statements."
   ]
  },
  {
   "cell_type": "code",
   "execution_count": 3,
   "id": "d0f93b3a-4915-4179-a792-fa101effdd84",
   "metadata": {},
   "outputs": [
    {
     "name": "stdin",
     "output_type": "stream",
     "text": [
      "Enter your weight (kg):  84\n",
      "Enter your height (m):  5.2\n"
     ]
    },
    {
     "name": "stdout",
     "output_type": "stream",
     "text": [
      "Your BMI is 3.11, which is categorized as underweight.\n"
     ]
    }
   ],
   "source": [
    "# Input the person's weight (in kilograms) and height (in meters)\n",
    "weight = float(input(\"Enter your weight (kg): \"))\n",
    "height = float(input(\"Enter your height (m): \"))\n",
    "\n",
    "# Calculate the BMI (Body Mass Index)\n",
    "bmi = weight / (height ** 2)\n",
    "\n",
    "# Categorize the BMI\n",
    "if bmi < 18.5:\n",
    "    category = \"underweight\"\n",
    "elif 18.5 <= bmi < 24.9:\n",
    "    category = \"normal weight\"\n",
    "elif 24.9 <= bmi < 29.9:\n",
    "    category = \"overweight\"\n",
    "else:\n",
    "    category = \"obese\"\n",
    "\n",
    "# Print the BMI and category\n",
    "print(f\"Your BMI is {bmi:.2f}, which is categorized as {category}.\")\n"
   ]
  },
  {
   "cell_type": "markdown",
   "id": "587e3db4-62fb-4a0c-bb2b-1c3cf59f5a5b",
   "metadata": {},
   "source": [
    "24. Create a program that determines whether a given number is positive, negative, or zero using elif\n",
    "statements."
   ]
  },
  {
   "cell_type": "code",
   "execution_count": 4,
   "id": "72283cd6-fd92-441c-9c8c-9ac6cba4431d",
   "metadata": {},
   "outputs": [
    {
     "name": "stdin",
     "output_type": "stream",
     "text": [
      "Enter a number:  -16\n"
     ]
    },
    {
     "name": "stdout",
     "output_type": "stream",
     "text": [
      "The number is negative.\n"
     ]
    }
   ],
   "source": [
    "# Input a number from the user\n",
    "num = float(input(\"Enter a number: \"))\n",
    "\n",
    "# Check if the number is positive, negative, or zero\n",
    "if num > 0:\n",
    "    result = \"positive\"\n",
    "elif num < 0:\n",
    "    result = \"negative\"\n",
    "else:\n",
    "    result = \"zero\"\n",
    "\n",
    "# Print the result\n",
    "print(f\"The number is {result}.\")\n"
   ]
  },
  {
   "cell_type": "markdown",
   "id": "be2df033-7662-4cb8-8109-1be83387fb47",
   "metadata": {},
   "source": [
    "25. Write a Python script to determine the type of a character (uppercase, lowercase, or special) using elif\n",
    "statements."
   ]
  },
  {
   "cell_type": "code",
   "execution_count": 6,
   "id": "dbe7c751-4b4d-4956-9938-249fe6b59e30",
   "metadata": {},
   "outputs": [
    {
     "name": "stdin",
     "output_type": "stream",
     "text": [
      "Enter a character:  !\n"
     ]
    },
    {
     "name": "stdout",
     "output_type": "stream",
     "text": [
      "The character '!' is a special character.\n"
     ]
    }
   ],
   "source": [
    "# Input a character from the user\n",
    "char = input(\"Enter a character: \")\n",
    "\n",
    "# Check the type of character\n",
    "if char.isupper():\n",
    "    char_type = \"uppercase\"\n",
    "elif char.islower():\n",
    "    char_type = \"lowercase\"\n",
    "else:\n",
    "    char_type = \"special\"\n",
    "\n",
    "# Print the type of character\n",
    "print(f\"The character '{char}' is a {char_type} character.\")\n"
   ]
  },
  {
   "cell_type": "markdown",
   "id": "e3b1c9bf-3605-4af9-b1fb-60c78801d901",
   "metadata": {},
   "source": [
    "26. Implement a program to calculate the discounted price based on different purchase amounts using elif\n",
    "statements."
   ]
  },
  {
   "cell_type": "code",
   "execution_count": 9,
   "id": "b15511f7-9339-4c4a-94fa-9e9a273d2df6",
   "metadata": {},
   "outputs": [
    {
     "name": "stdin",
     "output_type": "stream",
     "text": [
      "Enter the purchase amount:  200\n"
     ]
    },
    {
     "name": "stdout",
     "output_type": "stream",
     "text": [
      "The discounted price is: $200.00\n"
     ]
    }
   ],
   "source": [
    "# Input the purchase amount from the user\n",
    "purchase_amount = float(input(\"Enter the purchase amount: \"))\n",
    "\n",
    "# Initialize the discount rate and discounted price\n",
    "discount_rate = 0\n",
    "discounted_price = purchase_amount\n",
    "\n",
    "# Determine the discount rate based on the purchase amount\n",
    "if purchase_amount >= 1000:\n",
    "    discount_rate = 0.1  # 10% discount for purchases of $1000 or more\n",
    "elif purchase_amount >= 500:\n",
    "    discount_rate = 0.05  # 5% discount for purchases between $500 and $999\n",
    "\n",
    "# Calculate the discounted price\n",
    "discounted_price -= purchase_amount * discount_rate\n",
    "\n",
    "# Print the discounted price\n",
    "print(f\"The discounted price is: ${discounted_price:.2f}\")\n"
   ]
  },
  {
   "cell_type": "markdown",
   "id": "9e92b1d9-ed4e-4d95-888a-156e171a28df",
   "metadata": {},
   "source": [
    "27. Develop a program to calculate the electricity bill based on different consumption slabs using elif\n",
    "statements."
   ]
  },
  {
   "cell_type": "code",
   "execution_count": 12,
   "id": "47329281-92a4-48d3-a036-41c15eb8a1f1",
   "metadata": {},
   "outputs": [
    {
     "name": "stdin",
     "output_type": "stream",
     "text": [
      "Enter the electricity consumption in kWh:  180\n"
     ]
    },
    {
     "name": "stdout",
     "output_type": "stream",
     "text": [
      "The electricity bill is: $22.00\n"
     ]
    }
   ],
   "source": [
    "# Input the electricity consumption in kilowatt-hours (kWh) from the user\n",
    "consumption = float(input(\"Enter the electricity consumption in kWh: \"))\n",
    "\n",
    "# Initialize variables for rates and total bill\n",
    "rate1 = 0.10  # Rate for the first 100 kWh\n",
    "rate2 = 0.15  # Rate for the next 200 kWh\n",
    "rate3 = 0.20  # Rate for consumption exceeding 300 kWh\n",
    "total_bill = 0.0\n",
    "\n",
    "# Calculate the electricity bill based on consumption slabs\n",
    "if consumption <= 100:\n",
    "    total_bill = consumption * rate1\n",
    "elif consumption <= 300:\n",
    "    total_bill = 100 * rate1 + (consumption - 100) * rate2\n",
    "else:\n",
    "    total_bill = 100 * rate1 + 200 * rate2 + (consumption - 300) * rate3\n",
    "\n",
    "# Print the total electricity bill\n",
    "print(f\"The electricity bill is: ${total_bill:.2f}\")\n"
   ]
  },
  {
   "cell_type": "markdown",
   "id": "7bd6a104-302c-40eb-8f64-2c7a1bc19d48",
   "metadata": {},
   "source": [
    "28. Create a program to determine the type of quadrilateral based on its angles and sides using elif\n",
    "statements."
   ]
  },
  {
   "cell_type": "code",
   "execution_count": 13,
   "id": "af2f94b4-204e-42af-ada4-5c594aba5257",
   "metadata": {},
   "outputs": [
    {
     "name": "stdin",
     "output_type": "stream",
     "text": [
      "Enter the length of side 1:  20\n",
      "Enter the length of side 2:  20\n",
      "Enter the length of side 3:  20\n",
      "Enter the length of side 4:  20\n",
      "Enter the measure of angle 1 (in degrees):  90\n",
      "Enter the measure of angle 2 (in degrees):  90\n",
      "Enter the measure of angle 3 (in degrees):  90\n",
      "Enter the measure of angle 4 (in degrees):  90\n"
     ]
    },
    {
     "name": "stdout",
     "output_type": "stream",
     "text": [
      "The quadrilateral is a square.\n"
     ]
    }
   ],
   "source": [
    "# Input the lengths of the four sides of the quadrilateral\n",
    "side1 = float(input(\"Enter the length of side 1: \"))\n",
    "side2 = float(input(\"Enter the length of side 2: \"))\n",
    "side3 = float(input(\"Enter the length of side 3: \"))\n",
    "side4 = float(input(\"Enter the length of side 4: \"))\n",
    "\n",
    "# Input the measures of the four angles of the quadrilateral\n",
    "angle1 = float(input(\"Enter the measure of angle 1 (in degrees): \"))\n",
    "angle2 = float(input(\"Enter the measure of angle 2 (in degrees): \"))\n",
    "angle3 = float(input(\"Enter the measure of angle 3 (in degrees): \"))\n",
    "angle4 = float(input(\"Enter the measure of angle 4 (in degrees): \"))\n",
    "\n",
    "# Check the type of quadrilateral based on angles and sides\n",
    "if side1 == side2 == side3 == side4:\n",
    "    if angle1 == angle2 == angle3 == angle4 == 90:\n",
    "        quadrilateral_type = \"square\"\n",
    "    else:\n",
    "        quadrilateral_type = \"rhombus\"\n",
    "elif side1 == side3 and side2 == side4:\n",
    "    if angle1 == angle3 == 90 and angle2 == angle4 == 90:\n",
    "        quadrilateral_type = \"rectangle\"\n",
    "    else:\n",
    "        quadrilateral_type = \"parallelogram\"\n",
    "else:\n",
    "    quadrilateral_type = \"quadrilateral\"\n",
    "\n",
    "# Print the type of quadrilateral\n",
    "print(f\"The quadrilateral is a {quadrilateral_type}.\")\n"
   ]
  },
  {
   "cell_type": "markdown",
   "id": "386c3e1c-480c-45c2-b01f-a77a6ebe099f",
   "metadata": {},
   "source": [
    "29. Write a Python script to determine the season based on a user-provided month using elif statements."
   ]
  },
  {
   "cell_type": "code",
   "execution_count": 15,
   "id": "5b9decff-2847-44fc-b15c-17bd2c695dfc",
   "metadata": {},
   "outputs": [
    {
     "name": "stdin",
     "output_type": "stream",
     "text": [
      "Enter a month (e.g., January, February, etc.):  July\n"
     ]
    },
    {
     "name": "stdout",
     "output_type": "stream",
     "text": [
      "The season for July is Summer.\n"
     ]
    }
   ],
   "source": [
    "# Get the month from the user\n",
    "user_month = input(\"Enter a month (e.g., January, February, etc.): \")\n",
    "\n",
    "# Convert the user input to lowercase for case-insensitive comparison\n",
    "user_month = user_month.lower()\n",
    "\n",
    "# Check the user's input and determine the season\n",
    "if user_month in [\"december\", \"january\", \"february\"]:\n",
    "    season = \"Winter\"\n",
    "elif user_month in [\"march\", \"april\", \"may\"]:\n",
    "    season = \"Spring\"\n",
    "elif user_month in [\"june\", \"july\", \"august\"]:\n",
    "    season = \"Summer\"\n",
    "elif user_month in [\"september\", \"october\", \"november\"]:\n",
    "    season = \"Autumn (Fall)\"\n",
    "else:\n",
    "    season = \"Invalid month\"\n",
    "\n",
    "# Display the result\n",
    "if season != \"Invalid month\":\n",
    "    print(f\"The season for {user_month.capitalize()} is {season}.\")\n",
    "else:\n",
    "    print(\"Invalid input. Please enter a valid month.\")\n"
   ]
  },
  {
   "cell_type": "markdown",
   "id": "c739a4d9-cb62-47dc-8bdf-16c7e16143e3",
   "metadata": {},
   "source": [
    "30. Implement a program to determine the type of a year (leap or common) and month (30 or 31 days) using\n",
    "elif statements."
   ]
  },
  {
   "cell_type": "code",
   "execution_count": 17,
   "id": "27126aa5-22c7-4956-9621-10e7dde901a7",
   "metadata": {},
   "outputs": [
    {
     "name": "stdin",
     "output_type": "stream",
     "text": [
      "Enter a year:  1998\n",
      "Enter a month (e.g., January, February, etc.):  october\n"
     ]
    },
    {
     "name": "stdout",
     "output_type": "stream",
     "text": [
      "October in 1998 is a Common year and has 31 days.\n"
     ]
    }
   ],
   "source": [
    "# Get the year and month from the user\n",
    "year = int(input(\"Enter a year: \"))\n",
    "month = input(\"Enter a month (e.g., January, February, etc.): \")\n",
    "\n",
    "# Convert the month input to lowercase for case-insensitive comparison\n",
    "month = month.lower()\n",
    "\n",
    "# Check if the year is leap or common\n",
    "if (year % 4 == 0 and year % 100 != 0) or (year % 400 == 0):\n",
    "    year_type = \"Leap\"\n",
    "else:\n",
    "    year_type = \"Common\"\n",
    "\n",
    "# Determine the number of days in the month\n",
    "if month in [\"january\", \"march\", \"may\", \"july\", \"august\", \"october\", \"december\"]:\n",
    "    days = 31\n",
    "elif month in [\"april\", \"june\", \"september\", \"november\"]:\n",
    "    days = 30\n",
    "elif month == \"february\":\n",
    "    if year_type == \"Leap\":\n",
    "        days = 29\n",
    "    else:\n",
    "        days = 28\n",
    "else:\n",
    "    days = \"Invalid month\"\n",
    "\n",
    "# Display the result\n",
    "if days != \"Invalid month\":\n",
    "    print(f\"{month.capitalize()} in {year} is a {year_type} year and has {days} days.\")\n",
    "else:\n",
    "    print(\"Invalid input. Please enter a valid month.\")\n"
   ]
  },
  {
   "cell_type": "markdown",
   "id": "2eb4545a-8ac9-43eb-8019-6af3e30d911f",
   "metadata": {},
   "source": [
    "### **Basic Level:**\n",
    "---\n",
    "---"
   ]
  },
  {
   "cell_type": "markdown",
   "id": "d4c22cad-9229-4326-a1b9-e9080494eaf2",
   "metadata": {},
   "source": [
    "1. Write a Python program that checks if a given number is positive, negative, or zero."
   ]
  },
  {
   "cell_type": "code",
   "execution_count": 19,
   "id": "ccb80d99-8cc5-4529-90e5-9cdca77a7524",
   "metadata": {},
   "outputs": [
    {
     "name": "stdout",
     "output_type": "stream",
     "text": [
      "The number is negative.\n"
     ]
    }
   ],
   "source": [
    "# Input a number from the user\n",
    "number = -6\n",
    "\n",
    "# Check if the number is positive, negative, or zero\n",
    "if number > 0:\n",
    "    print(\"The number is positive.\")\n",
    "elif number < 0:\n",
    "    print(\"The number is negative.\")\n",
    "else:\n",
    "    print(\"The number is zero.\")"
   ]
  },
  {
   "cell_type": "markdown",
   "id": "f263fabb-7b00-450f-91e5-11881796a7f2",
   "metadata": {},
   "source": [
    "2. Create a program to determine if a person is eligible to vote based on their age."
   ]
  },
  {
   "cell_type": "code",
   "execution_count": 21,
   "id": "20d8f4b4-f09e-4390-b33c-6cede3869d40",
   "metadata": {},
   "outputs": [
    {
     "name": "stdout",
     "output_type": "stream",
     "text": [
      "You are not eligible to vote yet.\n"
     ]
    }
   ],
   "source": [
    "# Input the person's age\n",
    "age = 16\n",
    "\n",
    "# Check if the person is eligible to vote\n",
    "if age >= 18:\n",
    "    print(\"You are eligible to vote.\")\n",
    "else:\n",
    "    print(\"You are not eligible to vote yet.\")"
   ]
  },
  {
   "cell_type": "markdown",
   "id": "660d3866-7339-4935-8bd5-e698252327b4",
   "metadata": {},
   "source": [
    "3. Write a program to find the maximum of two given numbers using conditional statements."
   ]
  },
  {
   "cell_type": "code",
   "execution_count": 20,
   "id": "3f340f9e-a343-4731-bf1d-fe1dd5aebcb9",
   "metadata": {},
   "outputs": [
    {
     "name": "stdout",
     "output_type": "stream",
     "text": [
      "The maximum number is: 23\n"
     ]
    }
   ],
   "source": [
    "# Input two numbers from the user\n",
    "num1 = 23\n",
    "num2 = 14\n",
    "\n",
    "# Compare the two numbers to find the maximum\n",
    "if num1 > num2:\n",
    "    maximum = num1\n",
    "else:\n",
    "    maximum = num2\n",
    "\n",
    "# Print the maximum number\n",
    "print(\"The maximum number is:\", maximum)"
   ]
  },
  {
   "cell_type": "markdown",
   "id": "bad8573f-7b04-464e-b39f-e00b3e77068b",
   "metadata": {},
   "source": [
    "4. Develop a program that calculates the grade of a student based on their exam score."
   ]
  },
  {
   "cell_type": "code",
   "execution_count": 22,
   "id": "ff9bc180-7d10-4bf6-84d7-82e061febbe6",
   "metadata": {},
   "outputs": [
    {
     "name": "stdin",
     "output_type": "stream",
     "text": [
      "Enter the student's score (0-100):  87\n"
     ]
    },
    {
     "name": "stdout",
     "output_type": "stream",
     "text": [
      "The student's grade is: B\n"
     ]
    }
   ],
   "source": [
    "# Input the student's score from the user\n",
    "score = float(input(\"Enter the student's score (0-100): \"))\n",
    "\n",
    "# Check the score and determine the grade\n",
    "if 0 <= score <= 100:\n",
    "    if score >= 90:\n",
    "        grade = 'A'\n",
    "    elif score >= 80:\n",
    "        grade = 'B'\n",
    "    elif score >= 70:\n",
    "        grade = 'C'\n",
    "    elif score >= 60:\n",
    "        grade = 'D'\n",
    "    else:\n",
    "        grade = 'F'\n",
    "    \n",
    "    # Print the grade\n",
    "    print(f\"The student's grade is: {grade}\")\n",
    "else:\n",
    "    print(\"Invalid score. Please enter a score between 0 and 100.\")"
   ]
  },
  {
   "cell_type": "markdown",
   "id": "ea02bc44-13d8-4643-99dc-d3d1f8924852",
   "metadata": {},
   "source": [
    "5. Create a program that checks if a year is a leap year or not."
   ]
  },
  {
   "cell_type": "code",
   "execution_count": 3,
   "id": "e29f47cd-a48c-4e34-af0e-114a7d12818e",
   "metadata": {},
   "outputs": [
    {
     "name": "stdin",
     "output_type": "stream",
     "text": [
      "Enter a year:  2000\n"
     ]
    },
    {
     "name": "stdout",
     "output_type": "stream",
     "text": [
      "2000 is a leap year.\n"
     ]
    }
   ],
   "source": [
    "# Get the year from the user\n",
    "year = int(input(\"Enter a year: \"))\n",
    "\n",
    "# Check if it's a leap year\n",
    "if (year % 4 == 0 and year % 100 != 0) or (year % 400 == 0):\n",
    "    print(f\"{year} is a leap year.\")\n",
    "else:\n",
    "    print(f\"{year} is not a leap year.\")\n"
   ]
  },
  {
   "cell_type": "markdown",
   "id": "bd43525d-284a-4179-a5fa-d00f8e629039",
   "metadata": {},
   "source": [
    "6. Write a program to classify a triangle based on its sides' lengths."
   ]
  },
  {
   "cell_type": "code",
   "execution_count": 4,
   "id": "e37fbff1-045b-4f59-9465-eac873c348f3",
   "metadata": {},
   "outputs": [
    {
     "name": "stdin",
     "output_type": "stream",
     "text": [
      "Enter the length of the first side:  4\n",
      "Enter the length of the second side:  4\n",
      "Enter the length of the third side:  4\n"
     ]
    },
    {
     "name": "stdout",
     "output_type": "stream",
     "text": [
      "The triangle with side lengths 4.0, 4.0, and 4.0 is a Equilateral triangle.\n"
     ]
    }
   ],
   "source": [
    "# Get the lengths of the three sides from the user\n",
    "side1 = float(input(\"Enter the length of the first side: \"))\n",
    "side2 = float(input(\"Enter the length of the second side: \"))\n",
    "side3 = float(input(\"Enter the length of the third side: \"))\n",
    "\n",
    "# Check the triangle classification\n",
    "if side1 == side2 == side3:\n",
    "    triangle_type = \"Equilateral\"\n",
    "elif side1 == side2 or side1 == side3 or side2 == side3:\n",
    "    triangle_type = \"Isosceles\"\n",
    "else:\n",
    "    triangle_type = \"Scalene\"\n",
    "\n",
    "# Check if it's a valid triangle\n",
    "if side1 + side2 > side3 and side1 + side3 > side2 and side2 + side3 > side1:\n",
    "    print(f\"The triangle with side lengths {side1}, {side2}, and {side3} is a {triangle_type} triangle.\")\n",
    "else:\n",
    "    print(\"These side lengths cannot form a valid triangle.\")\n"
   ]
  },
  {
   "cell_type": "markdown",
   "id": "c98eee49-b2f1-47a5-8112-74a240c0d67a",
   "metadata": {},
   "source": [
    "7. Build a program that determines the largest of three given numbers."
   ]
  },
  {
   "cell_type": "code",
   "execution_count": 5,
   "id": "99f71f18-a9d9-466b-87b9-7af4f918cc0d",
   "metadata": {},
   "outputs": [
    {
     "name": "stdin",
     "output_type": "stream",
     "text": [
      "Enter the first number:  10\n",
      "Enter the second number:  20\n",
      "Enter the third number:  30\n"
     ]
    },
    {
     "name": "stdout",
     "output_type": "stream",
     "text": [
      "The largest number is 30.0.\n"
     ]
    }
   ],
   "source": [
    "# Get three numbers from the user\n",
    "num1 = float(input(\"Enter the first number: \"))\n",
    "num2 = float(input(\"Enter the second number: \"))\n",
    "num3 = float(input(\"Enter the third number: \"))\n",
    "\n",
    "# Determine the largest number using conditional statements\n",
    "if num1 >= num2 and num1 >= num3:\n",
    "    largest = num1\n",
    "elif num2 >= num1 and num2 >= num3:\n",
    "    largest = num2\n",
    "else:\n",
    "    largest = num3\n",
    "\n",
    "# Display the result\n",
    "print(f\"The largest number is {largest}.\")\n"
   ]
  },
  {
   "cell_type": "markdown",
   "id": "9e158ccd-ba45-4c3d-be87-1fbe361eeb94",
   "metadata": {},
   "source": [
    "8. Develop a program that checks whether a character is a vowel or a consonant."
   ]
  },
  {
   "cell_type": "code",
   "execution_count": 6,
   "id": "b2c92993-efe6-4f43-a823-7669eef4e0b8",
   "metadata": {},
   "outputs": [
    {
     "name": "stdin",
     "output_type": "stream",
     "text": [
      "Enter a character:  d\n"
     ]
    },
    {
     "name": "stdout",
     "output_type": "stream",
     "text": [
      "d is a consonant.\n"
     ]
    }
   ],
   "source": [
    "# Get a character from the user\n",
    "char = input(\"Enter a character: \")\n",
    "\n",
    "# Convert the character to lowercase to handle both uppercase and lowercase input\n",
    "char = char.lower()\n",
    "\n",
    "# Check if the input is a single character and whether it's a vowel or a consonant\n",
    "if len(char) == 1 and char.isalpha():\n",
    "    if char in \"aeiou\":\n",
    "        print(f\"{char} is a vowel.\")\n",
    "    else:\n",
    "        print(f\"{char} is a consonant.\")\n",
    "else:\n",
    "    print(\"Please enter a valid single character.\")\n"
   ]
  },
  {
   "cell_type": "markdown",
   "id": "3e15285e-a9cb-47b6-abac-b39a960f0e76",
   "metadata": {},
   "source": [
    "9. Create a program to calculate the total cost of a shopping cart based on discounts."
   ]
  },
  {
   "cell_type": "code",
   "execution_count": 7,
   "id": "e5df1bbf-e253-456d-b72d-f48202240f48",
   "metadata": {},
   "outputs": [
    {
     "name": "stdout",
     "output_type": "stream",
     "text": [
      "Subtotal: $260.00\n",
      "Discount: $26.00\n",
      "Total Cost: $234.00\n"
     ]
    }
   ],
   "source": [
    "# Define the prices and quantities of items in the shopping cart\n",
    "item_prices = {\n",
    "    \"item1\": 10.0,\n",
    "    \"item2\": 20.0,\n",
    "    \"item3\": 30.0,\n",
    "    \"item4\": 40.0,\n",
    "}\n",
    "\n",
    "item_quantities = {\n",
    "    \"item1\": 3,\n",
    "    \"item2\": 2,\n",
    "    \"item3\": 1,\n",
    "    \"item4\": 4,\n",
    "}\n",
    "\n",
    "# Define discount thresholds and rates\n",
    "discount_threshold = 100.0\n",
    "discount_rate = 0.1  # 10% discount for orders over $100\n",
    "\n",
    "# Calculate the subtotal and apply discounts if applicable\n",
    "subtotal = sum(item_prices[item] * item_quantities[item] for item in item_prices)\n",
    "discount = 0.0\n",
    "\n",
    "if subtotal >= discount_threshold:\n",
    "    discount = subtotal * discount_rate\n",
    "\n",
    "# Calculate the total cost\n",
    "total_cost = subtotal - discount\n",
    "\n",
    "# Display the results\n",
    "print(f\"Subtotal: ${subtotal:.2f}\")\n",
    "print(f\"Discount: ${discount:.2f}\")\n",
    "print(f\"Total Cost: ${total_cost:.2f}\")\n"
   ]
  },
  {
   "cell_type": "markdown",
   "id": "1a6f901a-cd42-4781-afd7-01c122d88a51",
   "metadata": {},
   "source": [
    "10. Write a program that checks if a given number is even or odd."
   ]
  },
  {
   "cell_type": "code",
   "execution_count": 8,
   "id": "3bd9bbd2-4504-4336-a5fe-ee1d5f6f3ed7",
   "metadata": {},
   "outputs": [
    {
     "name": "stdin",
     "output_type": "stream",
     "text": [
      "Enter a number:  4\n"
     ]
    },
    {
     "name": "stdout",
     "output_type": "stream",
     "text": [
      "4 is even.\n"
     ]
    }
   ],
   "source": [
    "# Get a number from the user\n",
    "number = int(input(\"Enter a number: \"))\n",
    "\n",
    "# Check if the number is even or odd\n",
    "if number % 2 == 0:\n",
    "    print(f\"{number} is even.\")\n",
    "else:\n",
    "    print(f\"{number} is odd.\")\n"
   ]
  },
  {
   "cell_type": "markdown",
   "id": "2989bd0d-82e2-4b0d-ad21-f4299fd0d5ea",
   "metadata": {},
   "source": [
    "### **Intermediate Level:**\n",
    "---\n",
    "---"
   ]
  },
  {
   "cell_type": "markdown",
   "id": "500b40b6-5c7f-45fe-bfbf-b3eb5b87e70e",
   "metadata": {},
   "source": [
    "11. Write a program that calculates the roots of a quadratic equation ."
   ]
  },
  {
   "cell_type": "code",
   "execution_count": 9,
   "id": "26e6bb38-4eaf-4972-a202-af328db86223",
   "metadata": {},
   "outputs": [
    {
     "name": "stdin",
     "output_type": "stream",
     "text": [
      "Enter the coefficient 'a':  2\n",
      "Enter the coefficient 'b':  8\n",
      "Enter the coefficient 'c':  3\n"
     ]
    },
    {
     "name": "stdout",
     "output_type": "stream",
     "text": [
      "Root 1: -0.41886116991581024\n",
      "Root 2: -3.58113883008419\n"
     ]
    }
   ],
   "source": [
    "import math\n",
    "\n",
    "# Get the coefficients from the user\n",
    "a = float(input(\"Enter the coefficient 'a': \"))\n",
    "b = float(input(\"Enter the coefficient 'b': \"))\n",
    "c = float(input(\"Enter the coefficient 'c': \"))\n",
    "\n",
    "# Calculate the discriminant (D)\n",
    "D = b**2 - 4*a*c\n",
    "\n",
    "# Check the value of the discriminant to determine the type of roots\n",
    "if D > 0:\n",
    "    # Two distinct real roots\n",
    "    root1 = (-b + math.sqrt(D)) / (2*a)\n",
    "    root2 = (-b - math.sqrt(D)) / (2*a)\n",
    "    print(f\"Root 1: {root1}\")\n",
    "    print(f\"Root 2: {root2}\")\n",
    "elif D == 0:\n",
    "    # One real root (a repeated root)\n",
    "    root = -b / (2*a)\n",
    "    print(f\"Root: {root}\")\n",
    "else:\n",
    "    # Complex roots\n",
    "    real_part = -b / (2*a)\n",
    "    imaginary_part = math.sqrt(abs(D)) / (2*a)\n",
    "    print(f\"Root 1: {real_part} + {imaginary_part}i\")\n",
    "    print(f\"Root 2: {real_part} - {imaginary_part}i\")\n"
   ]
  },
  {
   "cell_type": "markdown",
   "id": "b1ab3054-2921-432a-8c4f-1815f2047546",
   "metadata": {},
   "source": [
    "12. Create a program that determines the day of the week based on the day number (1-7)."
   ]
  },
  {
   "cell_type": "code",
   "execution_count": 11,
   "id": "976cdf1d-7dc2-46ec-8c97-03a40a404829",
   "metadata": {},
   "outputs": [
    {
     "name": "stdin",
     "output_type": "stream",
     "text": [
      "Enter a day number (1-7):  5\n"
     ]
    },
    {
     "name": "stdout",
     "output_type": "stream",
     "text": [
      "The day corresponding to day number 5 is Thursday.\n"
     ]
    }
   ],
   "source": [
    "# Get the day number from the user (1-7)\n",
    "day_number = int(input(\"Enter a day number (1-7): \"))\n",
    "\n",
    "# Define a dictionary to map day numbers to day names\n",
    "day_names = {\n",
    "    1: \"Sunday\",\n",
    "    2: \"Monday\",\n",
    "    3: \"Tuesday\",\n",
    "    4: \"Wednesday\",\n",
    "    5: \"Thursday\",\n",
    "    6: \"Friday\",\n",
    "    7: \"Saturday\",\n",
    "}\n",
    "\n",
    "# Check if the day number is within the valid range\n",
    "if 1 <= day_number <= 7:\n",
    "    day_name = day_names[day_number]\n",
    "    print(f\"The day corresponding to day number {day_number} is {day_name}.\")\n",
    "else:\n",
    "    print(\"Invalid day number. Please enter a number between 1 and 7.\")\n"
   ]
  },
  {
   "cell_type": "markdown",
   "id": "3fd4c116-1652-4aaa-9be5-4a177bcf4128",
   "metadata": {},
   "source": [
    "13. Develop a program that calculates the factorial of a given number using recursion."
   ]
  },
  {
   "cell_type": "code",
   "execution_count": 1,
   "id": "b59a2944-eb18-4170-8a6e-c9d65cf3539d",
   "metadata": {},
   "outputs": [
    {
     "name": "stdin",
     "output_type": "stream",
     "text": [
      "Enter a number:  4\n"
     ]
    },
    {
     "name": "stdout",
     "output_type": "stream",
     "text": [
      "The factorial of 4 is 24.\n"
     ]
    }
   ],
   "source": [
    "# Function to calculate the factorial of a number using recursion\n",
    "def factorial(n):\n",
    "    if n == 0:\n",
    "        return 1  # Base case: factorial of 0 is 1\n",
    "    else:\n",
    "        return n * factorial(n - 1)\n",
    "\n",
    "# Get the number from the user\n",
    "num = int(input(\"Enter a number: \"))\n",
    "\n",
    "# Check if the number is non-negative\n",
    "if num < 0:\n",
    "    print(\"Factorial is undefined for negative numbers.\")\n",
    "else:\n",
    "    result = factorial(num)\n",
    "    print(f\"The factorial of {num} is {result}.\")\n"
   ]
  },
  {
   "cell_type": "markdown",
   "id": "46a0411b-02d6-4dae-af9d-8098c1c87253",
   "metadata": {},
   "source": [
    "14. Write a program to find the largest among three numbers without using the `max()` function."
   ]
  },
  {
   "cell_type": "code",
   "execution_count": 2,
   "id": "b182ad75-85ec-46db-9b8d-7806a34a22bb",
   "metadata": {},
   "outputs": [
    {
     "name": "stdin",
     "output_type": "stream",
     "text": [
      "Enter the first number:  10\n",
      "Enter the second number:  20\n",
      "Enter the third number:  30\n"
     ]
    },
    {
     "name": "stdout",
     "output_type": "stream",
     "text": [
      "The largest number among 10.0, 20.0, and 30.0 is 30.0.\n"
     ]
    }
   ],
   "source": [
    "# Get three numbers from the user\n",
    "num1 = float(input(\"Enter the first number: \"))\n",
    "num2 = float(input(\"Enter the second number: \"))\n",
    "num3 = float(input(\"Enter the third number: \"))\n",
    "\n",
    "# Assume the first number is the largest initially\n",
    "largest = num1\n",
    "\n",
    "# Compare the second and third numbers to find the largest\n",
    "if num2 > largest:\n",
    "    largest = num2\n",
    "\n",
    "if num3 > largest:\n",
    "    largest = num3\n",
    "\n",
    "# Display the result\n",
    "print(f\"The largest number among {num1}, {num2}, and {num3} is {largest}.\")\n"
   ]
  },
  {
   "cell_type": "markdown",
   "id": "d43ece83-d62a-4f73-9d4e-6a5146cb698c",
   "metadata": {},
   "source": [
    "15. Create a program that simulates a basic ATM transaction menu."
   ]
  },
  {
   "cell_type": "code",
   "execution_count": 3,
   "id": "da4772a2-090d-4632-870b-b085a9a9ad8a",
   "metadata": {},
   "outputs": [
    {
     "name": "stdout",
     "output_type": "stream",
     "text": [
      "\n",
      "ATM Menu:\n",
      "1. Display Balance\n",
      "2. Deposit Money\n",
      "3. Withdraw Money\n",
      "4. Quit\n"
     ]
    },
    {
     "name": "stdin",
     "output_type": "stream",
     "text": [
      "Enter your choice (1/2/3/4):  2\n",
      "Enter the amount to deposit: $ 100\n"
     ]
    },
    {
     "name": "stdout",
     "output_type": "stream",
     "text": [
      "$100.00 has been deposited successfully.\n",
      "\n",
      "ATM Menu:\n",
      "1. Display Balance\n",
      "2. Deposit Money\n",
      "3. Withdraw Money\n",
      "4. Quit\n"
     ]
    },
    {
     "name": "stdin",
     "output_type": "stream",
     "text": [
      "Enter your choice (1/2/3/4):  1\n"
     ]
    },
    {
     "name": "stdout",
     "output_type": "stream",
     "text": [
      "Your account balance is $1100.00\n",
      "\n",
      "ATM Menu:\n",
      "1. Display Balance\n",
      "2. Deposit Money\n",
      "3. Withdraw Money\n",
      "4. Quit\n"
     ]
    },
    {
     "name": "stdin",
     "output_type": "stream",
     "text": [
      "Enter your choice (1/2/3/4):  4\n"
     ]
    },
    {
     "name": "stdout",
     "output_type": "stream",
     "text": [
      "Thank you for using the ATM. Have a nice day!\n"
     ]
    }
   ],
   "source": [
    "# Initialize the account balance\n",
    "account_balance = 1000.00\n",
    "\n",
    "# Function to display the account balance\n",
    "def display_balance():\n",
    "    print(f\"Your account balance is ${account_balance:.2f}\")\n",
    "\n",
    "# Function to deposit money\n",
    "def deposit():\n",
    "    global account_balance\n",
    "    amount = float(input(\"Enter the amount to deposit: $\"))\n",
    "    if amount > 0:\n",
    "        account_balance += amount\n",
    "        print(f\"${amount:.2f} has been deposited successfully.\")\n",
    "    else:\n",
    "        print(\"Invalid amount. Please enter a positive value.\")\n",
    "\n",
    "# Function to withdraw money\n",
    "def withdraw():\n",
    "    global account_balance\n",
    "    amount = float(input(\"Enter the amount to withdraw: $\"))\n",
    "    if 0 < amount <= account_balance:\n",
    "        account_balance -= amount\n",
    "        print(f\"${amount:.2f} has been withdrawn successfully.\")\n",
    "    elif amount > account_balance:\n",
    "        print(\"Insufficient funds.\")\n",
    "    else:\n",
    "        print(\"Invalid amount. Please enter a positive value.\")\n",
    "\n",
    "# Main program loop\n",
    "while True:\n",
    "    print(\"\\nATM Menu:\")\n",
    "    print(\"1. Display Balance\")\n",
    "    print(\"2. Deposit Money\")\n",
    "    print(\"3. Withdraw Money\")\n",
    "    print(\"4. Quit\")\n",
    "\n",
    "    choice = input(\"Enter your choice (1/2/3/4): \")\n",
    "\n",
    "    if choice == \"1\":\n",
    "        display_balance()\n",
    "    elif choice == \"2\":\n",
    "        deposit()\n",
    "    elif choice == \"3\":\n",
    "        withdraw()\n",
    "    elif choice == \"4\":\n",
    "        print(\"Thank you for using the ATM. Have a nice day!\")\n",
    "        break\n",
    "    else:\n",
    "        print(\"Invalid choice. Please select a valid option.\")\n"
   ]
  },
  {
   "cell_type": "markdown",
   "id": "e9f3984c-9147-4b1a-909d-1ce870eb3a49",
   "metadata": {},
   "source": [
    "16. Build a program that checks if a given string is a palindrome or not."
   ]
  },
  {
   "cell_type": "code",
   "execution_count": 4,
   "id": "78ceccfc-0a98-41c7-be40-f22a1eeb9727",
   "metadata": {},
   "outputs": [
    {
     "name": "stdin",
     "output_type": "stream",
     "text": [
      "Enter a string:  aawaa\n"
     ]
    },
    {
     "name": "stdout",
     "output_type": "stream",
     "text": [
      "'aawaa' is a palindrome.\n"
     ]
    }
   ],
   "source": [
    "# Get a string from the user\n",
    "user_input = input(\"Enter a string: \")\n",
    "\n",
    "# Remove spaces and convert to lowercase for case-insensitive comparison\n",
    "input_string = user_input.replace(\" \", \"\").lower()\n",
    "\n",
    "# Check if it's a palindrome\n",
    "if input_string == input_string[::-1]:\n",
    "    print(f\"'{user_input}' is a palindrome.\")\n",
    "else:\n",
    "    print(f\"'{user_input}' is not a palindrome.\")\n"
   ]
  },
  {
   "cell_type": "markdown",
   "id": "d7c0f2fa-be84-4f54-bbd8-443ced3ee67b",
   "metadata": {},
   "source": [
    "17. Write a program that calculates the average of a list of numbers, excluding the smallest and largest values."
   ]
  },
  {
   "cell_type": "code",
   "execution_count": 6,
   "id": "9b96494c-d863-4bf8-bf96-37ab3c046064",
   "metadata": {
    "tags": []
   },
   "outputs": [
    {
     "name": "stdin",
     "output_type": "stream",
     "text": [
      "Enter a list of numbers separated by spaces:  12 25 27\n"
     ]
    },
    {
     "name": "stdout",
     "output_type": "stream",
     "text": [
      "The average of the numbers (excluding the smallest and largest) is: 25.00\n"
     ]
    }
   ],
   "source": [
    "## Get a list of numbers from the user\n",
    "num_list = input(\"Enter a list of numbers separated by spaces: \").split()\n",
    "\n",
    "# Convert the input strings to floats\n",
    "num_list = [float(num) for num in num_list]\n",
    "\n",
    "# Check if there are enough numbers in the list\n",
    "if len(num_list) < 3:\n",
    "    print(\"You must enter at least 3 numbers for calculation.\")\n",
    "else:\n",
    "    # Exclude the smallest and largest values\n",
    "    num_list.remove(min(num_list))\n",
    "    num_list.remove(max(num_list))\n",
    "\n",
    "    # Calculate the average of the remaining numbers\n",
    "    average = sum(num_list) / len(num_list)\n",
    "    print(f\"The average of the numbers (excluding the smallest and largest) is: {average:.2f}\")\n"
   ]
  },
  {
   "cell_type": "code",
   "execution_count": 7,
   "id": "37b3af26-4f7d-4c04-b31c-cf02f10ee78c",
   "metadata": {},
   "outputs": [
    {
     "name": "stdin",
     "output_type": "stream",
     "text": [
      "Enter the temperature in Celsius:  98\n"
     ]
    },
    {
     "name": "stdout",
     "output_type": "stream",
     "text": [
      "98.0 degrees Celsius is equal to 208.40 degrees Fahrenheit.\n"
     ]
    }
   ],
   "source": [
    "\n",
    "#Fahrenheit = (Celsius * 9/5) + 32\n",
    "# Get the temperature in Celsius from the user\n",
    "celsius = float(input(\"Enter the temperature in Celsius: \"))\n",
    "\n",
    "# Convert Celsius to Fahrenheit\n",
    "fahrenheit = (celsius * 9/5) + 32\n",
    "\n",
    "# Display the result\n",
    "print(f\"{celsius} degrees Celsius is equal to {fahrenheit:.2f} degrees Fahrenheit.\")\n"
   ]
  },
  {
   "cell_type": "code",
   "execution_count": 8,
   "id": "01bb8cf6-ec17-456d-b90e-70769fcb9de6",
   "metadata": {},
   "outputs": [
    {
     "name": "stdout",
     "output_type": "stream",
     "text": [
      "\n",
      "Calculator Menu:\n",
      "1. Addition\n",
      "2. Subtraction\n",
      "3. Multiplication\n",
      "4. Division\n",
      "5. Quit\n"
     ]
    },
    {
     "name": "stdin",
     "output_type": "stream",
     "text": [
      "Enter your choice (1/2/3/4/5):  6\n"
     ]
    },
    {
     "name": "stdout",
     "output_type": "stream",
     "text": [
      "Invalid choice. Please select a valid option.\n",
      "\n",
      "Calculator Menu:\n",
      "1. Addition\n",
      "2. Subtraction\n",
      "3. Multiplication\n",
      "4. Division\n",
      "5. Quit\n"
     ]
    },
    {
     "name": "stdin",
     "output_type": "stream",
     "text": [
      "Enter your choice (1/2/3/4/5):  1\n",
      "Enter the first number:  35\n",
      "Enter the second number:  67\n"
     ]
    },
    {
     "name": "stdout",
     "output_type": "stream",
     "text": [
      "The result of addition is: 102.0\n",
      "\n",
      "Calculator Menu:\n",
      "1. Addition\n",
      "2. Subtraction\n",
      "3. Multiplication\n",
      "4. Division\n",
      "5. Quit\n"
     ]
    },
    {
     "name": "stdin",
     "output_type": "stream",
     "text": [
      "Enter your choice (1/2/3/4/5):  5\n"
     ]
    },
    {
     "name": "stdout",
     "output_type": "stream",
     "text": [
      "Calculator is quitting. Goodbye!\n"
     ]
    }
   ],
   "source": [
    "# Function to perform addition\n",
    "def add(x, y):\n",
    "    return x + y\n",
    "\n",
    "# Function to perform subtraction\n",
    "def subtract(x, y):\n",
    "    return x - y\n",
    "\n",
    "# Function to perform multiplication\n",
    "def multiply(x, y):\n",
    "    return x * y\n",
    "\n",
    "# Function to perform division\n",
    "def divide(x, y):\n",
    "    if y == 0:\n",
    "        return \"Division by zero is not allowed\"\n",
    "    return x / y\n",
    "\n",
    "# Main program loop\n",
    "while True:\n",
    "    print(\"\\nCalculator Menu:\")\n",
    "    print(\"1. Addition\")\n",
    "    print(\"2. Subtraction\")\n",
    "    print(\"3. Multiplication\")\n",
    "    print(\"4. Division\")\n",
    "    print(\"5. Quit\")\n",
    "\n",
    "    choice = input(\"Enter your choice (1/2/3/4/5): \")\n",
    "\n",
    "    if choice == \"5\":\n",
    "        print(\"Calculator is quitting. Goodbye!\")\n",
    "        break\n",
    "\n",
    "    if choice in (\"1\", \"2\", \"3\", \"4\"):\n",
    "        num1 = float(input(\"Enter the first number: \"))\n",
    "        num2 = float(input(\"Enter the second number: \"))\n",
    "\n",
    "        if choice == \"1\":\n",
    "            result = add(num1, num2)\n",
    "            operation = \"addition\"\n",
    "        elif choice == \"2\":\n",
    "            result = subtract(num1, num2)\n",
    "            operation = \"subtraction\"\n",
    "        elif choice == \"3\":\n",
    "            result = multiply(num1, num2)\n",
    "            operation = \"multiplication\"\n",
    "        elif choice == \"4\":\n",
    "            result = divide(num1, num2)\n",
    "            operation = \"division\"\n",
    "        \n",
    "        print(f\"The result of {operation} is: {result}\")\n",
    "    else:\n",
    "        print(\"Invalid choice. Please select a valid option.\")\n"
   ]
  },
  {
   "cell_type": "markdown",
   "id": "c23013bf-a808-4548-bc4d-3d29044b2005",
   "metadata": {},
   "source": [
    "20. Write a program that determines the roots of a cubic equation using the Cardano formula."
   ]
  },
  {
   "cell_type": "code",
   "execution_count": 9,
   "id": "dc226899-da63-4624-8d7e-e24c5a517a4f",
   "metadata": {},
   "outputs": [
    {
     "name": "stdin",
     "output_type": "stream",
     "text": [
      "Enter the coefficient 'a':  2\n",
      "Enter the coefficient 'b':  8\n",
      "Enter the coefficient 'c':  1\n",
      "Enter the coefficient 'd':  3\n"
     ]
    },
    {
     "name": "stdout",
     "output_type": "stream",
     "text": [
      "The roots of the cubic equation are:\n",
      "Root 1: 0.7742\n"
     ]
    }
   ],
   "source": [
    "import math\n",
    "\n",
    "# Function to find the cubic roots using the Cardano formula\n",
    "def find_cubic_roots(a, b, c, d):\n",
    "    # Calculate intermediate values\n",
    "    delta0 = b**2 - 3*a*c\n",
    "    delta1 = 2*b**3 - 9*a*b*c + 27*a**2*d\n",
    "\n",
    "    # Calculate the discriminant of the Cardano formula\n",
    "    discriminant = delta1**2 - 4*delta0**3\n",
    "\n",
    "    # Check for cases based on the discriminant\n",
    "    if discriminant > 0:\n",
    "        # One real root and two complex roots\n",
    "        root1 = (-b + (delta1 + discriminant**0.5)**(1/3)) / (3*a)\n",
    "        return [root1]\n",
    "    elif discriminant == 0:\n",
    "        # All three roots are real and at least two are equal\n",
    "        root1 = (-b - (delta1 + discriminant**0.5)**(1/3)) / (3*a)\n",
    "        root2 = root3 = (-b + 2*(delta1 + discriminant**0.5)**(1/3)) / (3*a)\n",
    "        return [root1, root2, root3]\n",
    "    else:\n",
    "        # All three roots are real and distinct\n",
    "        const = ((1/2)*(delta1 + discriminant**0.5))**(1/3)\n",
    "        root1 = (-b + const + (-3)**0.5 * (delta1 - discriminant**0.5)/(2*const)) / (3*a)\n",
    "        root2 = (-b + const - (-3)**0.5 * (delta1 - discriminant**0.5)/(2*const)) / (3*a)\n",
    "        root3 = (-b - 2*const) / (3*a)\n",
    "        return [root1, root2, root3]\n",
    "\n",
    "# Get coefficients from the user\n",
    "a = float(input(\"Enter the coefficient 'a': \"))\n",
    "b = float(input(\"Enter the coefficient 'b': \"))\n",
    "c = float(input(\"Enter the coefficient 'c': \"))\n",
    "d = float(input(\"Enter the coefficient 'd': \"))\n",
    "\n",
    "# Find and display the cubic roots\n",
    "roots = find_cubic_roots(a, b, c, d)\n",
    "print(\"The roots of the cubic equation are:\")\n",
    "for i, root in enumerate(roots):\n",
    "    print(f\"Root {i+1}: {root:.4f}\")\n"
   ]
  },
  {
   "cell_type": "markdown",
   "id": "6f80f4ec-618a-490d-a487-9e1780274fe0",
   "metadata": {},
   "source": [
    "### **Advanced Level:**\n",
    "---\n",
    "---"
   ]
  },
  {
   "cell_type": "markdown",
   "id": "f0a429ae-d7da-44b7-8755-13ab543b9001",
   "metadata": {},
   "source": [
    "21. Create a program that calculates the income tax based on the user's income and tax brackets."
   ]
  },
  {
   "cell_type": "code",
   "execution_count": 10,
   "id": "baa78c67-5012-4c2f-9137-205951c5c6bd",
   "metadata": {},
   "outputs": [
    {
     "name": "stdin",
     "output_type": "stream",
     "text": [
      "Enter your income:  200000\n"
     ]
    },
    {
     "name": "stdout",
     "output_type": "stream",
     "text": [
      "Your income tax is: $45316.88\n"
     ]
    }
   ],
   "source": [
    "# Define tax brackets and rates\n",
    "tax_brackets = [(0, 9700), (9701, 39475), (39476, 84200), (84201, 160725), (160726, 204100), (204101, 510300)]\n",
    "tax_rates = [0.10, 0.12, 0.22, 0.24, 0.32, 0.35, 0.37]\n",
    "\n",
    "# Function to calculate income tax\n",
    "def calculate_income_tax(income):\n",
    "    tax_owed = 0\n",
    "    remaining_income = income\n",
    "    \n",
    "    for i in range(len(tax_brackets)):\n",
    "        bracket_min, bracket_max = tax_brackets[i]\n",
    "        rate = tax_rates[i]\n",
    "        \n",
    "        if remaining_income <= 0:\n",
    "            break\n",
    "        \n",
    "        if remaining_income <= (bracket_max - bracket_min):\n",
    "            tax_owed += remaining_income * rate\n",
    "            break\n",
    "        else:\n",
    "            tax_owed += (bracket_max - bracket_min) * rate\n",
    "            remaining_income -= (bracket_max - bracket_min)\n",
    "    \n",
    "    return tax_owed\n",
    "\n",
    "# Get user's income\n",
    "income = float(input(\"Enter your income: \"))\n",
    "\n",
    "# Calculate and display income tax\n",
    "income_tax = calculate_income_tax(income)\n",
    "print(f\"Your income tax is: ${income_tax:.2f}\")\n"
   ]
  },
  {
   "cell_type": "markdown",
   "id": "cf7855ba-195f-4bf5-aecf-2b25f0e871d1",
   "metadata": {},
   "source": [
    "22. Write a program that simulates a rock-paper-scissors game against the computer."
   ]
  },
  {
   "cell_type": "code",
   "execution_count": 11,
   "id": "6d26a129-638e-40aa-bd54-abe1f8608f50",
   "metadata": {},
   "outputs": [
    {
     "name": "stdin",
     "output_type": "stream",
     "text": [
      "Choose one: rock, paper, or scissors:  rock\n"
     ]
    },
    {
     "name": "stdout",
     "output_type": "stream",
     "text": [
      "You chose: rock\n",
      "Computer chose: rock\n",
      "It's a tie!\n"
     ]
    },
    {
     "name": "stdin",
     "output_type": "stream",
     "text": [
      "Do you want to play again? (yes/no):  no\n"
     ]
    },
    {
     "name": "stdout",
     "output_type": "stream",
     "text": [
      "Thanks for playing. Goodbye!\n"
     ]
    }
   ],
   "source": [
    "import random\n",
    "\n",
    "# Function to get the user's choice\n",
    "def get_user_choice():\n",
    "    while True:\n",
    "        user_choice = input(\"Choose one: rock, paper, or scissors: \").lower()\n",
    "        if user_choice in [\"rock\", \"paper\", \"scissors\"]:\n",
    "            return user_choice\n",
    "        else:\n",
    "            print(\"Invalid choice. Please choose 'rock', 'paper', or 'scissors'.\")\n",
    "\n",
    "# Function to get the computer's choice\n",
    "def get_computer_choice():\n",
    "    choices = [\"rock\", \"paper\", \"scissors\"]\n",
    "    return random.choice(choices)\n",
    "\n",
    "# Function to determine the winner\n",
    "def determine_winner(user_choice, computer_choice):\n",
    "    if user_choice == computer_choice:\n",
    "        return \"It's a tie!\"\n",
    "    elif (\n",
    "        (user_choice == \"rock\" and computer_choice == \"scissors\") or\n",
    "        (user_choice == \"paper\" and computer_choice == \"rock\") or\n",
    "        (user_choice == \"scissors\" and computer_choice == \"paper\")\n",
    "    ):\n",
    "        return \"You win!\"\n",
    "    else:\n",
    "        return \"Computer wins!\"\n",
    "\n",
    "# Main game loop\n",
    "while True:\n",
    "    user_choice = get_user_choice()\n",
    "    computer_choice = get_computer_choice()\n",
    "\n",
    "    print(f\"You chose: {user_choice}\")\n",
    "    print(f\"Computer chose: {computer_choice}\")\n",
    "\n",
    "    result = determine_winner(user_choice, computer_choice)\n",
    "    print(result)\n",
    "\n",
    "    play_again = input(\"Do you want to play again? (yes/no): \").lower()\n",
    "    if play_again != \"yes\":\n",
    "        print(\"Thanks for playing. Goodbye!\")\n",
    "        break\n"
   ]
  },
  {
   "cell_type": "markdown",
   "id": "d1c0325f-e5fb-499f-b433-9aa31569b294",
   "metadata": {},
   "source": [
    "23. Develop a program that generates a random password based on user preferences (length, complexity)."
   ]
  },
  {
   "cell_type": "code",
   "execution_count": 15,
   "id": "f83bd9c7-5e6c-47dd-9acb-2f90ad6d18f8",
   "metadata": {},
   "outputs": [
    {
     "name": "stdin",
     "output_type": "stream",
     "text": [
      "Enter the desired length of the password:  4\n",
      "Include lowercase letters? (yes/no):  yes\n",
      "Include uppercase letters? (yes/no):  yes\n",
      "Include digits? (yes/no):  yes\n",
      "Include special characters? (yes/no):  yes\n"
     ]
    },
    {
     "name": "stdout",
     "output_type": "stream",
     "text": [
      "Generated Password: shJ2\n"
     ]
    }
   ],
   "source": [
    "import random\n",
    "import string\n",
    "\n",
    "# Function to generate a random password\n",
    "def generate_password(length, use_lowercase, use_uppercase, use_digits, use_special_chars):\n",
    "    characters = \"\"\n",
    "    \n",
    "    if use_lowercase:\n",
    "        characters += string.ascii_lowercase\n",
    "    if use_uppercase:\n",
    "        characters += string.ascii_uppercase\n",
    "    if use_digits:\n",
    "        characters += string.digits\n",
    "    if use_special_chars:\n",
    "        characters += string.punctuation\n",
    "    \n",
    "    if not characters:\n",
    "        print(\"Error: You must select at least one character type.\")\n",
    "        return\n",
    "    \n",
    "    password = ''.join(random.choice(characters) for _ in range(length))\n",
    "    return password\n",
    "\n",
    "# Get user preferences\n",
    "length = int(input(\"Enter the desired length of the password: \"))\n",
    "use_lowercase = input(\"Include lowercase letters? (yes/no): \").lower() == \"yes\"\n",
    "use_uppercase = input(\"Include uppercase letters? (yes/no): \").lower() == \"yes\"\n",
    "use_digits = input(\"Include digits? (yes/no): \").lower() == \"yes\"\n",
    "use_special_chars = input(\"Include special characters? (yes/no): \").lower() == \"yes\"\n",
    "\n",
    "# Generate and display the password\n",
    "password = generate_password(length, use_lowercase, use_uppercase, use_digits, use_special_chars)\n",
    "\n",
    "if password:\n",
    "    print(f\"Generated Password: {password}\")\n"
   ]
  },
  {
   "cell_type": "markdown",
   "id": "f241541c-88aa-4c98-a822-c15e77d98126",
   "metadata": {},
   "source": [
    "24. Create a program that implements a simple text-based adventure game with branching scenarios."
   ]
  },
  {
   "cell_type": "code",
   "execution_count": 1,
   "id": "c7de74d5-d213-4943-800d-0c42ede674da",
   "metadata": {},
   "outputs": [
    {
     "name": "stdout",
     "output_type": "stream",
     "text": [
      "You are standing at the entrance of a dark cave. Do you want to enter? (yes/no)\n",
      "\n"
     ]
    },
    {
     "name": "stdin",
     "output_type": "stream",
     "text": [
      " yes\n"
     ]
    },
    {
     "name": "stdout",
     "output_type": "stream",
     "text": [
      "You enter the cave and find two tunnels. Which one do you choose, left or right?\n",
      "\n"
     ]
    },
    {
     "name": "stdin",
     "output_type": "stream",
     "text": [
      " left\n"
     ]
    },
    {
     "name": "stdout",
     "output_type": "stream",
     "text": [
      "You discover a room full of treasures! You are rich! Do you want to take some treasure and leave the cave? (yes/no)\n",
      "\n"
     ]
    },
    {
     "name": "stdin",
     "output_type": "stream",
     "text": [
      " yes\n"
     ]
    },
    {
     "name": "stdout",
     "output_type": "stream",
     "text": [
      "Congratulations! You escaped the cave with treasures! Play again? (yes/no)\n",
      "\n"
     ]
    },
    {
     "name": "stdin",
     "output_type": "stream",
     "text": [
      " no\n"
     ]
    },
    {
     "name": "stdout",
     "output_type": "stream",
     "text": [
      "Thanks for playing!\n"
     ]
    }
   ],
   "source": [
    "import time\n",
    "\n",
    "# Define the game scenarios\n",
    "scenarios = {\n",
    "    'start': {\n",
    "        'prompt': 'You are standing at the entrance of a dark cave. Do you want to enter? (yes/no)\\n',\n",
    "        'options': {\n",
    "            'yes': 'cave_entrance',\n",
    "            'no': 'end_game'\n",
    "        }\n",
    "    },\n",
    "    'cave_entrance': {\n",
    "        'prompt': 'You enter the cave and find two tunnels. Which one do you choose, left or right?\\n',\n",
    "        'options': {\n",
    "            'left': 'treasure_room',\n",
    "            'right': 'dragon_lair'\n",
    "        }\n",
    "    },\n",
    "    'treasure_room': {\n",
    "        'prompt': 'You discover a room full of treasures! You are rich! Do you want to take some treasure and leave the cave? (yes/no)\\n',\n",
    "        'options': {\n",
    "            'yes': 'end_game_treasure',\n",
    "            'no': 'end_game'\n",
    "        }\n",
    "    },\n",
    "    'dragon_lair': {\n",
    "        'prompt': 'You enter a chamber and encounter a fearsome dragon! What will you do, fight or run?\\n',\n",
    "        'options': {\n",
    "            'fight': 'end_game_dragon',\n",
    "            'run': 'end_game'\n",
    "        }\n",
    "    },\n",
    "    'end_game': {\n",
    "        'prompt': 'Game over! Play again? (yes/no)\\n',\n",
    "        'options': {\n",
    "            'yes': 'start',\n",
    "            'no': 'quit'\n",
    "        }\n",
    "    },\n",
    "    'end_game_treasure': {\n",
    "        'prompt': 'Congratulations! You escaped the cave with treasures! Play again? (yes/no)\\n',\n",
    "        'options': {\n",
    "            'yes': 'start',\n",
    "            'no': 'quit'\n",
    "        }\n",
    "    },\n",
    "    'end_game_dragon': {\n",
    "        'prompt': 'The dragon defeated you! Game over. Play again? (yes/no)\\n',\n",
    "        'options': {\n",
    "            'yes': 'start',\n",
    "            'no': 'quit'\n",
    "        }\n",
    "    },\n",
    "    'quit': None\n",
    "}\n",
    "\n",
    "# Game loop\n",
    "current_scenario = 'start'\n",
    "while current_scenario != 'quit':\n",
    "    scenario = scenarios[current_scenario]\n",
    "\n",
    "    if scenario:\n",
    "        print(scenario['prompt'])\n",
    "        user_input = input().lower()\n",
    "        \n",
    "        if user_input in scenario['options']:\n",
    "            current_scenario = scenario['options'][user_input]\n",
    "        else:\n",
    "            print('Invalid choice. Try again.')\n",
    "\n",
    "        time.sleep(1)  # Pause for dramatic effect\n",
    "\n",
    "print('Thanks for playing!')\n"
   ]
  },
  {
   "cell_type": "markdown",
   "id": "75365fd2-fca2-4b89-b137-76f828fb7f04",
   "metadata": {},
   "source": [
    "25. Build a program that solves a linear equation for x, considering different cases."
   ]
  },
  {
   "cell_type": "code",
   "execution_count": 16,
   "id": "ddfdef2a-c9fa-403d-a0b1-2b50786c5043",
   "metadata": {},
   "outputs": [
    {
     "name": "stdin",
     "output_type": "stream",
     "text": [
      "Enter a linear equation (e.g., '2x + 3 = 7'):  5x - 1 = 4\n"
     ]
    },
    {
     "name": "stdout",
     "output_type": "stream",
     "text": [
      "The solution is x = 1.0\n"
     ]
    }
   ],
   "source": [
    "equation = input(\"Enter a linear equation (e.g., '2x + 3 = 7'): \")\n",
    "equation = equation.replace(\" \", \"\")  # Remove spaces for flexibility\n",
    "\n",
    "if \"=\" not in equation:\n",
    "    print(\"Invalid equation: Missing equal sign (=)\")\n",
    "else:\n",
    "    left_side, right_side = equation.split(\"=\")\n",
    "\n",
    "    if not left_side or not right_side:\n",
    "        print(\"Invalid equation: Both sides must be non-empty\")\n",
    "    else:\n",
    "        try:\n",
    "            if \"x\" in left_side:\n",
    "                x_coefficient, constant = left_side.split(\"x\")\n",
    "                x_coefficient = x_coefficient if x_coefficient else \"1\"\n",
    "                x_coefficient = int(x_coefficient)\n",
    "                constant = int(right_side) - int(constant) if constant else int(right_side)\n",
    "            else:\n",
    "                x_coefficient = int(right_side) if right_side else 0\n",
    "                constant = -int(left_side)\n",
    "            \n",
    "            if x_coefficient == 0:\n",
    "                if constant == 0:\n",
    "                    print(\"Infinite solutions: Any value of x is a solution\")\n",
    "                else:\n",
    "                    print(\"No solution: The equation is inconsistent\")\n",
    "            else:\n",
    "                x = constant / x_coefficient\n",
    "                print(f\"The solution is x = {x}\")\n",
    "        except ValueError:\n",
    "            print(\"Invalid equation: Please enter a valid linear equation\")\n"
   ]
  },
  {
   "cell_type": "markdown",
   "id": "b69dc4ad-1d86-4078-90ef-b7df45b13144",
   "metadata": {},
   "source": [
    "26. Write a program that simulates a basic quiz game with multiple-choice questions and scoring."
   ]
  },
  {
   "cell_type": "code",
   "execution_count": 17,
   "id": "8fd92f37-4460-49ff-aa31-02bdeaa60049",
   "metadata": {},
   "outputs": [
    {
     "name": "stdout",
     "output_type": "stream",
     "text": [
      "Welcome to the Quiz Game!\n",
      "Answer the following questions:\n",
      "\n",
      "Question 1: What is the capital of France?\n",
      "1. London\n",
      "2. Berlin\n",
      "3. Paris\n",
      "4. Madrid\n"
     ]
    },
    {
     "name": "stdin",
     "output_type": "stream",
     "text": [
      "Enter the number of your answer:  London\n"
     ]
    },
    {
     "name": "stdout",
     "output_type": "stream",
     "text": [
      "Invalid input. Please enter a valid option number.\n",
      "\n",
      "Question 2: Which planet is known as the Red Planet?\n",
      "1. Earth\n",
      "2. Mars\n",
      "3. Venus\n",
      "4. Jupiter\n"
     ]
    },
    {
     "name": "stdin",
     "output_type": "stream",
     "text": [
      "Enter the number of your answer:  venus\n"
     ]
    },
    {
     "name": "stdout",
     "output_type": "stream",
     "text": [
      "Invalid input. Please enter a valid option number.\n",
      "\n",
      "Question 3: What is the largest mammal in the world?\n",
      "1. Elephant\n",
      "2. Giraffe\n",
      "3. Blue Whale\n",
      "4. Hippopotamus\n"
     ]
    },
    {
     "name": "stdin",
     "output_type": "stream",
     "text": [
      "Enter the number of your answer:  elephant\n"
     ]
    },
    {
     "name": "stdout",
     "output_type": "stream",
     "text": [
      "Invalid input. Please enter a valid option number.\n",
      "\n",
      "Quiz completed! Your score is: 0/3\n"
     ]
    }
   ],
   "source": [
    "# Define quiz questions as a list of dictionaries\n",
    "questions = [\n",
    "    {\n",
    "        \"question\": \"What is the capital of France?\",\n",
    "        \"options\": [\"London\", \"Berlin\", \"Paris\", \"Madrid\"],\n",
    "        \"correct_answer\": \"Paris\"\n",
    "    },\n",
    "    {\n",
    "        \"question\": \"Which planet is known as the Red Planet?\",\n",
    "        \"options\": [\"Earth\", \"Mars\", \"Venus\", \"Jupiter\"],\n",
    "        \"correct_answer\": \"Mars\"\n",
    "    },\n",
    "    {\n",
    "        \"question\": \"What is the largest mammal in the world?\",\n",
    "        \"options\": [\"Elephant\", \"Giraffe\", \"Blue Whale\", \"Hippopotamus\"],\n",
    "        \"correct_answer\": \"Blue Whale\"\n",
    "    }\n",
    "]\n",
    "\n",
    "# Initialize score\n",
    "score = 0\n",
    "\n",
    "# Welcome message\n",
    "print(\"Welcome to the Quiz Game!\")\n",
    "print(\"Answer the following questions:\\n\")\n",
    "\n",
    "# Iterate through questions and present them to the user\n",
    "for idx, question_dict in enumerate(questions, start=1):\n",
    "    question = question_dict[\"question\"]\n",
    "    options = question_dict[\"options\"]\n",
    "    correct_answer = question_dict[\"correct_answer\"]\n",
    "\n",
    "    print(f\"Question {idx}: {question}\")\n",
    "    for i, option in enumerate(options, start=1):\n",
    "        print(f\"{i}. {option}\")\n",
    "\n",
    "    # Get user's answer\n",
    "    user_choice = input(\"Enter the number of your answer: \")\n",
    "\n",
    "    # Validate the user's answer\n",
    "    if user_choice.isdigit() and 1 <= int(user_choice) <= len(options):\n",
    "        user_answer = options[int(user_choice) - 1]\n",
    "        if user_answer == correct_answer:\n",
    "            print(\"Correct!\\n\")\n",
    "            score += 1\n",
    "        else:\n",
    "            print(f\"Wrong! The correct answer is: {correct_answer}\\n\")\n",
    "    else:\n",
    "        print(\"Invalid input. Please enter a valid option number.\\n\")\n",
    "\n",
    "# Display the final score\n",
    "print(f\"Quiz completed! Your score is: {score}/{len(questions)}\")\n"
   ]
  },
  {
   "cell_type": "markdown",
   "id": "6a997821-03b8-4b71-80fe-7fcaa3c51cd4",
   "metadata": {},
   "source": [
    "27. Develop a program that determines whether a given year is a prime number or not."
   ]
  },
  {
   "cell_type": "code",
   "execution_count": 19,
   "id": "0eb3bc08-899f-4bd3-a28b-5a4fd0ff2b5f",
   "metadata": {},
   "outputs": [
    {
     "name": "stdin",
     "output_type": "stream",
     "text": [
      "Enter a year:  10\n"
     ]
    },
    {
     "name": "stdout",
     "output_type": "stream",
     "text": [
      "10 is not a prime year.\n"
     ]
    }
   ],
   "source": [
    "year = int(input(\"Enter a year: \"))\n",
    "\n",
    "if year <= 1:\n",
    "    is_prime = False\n",
    "elif year <= 3:\n",
    "    is_prime = True\n",
    "elif year % 2 == 0 or year % 3 == 0:\n",
    "    is_prime = False\n",
    "else:\n",
    "    i = 5\n",
    "    while i * i <= year:\n",
    "        if year % i == 0 or year % (i + 2) == 0:\n",
    "            is_prime = False\n",
    "            break\n",
    "        i += 6\n",
    "    else:\n",
    "        is_prime = True\n",
    "\n",
    "if is_prime:\n",
    "    print(f\"{year} is a prime year.\")\n",
    "else:\n",
    "    print(f\"{year} is not a prime year.\")\n"
   ]
  },
  {
   "cell_type": "markdown",
   "id": "07cfaec2-3c3e-4649-8d0d-ae6058e0588b",
   "metadata": {},
   "source": [
    "28. Create a program that sorts three numbers in ascending order using conditional statements."
   ]
  },
  {
   "cell_type": "code",
   "execution_count": 20,
   "id": "f7081d1e-b4cc-4e9b-aafe-ea44a1460b91",
   "metadata": {},
   "outputs": [
    {
     "name": "stdin",
     "output_type": "stream",
     "text": [
      "Enter the first number:  50\n",
      "Enter the second number:  12\n",
      "Enter the third number:  54\n"
     ]
    },
    {
     "name": "stdout",
     "output_type": "stream",
     "text": [
      "Sorted numbers in ascending order: [12.0, 50.0, 54.0]\n"
     ]
    }
   ],
   "source": [
    "# Input three numbers from the user\n",
    "num1 = float(input(\"Enter the first number: \"))\n",
    "num2 = float(input(\"Enter the second number: \"))\n",
    "num3 = float(input(\"Enter the third number: \"))\n",
    "\n",
    "# Use conditional statements to sort the numbers\n",
    "if num1 <= num2 <= num3:\n",
    "    sorted_nums = [num1, num2, num3]\n",
    "elif num1 <= num3 <= num2:\n",
    "    sorted_nums = [num1, num3, num2]\n",
    "elif num2 <= num1 <= num3:\n",
    "    sorted_nums = [num2, num1, num3]\n",
    "elif num2 <= num3 <= num1:\n",
    "    sorted_nums = [num2, num3, num1]\n",
    "elif num3 <= num1 <= num2:\n",
    "    sorted_nums = [num3, num1, num2]\n",
    "else:\n",
    "    sorted_nums = [num3, num2, num1]\n",
    "\n",
    "# Display the sorted numbers\n",
    "print(\"Sorted numbers in ascending order:\", sorted_nums)\n"
   ]
  },
  {
   "cell_type": "markdown",
   "id": "19fc0cc8-be8b-4e84-beb6-dcbdfb5a10e0",
   "metadata": {},
   "source": [
    "29. Build a program that determines the roots of a quartic equation using numerical methods."
   ]
  },
  {
   "cell_type": "code",
   "execution_count": 30,
   "id": "4c67dffe-deb6-406b-bd38-be5b75d84498",
   "metadata": {},
   "outputs": [
    {
     "name": "stdout",
     "output_type": "stream",
     "text": [
      "Root found: x = 1.000000\n"
     ]
    }
   ],
   "source": [
    "import sympy as sp\n",
    "\n",
    "# Define the quartic equation as a symbolic expression\n",
    "x = sp.symbols('x')\n",
    "equation = x**4 - 6*x**3 + 11*x**2 - 6*x\n",
    "\n",
    "# Use sympy to find the derivatives of the equation\n",
    "derivative = sp.diff(equation, x)\n",
    "second_derivative = sp.diff(derivative, x)\n",
    "\n",
    "# Define the initial guess and maximum number of iterations\n",
    "x0 = 1.0  # Initial guess\n",
    "max_iterations = 100\n",
    "epsilon = 1e-6  # Convergence criterion\n",
    "\n",
    "# Newton-Raphson method\n",
    "for _ in range(max_iterations):\n",
    "    f_value = equation.subs(x, x0)\n",
    "    f_prime_value = derivative.subs(x, x0)\n",
    "    \n",
    "    if abs(f_value) < epsilon:\n",
    "        break  # Converged\n",
    "        \n",
    "    x0 = x0 - f_value / f_prime_value\n",
    "\n",
    "    if abs(f_prime_value) < epsilon:\n",
    "        break  # Avoid division by zero\n",
    "\n",
    "# Check if the root is real and print the result\n",
    "if sp.re(x0).is_real:\n",
    "    print(f\"Root found: x = {x0:.6f}\")\n",
    "else:\n",
    "    print(\"No real roots found.\")\n"
   ]
  },
  {
   "cell_type": "markdown",
   "id": "309d717f-0570-49a8-8718-5975049a75c3",
   "metadata": {},
   "source": [
    "30. Write a program that calculates the BMI (Body Mass Index) and provides health recommendations based\n",
    "on the user's input."
   ]
  },
  {
   "cell_type": "code",
   "execution_count": 33,
   "id": "d12dded3-56ee-42ea-bdf8-639516a7427f",
   "metadata": {},
   "outputs": [
    {
     "name": "stdin",
     "output_type": "stream",
     "text": [
      "Enter your weight in kilograms:  81\n",
      "Enter your height in meters:  4.8\n"
     ]
    },
    {
     "name": "stdout",
     "output_type": "stream",
     "text": [
      "Your BMI is: 3.52\n",
      "You are underweight. It is recommended to consult with a healthcare professional.\n"
     ]
    }
   ],
   "source": [
    "# Input weight and height from the user\n",
    "weight_kg = float(input(\"Enter your weight in kilograms: \"))\n",
    "height_m = float(input(\"Enter your height in meters: \"))\n",
    "\n",
    "# Calculate BMI\n",
    "bmi = weight_kg / (height_m ** 2)\n",
    "\n",
    "# Print the calculated BMI\n",
    "print(f\"Your BMI is: {bmi:.2f}\")\n",
    "\n",
    "# Provide health recommendations based on BMI\n",
    "if bmi < 18.5:\n",
    "    print(\"You are underweight. It is recommended to consult with a healthcare professional.\")\n",
    "elif 18.5 <= bmi < 24.9:\n",
    "    print(\"Your weight is within the healthy range. Keep up the good work!\")\n",
    "elif 25.0 <= bmi < 29.9:\n",
    "    print(\"You are overweight. Consider maintaining a balanced diet and regular exercise.\")\n",
    "else:\n",
    "    print(\"You are obese. It is strongly recommended to consult with a healthcare professional.\")\n"
   ]
  },
  {
   "cell_type": "markdown",
   "id": "98a004d2-a03d-42f9-af9c-08bb193b3a7f",
   "metadata": {},
   "source": [
    "### **Challenge Level:**\n",
    "---\n",
    "---\n"
   ]
  },
  {
   "cell_type": "markdown",
   "id": "48e884aa-df9a-4ce9-a9da-f496db719634",
   "metadata": {},
   "source": [
    "31. Create a program that validates a password based on complexity rules (length, characters, etc.)."
   ]
  },
  {
   "cell_type": "code",
   "execution_count": 34,
   "id": "0ad1c7cc-3732-4eb6-944b-1607768cf1a0",
   "metadata": {},
   "outputs": [
    {
     "name": "stdin",
     "output_type": "stream",
     "text": [
      "Enter a password:  Busib@ni!23\n"
     ]
    },
    {
     "name": "stdout",
     "output_type": "stream",
     "text": [
      "Password is valid. Good job!\n"
     ]
    }
   ],
   "source": [
    "def is_valid_password(password):\n",
    "    # Check password length (should be at least 8 characters)\n",
    "    if len(password) < 8:\n",
    "        return False\n",
    "\n",
    "    # Check if the password contains at least one uppercase letter\n",
    "    if not any(char.isupper() for char in password):\n",
    "        return False\n",
    "\n",
    "    # Check if the password contains at least one lowercase letter\n",
    "    if not any(char.islower() for char in password):\n",
    "        return False\n",
    "\n",
    "    # Check if the password contains at least one digit\n",
    "    if not any(char.isdigit() for char in password):\n",
    "        return False\n",
    "\n",
    "    # Check if the password contains at least one special character\n",
    "    special_characters = \"!@#$%^&*()-_=+[]{}|;:'\\\",.<>?/\"\n",
    "    if not any(char in special_characters for char in password):\n",
    "        return False\n",
    "\n",
    "    # If all checks pass, the password is valid\n",
    "    return True\n",
    "\n",
    "# Input a password from the user\n",
    "password = input(\"Enter a password: \")\n",
    "\n",
    "# Check if the password is valid\n",
    "if is_valid_password(password):\n",
    "    print(\"Password is valid. Good job!\")\n",
    "else:\n",
    "    print(\"Password is invalid. Please follow the password complexity rules.\")\n"
   ]
  },
  {
   "cell_type": "markdown",
   "id": "33ebee17-e995-4322-a589-6e9c617ca463",
   "metadata": {},
   "source": [
    "32. Develop a program that performs matrix addition and subtraction based on user input."
   ]
  },
  {
   "cell_type": "code",
   "execution_count": 35,
   "id": "d86193a3-96c3-4fc2-bd47-92310a92c99d",
   "metadata": {},
   "outputs": [
    {
     "name": "stdin",
     "output_type": "stream",
     "text": [
      "Enter the number of rows:  2\n",
      "Enter the number of columns:  2\n"
     ]
    },
    {
     "name": "stdout",
     "output_type": "stream",
     "text": [
      "Enter matrix A:\n"
     ]
    },
    {
     "name": "stdin",
     "output_type": "stream",
     "text": [
      "Enter element at row 1, col 1:  4\n",
      "Enter element at row 1, col 2:  2\n",
      "Enter element at row 2, col 1:  3\n",
      "Enter element at row 2, col 2:  6\n"
     ]
    },
    {
     "name": "stdout",
     "output_type": "stream",
     "text": [
      "Enter matrix B:\n"
     ]
    },
    {
     "name": "stdin",
     "output_type": "stream",
     "text": [
      "Enter element at row 1, col 1:  4\n",
      "Enter element at row 1, col 2:  7\n",
      "Enter element at row 2, col 1:  3\n",
      "Enter element at row 2, col 2:  2\n"
     ]
    },
    {
     "name": "stdout",
     "output_type": "stream",
     "text": [
      "\n",
      "Matrix A + Matrix B:\n",
      "8.0 9.0\n",
      "6.0 8.0\n",
      "\n",
      "Matrix A - Matrix B:\n",
      "0.0 -5.0\n",
      "0.0 4.0\n"
     ]
    }
   ],
   "source": [
    "# Function to input a matrix from the user\n",
    "def input_matrix(rows, cols):\n",
    "    matrix = []\n",
    "    for i in range(rows):\n",
    "        row = []\n",
    "        for j in range(cols):\n",
    "            element = float(input(f\"Enter element at row {i + 1}, col {j + 1}: \"))\n",
    "            row.append(element)\n",
    "        matrix.append(row)\n",
    "    return matrix\n",
    "\n",
    "# Function to display a matrix\n",
    "def display_matrix(matrix):\n",
    "    for row in matrix:\n",
    "        print(\" \".join(map(str, row)))\n",
    "\n",
    "# Function to add two matrices\n",
    "def add_matrices(matrix1, matrix2):\n",
    "    if len(matrix1) != len(matrix2) or len(matrix1[0]) != len(matrix2[0]):\n",
    "        return None  # Matrices must have the same dimensions for addition\n",
    "    result = []\n",
    "    for i in range(len(matrix1)):\n",
    "        row = []\n",
    "        for j in range(len(matrix1[0])):\n",
    "            row.append(matrix1[i][j] + matrix2[i][j])\n",
    "        result.append(row)\n",
    "    return result\n",
    "\n",
    "# Function to subtract two matrices\n",
    "def subtract_matrices(matrix1, matrix2):\n",
    "    if len(matrix1) != len(matrix2) or len(matrix1[0]) != len(matrix2[0]):\n",
    "        return None  # Matrices must have the same dimensions for subtraction\n",
    "    result = []\n",
    "    for i in range(len(matrix1)):\n",
    "        row = []\n",
    "        for j in range(len(matrix1[0])):\n",
    "            row.append(matrix1[i][j] - matrix2[i][j])\n",
    "        result.append(row)\n",
    "    return result\n",
    "\n",
    "# Input matrix dimensions\n",
    "rows = int(input(\"Enter the number of rows: \"))\n",
    "cols = int(input(\"Enter the number of columns: \"))\n",
    "\n",
    "print(\"Enter matrix A:\")\n",
    "matrix_A = input_matrix(rows, cols)\n",
    "\n",
    "print(\"Enter matrix B:\")\n",
    "matrix_B = input_matrix(rows, cols)\n",
    "\n",
    "# Perform addition and subtraction\n",
    "sum_result = add_matrices(matrix_A, matrix_B)\n",
    "diff_result = subtract_matrices(matrix_A, matrix_B)\n",
    "\n",
    "# Display results\n",
    "if sum_result:\n",
    "    print(\"\\nMatrix A + Matrix B:\")\n",
    "    display_matrix(sum_result)\n",
    "else:\n",
    "    print(\"\\nMatrix addition is not possible due to different dimensions.\")\n",
    "\n",
    "if diff_result:\n",
    "    print(\"\\nMatrix A - Matrix B:\")\n",
    "    display_matrix(diff_result)\n",
    "else:\n",
    "    print(\"\\nMatrix subtraction is not possible due to different dimensions.\")\n"
   ]
  },
  {
   "cell_type": "markdown",
   "id": "acc52e0c-bfe2-4411-98c1-958287646941",
   "metadata": {},
   "source": [
    "33. Write a program that calculates the greatest common divisor (GCD) of two numbers using the Euclidean\n",
    "algorithm."
   ]
  },
  {
   "cell_type": "code",
   "execution_count": 37,
   "id": "3768bede-14b8-485d-ad1e-f0d2373a4e89",
   "metadata": {},
   "outputs": [
    {
     "name": "stdin",
     "output_type": "stream",
     "text": [
      "Enter the first number:  3\n",
      "Enter the second number:  2\n"
     ]
    },
    {
     "name": "stdout",
     "output_type": "stream",
     "text": [
      "The GCD of 3 and 2 is 1\n"
     ]
    }
   ],
   "source": [
    "# Function to calculate the GCD using the Euclidean algorithm\n",
    "def gcd_euclidean(a, b):\n",
    "    while b:\n",
    "        a, b = b, a % b\n",
    "    return a\n",
    "\n",
    "# Input two numbers from the user\n",
    "num1 = int(input(\"Enter the first number: \"))\n",
    "num2 = int(input(\"Enter the second number: \"))\n",
    "\n",
    "# Calculate the GCD\n",
    "gcd = gcd_euclidean(num1, num2)\n",
    "\n",
    "# Display the result\n",
    "print(f\"The GCD of {num1} and {num2} is {gcd}\")\n"
   ]
  },
  {
   "cell_type": "markdown",
   "id": "4136ab25-f1bd-4af3-99e2-23e422b341cc",
   "metadata": {},
   "source": [
    "34. Build a program that performs matrix multiplication using nested loops and conditional statements."
   ]
  },
  {
   "cell_type": "code",
   "execution_count": 40,
   "id": "82c096a3-39e3-4a9e-abdf-0590d50ca9be",
   "metadata": {},
   "outputs": [
    {
     "name": "stdin",
     "output_type": "stream",
     "text": [
      "Enter the number of rows for matrix 1:  2\n",
      "Enter the number of columns for matrix 1:  2\n",
      "Enter the number of rows for matrix 2:  2\n",
      "Enter the number of columns for matrix 2:  2\n"
     ]
    },
    {
     "name": "stdout",
     "output_type": "stream",
     "text": [
      "Enter matrix 1:\n"
     ]
    },
    {
     "name": "stdin",
     "output_type": "stream",
     "text": [
      "Enter element at row 1, col 1:  1\n",
      "Enter element at row 1, col 2:  1\n",
      "Enter element at row 2, col 1:  2\n",
      "Enter element at row 2, col 2:  2\n"
     ]
    },
    {
     "name": "stdout",
     "output_type": "stream",
     "text": [
      "Enter matrix 2:\n"
     ]
    },
    {
     "name": "stdin",
     "output_type": "stream",
     "text": [
      "Enter element at row 1, col 1:  3\n",
      "Enter element at row 1, col 2:  3\n",
      "Enter element at row 2, col 1:  4\n",
      "Enter element at row 2, col 2:  4\n"
     ]
    },
    {
     "name": "stdout",
     "output_type": "stream",
     "text": [
      "\n",
      "Matrix 1 * Matrix 2:\n",
      "7.0 7.0\n",
      "14.0 14.0\n"
     ]
    }
   ],
   "source": [
    "# Function to input a matrix from the user\n",
    "def input_matrix(rows, cols):\n",
    "    matrix = []\n",
    "    for i in range(rows):\n",
    "        row = []\n",
    "        for j in range(cols):\n",
    "            element = float(input(f\"Enter element at row {i + 1}, col {j + 1}: \"))\n",
    "            row.append(element)\n",
    "        matrix.append(row)\n",
    "    return matrix\n",
    "\n",
    "# Function to display a matrix\n",
    "def display_matrix(matrix):\n",
    "    for row in matrix:\n",
    "        print(\" \".join(map(str, row)))\n",
    "\n",
    "# Function to perform matrix multiplication\n",
    "def multiply_matrices(matrix1, matrix2):\n",
    "    if len(matrix1[0]) != len(matrix2):\n",
    "        return None  # Matrices must have compatible dimensions for multiplication\n",
    "\n",
    "    result = []\n",
    "    for i in range(len(matrix1)):\n",
    "        row = []\n",
    "        for j in range(len(matrix2[0])):\n",
    "            element = 0\n",
    "            for k in range(len(matrix2)):\n",
    "                element += matrix1[i][k] * matrix2[k][j]\n",
    "            row.append(element)\n",
    "        result.append(row)\n",
    "    return result\n",
    "\n",
    "# Input dimensions for the first matrix\n",
    "rows1 = int(input(\"Enter the number of rows for matrix 1: \"))\n",
    "cols1 = int(input(\"Enter the number of columns for matrix 1: \"))\n",
    "\n",
    "# Input dimensions for the second matrix\n",
    "rows2 = int(input(\"Enter the number of rows for matrix 2: \"))\n",
    "cols2 = int(input(\"Enter the number of columns for matrix 2: \"))\n",
    "\n",
    "if cols1 != rows2:\n",
    "    print(\"Matrix multiplication is not possible due to incompatible dimensions.\")\n",
    "else:\n",
    "    print(\"Enter matrix 1:\")\n",
    "    matrix1 = input_matrix(rows1, cols1)\n",
    "\n",
    "    print(\"Enter matrix 2:\")\n",
    "    matrix2 = input_matrix(rows2, cols2)\n",
    "\n",
    "    # Perform matrix multiplication\n",
    "    product_result = multiply_matrices(matrix1, matrix2)\n",
    "\n",
    "    # Display the result\n",
    "    if product_result:\n",
    "        print(\"\\nMatrix 1 * Matrix 2:\")\n",
    "        display_matrix(product_result)\n",
    "    else:\n",
    "        print(\"\\nMatrix multiplication is not possible due to incompatible dimensions.\")\n"
   ]
  },
  {
   "cell_type": "markdown",
   "id": "7f2e139a-9638-4c4c-9c9e-7bde8f7a6312",
   "metadata": {},
   "source": [
    "35. Create a program that simulates a basic text-based tic-tac-toe game against the computer."
   ]
  },
  {
   "cell_type": "code",
   "execution_count": 41,
   "id": "8038855f-2264-48a5-bf3b-0f6540928aa0",
   "metadata": {},
   "outputs": [
    {
     "name": "stdout",
     "output_type": "stream",
     "text": [
      "Welcome to Tic-Tac-Toe!\n",
      "  |   |  \n",
      "---------\n",
      "  |   |  \n",
      "---------\n",
      "  |   |  \n",
      "---------\n"
     ]
    },
    {
     "name": "stdin",
     "output_type": "stream",
     "text": [
      "Enter your move (row and column, e.g., '1 2'):  1\n"
     ]
    },
    {
     "name": "stdout",
     "output_type": "stream",
     "text": [
      "Invalid input. Please enter row and column numbers between 1 and 3.\n"
     ]
    },
    {
     "name": "stdin",
     "output_type": "stream",
     "text": [
      "Enter your move (row and column, e.g., '1 2'):  2\n"
     ]
    },
    {
     "name": "stdout",
     "output_type": "stream",
     "text": [
      "Invalid input. Please enter row and column numbers between 1 and 3.\n"
     ]
    },
    {
     "name": "stdin",
     "output_type": "stream",
     "text": [
      "Enter your move (row and column, e.g., '1 2'):  3\n"
     ]
    },
    {
     "name": "stdout",
     "output_type": "stream",
     "text": [
      "Invalid input. Please enter row and column numbers between 1 and 3.\n"
     ]
    },
    {
     "name": "stdin",
     "output_type": "stream",
     "text": [
      "Enter your move (row and column, e.g., '1 2'):  2\n"
     ]
    },
    {
     "name": "stdout",
     "output_type": "stream",
     "text": [
      "Invalid input. Please enter row and column numbers between 1 and 3.\n"
     ]
    },
    {
     "name": "stdin",
     "output_type": "stream",
     "text": [
      "Enter your move (row and column, e.g., '1 2'):  1 2\n"
     ]
    },
    {
     "name": "stdout",
     "output_type": "stream",
     "text": [
      "  | X |  \n",
      "---------\n",
      "  |   |  \n",
      "---------\n",
      "  |   |  \n",
      "---------\n",
      "Computer's move:\n",
      "O | X |  \n",
      "---------\n",
      "  |   |  \n",
      "---------\n",
      "  |   |  \n",
      "---------\n"
     ]
    },
    {
     "name": "stdin",
     "output_type": "stream",
     "text": [
      "Enter your move (row and column, e.g., '1 2'):  2 3\n"
     ]
    },
    {
     "name": "stdout",
     "output_type": "stream",
     "text": [
      "O | X |  \n",
      "---------\n",
      "  |   | X\n",
      "---------\n",
      "  |   |  \n",
      "---------\n",
      "Computer's move:\n",
      "O | X |  \n",
      "---------\n",
      "  |   | X\n",
      "---------\n",
      "  |   | O\n",
      "---------\n"
     ]
    },
    {
     "name": "stdin",
     "output_type": "stream",
     "text": [
      "Enter your move (row and column, e.g., '1 2'):  0\n"
     ]
    },
    {
     "name": "stdout",
     "output_type": "stream",
     "text": [
      "Invalid input. Please enter row and column numbers between 1 and 3.\n"
     ]
    },
    {
     "name": "stdin",
     "output_type": "stream",
     "text": [
      "Enter your move (row and column, e.g., '1 2'):  0 0\n"
     ]
    },
    {
     "name": "stdout",
     "output_type": "stream",
     "text": [
      "That space is already occupied. Try again.\n"
     ]
    },
    {
     "name": "stdin",
     "output_type": "stream",
     "text": [
      "Enter your move (row and column, e.g., '1 2'):  \n"
     ]
    },
    {
     "name": "stdout",
     "output_type": "stream",
     "text": [
      "Invalid input. Please enter row and column numbers between 1 and 3.\n"
     ]
    },
    {
     "name": "stdin",
     "output_type": "stream",
     "text": [
      "Enter your move (row and column, e.g., '1 2'):  quit\n"
     ]
    },
    {
     "name": "stdout",
     "output_type": "stream",
     "text": [
      "Invalid input. Please enter row and column numbers between 1 and 3.\n"
     ]
    },
    {
     "name": "stdin",
     "output_type": "stream",
     "text": [
      "Enter your move (row and column, e.g., '1 2'):  1 2\n"
     ]
    },
    {
     "name": "stdout",
     "output_type": "stream",
     "text": [
      "That space is already occupied. Try again.\n"
     ]
    },
    {
     "name": "stdin",
     "output_type": "stream",
     "text": [
      "Enter your move (row and column, e.g., '1 2'):   2 1\n"
     ]
    },
    {
     "name": "stdout",
     "output_type": "stream",
     "text": [
      "O | X |  \n",
      "---------\n",
      "X |   | X\n",
      "---------\n",
      "  |   | O\n",
      "---------\n",
      "Computer's move:\n",
      "O | X |  \n",
      "---------\n",
      "X | O | X\n",
      "---------\n",
      "  |   | O\n",
      "---------\n",
      "Computer wins! Try again.\n"
     ]
    }
   ],
   "source": [
    "import random\n",
    "\n",
    "# Function to print the Tic-Tac-Toe board\n",
    "def print_board(board):\n",
    "    for row in board:\n",
    "        print(\" | \".join(row))\n",
    "        print(\"-\" * 9)\n",
    "\n",
    "# Function to check if the game is over\n",
    "def is_game_over(board):\n",
    "    # Check rows, columns, and diagonals for a win\n",
    "    for i in range(3):\n",
    "        if board[i][0] == board[i][1] == board[i][2] != ' ':\n",
    "            return True\n",
    "        if board[0][i] == board[1][i] == board[2][i] != ' ':\n",
    "            return True\n",
    "    if board[0][0] == board[1][1] == board[2][2] != ' ':\n",
    "        return True\n",
    "    if board[0][2] == board[1][1] == board[2][0] != ' ':\n",
    "        return True\n",
    "    \n",
    "    # Check for a tie\n",
    "    for row in board:\n",
    "        if ' ' in row:\n",
    "            return False\n",
    "    return True\n",
    "\n",
    "# Function for the computer's move\n",
    "def computer_move(board):\n",
    "    while True:\n",
    "        row = random.randint(0, 2)\n",
    "        col = random.randint(0, 2)\n",
    "        if board[row][col] == ' ':\n",
    "            return row, col\n",
    "\n",
    "# Initialize the board\n",
    "board = [[' ' for _ in range(3)] for _ in range(3)]\n",
    "\n",
    "print(\"Welcome to Tic-Tac-Toe!\")\n",
    "print_board(board)\n",
    "\n",
    "# Main game loop\n",
    "while True:\n",
    "    # Player's turn\n",
    "    while True:\n",
    "        try:\n",
    "            row, col = map(int, input(\"Enter your move (row and column, e.g., '1 2'): \").split())\n",
    "            if board[row - 1][col - 1] == ' ':\n",
    "                board[row - 1][col - 1] = 'X'\n",
    "                break\n",
    "            else:\n",
    "                print(\"That space is already occupied. Try again.\")\n",
    "        except (ValueError, IndexError):\n",
    "            print(\"Invalid input. Please enter row and column numbers between 1 and 3.\")\n",
    "\n",
    "    print_board(board)\n",
    "\n",
    "    if is_game_over(board):\n",
    "        print(\"Congratulations! You win!\")\n",
    "        break\n",
    "\n",
    "    # Computer's turn\n",
    "    row, col = computer_move(board)\n",
    "    board[row][col] = 'O'\n",
    "\n",
    "    print(\"Computer's move:\")\n",
    "    print_board(board)\n",
    "\n",
    "    if is_game_over(board):\n",
    "        print(\"Computer wins! Try again.\")\n",
    "        break\n",
    "\n",
    "    if ' ' not in board[0] + board[1] + board[2]:\n",
    "        print(\"It's a tie!\")\n",
    "        break\n"
   ]
  },
  {
   "cell_type": "markdown",
   "id": "fdc6bc61-b488-49fb-b841-3b7b23ee629e",
   "metadata": {},
   "source": [
    "36. Write a program that generates Fibonacci numbers up to a specified term using iterative methods."
   ]
  },
  {
   "cell_type": "code",
   "execution_count": 46,
   "id": "4abb806d-471f-42c5-80f2-f10cda0a311f",
   "metadata": {},
   "outputs": [
    {
     "name": "stdin",
     "output_type": "stream",
     "text": [
      "Enter the number of Fibonacci terms to generate:  6\n"
     ]
    },
    {
     "name": "stdout",
     "output_type": "stream",
     "text": [
      "Fibonacci Sequence:\n",
      "[0, 1, 1, 2, 3, 5]\n"
     ]
    }
   ],
   "source": [
    "# Function to generate Fibonacci numbers up to a specified term\n",
    "def generate_fibonacci(n):\n",
    "    fibonacci_sequence = []\n",
    "    a, b = 0, 1\n",
    "\n",
    "    for _ in range(n):\n",
    "        fibonacci_sequence.append(a)\n",
    "        a, b = b, a + b\n",
    "\n",
    "    return fibonacci_sequence\n",
    "\n",
    "# Input the number of terms you want to generate\n",
    "n = int(input(\"Enter the number of Fibonacci terms to generate: \"))\n",
    "\n",
    "# Generate and print the Fibonacci sequence\n",
    "fibonacci_sequence = generate_fibonacci(n)\n",
    "print(\"Fibonacci Sequence:\")\n",
    "print(fibonacci_sequence)\n"
   ]
  },
  {
   "cell_type": "markdown",
   "id": "ee83ca41-0bc6-417b-a7b6-53d38babd10e",
   "metadata": {},
   "source": [
    "37. Develop a program that calculates the nth term of the Fibonacci sequence using memoization."
   ]
  },
  {
   "cell_type": "code",
   "execution_count": 45,
   "id": "812a5a29-02e3-4967-b8a8-024d60b8e8cc",
   "metadata": {},
   "outputs": [
    {
     "name": "stdin",
     "output_type": "stream",
     "text": [
      "Enter the term (n) of the Fibonacci sequence:  6\n"
     ]
    },
    {
     "name": "stdout",
     "output_type": "stream",
     "text": [
      "The 6th Fibonacci term is: 8\n"
     ]
    }
   ],
   "source": [
    "# Function to calculate the nth Fibonacci term using memoization\n",
    "def fibonacci(n, memo={}):\n",
    "    if n in memo:\n",
    "        return memo[n]\n",
    "    if n <= 2:\n",
    "        return 1\n",
    "    memo[n] = fibonacci(n - 1, memo) + fibonacci(n - 2, memo)\n",
    "    return memo[n]\n",
    "\n",
    "# Input the term you want to calculate\n",
    "n = int(input(\"Enter the term (n) of the Fibonacci sequence: \"))\n",
    "\n",
    "# Calculate and print the nth Fibonacci term\n",
    "result = fibonacci(n)\n",
    "print(f\"The {n}th Fibonacci term is: {result}\")\n"
   ]
  },
  {
   "cell_type": "markdown",
   "id": "9959db18-2748-4f7a-8a8e-ed37c305a04f",
   "metadata": {},
   "source": [
    "38. Create a program that generates a calendar for a given month and year using conditional statements."
   ]
  },
  {
   "cell_type": "code",
   "execution_count": 51,
   "id": "f441c7b6-3418-4dd0-afa7-dc8bc3d437ef",
   "metadata": {},
   "outputs": [
    {
     "name": "stdin",
     "output_type": "stream",
     "text": [
      "Enter the year:  1987\n",
      "Enter the month (1-12):  10\n"
     ]
    },
    {
     "name": "stdout",
     "output_type": "stream",
     "text": [
      "1987 is  not Leap year\n",
      "Calendar for October 1987\n",
      "    October 1987\n",
      "Mo Tu We Th Fr Sa Su\n",
      "          1  2  3  4\n",
      " 5  6  7  8  9 10 11\n",
      "12 13 14 15 16 17 18\n",
      "19 20 21 22 23 24 25\n",
      "26 27 28 29 30 31\n",
      "\n"
     ]
    }
   ],
   "source": [
    "import calendar\n",
    "\n",
    "# Input the year and month\n",
    "year = int(input(\"Enter the year: \"))\n",
    "month = int(input(\"Enter the month (1-12): \"))\n",
    "\n",
    "# Determine if it's a leap year\n",
    "is_leap = (year % 4 == 0 and year % 100 != 0) or (year % 400 == 0)\n",
    "if is_leap == True:\n",
    "    print(f\"{year} is Leap year\")\n",
    "else:\n",
    "    print(f\"{year} is  not Leap year\")\n",
    "# Create a calendar for the specified month and year\n",
    "cal = calendar.month(year, month)\n",
    "\n",
    "# Print the calendar\n",
    "print(f\"Calendar for {calendar.month_name[month]} {year}\")\n",
    "print(cal)\n"
   ]
  },
  {
   "cell_type": "markdown",
   "id": "063690cf-dc31-4a07-8ee2-5d706bb77743",
   "metadata": {},
   "source": [
    "39. Build a program that simulates a basic text-based blackjack game against the computer."
   ]
  },
  {
   "cell_type": "code",
   "execution_count": 56,
   "id": "97a48a15-44f5-40cb-a2d5-af108b98ef41",
   "metadata": {},
   "outputs": [
    {
     "name": "stdout",
     "output_type": "stream",
     "text": [
      "\n",
      "Your hand:\n",
      "2 of Hearts, 9 of Diamonds\n",
      "Total value: 0\n"
     ]
    },
    {
     "name": "stdin",
     "output_type": "stream",
     "text": [
      "Do you want to 'hit' or 'stand'?  hit\n"
     ]
    },
    {
     "name": "stdout",
     "output_type": "stream",
     "text": [
      "\n",
      "Your hand:\n",
      "2 of Hearts, 9 of Diamonds, 4 of Hearts\n",
      "Total value: 0\n"
     ]
    },
    {
     "name": "stdin",
     "output_type": "stream",
     "text": [
      "Do you want to 'hit' or 'stand'?  hit\n"
     ]
    },
    {
     "name": "stdout",
     "output_type": "stream",
     "text": [
      "\n",
      "Your hand:\n",
      "2 of Hearts, 9 of Diamonds, 4 of Hearts, 8 of Clubs\n",
      "Total value: 0\n"
     ]
    },
    {
     "name": "stdin",
     "output_type": "stream",
     "text": [
      "Do you want to 'hit' or 'stand'?  hit\n"
     ]
    },
    {
     "name": "stdout",
     "output_type": "stream",
     "text": [
      "\n",
      "Your hand:\n",
      "2 of Hearts, 9 of Diamonds, 4 of Hearts, 8 of Clubs, A of Hearts\n",
      "Total value: 0\n"
     ]
    },
    {
     "name": "stdin",
     "output_type": "stream",
     "text": [
      "Do you want to 'hit' or 'stand'?  stand\n"
     ]
    },
    {
     "name": "stdout",
     "output_type": "stream",
     "text": [
      "No more cards in the deck. Game over.\n",
      "\n",
      "Computer's hand:\n",
      "J of Diamonds, J of Hearts, Q of Diamonds, 6 of Spades, 6 of Diamonds, J of Clubs, 3 of Clubs, 3 of Spades, K of Spades, 10 of Diamonds, 5 of Clubs, 10 of Spades, 7 of Clubs, 2 of Spades, 9 of Clubs, K of Clubs, 5 of Spades, 7 of Hearts, 8 of Hearts, 5 of Diamonds, 8 of Diamonds, 9 of Hearts, 4 of Diamonds, Q of Clubs, 3 of Hearts, 3 of Diamonds, 6 of Clubs, A of Diamonds, K of Hearts, 7 of Spades, 2 of Diamonds, A of Clubs, 10 of Clubs, 10 of Hearts, 7 of Diamonds, 8 of Spades, 4 of Clubs, Q of Spades, 4 of Spades, 9 of Spades, 2 of Clubs, A of Spades, J of Spades, 5 of Hearts, Q of Hearts, 6 of Hearts, K of Diamonds\n",
      "Total value: 0\n",
      "Computer wins.\n"
     ]
    }
   ],
   "source": [
    "import random\n",
    "\n",
    "# Function to calculate the value of a hand\n",
    "def calculate_hand_value(hand):\n",
    "    value = 0\n",
    "    num_aces = 0\n",
    "\n",
    "    for card in hand:\n",
    "        if card in \"23456789\":\n",
    "            value += int(card)\n",
    "        elif card in \"TJQK\":\n",
    "            value += 10\n",
    "        elif card == \"A\":\n",
    "            num_aces += 1\n",
    "            value += 11\n",
    "\n",
    "    # Handle aces\n",
    "    while num_aces > 0 and value > 21:\n",
    "        value -= 10\n",
    "        num_aces -= 1\n",
    "\n",
    "    return value\n",
    "\n",
    "# Initialize the deck of cards\n",
    "suits = [\"Hearts\", \"Diamonds\", \"Clubs\", \"Spades\"]\n",
    "ranks = [\"2\", \"3\", \"4\", \"5\", \"6\", \"7\", \"8\", \"9\", \"10\", \"J\", \"Q\", \"K\", \"A\"]\n",
    "deck = [rank + \" of \" + suit for suit in suits for rank in ranks]\n",
    "\n",
    "# Shuffle the deck\n",
    "random.shuffle(deck)\n",
    "\n",
    "# Deal initial cards\n",
    "player_hand = [deck.pop(), deck.pop()]\n",
    "computer_hand = [deck.pop(), deck.pop()]\n",
    "\n",
    "# Main game loop\n",
    "while True:\n",
    "    # Display player's hand and value\n",
    "    print(\"\\nYour hand:\")\n",
    "    print(\", \".join(player_hand))\n",
    "    print(\"Total value:\", calculate_hand_value(player_hand))\n",
    "\n",
    "    # Check for player blackjack or bust\n",
    "    if calculate_hand_value(player_hand) == 21:\n",
    "        print(\"Blackjack! You win!\")\n",
    "        break\n",
    "    elif calculate_hand_value(player_hand) > 21:\n",
    "        print(\"Bust! You lose.\")\n",
    "        break\n",
    "\n",
    "    # Ask the player for their move\n",
    "    while True:\n",
    "        player_move = input(\"Do you want to 'hit' or 'stand'? \").strip().lower()\n",
    "        if player_move in [\"hit\", \"stand\"]:\n",
    "            break\n",
    "        else:\n",
    "            print(\"Invalid input. Please enter 'hit' or 'stand'.\")\n",
    "\n",
    "    # Player's move\n",
    "    if player_move == \"hit\":\n",
    "        if not deck:\n",
    "            print(\"No more cards in the deck. Game over.\")\n",
    "            break\n",
    "        player_hand.append(deck.pop())\n",
    "    else:\n",
    "        # Computer's turn\n",
    "        while calculate_hand_value(computer_hand) < 17:\n",
    "            if not deck:\n",
    "                print(\"No more cards in the deck. Game over.\")\n",
    "                break\n",
    "            computer_hand.append(deck.pop())\n",
    "\n",
    "        # Display computer's hand and value\n",
    "        print(\"\\nComputer's hand:\")\n",
    "        print(\", \".join(computer_hand))\n",
    "        print(\"Total value:\", calculate_hand_value(computer_hand))\n",
    "\n",
    "        # Determine the winner\n",
    "        if calculate_hand_value(computer_hand) > 21:\n",
    "            print(\"Computer busts! You win!\")\n",
    "        elif calculate_hand_value(computer_hand) >= calculate_hand_value(player_hand):\n",
    "            print(\"Computer wins.\")\n",
    "        else:\n",
    "            print(\"You win!\")\n",
    "\n",
    "        break\n"
   ]
  },
  {
   "cell_type": "markdown",
   "id": "8e8312a1-b047-44cc-8b63-a22f54645521",
   "metadata": {},
   "source": [
    "40. Write a program that generates the prime factors of a given number using trial division."
   ]
  },
  {
   "cell_type": "code",
   "execution_count": 61,
   "id": "cd199246-e714-44cf-ac1c-49b4d8946722",
   "metadata": {},
   "outputs": [
    {
     "name": "stdin",
     "output_type": "stream",
     "text": [
      "Enter a number:  12\n"
     ]
    },
    {
     "name": "stdout",
     "output_type": "stream",
     "text": [
      "Prime factors of 12: 2, 2, 3\n"
     ]
    }
   ],
   "source": [
    "# Function to find prime factors using trial division\n",
    "def prime_factors(n):\n",
    "    factors = []\n",
    "    divisor = 2\n",
    "\n",
    "    while divisor <= n:\n",
    "        if n % divisor == 0:\n",
    "            factors.append(divisor)\n",
    "            n = n // divisor  # Integer division\n",
    "        else:\n",
    "            divisor += 1\n",
    "\n",
    "    return factors\n",
    "\n",
    "# Input the number\n",
    "number = int(input(\"Enter a number: \"))\n",
    "\n",
    "# Find and print the prime factors\n",
    "factors = prime_factors(number)\n",
    "\n",
    "if len(factors) == 0:\n",
    "    print(f\"{number} has no prime factors.\")\n",
    "else:\n",
    "    print(f\"Prime factors of {number}: {', '.join(map(str, factors))}\")\n"
   ]
  },
  {
   "cell_type": "code",
   "execution_count": null,
   "id": "76efda43-33b8-4d21-9b91-97f728de3929",
   "metadata": {},
   "outputs": [],
   "source": []
  }
 ],
 "metadata": {
  "kernelspec": {
   "display_name": "Python 3 (ipykernel)",
   "language": "python",
   "name": "python3"
  },
  "language_info": {
   "codemirror_mode": {
    "name": "ipython",
    "version": 3
   },
   "file_extension": ".py",
   "mimetype": "text/x-python",
   "name": "python",
   "nbconvert_exporter": "python",
   "pygments_lexer": "ipython3",
   "version": "3.10.8"
  }
 },
 "nbformat": 4,
 "nbformat_minor": 5
}
