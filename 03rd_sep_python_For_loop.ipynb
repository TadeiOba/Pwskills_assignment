{
 "cells": [
  {
   "cell_type": "markdown",
   "id": "0cd87ea1-ea02-488e-965d-77ab9b2f610e",
   "metadata": {},
   "source": [
    "### **Basic Level:**\n",
    "---\n",
    "---"
   ]
  },
  {
   "cell_type": "markdown",
   "id": "03c2585a-32c2-4185-a951-d68882622007",
   "metadata": {},
   "source": [
    "1. Write a Python program to print the numbers from 1 to 10 using a `for` loop."
   ]
  },
  {
   "cell_type": "code",
   "execution_count": 5,
   "id": "671ea28d-90ef-47e7-a42a-374a8f6fb453",
   "metadata": {},
   "outputs": [
    {
     "name": "stdout",
     "output_type": "stream",
     "text": [
      "1 2 3 4 5 6 7 8 9 10 "
     ]
    }
   ],
   "source": [
    "for i in range(1,11):\n",
    "    print(i,end=\" \")"
   ]
  },
  {
   "cell_type": "markdown",
   "id": "d4dc7d4c-7fb9-46cd-a281-4a9d6f13cf45",
   "metadata": {},
   "source": [
    "2. Create a program that calculates the sum of all numbers in a list using a `for` loop."
   ]
  },
  {
   "cell_type": "code",
   "execution_count": 6,
   "id": "2e4f0626-e10d-4387-82ad-f68e04cef65d",
   "metadata": {},
   "outputs": [
    {
     "name": "stdout",
     "output_type": "stream",
     "text": [
      "Sum of the numbers: 150\n"
     ]
    }
   ],
   "source": [
    "# Sample list of numbers\n",
    "numbers = [10, 20, 30, 40, 50]\n",
    "\n",
    "# Initialize a variable to store the sum\n",
    "total_sum = 0\n",
    "\n",
    "# Iterate through the list and add each number to the sum\n",
    "for num in numbers:\n",
    "    total_sum += num\n",
    "\n",
    "# Print the result\n",
    "print(\"Sum of the numbers:\", total_sum)"
   ]
  },
  {
   "cell_type": "markdown",
   "id": "4cfe4565-2fcd-4e73-9928-c677f2825a06",
   "metadata": {},
   "source": [
    "3.Write a program to print the characters of a string in reverse order using a `for` loop."
   ]
  },
  {
   "cell_type": "code",
   "execution_count": 7,
   "id": "eb9a51f0-75b9-4f35-b81b-7dd3dfb3be85",
   "metadata": {},
   "outputs": [
    {
     "name": "stdout",
     "output_type": "stream",
     "text": [
      "Reversed String: !noruenI,sllikswP\n"
     ]
    }
   ],
   "source": [
    "# Input string\n",
    "input_string = \"Pwskills,Ineuron!\"\n",
    "\n",
    "# Initialize an empty string to store the reversed string\n",
    "reversed_string = \"\"\n",
    "\n",
    "# Iterate through the input string in reverse order\n",
    "for char in reversed(input_string):\n",
    "    reversed_string += char\n",
    "\n",
    "# Print the reversed string\n",
    "print(\"Reversed String:\", reversed_string)"
   ]
  },
  {
   "cell_type": "markdown",
   "id": "52d9088e-673b-494b-90fa-c495a2e76515",
   "metadata": {},
   "source": [
    "4. Develop a program that finds the factorial of a given number using a `for` loop."
   ]
  },
  {
   "cell_type": "code",
   "execution_count": 8,
   "id": "28034f4a-da9c-49c0-89f1-a0122ab16d73",
   "metadata": {},
   "outputs": [
    {
     "name": "stdin",
     "output_type": "stream",
     "text": [
      "Enter a number:  5\n"
     ]
    },
    {
     "name": "stdout",
     "output_type": "stream",
     "text": [
      "Factorial of 5 is 120\n"
     ]
    }
   ],
   "source": [
    "# Input number for which you want to calculate the factorial\n",
    "number = int(input(\"Enter a number: \"))\n",
    "\n",
    "# Initialize a variable to store the factorial\n",
    "factorial = 1\n",
    "\n",
    "# Check if the input number is negative\n",
    "if number < 0:\n",
    "    print(\"Factorial is not defined for negative numbers.\")\n",
    "elif number == 0:\n",
    "    print(\"Factorial of 0 is 1.\")\n",
    "else:\n",
    "    # Calculate the factorial using a for loop\n",
    "    for i in range(1, number + 1):\n",
    "        factorial *= i\n",
    "\n",
    "    # Print the result\n",
    "    print(f\"Factorial of {number} is {factorial}\")"
   ]
  },
  {
   "cell_type": "markdown",
   "id": "1ce1690f-05e5-4d71-ac09-7717a8870367",
   "metadata": {},
   "source": [
    "5. Create a program to print the multiplication table of a given number using a `for` loop."
   ]
  },
  {
   "cell_type": "code",
   "execution_count": 9,
   "id": "0fbd7838-dfba-4c90-805f-6e7f69e7ab2a",
   "metadata": {},
   "outputs": [
    {
     "name": "stdin",
     "output_type": "stream",
     "text": [
      "Enter a number:  3\n"
     ]
    },
    {
     "name": "stdout",
     "output_type": "stream",
     "text": [
      "Multiplication table for 3:\n",
      "3 x 1 = 3\n",
      "3 x 2 = 6\n",
      "3 x 3 = 9\n",
      "3 x 4 = 12\n",
      "3 x 5 = 15\n",
      "3 x 6 = 18\n",
      "3 x 7 = 21\n",
      "3 x 8 = 24\n",
      "3 x 9 = 27\n",
      "3 x 10 = 30\n"
     ]
    }
   ],
   "source": [
    "# Input number for which you want to print the multiplication table\n",
    "number = int(input(\"Enter a number: \"))\n",
    "\n",
    "# Set the range for the multiplication table (e.g., from 1 to 10)\n",
    "start = 1\n",
    "end = 10\n",
    "\n",
    "# Print the multiplication table using a for loop\n",
    "print(f\"Multiplication table for {number}:\")\n",
    "for i in range(start, end + 1):\n",
    "    result = number * i\n",
    "    print(f\"{number} x {i} = {result}\")"
   ]
  },
  {
   "cell_type": "markdown",
   "id": "87e35443-f3ae-41e7-a751-c6874e991366",
   "metadata": {},
   "source": [
    "6. Write a program that counts the number of even and odd numbers in a list using a `for` loop."
   ]
  },
  {
   "cell_type": "code",
   "execution_count": 11,
   "id": "268d1da5-43de-41cf-93e9-6b5cd6d87e88",
   "metadata": {},
   "outputs": [
    {
     "name": "stdout",
     "output_type": "stream",
     "text": [
      "Even numbers: 5\n",
      "Odd numbers: 4\n"
     ]
    }
   ],
   "source": [
    "# Input list of numbers\n",
    "numbers = [10, 12, 13, 14, 15, 16, 17,18, 19]\n",
    "\n",
    "# Initialize counters for even and odd numbers\n",
    "even_count = 0\n",
    "odd_count = 0\n",
    "\n",
    "# Iterate through the list and count even and odd numbers\n",
    "for num in numbers:\n",
    "    if num % 2 == 0:\n",
    "        even_count += 1\n",
    "    else:\n",
    "        odd_count += 1\n",
    "\n",
    "# Print the results\n",
    "print(\"Even numbers:\", even_count)\n",
    "print(\"Odd numbers:\", odd_count)\n"
   ]
  },
  {
   "cell_type": "markdown",
   "id": "4ecb00a2-aa48-40ec-8b60-30905b69b38f",
   "metadata": {},
   "source": [
    "\n",
    "7. Develop a program that prints the squares of numbers from 1 to 5 using a `for` loop."
   ]
  },
  {
   "cell_type": "code",
   "execution_count": 12,
   "id": "c094e8a1-cb9f-4983-a664-09eb88f9b746",
   "metadata": {},
   "outputs": [
    {
     "name": "stdout",
     "output_type": "stream",
     "text": [
      "Squares of numbers from 1 to 5:\n",
      "1 squared is 1\n",
      "2 squared is 4\n",
      "3 squared is 9\n",
      "4 squared is 16\n",
      "5 squared is 25\n"
     ]
    }
   ],
   "source": [
    "# Print the squares of numbers from 1 to 5 using a for loop\n",
    "print(\"Squares of numbers from 1 to 5:\")\n",
    "for num in range(1, 6):\n",
    "    square = num ** 2\n",
    "    print(f\"{num} squared is {square}\")\n"
   ]
  },
  {
   "cell_type": "markdown",
   "id": "574abd79-d9da-45c1-828d-16ebe3fc7a67",
   "metadata": {},
   "source": [
    "8. Create a program to find the length of a string without using the `len()` function."
   ]
  },
  {
   "cell_type": "code",
   "execution_count": 13,
   "id": "b9a32e20-ef17-4232-ad48-6c371ff26556",
   "metadata": {},
   "outputs": [
    {
     "name": "stdout",
     "output_type": "stream",
     "text": [
      "Length of the string: 18\n"
     ]
    }
   ],
   "source": [
    "# Input string\n",
    "input_string = \"pwskills, ineuron!\"\n",
    "\n",
    "# Initialize a variable to count the characters\n",
    "length = 0\n",
    "\n",
    "# Iterate through the string using a for loop\n",
    "for char in input_string:\n",
    "    length += 1\n",
    "\n",
    "# Print the length of the string\n",
    "print(\"Length of the string:\", length)"
   ]
  },
  {
   "cell_type": "markdown",
   "id": "027f913e-9c21-4bbd-8a7b-a07f20613b32",
   "metadata": {},
   "source": [
    "9. Write a program that calculates the average of a list of numbers using a `for` loop."
   ]
  },
  {
   "cell_type": "code",
   "execution_count": 15,
   "id": "f6ed1452-96d4-4dbc-a53b-5305b95e8238",
   "metadata": {},
   "outputs": [
    {
     "name": "stdout",
     "output_type": "stream",
     "text": [
      "Average: 31.0\n"
     ]
    }
   ],
   "source": [
    "# Input list of numbers\n",
    "numbers = [11,21, 31, 41, 51]\n",
    "\n",
    "# Initialize variables for sum and count\n",
    "total_sum = 0\n",
    "count = 0\n",
    "\n",
    "# Iterate through the list and calculate the sum and count\n",
    "for num in numbers:\n",
    "    total_sum += num\n",
    "    count += 1\n",
    "\n",
    "# Calculate the average\n",
    "if count > 0:\n",
    "    average = total_sum / count\n",
    "else:\n",
    "    average = 0  # To handle the case of an empty list\n",
    "\n",
    "# Print the average\n",
    "print(\"Average:\", average)\n"
   ]
  },
  {
   "cell_type": "markdown",
   "id": "377b6a2f-1b01-4f7b-978b-add658cf7178",
   "metadata": {},
   "source": [
    "10. Develop a program that prints the first `n` Fibonacci numbers using a `for` loop."
   ]
  },
  {
   "cell_type": "code",
   "execution_count": 16,
   "id": "586b49ca-5d11-476b-8522-d1d90c0b6a72",
   "metadata": {},
   "outputs": [
    {
     "name": "stdin",
     "output_type": "stream",
     "text": [
      "Enter the number of Fibonacci numbers to generate:  5\n"
     ]
    },
    {
     "name": "stdout",
     "output_type": "stream",
     "text": [
      "The first 5 Fibonacci numbers:\n",
      "0 1 1 2 3 "
     ]
    }
   ],
   "source": [
    "# Input the number of Fibonacci numbers to generate\n",
    "n = int(input(\"Enter the number of Fibonacci numbers to generate: \"))\n",
    "\n",
    "# Initialize the first two Fibonacci numbers\n",
    "fibonacci_numbers = [0, 1]\n",
    "\n",
    "# Generate the Fibonacci numbers using a for loop\n",
    "for i in range(2, n):\n",
    "    next_fibonacci = fibonacci_numbers[-1] + fibonacci_numbers[-2]\n",
    "    fibonacci_numbers.append(next_fibonacci)\n",
    "\n",
    "# Print the first n Fibonacci numbers\n",
    "print(f\"The first {n} Fibonacci numbers:\")\n",
    "for num in fibonacci_numbers:\n",
    "    print(num, end=\" \")\n"
   ]
  },
  {
   "cell_type": "markdown",
   "id": "1d84c23c-f6be-4c7f-9442-35a7bcb23ecd",
   "metadata": {},
   "source": [
    "### **Intermediate Level:**\n",
    "---"
   ]
  },
  {
   "cell_type": "markdown",
   "id": "ba47aa54-3733-40d1-92cc-7cbb9d61e8d0",
   "metadata": {},
   "source": [
    "11. Write a program to check if a given list contains any duplicates using a `for` loop."
   ]
  },
  {
   "cell_type": "code",
   "execution_count": 18,
   "id": "2ba13d68-45ed-421d-bcc6-8016ac259cb9",
   "metadata": {},
   "outputs": [
    {
     "name": "stdout",
     "output_type": "stream",
     "text": [
      "The list contains duplicates.\n"
     ]
    }
   ],
   "source": [
    "# Input list\n",
    "my_list = [11, 12, 13, 14, 15, 11]  # This list contains a duplicate (20)\n",
    "\n",
    "# Initialize a flag variable to indicate duplicate\n",
    "has_duplicate = False\n",
    "\n",
    "# Iterate through the list using a for loop\n",
    "for i in range(len(my_list)):\n",
    "    for j in range(i + 1, len(my_list)):\n",
    "        if my_list[i] == my_list[j]:\n",
    "            has_duplicate = True\n",
    "            break\n",
    "\n",
    "# Check if a duplicate was found and print the result\n",
    "if has_duplicate:\n",
    "    print(\"The list contains duplicates.\")\n",
    "else:\n",
    "    print(\"The list does not contain duplicates.\")\n"
   ]
  },
  {
   "cell_type": "markdown",
   "id": "681ef890-6980-4d71-baf7-89469fd10804",
   "metadata": {},
   "source": [
    "12. Create a program that prints the prime numbers in a given range using a `for` loop."
   ]
  },
  {
   "cell_type": "code",
   "execution_count": 19,
   "id": "8102ee14-6603-4188-a79f-e0150a94f1db",
   "metadata": {},
   "outputs": [
    {
     "name": "stdin",
     "output_type": "stream",
     "text": [
      "Enter the starting number:  1\n",
      "Enter the ending number:  10\n"
     ]
    },
    {
     "name": "stdout",
     "output_type": "stream",
     "text": [
      "Prime numbers between 1 and 10:\n",
      "2 3 5 7 "
     ]
    }
   ],
   "source": [
    "# Input the range of numbers\n",
    "start = int(input(\"Enter the starting number: \"))\n",
    "end = int(input(\"Enter the ending number: \"))\n",
    "\n",
    "print(f\"Prime numbers between {start} and {end}:\")\n",
    "\n",
    "# Iterate through the range using a for loop\n",
    "for num in range(start, end + 1):\n",
    "    if num > 1:\n",
    "        is_prime = True\n",
    "        for i in range(2, int(num**0.5) + 1):\n",
    "            if num % i == 0:\n",
    "                is_prime = False\n",
    "                break\n",
    "        if is_prime:\n",
    "            print(num, end=\" \")\n"
   ]
  },
  {
   "cell_type": "markdown",
   "id": "90397078-437a-44ea-bf32-afd265178f48",
   "metadata": {},
   "source": [
    "13. Develop a program that counts the number of vowels in a string using a `for` loop."
   ]
  },
  {
   "cell_type": "code",
   "execution_count": 23,
   "id": "3bb4593a-2e87-4ab1-9e57-528e3ee52a0c",
   "metadata": {},
   "outputs": [
    {
     "name": "stdout",
     "output_type": "stream",
     "text": [
      "Number of vowels: 6\n"
     ]
    }
   ],
   "source": [
    "# Input string\n",
    "input_string = \"Pwskill and ineuron!\"\n",
    "\n",
    "# Convert the input string to lowercase (optional, to count both uppercase and lowercase vowels)\n",
    "input_string = input_string.lower()\n",
    "\n",
    "# Initialize a variable to count vowels\n",
    "vowel_count = 0\n",
    "\n",
    "# Define a set of vowels\n",
    "vowels = \"aeiou\"\n",
    "\n",
    "# Iterate through the string using a for loop\n",
    "for char in input_string:\n",
    "    if char in vowels:\n",
    "        vowel_count += 1\n",
    "\n",
    "# Print the count of vowels\n",
    "print(\"Number of vowels:\", vowel_count)\n"
   ]
  },
  {
   "cell_type": "markdown",
   "id": "e1dc3cee-31bf-4e5d-be43-77a1297a1550",
   "metadata": {},
   "source": [
    "14. Write a program to find the maximum element in a 2D list using a nested `for` loop."
   ]
  },
  {
   "cell_type": "code",
   "execution_count": 24,
   "id": "20676c7c-d3a9-477d-907f-2d4035b51d0c",
   "metadata": {},
   "outputs": [
    {
     "name": "stdout",
     "output_type": "stream",
     "text": [
      "Maximum element in the 2D list: 50\n"
     ]
    }
   ],
   "source": [
    "# Input 2D list\n",
    "matrix = [\n",
    "    [10, 20, 30],\n",
    "    [5, 25, 15],\n",
    "    [40, 50, 35]\n",
    "]\n",
    "\n",
    "# Initialize a variable to store the maximum element\n",
    "max_element = matrix[0][0]  # Assume the first element as the maximum\n",
    "\n",
    "# Iterate through the 2D list using nested for loops\n",
    "for row in matrix:\n",
    "    for element in row:\n",
    "        if element > max_element:\n",
    "            max_element = element\n",
    "\n",
    "# Print the maximum element\n",
    "print(\"Maximum element in the 2D list:\", max_element)\n"
   ]
  },
  {
   "cell_type": "markdown",
   "id": "19594781-f836-479d-9a77-72a712ad2622",
   "metadata": {},
   "source": [
    "15. Create a program that removes all occurrences of a specific element from a list using a `for` loop."
   ]
  },
  {
   "cell_type": "code",
   "execution_count": 25,
   "id": "71feead3-2761-41b2-802d-6828c4ee7794",
   "metadata": {},
   "outputs": [
    {
     "name": "stdout",
     "output_type": "stream",
     "text": [
      "Original List: [100, 200, 300, 200, 400, 200, 500]\n",
      "Modified List: [100, 300, 400, 500]\n"
     ]
    }
   ],
   "source": [
    "# Input list\n",
    "my_list = [100, 200, 300, 200, 400, 200, 500]\n",
    "\n",
    "# Input element to be removed\n",
    "element_to_remove = 200\n",
    "\n",
    "# Initialize an empty list to store the modified list\n",
    "new_list = []\n",
    "\n",
    "# Iterate through the original list using a for loop\n",
    "for item in my_list:\n",
    "    if item != element_to_remove:\n",
    "        new_list.append(item)\n",
    "\n",
    "# Print the modified list with the specified element removed\n",
    "print(\"Original List:\", my_list)\n",
    "print(\"Modified List:\", new_list)\n"
   ]
  },
  {
   "cell_type": "markdown",
   "id": "5570db99-8066-4d1f-bca5-43f0913e60db",
   "metadata": {},
   "source": [
    "16. Develop a program that generates a multiplication table for numbers from 1 to 5 using a nested `for` loop."
   ]
  },
  {
   "cell_type": "code",
   "execution_count": 27,
   "id": "77f3a404-174e-44de-a5a8-f870191f6ed7",
   "metadata": {},
   "outputs": [
    {
     "name": "stdout",
     "output_type": "stream",
     "text": [
      "Multiplication table for 1:\n",
      "1 x 1 = 1\n",
      "1 x 2 = 2\n",
      "1 x 3 = 3\n",
      "1 x 4 = 4\n",
      "1 x 5 = 5\n",
      "1 x 6 = 6\n",
      "1 x 7 = 7\n",
      "1 x 8 = 8\n",
      "1 x 9 = 9\n",
      "1 x 10 = 10\n",
      "1 x 11 = 11\n",
      "1 x 12 = 12\n",
      "\n",
      "Multiplication table for 2:\n",
      "2 x 1 = 2\n",
      "2 x 2 = 4\n",
      "2 x 3 = 6\n",
      "2 x 4 = 8\n",
      "2 x 5 = 10\n",
      "2 x 6 = 12\n",
      "2 x 7 = 14\n",
      "2 x 8 = 16\n",
      "2 x 9 = 18\n",
      "2 x 10 = 20\n",
      "2 x 11 = 22\n",
      "2 x 12 = 24\n",
      "\n",
      "Multiplication table for 3:\n",
      "3 x 1 = 3\n",
      "3 x 2 = 6\n",
      "3 x 3 = 9\n",
      "3 x 4 = 12\n",
      "3 x 5 = 15\n",
      "3 x 6 = 18\n",
      "3 x 7 = 21\n",
      "3 x 8 = 24\n",
      "3 x 9 = 27\n",
      "3 x 10 = 30\n",
      "3 x 11 = 33\n",
      "3 x 12 = 36\n",
      "\n",
      "Multiplication table for 4:\n",
      "4 x 1 = 4\n",
      "4 x 2 = 8\n",
      "4 x 3 = 12\n",
      "4 x 4 = 16\n",
      "4 x 5 = 20\n",
      "4 x 6 = 24\n",
      "4 x 7 = 28\n",
      "4 x 8 = 32\n",
      "4 x 9 = 36\n",
      "4 x 10 = 40\n",
      "4 x 11 = 44\n",
      "4 x 12 = 48\n",
      "\n",
      "Multiplication table for 5:\n",
      "5 x 1 = 5\n",
      "5 x 2 = 10\n",
      "5 x 3 = 15\n",
      "5 x 4 = 20\n",
      "5 x 5 = 25\n",
      "5 x 6 = 30\n",
      "5 x 7 = 35\n",
      "5 x 8 = 40\n",
      "5 x 9 = 45\n",
      "5 x 10 = 50\n",
      "5 x 11 = 55\n",
      "5 x 12 = 60\n",
      "\n"
     ]
    }
   ],
   "source": [
    "# Define the range for the multiplication table\n",
    "start = 1\n",
    "end = 5\n",
    "\n",
    "# Iterate through the numbers using a nested for loop\n",
    "for i in range(start, end + 1):\n",
    "    print(f\"Multiplication table for {i}:\")\n",
    "    for j in range(1, 13):\n",
    "        result = i * j\n",
    "        print(f\"{i} x {j} = {result}\")\n",
    "    print()  # Add a blank line to separate tables\n"
   ]
  },
  {
   "cell_type": "markdown",
   "id": "cfe25621-a3f0-4a66-9b5c-304290c628b0",
   "metadata": {},
   "source": [
    "17. Write a program that converts a list of Fahrenheit temperatures to Celsius using a `for` loop."
   ]
  },
  {
   "cell_type": "code",
   "execution_count": 30,
   "id": "4a6577e1-ed9a-470c-b920-7eb9a842983f",
   "metadata": {},
   "outputs": [
    {
     "name": "stdout",
     "output_type": "stream",
     "text": [
      "Fahrenheit Temperatures: [116, 228, 337, 494, 105]\n",
      "Celsius Temperatures: [46.666666666666664, 108.88888888888889, 169.44444444444446, 256.6666666666667, 40.55555555555556]\n"
     ]
    }
   ],
   "source": [
    "# Input list of Fahrenheit temperatures\n",
    "fahrenheit_temperatures = [116, 228, 337, 494, 105]\n",
    "\n",
    "# Initialize an empty list to store Celsius temperatures\n",
    "celsius_temperatures = []\n",
    "\n",
    "# Convert Fahrenheit to Celsius using a for loop\n",
    "for fahrenheit in fahrenheit_temperatures:\n",
    "    celsius = (fahrenheit - 32) * 5/9\n",
    "    celsius_temperatures.append(celsius)\n",
    "\n",
    "# Print the converted Celsius temperatures\n",
    "print(\"Fahrenheit Temperatures:\", fahrenheit_temperatures)\n",
    "print(\"Celsius Temperatures:\", celsius_temperatures)\n"
   ]
  },
  {
   "cell_type": "markdown",
   "id": "93c2b434-af59-4baa-b2db-2a1e33166563",
   "metadata": {},
   "source": [
    "18. Create a program to print the common elements from two lists using a `for` loop."
   ]
  },
  {
   "cell_type": "code",
   "execution_count": 31,
   "id": "d9c5d80e-0117-45f8-8260-745439a9f68d",
   "metadata": {},
   "outputs": [
    {
     "name": "stdout",
     "output_type": "stream",
     "text": [
      "Common elements: [30, 40, 50]\n"
     ]
    }
   ],
   "source": [
    "# Input lists\n",
    "list1 = [10, 20, 30, 40, 50]\n",
    "list2 = [30, 40, 50, 60, 70]\n",
    "\n",
    "# Initialize an empty list to store common elements\n",
    "common_elements = []\n",
    "\n",
    "# Iterate through the first list using a for loop\n",
    "for item1 in list1:\n",
    "    # Iterate through the second list using a nested for loop\n",
    "    for item2 in list2:\n",
    "        # Check if the elements are equal and not already in the common_elements list\n",
    "        if item1 == item2 and item1 not in common_elements:\n",
    "            common_elements.append(item1)\n",
    "\n",
    "# Print the common elements\n",
    "print(\"Common elements:\", common_elements)\n"
   ]
  },
  {
   "cell_type": "markdown",
   "id": "09293d72-f4f9-42c2-b779-0d4a66ce5eb5",
   "metadata": {},
   "source": [
    "19. Develop a program that prints the pattern of right-angled triangles using a `for` loop. Use ‘*’ to draw the\n",
    "pattern"
   ]
  },
  {
   "cell_type": "code",
   "execution_count": 32,
   "id": "50e3cc89-a7f6-4385-a0a0-a2d2215ebff7",
   "metadata": {},
   "outputs": [
    {
     "name": "stdin",
     "output_type": "stream",
     "text": [
      "Enter the number of rows:  6\n"
     ]
    },
    {
     "name": "stdout",
     "output_type": "stream",
     "text": [
      "* \n",
      "* * \n",
      "* * * \n",
      "* * * * \n",
      "* * * * * \n",
      "* * * * * * \n"
     ]
    }
   ],
   "source": [
    "# Input the number of rows for the pattern\n",
    "n = int(input(\"Enter the number of rows: \"))\n",
    "\n",
    "# Use a for loop to print the pattern\n",
    "for i in range(1, n + 1):\n",
    "    for j in range(i):\n",
    "        print('*', end=' ')\n",
    "    print()"
   ]
  },
  {
   "cell_type": "markdown",
   "id": "e08e0095-cf72-4f45-87db-61bf872dc956",
   "metadata": {},
   "source": [
    "20. Write a program to find the greatest common divisor (GCD) of two numbers using a `for` loop."
   ]
  },
  {
   "cell_type": "code",
   "execution_count": 33,
   "id": "caa9b670-8606-4fcd-a296-cbc8dbf13070",
   "metadata": {},
   "outputs": [
    {
     "name": "stdin",
     "output_type": "stream",
     "text": [
      "Enter the first number:  12\n",
      "Enter the second number:  6\n"
     ]
    },
    {
     "name": "stdout",
     "output_type": "stream",
     "text": [
      "The greatest common divisor (GCD) of 12 and 6 is 6\n"
     ]
    }
   ],
   "source": [
    "# Input two numbers\n",
    "num1 = int(input(\"Enter the first number: \"))\n",
    "num2 = int(input(\"Enter the second number: \"))\n",
    "\n",
    "# Initialize variables for GCD calculation\n",
    "a = num1\n",
    "b = num2\n",
    "\n",
    "# Use a for loop to find the GCD\n",
    "while b:\n",
    "    a, b = b, a % b\n",
    "\n",
    "# 'a' now contains the GCD of the two numbers\n",
    "gcd = a\n",
    "\n",
    "# Print the GCD\n",
    "print(f\"The greatest common divisor (GCD) of {num1} and {num2} is {gcd}\")\n"
   ]
  },
  {
   "cell_type": "markdown",
   "id": "47eae8f0-a524-4362-8a43-1b9b58dcde0e",
   "metadata": {},
   "source": [
    "### **Advanced Level:**\n",
    "---\n",
    "---"
   ]
  },
  {
   "cell_type": "markdown",
   "id": "564cb0d7-7b7e-4bc1-927a-420c8d3ecb30",
   "metadata": {},
   "source": [
    "21. Create a program that calculates the sum of the digits of numbers in a list using a list comprehension."
   ]
  },
  {
   "cell_type": "code",
   "execution_count": 35,
   "id": "e5cf172c-7afe-40d4-8569-506b4a0dcbf1",
   "metadata": {},
   "outputs": [
    {
     "name": "stdout",
     "output_type": "stream",
     "text": [
      "Number: 123, Sum of Digits: 6\n",
      "Number: 45, Sum of Digits: 9\n",
      "Number: 6789, Sum of Digits: 30\n",
      "Number: 12, Sum of Digits: 3\n",
      "Number: 987, Sum of Digits: 24\n"
     ]
    }
   ],
   "source": [
    "# Input list of numbers\n",
    "numbers = [123, 45, 6789, 12, 987]\n",
    "\n",
    "# Use a list comprehension to calculate the sum of digits for each number\n",
    "sums = [sum(int(digit) for digit in str(number)) for number in numbers]\n",
    "\n",
    "# Print the original numbers and their sums of digits\n",
    "for i in range(len(numbers)):\n",
    "    print(f\"Number: {numbers[i]}, Sum of Digits: {sums[i]}\")"
   ]
  },
  {
   "cell_type": "markdown",
   "id": "feca114f-5637-42f9-9683-5ef141c08d31",
   "metadata": {},
   "source": [
    "22. Write a program to find the prime factors of a given number using a `for` loop and list comprehension."
   ]
  },
  {
   "cell_type": "code",
   "execution_count": 44,
   "id": "5b07a65e-b2c1-46c7-a7f1-434245ef6e25",
   "metadata": {},
   "outputs": [
    {
     "name": "stdin",
     "output_type": "stream",
     "text": [
      "Enter a number:  6\n"
     ]
    },
    {
     "name": "stdout",
     "output_type": "stream",
     "text": [
      "Prime factors: [2, 3]\n"
     ]
    }
   ],
   "source": [
    "# Input number\n",
    "number = int(input(\"Enter a number: \"))\n",
    "\n",
    "# Initialize a list to store prime factors\n",
    "prime_factors = []\n",
    "\n",
    "# Find prime factors using a for loop and list comprehension\n",
    "for divisor in range(2, number + 1):\n",
    "    while number % divisor == 0:\n",
    "        prime_factors.append(divisor)\n",
    "        number //= divisor\n",
    "\n",
    "# Print the prime factors\n",
    "print(f\"Prime factors:\", prime_factors)\n"
   ]
  },
  {
   "cell_type": "markdown",
   "id": "cae76419-75f7-45ca-a3ba-960a9344c55b",
   "metadata": {},
   "source": [
    "23. Develop a program that extracts unique elements from a list and stores them in a new list using a list\n",
    "comprehension."
   ]
  },
  {
   "cell_type": "code",
   "execution_count": 45,
   "id": "27f878a6-d155-4488-9e06-0e734d871c79",
   "metadata": {},
   "outputs": [
    {
     "name": "stdout",
     "output_type": "stream",
     "text": [
      "Original List: [3, 2, 1, 2, 3, 4, 4, 5, 5, 9, 6, 1, 4]\n",
      "Unique Elements: [9, 6]\n"
     ]
    }
   ],
   "source": [
    "# Input list with duplicate elements\n",
    "original_list = [3,2, 1,2, 3, 4, 4, 5, 5,9,6,1,4]\n",
    "\n",
    "# Use a list comprehension to extract unique elements\n",
    "unique_elements = [x for x in original_list if original_list.count(x) == 1]\n",
    "\n",
    "# Print the unique elements\n",
    "print(\"Original List:\", original_list)\n",
    "print(\"Unique Elements:\", unique_elements)\n"
   ]
  },
  {
   "cell_type": "markdown",
   "id": "9a12c318-f9c1-4bbb-8533-25471fda100c",
   "metadata": {},
   "source": [
    "24. Create a program that generates a list of all palindromic numbers up to a specified limit using a list\n",
    "comprehension."
   ]
  },
  {
   "cell_type": "code",
   "execution_count": 50,
   "id": "46fe103c-364b-45ce-8afc-9ea781133d1b",
   "metadata": {},
   "outputs": [
    {
     "name": "stdin",
     "output_type": "stream",
     "text": [
      "Enter the limit:  123\n"
     ]
    },
    {
     "name": "stdout",
     "output_type": "stream",
     "text": [
      "Palindromic Numbers: [1, 2, 3, 4, 5, 6, 7, 8, 9, 11, 22, 33, 44, 55, 66, 77, 88, 99, 101, 111, 121]\n"
     ]
    }
   ],
   "source": [
    "# Input the limit\n",
    "limit = int(input(\"Enter the limit: \"))\n",
    "\n",
    "# Use a list comprehension to generate palindromic numbers\n",
    "palindromic_numbers = [num for num in range(1, limit + 1) if str(num) == str(num)[::-1]]\n",
    "\n",
    "# Print the list of palindromic numbers\n",
    "print(\"Palindromic Numbers:\", palindromic_numbers)\n"
   ]
  },
  {
   "cell_type": "markdown",
   "id": "1f2707eb-6f01-4cd8-b076-65bc36c35222",
   "metadata": {},
   "source": [
    "25. Write a program to flatten a nested list using list comprehension."
   ]
  },
  {
   "cell_type": "code",
   "execution_count": 51,
   "id": "00fe7ea0-b5b0-4948-95ea-8ea21442509a",
   "metadata": {},
   "outputs": [
    {
     "name": "stdout",
     "output_type": "stream",
     "text": [
      "Original Nested List: [[1, 2, 3], [4, 5], [6, 7, 8]]\n",
      "Flattened List: [1, 2, 3, 4, 5, 6, 7, 8]\n"
     ]
    }
   ],
   "source": [
    "# Input nested list\n",
    "nested_list = [[1, 2, 3], [4, 5], [6, 7, 8]]\n",
    "\n",
    "# Use list comprehension to flatten the nested list\n",
    "flattened_list = [item for sublist in nested_list for item in sublist]\n",
    "\n",
    "# Print the flattened list\n",
    "print(\"Original Nested List:\", nested_list)\n",
    "print(\"Flattened List:\", flattened_list)\n"
   ]
  },
  {
   "cell_type": "markdown",
   "id": "93b6a30c-2cd4-494e-a89d-901c3b30d5e0",
   "metadata": {},
   "source": [
    "26. Develop a program that computes the sum of even and odd numbers in a list separately using list\n",
    "comprehension."
   ]
  },
  {
   "cell_type": "code",
   "execution_count": 52,
   "id": "2c1b5dd0-ad8f-4bf8-a3e2-eb02aba44423",
   "metadata": {},
   "outputs": [
    {
     "name": "stdout",
     "output_type": "stream",
     "text": [
      "Original List: [1, 2, 3, 4, 5, 6, 7, 8, 9, 10]\n",
      "Even Numbers: [2, 4, 6, 8, 10]\n",
      "Odd Numbers: [1, 3, 5, 7, 9]\n",
      "Sum of Even Numbers: 30\n",
      "Sum of Odd Numbers: 25\n"
     ]
    }
   ],
   "source": [
    "# Input list of numbers\n",
    "numbers = [1, 2, 3, 4, 5, 6, 7, 8, 9, 10]\n",
    "\n",
    "# Use list comprehension to separate even and odd numbers\n",
    "even_numbers = [num for num in numbers if num % 2 == 0]\n",
    "odd_numbers = [num for num in numbers if num % 2 != 0]\n",
    "\n",
    "# Calculate the sum of even and odd numbers separately using the sum() function\n",
    "sum_even = sum(even_numbers)\n",
    "sum_odd = sum(odd_numbers)\n",
    "\n",
    "# Print the sums\n",
    "print(\"Original List:\", numbers)\n",
    "print(\"Even Numbers:\", even_numbers)\n",
    "print(\"Odd Numbers:\", odd_numbers)\n",
    "print(\"Sum of Even Numbers:\", sum_even)\n",
    "print(\"Sum of Odd Numbers:\", sum_odd)\n"
   ]
  },
  {
   "cell_type": "markdown",
   "id": "cdef56a1-0e6c-43a4-93d7-bc4204c8e1ff",
   "metadata": {},
   "source": [
    "27. Create a program that generates a list of squares of odd numbers between 1 and 10 using list\n",
    "comprehension."
   ]
  },
  {
   "cell_type": "code",
   "execution_count": 53,
   "id": "157e8583-19c0-4218-b80c-2ecc164902dd",
   "metadata": {},
   "outputs": [
    {
     "name": "stdout",
     "output_type": "stream",
     "text": [
      "Squares of Odd Numbers: [1, 9, 25, 49, 81]\n"
     ]
    }
   ],
   "source": [
    "# Use list comprehension to generate squares of odd numbers between 1 and 10\n",
    "squares_of_odd_numbers = [num**2 for num in range(1, 11) if num % 2 != 0]\n",
    "\n",
    "# Print the list of squares\n",
    "print(\"Squares of Odd Numbers:\", squares_of_odd_numbers)\n"
   ]
  },
  {
   "cell_type": "markdown",
   "id": "ee587856-3ac3-47fb-a7ac-35873d904ba5",
   "metadata": {},
   "source": [
    "28. Write a program that combines two lists into a dictionary using list comprehension."
   ]
  },
  {
   "cell_type": "code",
   "execution_count": 54,
   "id": "cd28fe05-915c-4691-a5b2-b98102c8e0c9",
   "metadata": {},
   "outputs": [
    {
     "name": "stdout",
     "output_type": "stream",
     "text": [
      "Combined Dictionary: {'name': 'Ryoba', 'age': 36, 'city': 'Mara'}\n"
     ]
    }
   ],
   "source": [
    "# Input two lists\n",
    "keys = [\"name\", \"age\", \"city\"]\n",
    "values = [\"Ryoba\", 36, \"Mara\"]\n",
    "\n",
    "# Use list comprehension to combine the lists into a dictionary\n",
    "combined_dict = {keys[i]: values[i] for i in range(len(keys))}\n",
    "\n",
    "# Print the combined dictionary\n",
    "print(\"Combined Dictionary:\", combined_dict)\n"
   ]
  },
  {
   "cell_type": "markdown",
   "id": "8d4d61b8-c0ff-44af-a451-878b1736a36e",
   "metadata": {},
   "source": [
    "29. Develop a program that extracts the vowels from a string and stores them in a list using list comprehension."
   ]
  },
  {
   "cell_type": "code",
   "execution_count": 55,
   "id": "2e7c2e9a-eefd-4027-87f0-3447acccbb4b",
   "metadata": {},
   "outputs": [
    {
     "name": "stdin",
     "output_type": "stream",
     "text": [
      "Enter a string:  schooling sio mchezo kabisa\n"
     ]
    },
    {
     "name": "stdout",
     "output_type": "stream",
     "text": [
      "Input String: schooling sio mchezo kabisa\n",
      "Vowels: ['o', 'o', 'i', 'i', 'o', 'e', 'o', 'a', 'i', 'a']\n"
     ]
    }
   ],
   "source": [
    "# Input string\n",
    "input_string = input(\"Enter a string: \")\n",
    "\n",
    "# Define a list of vowels\n",
    "vowels = ['a', 'e', 'i', 'o', 'u']\n",
    "\n",
    "# Use list comprehension to extract vowels from the string\n",
    "vowel_list = [char for char in input_string if char.lower() in vowels]\n",
    "\n",
    "# Print the list of vowels\n",
    "print(\"Input String:\", input_string)\n",
    "print(\"Vowels:\", vowel_list)\n"
   ]
  },
  {
   "cell_type": "markdown",
   "id": "cfe2a7a4-7b60-4014-a126-32af8f914893",
   "metadata": {},
   "source": [
    "30. Create a program that removes all non-numeric characters from a list of strings using list comprehension."
   ]
  },
  {
   "cell_type": "code",
   "execution_count": 56,
   "id": "cec6c4e8-4e4e-428f-abdb-67532ef86eef",
   "metadata": {},
   "outputs": [
    {
     "name": "stdout",
     "output_type": "stream",
     "text": [
      "Original List: ['abc123', 'xyz456', '789pqr', 'lmn']\n",
      "Numeric Strings: ['123', '456', '789', '']\n"
     ]
    }
   ],
   "source": [
    "# Input list of strings\n",
    "strings = [\"abc123\", \"xyz456\", \"789pqr\", \"lmn\"]\n",
    "\n",
    "# Use list comprehension to remove non-numeric characters\n",
    "numeric_strings = [''.join(char for char in string if char.isnumeric()) for string in strings]\n",
    "\n",
    "# Print the list of numeric strings\n",
    "print(\"Original List:\", strings)\n",
    "print(\"Numeric Strings:\", numeric_strings)\n"
   ]
  },
  {
   "cell_type": "markdown",
   "id": "48266a95-97d9-4cbb-9486-ad65c5be3180",
   "metadata": {},
   "source": [
    "### **Challenge Level:**\n",
    "---\n",
    "---"
   ]
  },
  {
   "cell_type": "markdown",
   "id": "578b7f89-53cb-4530-aa79-5e02b85fdaac",
   "metadata": {},
   "source": [
    "31. Write a program to generate a list of prime numbers using the Sieve of Eratosthenes algorithm and list\n",
    "comprehension."
   ]
  },
  {
   "cell_type": "code",
   "execution_count": 57,
   "id": "64c13894-c233-463f-b859-e9d48966f075",
   "metadata": {},
   "outputs": [
    {
     "name": "stdin",
     "output_type": "stream",
     "text": [
      "Enter an upper limit:  15\n"
     ]
    },
    {
     "name": "stdout",
     "output_type": "stream",
     "text": [
      "Prime Numbers up to 15 : [2, 3, 5, 7, 11, 13]\n"
     ]
    }
   ],
   "source": [
    "# Input upper limit for generating prime numbers\n",
    "limit = int(input(\"Enter an upper limit: \"))\n",
    "\n",
    "# Create a list of boolean values to track prime status\n",
    "is_prime = [True] * (limit + 1)\n",
    "is_prime[0] = is_prime[1] = False  # 0 and 1 are not prime\n",
    "\n",
    "# Use Sieve of Eratosthenes algorithm to mark non-prime numbers\n",
    "for num in range(2, int(limit**0.5) + 1):\n",
    "    if is_prime[num]:\n",
    "        for multiple in range(num*num, limit + 1, num):\n",
    "            is_prime[multiple] = False\n",
    "\n",
    "# Generate a list of prime numbers using list comprehension\n",
    "prime_numbers = [num for num, prime in enumerate(is_prime) if prime]\n",
    "\n",
    "# Print the list of prime numbers\n",
    "print(\"Prime Numbers up to\", limit, \":\", prime_numbers)\n"
   ]
  },
  {
   "cell_type": "markdown",
   "id": "cd7df69d-ba3b-4d92-a04e-26454f09378f",
   "metadata": {},
   "source": [
    "32. Create a program that generates a list of all Pythagorean triplets up to a specified limit using list\n",
    "comprehension."
   ]
  },
  {
   "cell_type": "code",
   "execution_count": 58,
   "id": "46e5569f-103f-40cc-9ab9-08c52fe42f25",
   "metadata": {},
   "outputs": [
    {
     "name": "stdin",
     "output_type": "stream",
     "text": [
      "Enter an upper limit:  8\n"
     ]
    },
    {
     "name": "stdout",
     "output_type": "stream",
     "text": [
      "Pythagorean Triplets up to 8 : [(3, 4, 5)]\n"
     ]
    }
   ],
   "source": [
    "# Input upper limit for generating Pythagorean triplets\n",
    "limit = int(input(\"Enter an upper limit: \"))\n",
    "\n",
    "# Generate a list of Pythagorean triplets using list comprehension\n",
    "pythagorean_triplets = [(a, b, c) for a in range(1, limit + 1) for b in range(a, limit + 1)\n",
    "                        for c in range(b, limit + 1) if a**2 + b**2 == c**2]\n",
    "\n",
    "# Print the list of Pythagorean triplets\n",
    "print(\"Pythagorean Triplets up to\", limit, \":\", pythagorean_triplets)\n"
   ]
  },
  {
   "cell_type": "markdown",
   "id": "c5daafc2-55a1-41ae-a385-c6058adbd3eb",
   "metadata": {},
   "source": [
    "33. Develop a program that generates a list of all possible combinations of two lists using list comprehension."
   ]
  },
  {
   "cell_type": "code",
   "execution_count": 59,
   "id": "18405369-e382-44d3-9785-82070489a2b1",
   "metadata": {},
   "outputs": [
    {
     "name": "stdout",
     "output_type": "stream",
     "text": [
      "List 1: [1, 2, 3]\n",
      "List 2: ['A', 'B']\n",
      "Combinations: [(1, 'A'), (1, 'B'), (2, 'A'), (2, 'B'), (3, 'A'), (3, 'B')]\n"
     ]
    }
   ],
   "source": [
    "# Input two lists\n",
    "list1 = [1, 2, 3]\n",
    "list2 = ['A', 'B']\n",
    "\n",
    "# Generate a list of all possible combinations using list comprehension\n",
    "combinations = [(x, y) for x in list1 for y in list2]\n",
    "\n",
    "# Print the list of combinations\n",
    "print(\"List 1:\", list1)\n",
    "print(\"List 2:\", list2)\n",
    "print(\"Combinations:\", combinations)\n"
   ]
  },
  {
   "cell_type": "markdown",
   "id": "13496efd-d38b-4fca-b05e-7fa812737410",
   "metadata": {},
   "source": [
    "34. Write a program that calculates the mean, median, and mode of a list of numbers using list\n",
    "comprehension."
   ]
  },
  {
   "cell_type": "code",
   "execution_count": 61,
   "id": "86593d11-8298-4952-bb24-80dc41196b03",
   "metadata": {},
   "outputs": [
    {
     "name": "stdout",
     "output_type": "stream",
     "text": [
      "List of Numbers: [1, 2, 3, 4, 5, 4, 3, 2, 1]\n",
      "Mean: 2.7777777777777777\n",
      "Median: 3\n",
      "Mode: [1, 2, 3, 4]\n"
     ]
    }
   ],
   "source": [
    "from collections import Counter\n",
    "import statistics\n",
    "\n",
    "# Input list of numbers\n",
    "numbers = [1, 2, 3, 4, 5, 4, 3, 2, 1]\n",
    "\n",
    "# Calculate the mean using list comprehension\n",
    "mean = sum(numbers) / len(numbers)\n",
    "\n",
    "# Calculate the median using list comprehension\n",
    "sorted_numbers = sorted(numbers)\n",
    "n = len(sorted_numbers)\n",
    "median = (sorted_numbers[n // 2] + sorted_numbers[(n - 1) // 2]) / 2 if n % 2 == 0 else sorted_numbers[n // 2]\n",
    "\n",
    "# Calculate the mode using Counter and list comprehension\n",
    "mode = [k for k, v in Counter(numbers).items() if v == max(Counter(numbers).values())]\n",
    "\n",
    "# Print the mean, median, and mode\n",
    "print(\"List of Numbers:\", numbers)\n",
    "print(\"Mean:\", mean)\n",
    "print(\"Median:\", median)\n",
    "print(\"Mode:\", mode)\n"
   ]
  },
  {
   "cell_type": "markdown",
   "id": "5fd6775e-4276-40b7-917f-9fbee8331696",
   "metadata": {},
   "source": [
    "35. Create a program that generates Pascal's triangle up to a specified number of rows using list\n",
    "comprehension."
   ]
  },
  {
   "cell_type": "code",
   "execution_count": 5,
   "id": "f097ec16-32bf-4a64-a6ab-2a596f4b8976",
   "metadata": {},
   "outputs": [
    {
     "name": "stdin",
     "output_type": "stream",
     "text": [
      "Enter the number of rows for Pascal's triangle:  4\n"
     ]
    },
    {
     "name": "stdout",
     "output_type": "stream",
     "text": [
      "Pascal's Triangle:\n",
      "     1      \n",
      "    1 1     \n",
      "   1 2 1    \n",
      "  1 3 3 1   \n"
     ]
    }
   ],
   "source": [
    "# Input the number of rows for Pascal's triangle\n",
    "num_rows = int(input(\"Enter the number of rows for Pascal's triangle: \"))\n",
    "\n",
    "# Generate Pascal's triangle using list comprehension\n",
    "pascals_triangle = [[1] if i == 0 else [1] + [pascals_triangle[i-1][j-1] + pascals_triangle[i-1][j] for j in range(1, i)] + [1] for i in range(num_rows)]\n",
    "\n",
    "# Print Pascal's triangle\n",
    "print(\"Pascal's Triangle:\")\n",
    "for row in pascals_triangle:\n",
    "    print(\" \".join(map(str, row)).center(num_rows * 3))\n"
   ]
  },
  {
   "cell_type": "markdown",
   "id": "8d3475e6-9b48-40be-9e6e-a140a2c1838e",
   "metadata": {},
   "source": [
    "36. Develop a program that calculates the sum of the digits of a factorial of numbers from 1 to 5 using list\n",
    "comprehension."
   ]
  },
  {
   "cell_type": "code",
   "execution_count": 6,
   "id": "31942ff3-edda-4260-aeae-41c0bdcc7f71",
   "metadata": {},
   "outputs": [
    {
     "name": "stdout",
     "output_type": "stream",
     "text": [
      "Factorial of 1 has a digit sum of 1\n",
      "Factorial of 2 has a digit sum of 1\n",
      "Factorial of 3 has a digit sum of 2\n",
      "Factorial of 4 has a digit sum of 6\n",
      "Factorial of 5 has a digit sum of 6\n",
      "Factorial of 6 has a digit sum of 3\n"
     ]
    }
   ],
   "source": [
    "# Calculate factorials for numbers from 1 to 5 using list comprehension\n",
    "factorials = [1]\n",
    "[factorials.append(factorials[-1] * i) for i in range(1, 6)]\n",
    "\n",
    "# Calculate the sum of digits of each factorial using list comprehension\n",
    "digit_sums = [sum(map(int, str(fact))) for fact in factorials]\n",
    "\n",
    "# Print the results\n",
    "for n, digit_sum in enumerate(digit_sums, start=1):\n",
    "    print(f\"Factorial of {n} has a digit sum of {digit_sum}\")\n"
   ]
  },
  {
   "cell_type": "markdown",
   "id": "a720b5c8-cace-4103-9599-a1f238821b33",
   "metadata": {},
   "source": [
    "37. Write a program that finds the longest word in a sentence using list comprehension."
   ]
  },
  {
   "cell_type": "code",
   "execution_count": 7,
   "id": "031a3162-4cb0-464e-9c27-b83856e3d0b6",
   "metadata": {},
   "outputs": [
    {
     "name": "stdin",
     "output_type": "stream",
     "text": [
      "Enter a sentence:  The backups has started yet\n"
     ]
    },
    {
     "name": "stdout",
     "output_type": "stream",
     "text": [
      "Longest word in the sentence: backups\n"
     ]
    }
   ],
   "source": [
    "# Input a sentence\n",
    "sentence = input(\"Enter a sentence: \")\n",
    "\n",
    "# Split the sentence into words\n",
    "words = sentence.split()\n",
    "\n",
    "# Use list comprehension to find the longest word\n",
    "longest_word = max(words, key=len)\n",
    "\n",
    "# Print the longest word\n",
    "print(\"Longest word in the sentence:\", longest_word)\n"
   ]
  },
  {
   "cell_type": "markdown",
   "id": "2447ff11-650b-4aba-8856-6d417d37003a",
   "metadata": {},
   "source": [
    "38. Create a program that filters a list of strings to include only those with more than three vowels using list\n",
    "comprehension."
   ]
  },
  {
   "cell_type": "code",
   "execution_count": 8,
   "id": "88bcf418-a2b8-4667-adc0-974e7b48fc3b",
   "metadata": {},
   "outputs": [
    {
     "name": "stdout",
     "output_type": "stream",
     "text": [
      "Original List: ['hello', 'world', 'programming', 'python', 'ai', 'openai']\n",
      "Strings with More than Three Vowels: ['openai']\n"
     ]
    }
   ],
   "source": [
    "# Input list of strings\n",
    "strings = [\"hello\", \"world\", \"programming\", \"python\", \"ai\", \"openai\"]\n",
    "\n",
    "# Function to count vowels in a string\n",
    "def count_vowels(s):\n",
    "    return sum(1 for char in s if char.lower() in \"aeiou\")\n",
    "\n",
    "# Use list comprehension to filter strings with more than three vowels\n",
    "filtered_strings = [s for s in strings if count_vowels(s) > 3]\n",
    "\n",
    "# Print the filtered strings\n",
    "print(\"Original List:\", strings)\n",
    "print(\"Strings with More than Three Vowels:\", filtered_strings)\n"
   ]
  },
  {
   "cell_type": "markdown",
   "id": "fae580ba-41a8-48cd-8044-eb11a994da33",
   "metadata": {},
   "source": [
    "39. Develop a program that calculates the sum of the digits of numbers from 1 to 1000 using list\n",
    "comprehension."
   ]
  },
  {
   "cell_type": "code",
   "execution_count": 9,
   "id": "0675f8cd-7cc8-4ac5-85c5-a59cdb1a43a8",
   "metadata": {},
   "outputs": [
    {
     "name": "stdout",
     "output_type": "stream",
     "text": [
      "Total sum of digits from 1 to 1000: 13501\n"
     ]
    }
   ],
   "source": [
    "# Use list comprehension to generate numbers from 1 to 1000\n",
    "numbers = list(range(1, 1001))\n",
    "\n",
    "# Calculate the sum of the digits of each number using list comprehension\n",
    "digit_sums = [sum(int(digit) for digit in str(num)) for num in numbers]\n",
    "\n",
    "# Calculate the total sum of digit sums\n",
    "total_sum = sum(digit_sums)\n",
    "\n",
    "# Print the total sum\n",
    "print(\"Total sum of digits from 1 to 1000:\", total_sum)\n"
   ]
  },
  {
   "cell_type": "markdown",
   "id": "ac8fef5a-c836-4aca-8d52-6f54e56fac8a",
   "metadata": {},
   "source": [
    "40. Write a program that generates a list of prime palindromic numbers using list comprehension."
   ]
  },
  {
   "cell_type": "code",
   "execution_count": null,
   "id": "4989417b-17bc-4364-983c-2344cf028391",
   "metadata": {},
   "outputs": [],
   "source": []
  }
 ],
 "metadata": {
  "kernelspec": {
   "display_name": "Python 3 (ipykernel)",
   "language": "python",
   "name": "python3"
  },
  "language_info": {
   "codemirror_mode": {
    "name": "ipython",
    "version": 3
   },
   "file_extension": ".py",
   "mimetype": "text/x-python",
   "name": "python",
   "nbconvert_exporter": "python",
   "pygments_lexer": "ipython3",
   "version": "3.10.8"
  }
 },
 "nbformat": 4,
 "nbformat_minor": 5
}
