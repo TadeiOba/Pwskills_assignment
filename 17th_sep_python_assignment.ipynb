{
 "cells": [
  {
   "cell_type": "markdown",
   "id": "23cfae56-4d27-489d-bea6-ecd546f12120",
   "metadata": {},
   "source": [
    "### **For Loop :-**\n",
    "---"
   ]
  },
  {
   "cell_type": "markdown",
   "id": "0116416b-5d10-44e1-84fc-1be8012d71f5",
   "metadata": {},
   "source": [
    "### 1.Write a Python program to print numbers from 1 to 10 using a for loop."
   ]
  },
  {
   "cell_type": "code",
   "execution_count": 5,
   "id": "7e3a4823-4b32-46f0-8d7b-315afc6bd6e7",
   "metadata": {},
   "outputs": [
    {
     "name": "stdout",
     "output_type": "stream",
     "text": [
      "1,2,3,4,5,6,7,8,9,10,"
     ]
    }
   ],
   "source": [
    "for i in range(1, 11):\n",
    "    print(i,end = ',')"
   ]
  },
  {
   "cell_type": "markdown",
   "id": "be1f8c86-5139-444a-af47-8af41b7cbdb8",
   "metadata": {},
   "source": [
    "### 2.Explain the difference between a for loop and a while loop in Python."
   ]
  },
  {
   "cell_type": "markdown",
   "id": "e089de7d-a76e-425a-bc81-cd6133804e2e",
   "metadata": {},
   "source": [
    "In Python, both `for` loops and `while` loops are used for repetitive tasks, but they have different structures and are suitable for different situations. Here are the key differences between `for` and `while` loops in Python:\n",
    "\n",
    "1. **Iteration Control**:\n",
    "\n",
    "   - **For Loop**: A `for` loop is typically used when you know the number of iterations in advance, or you want to iterate over a sequence (e.g., a list, tuple, string, or range) or an iterable object. It iterates through the elements of the sequence or iterable until the sequence is exhausted.\n",
    "\n",
    "   - **While Loop**: A `while` loop is used when you want to repeatedly execute a block of code as long as a specified condition is `True`. It continues to execute until the condition becomes `False`. While loops are more flexible in terms of iteration control because they rely on a condition rather than a predefined sequence.\n",
    "\n",
    "2. **Syntax**:\n",
    "\n",
    "   - **For Loop Syntax**:\n",
    "     ```python\n",
    "     for element in iterable:\n",
    "         # Code to be executed for each element\n",
    "     ```\n",
    "\n",
    "   - **While Loop Syntax**:\n",
    "     ```python\n",
    "     while condition:\n",
    "         # Code to be executed as long as the condition is True\n",
    "     ```\n",
    "\n",
    "3. **Use Cases**:\n",
    "\n",
    "   - **For Loop Use Cases**:\n",
    "     - Iterating over elements of a sequence or collection (e.g., lists, strings).\n",
    "     - Executing a fixed number of iterations (e.g., iterating through a range of numbers).\n",
    "     - When you know the exact number of iterations required.\n",
    "\n",
    "   - **While Loop Use Cases**:\n",
    "     - Repeating a block of code until a specific condition becomes `False`.\n",
    "     - When the number of iterations is not known in advance.\n",
    "     - Implementing loops with complex exit conditions.\n",
    "\n",
    "4. **Common Pitfalls**:\n",
    "\n",
    "   - **For Loop Pitfalls**:\n",
    "     - Forgetting to update the iterator variable inside the loop, which can lead to infinite loops.\n",
    "     - Modifying the iterable being looped over within the loop, which can result in unexpected behavior.\n",
    "\n",
    "   - **While Loop Pitfalls**:\n",
    "     - Forgetting to update the loop control variable inside the loop, leading to infinite loops.\n",
    "     - Not defining a termination condition, which can result in an infinite loop.\n",
    "\n",
    "Here are some examples of both `for` and `while` loops to illustrate their differences:\n",
    "\n",
    "**For Loop Example** (Iterating through a list):\n",
    "\n",
    "```python\n",
    "fruits = [\"apple\", \"banana\", \"cherry\"]\n",
    "for fruit in fruits:\n",
    "    print(fruit)\n",
    "```\n",
    "\n",
    "**While Loop Example** (Countdown until a condition is met):\n",
    "\n",
    "```python\n",
    "count = 5\n",
    "while count > 0:\n",
    "    print(count)\n",
    "    count -= 1\n",
    "```\n",
    "\n",
    "In summary, you choose between a `for` loop and a `while` loop based on the specific requirements of your program. `for` loops are often used when you have a known sequence to iterate over, while `while` loops are used when you need to iterate based on a condition."
   ]
  },
  {
   "cell_type": "markdown",
   "id": "601b9b57-6974-46fc-ab14-0d42dea62a91",
   "metadata": {},
   "source": [
    "### 3.Write a Python program to calculate the sum of all numbers from 1 to 100 using a for loop."
   ]
  },
  {
   "cell_type": "code",
   "execution_count": 6,
   "id": "c058059a-d591-4d4f-a360-3b205880f826",
   "metadata": {},
   "outputs": [
    {
     "name": "stdout",
     "output_type": "stream",
     "text": [
      "The sum of numbers from 1 to 100 is: 5050\n"
     ]
    }
   ],
   "source": [
    "# Initialize a variable to store the sum\n",
    "total_sum = 0\n",
    "\n",
    "# Use a for loop to iterate through numbers from 1 to 100\n",
    "for number in range(1, 101):\n",
    "    total_sum += number\n",
    "\n",
    "# Print the sum\n",
    "print(\"The sum of numbers from 1 to 100 is:\", total_sum)\n"
   ]
  },
  {
   "cell_type": "markdown",
   "id": "5c4c160b-1286-485f-9db7-f7564b055430",
   "metadata": {},
   "source": [
    "### 4.How do you iterate through a list using a for loop in Python?"
   ]
  },
  {
   "cell_type": "code",
   "execution_count": 1,
   "id": "eddb8807-066e-40b3-ae6f-b407fccffdac",
   "metadata": {},
   "outputs": [
    {
     "name": "stdout",
     "output_type": "stream",
     "text": [
      "Product of elements in the list: 720\n"
     ]
    }
   ],
   "source": [
    "# Initialize a list of numbers\n",
    "numbers = [2, 3, 4, 5, 6]\n",
    "\n",
    "# Initialize a variable to store the product\n",
    "product = 1\n",
    "\n",
    "# Iterate through the list and calculate the product\n",
    "for num in numbers:\n",
    "    product *= num\n",
    "\n",
    "# Print the result\n",
    "print(\"Product of elements in the list:\", product)\n"
   ]
  },
  {
   "cell_type": "markdown",
   "id": "1e5b0941-0660-4019-8ba9-568640246ddf",
   "metadata": {},
   "source": [
    "### 5.Create a Python program that prints all even numbers from 1 to 20 using a for loop"
   ]
  },
  {
   "cell_type": "code",
   "execution_count": 3,
   "id": "13d2e0b3-772b-4fa8-b176-90a8bc44bf43",
   "metadata": {},
   "outputs": [
    {
     "name": "stdout",
     "output_type": "stream",
     "text": [
      "2, 4, 6, 8, 10, 12, 14, 16, 18, 20, "
     ]
    }
   ],
   "source": [
    "# Iterate through numbers from 1 to 20 using a for loop\n",
    "for num in range(1, 21):\n",
    "    # Check if the number is even\n",
    "    if num % 2 == 0:\n",
    "        # Print the even number\n",
    "        print(num,end = ', ')\n"
   ]
  },
  {
   "cell_type": "markdown",
   "id": "5490bb16-fb40-499e-8bf0-53bbcae22eb6",
   "metadata": {},
   "source": [
    "### 6.Write a Python program that calculates the factorial of a number using a for loop."
   ]
  },
  {
   "cell_type": "code",
   "execution_count": 4,
   "id": "710d1a2c-66ec-45f6-a6a6-4f8b1f6be789",
   "metadata": {},
   "outputs": [
    {
     "name": "stdin",
     "output_type": "stream",
     "text": [
      "Enter a number:  10\n"
     ]
    },
    {
     "name": "stdout",
     "output_type": "stream",
     "text": [
      "The factorial of 10 is 3628800\n"
     ]
    }
   ],
   "source": [
    "# Input: Get the number from the user\n",
    "num = int(input(\"Enter a number: \"))\n",
    "\n",
    "# Initialize the factorial to 1\n",
    "factorial = 1\n",
    "\n",
    "# Check if the number is negative\n",
    "if num < 0:\n",
    "    print(\"Factorial is not defined for negative numbers.\")\n",
    "elif num == 0:\n",
    "    print(\"The factorial of 0 is 1.\")\n",
    "else:\n",
    "    # Calculate the factorial using a for loop\n",
    "    for i in range(1, num + 1):\n",
    "        factorial *= i\n",
    "\n",
    "    # Print the factorial\n",
    "    print(f\"The factorial of {num} is {factorial}\")\n"
   ]
  },
  {
   "cell_type": "markdown",
   "id": "cb9fc6e4-3019-4099-8b59-62990f23f500",
   "metadata": {},
   "source": [
    "### 8.How can you iterate through the characters of a string using a for loop in Python?"
   ]
  },
  {
   "cell_type": "code",
   "execution_count": 5,
   "id": "900c084d-46b2-4ef9-b859-c7bb3f37edd3",
   "metadata": {},
   "outputs": [
    {
     "name": "stdout",
     "output_type": "stream",
     "text": [
      "H\n",
      "e\n",
      "l\n",
      "l\n",
      "o\n",
      ",\n",
      " \n",
      "W\n",
      "o\n",
      "r\n",
      "l\n",
      "d\n",
      "!\n"
     ]
    }
   ],
   "source": [
    "# Define a string\n",
    "my_string = \"Hello, World!\"\n",
    "\n",
    "# Iterate through the characters of the string using a for loop\n",
    "for char in my_string:\n",
    "    print(char)\n"
   ]
  },
  {
   "cell_type": "markdown",
   "id": "9bfc19c9-c292-43d0-bc36-558b11aadaab",
   "metadata": {},
   "source": [
    "### 9.Write a Python program to find the largest number in a list using a for loop."
   ]
  },
  {
   "cell_type": "code",
   "execution_count": 6,
   "id": "e1ba86d9-d902-41a0-b4c7-36cd04409557",
   "metadata": {},
   "outputs": [
    {
     "name": "stdout",
     "output_type": "stream",
     "text": [
      "The largest number in the list is: 95\n"
     ]
    }
   ],
   "source": [
    "# Define a list of numbers\n",
    "numbers = [25, 10, 45, 8, 60, 37, 95]\n",
    "\n",
    "# Initialize a variable to store the maximum value\n",
    "max_number = numbers[0]  # Initialize it with the first number in the list\n",
    "\n",
    "# Iterate through the list to find the maximum number\n",
    "for num in numbers:\n",
    "    if num > max_number:\n",
    "        max_number = num\n",
    "\n",
    "# Print the maximum number\n",
    "print(\"The largest number in the list is:\", max_number)\n"
   ]
  },
  {
   "cell_type": "markdown",
   "id": "92b0f974-cd55-4c82-8268-d0f9bd8424e5",
   "metadata": {},
   "source": [
    "### 10.Create a Python program that prints the Fibonacci sequence up to a specified limit using a for loop."
   ]
  },
  {
   "cell_type": "code",
   "execution_count": 7,
   "id": "f23698ab-60c2-4e69-a505-8d022d4b7c04",
   "metadata": {},
   "outputs": [
    {
     "name": "stdout",
     "output_type": "stream",
     "text": [
      "Fibonacci sequence up to 100:\n",
      "[0, 1, 1, 2, 3, 5, 8, 13, 21, 34, 55, 89]\n"
     ]
    }
   ],
   "source": [
    "# Function to generate Fibonacci sequence up to a specified limit\n",
    "def generate_fibonacci(limit):\n",
    "    fibonacci_sequence = []  # Initialize an empty list to store the sequence\n",
    "    a, b = 0, 1  # Initialize the first two numbers of the sequence\n",
    "\n",
    "    while a <= limit:\n",
    "        fibonacci_sequence.append(a)  # Add the current number to the sequence\n",
    "        a, b = b, a + b  # Calculate the next number in the sequence\n",
    "\n",
    "    return fibonacci_sequence\n",
    "\n",
    "# Specify the limit\n",
    "limit = 100  # Change this value to your desired limit\n",
    "\n",
    "# Generate and print the Fibonacci sequence up to the limit\n",
    "fibonacci_sequence = generate_fibonacci(limit)\n",
    "print(\"Fibonacci sequence up to {}:\".format(limit))\n",
    "print(fibonacci_sequence)\n"
   ]
  },
  {
   "cell_type": "markdown",
   "id": "8579b267-4a94-40f1-b362-b1e2242ac746",
   "metadata": {},
   "source": [
    "### 11.Write a Python program to count the number of vowels in a given string using a for loop."
   ]
  },
  {
   "cell_type": "code",
   "execution_count": 9,
   "id": "439ccab9-3463-4cc2-a8af-b514509cffb3",
   "metadata": {},
   "outputs": [
    {
     "name": "stdout",
     "output_type": "stream",
     "text": [
      "Number of vowels in the string: 3\n"
     ]
    }
   ],
   "source": [
    "# Function to count the number of vowels in a string\n",
    "def count_vowels(input_string):\n",
    "    vowels = \"AEIOUaeiou\"  # Define a string containing all vowels\n",
    "    count = 0  # Initialize a counter to keep track of the number of vowels\n",
    "\n",
    "    for char in input_string:\n",
    "        if char in vowels:\n",
    "            count += 1\n",
    "\n",
    "    return count\n",
    "\n",
    "# Input string\n",
    "x = \"Hello, World!\"  # Change this to your desired string\n",
    "\n",
    "# Call the function and print the result\n",
    "vowel_count = count_vowels(x)\n",
    "print(f\"Number of vowels in the string: {vowel_count}\")\n"
   ]
  },
  {
   "cell_type": "markdown",
   "id": "2def313d-6c1e-4bda-a3f0-e72bb93294af",
   "metadata": {},
   "source": [
    "### 12.Create a Python program that generates a multiplication table for a given number using a for loop."
   ]
  },
  {
   "cell_type": "code",
   "execution_count": 10,
   "id": "099ad14b-66b6-4cea-be3f-767a2f55c3da",
   "metadata": {},
   "outputs": [
    {
     "name": "stdin",
     "output_type": "stream",
     "text": [
      "Enter a number:  11\n"
     ]
    },
    {
     "name": "stdout",
     "output_type": "stream",
     "text": [
      "11 x 1 = 11\n",
      "11 x 2 = 22\n",
      "11 x 3 = 33\n",
      "11 x 4 = 44\n",
      "11 x 5 = 55\n",
      "11 x 6 = 66\n",
      "11 x 7 = 77\n",
      "11 x 8 = 88\n",
      "11 x 9 = 99\n",
      "11 x 10 = 110\n"
     ]
    }
   ],
   "source": [
    "# Function to generate a multiplication table for a given number\n",
    "def multiplication_table(number, n):\n",
    "    for i in range(1, n + 1):\n",
    "        result = number * i\n",
    "        print(f\"{number} x {i} = {result}\")\n",
    "\n",
    "# Input the number for which you want to generate the table\n",
    "number = int(input(\"Enter a number: \"))\n",
    "n = 10  # You can change this value to specify the number of rows in the table\n",
    "\n",
    "# Call the function to generate and print the multiplication table\n",
    "multiplication_table(number, n)\n"
   ]
  },
  {
   "cell_type": "markdown",
   "id": "46457b29-09f2-4a4a-8986-11a6eb032d13",
   "metadata": {},
   "source": [
    "### 13.Write a Python program to reverse a list using a for loop."
   ]
  },
  {
   "cell_type": "code",
   "execution_count": 11,
   "id": "d0ad0a82-8092-4d9a-820a-9a1cb2cc513f",
   "metadata": {},
   "outputs": [
    {
     "name": "stdout",
     "output_type": "stream",
     "text": [
      "Original List: [1, 2, 3, 4, 5]\n",
      "Reversed List: [5, 4, 3, 2, 1]\n"
     ]
    }
   ],
   "source": [
    "# Function to reverse a list using a for loop\n",
    "def reverse_list(input_list):\n",
    "    reversed_list = []\n",
    "    for item in input_list:\n",
    "        reversed_list.insert(0, item)\n",
    "    return reversed_list\n",
    "\n",
    "# Input a list\n",
    "input_list = [1, 2, 3, 4, 5]\n",
    "\n",
    "# Call the function to reverse the list\n",
    "reversed_result = reverse_list(input_list)\n",
    "\n",
    "# Print the reversed list\n",
    "print(\"Original List:\", input_list)\n",
    "print(\"Reversed List:\", reversed_result)\n"
   ]
  },
  {
   "cell_type": "markdown",
   "id": "a0218569-a633-469b-b13e-419de2647ecd",
   "metadata": {},
   "source": [
    "### 14.Write a Python program to find the common elements between two lists using a for loop."
   ]
  },
  {
   "cell_type": "code",
   "execution_count": 12,
   "id": "feffa561-2629-47eb-b93c-786682168239",
   "metadata": {},
   "outputs": [
    {
     "name": "stdout",
     "output_type": "stream",
     "text": [
      "Common Elements: [3, 4, 5]\n"
     ]
    }
   ],
   "source": [
    "# Define two lists\n",
    "list1 = [1, 2, 3, 4, 5]\n",
    "list2 = [3, 4, 5, 6, 7]\n",
    "\n",
    "# Initialize an empty list to store common elements\n",
    "common_elements = []\n",
    "\n",
    "# Use a for loop to iterate through the elements in list1\n",
    "for item in list1:\n",
    "    # Check if the current item is also in list2\n",
    "    if item in list2:\n",
    "        # If it's common, append it to the common_elements list\n",
    "        common_elements.append(item)\n",
    "\n",
    "# Print the common elements\n",
    "print(\"Common Elements:\", common_elements)\n"
   ]
  },
  {
   "cell_type": "markdown",
   "id": "b8433c19-c5d3-4d82-89c2-a5c3984b4132",
   "metadata": {},
   "source": [
    "### 15.Explain how to use a for loop to iterate through the keys and values of a dictionary in Python."
   ]
  },
  {
   "cell_type": "code",
   "execution_count": 13,
   "id": "fc663ada-0b8d-4e81-8b94-423745217c20",
   "metadata": {},
   "outputs": [
    {
     "name": "stdout",
     "output_type": "stream",
     "text": [
      "Key: apple, Value: 3\n",
      "Key: banana, Value: 2\n",
      "Key: cherry, Value: 5\n"
     ]
    }
   ],
   "source": [
    "# Define a dictionary\n",
    "my_dict = {'apple': 3, 'banana': 2, 'cherry': 5}\n",
    "\n",
    "# Iterate through the keys and values of the dictionary\n",
    "for key, value in my_dict.items():\n",
    "    print(f'Key: {key}, Value: {value}')\n"
   ]
  },
  {
   "cell_type": "markdown",
   "id": "aaea3206-6a31-49e5-a244-abdbd0a15863",
   "metadata": {},
   "source": [
    "### 16.Write a Python program to find the GCD (Greatest Common Divisor) of two numbers using a for loop"
   ]
  },
  {
   "cell_type": "code",
   "execution_count": 14,
   "id": "b80ad907-b27a-49c9-b60e-07f315b23cad",
   "metadata": {},
   "outputs": [
    {
     "name": "stdin",
     "output_type": "stream",
     "text": [
      "Enter the first number:  12\n",
      "Enter the second number:  8\n"
     ]
    },
    {
     "name": "stdout",
     "output_type": "stream",
     "text": [
      "The GCD of 12 and 8 is 4\n"
     ]
    }
   ],
   "source": [
    "# Function to find the GCD of two numbers\n",
    "def gcd(a, b):\n",
    "    while b:\n",
    "        a, b = b, a % b\n",
    "    return a\n",
    "\n",
    "# Input two numbers\n",
    "num1 = int(input(\"Enter the first number: \"))\n",
    "num2 = int(input(\"Enter the second number: \"))\n",
    "\n",
    "# Calculate the GCD\n",
    "result = gcd(num1, num2)\n",
    "\n",
    "# Display the GCD\n",
    "print(f\"The GCD of {num1} and {num2} is {result}\")\n"
   ]
  },
  {
   "cell_type": "markdown",
   "id": "bdd0656b-f441-4243-821f-d13cab00e6c1",
   "metadata": {},
   "source": [
    "### 17.Create a Python program that checks if a string is a palindrome using a for loop."
   ]
  },
  {
   "cell_type": "code",
   "execution_count": 17,
   "id": "76548438-c848-4fe7-836f-5956a114d0a1",
   "metadata": {},
   "outputs": [
    {
     "name": "stdin",
     "output_type": "stream",
     "text": [
      "Enter a string:  owowo\n"
     ]
    },
    {
     "name": "stdout",
     "output_type": "stream",
     "text": [
      "owowo is a palindrome.\n"
     ]
    }
   ],
   "source": [
    "# Function to check if a string is a palindrome\n",
    "def is_palindrome(input_string):\n",
    "    # Remove spaces and convert to lowercase for case-insensitive comparison\n",
    "    cleaned_string = input_string.replace(\" \", \"\").lower()\n",
    "    \n",
    "    # Initialize indices for the first and last characters\n",
    "    start = 0\n",
    "    end = len(cleaned_string) - 1\n",
    "    \n",
    "    # Iterate through the string using a for loop\n",
    "    while start < end:\n",
    "        # Compare characters at the current indices\n",
    "        if cleaned_string[start] != cleaned_string[end]:\n",
    "            return False  # Not a palindrome\n",
    "        # Move the indices towards the center\n",
    "        start += 1\n",
    "        end -= 1\n",
    "    \n",
    "    return True  # Palindrome\n",
    "\n",
    "# Input a string from the user\n",
    "input_string = input(\"Enter a string: \")\n",
    "\n",
    "# Check if it's a palindrome and display the result\n",
    "if is_palindrome(input_string):\n",
    "    print(f\"{input_string} is a palindrome.\")\n",
    "else:\n",
    "    print(f\"{input_string} is not a palindrome.\")\n"
   ]
  },
  {
   "cell_type": "markdown",
   "id": "a615de86-653d-4cfe-8d35-25997b7c55c9",
   "metadata": {},
   "source": [
    "### 18.Write a Python program to remove duplicates from a list using a for loop."
   ]
  },
  {
   "cell_type": "code",
   "execution_count": 19,
   "id": "1600cd38-a7fc-40aa-9b78-1f6431146837",
   "metadata": {},
   "outputs": [
    {
     "name": "stdout",
     "output_type": "stream",
     "text": [
      "Original List: [1, 2, 2, 3, 4, 4, 5]\n",
      "List with Duplicates Removed: [1, 2, 3, 4, 5]\n"
     ]
    }
   ],
   "source": [
    "# Function to remove duplicates from a list\n",
    "def remove_duplicates(input_list):\n",
    "    # Create an empty list to store unique elements\n",
    "    unique_list = []\n",
    "    \n",
    "    # Iterate through the input list using a for loop\n",
    "    for item in input_list:\n",
    "        # If the item is not already in the unique list, add it\n",
    "        if item not in unique_list:\n",
    "            unique_list.append(item)\n",
    "    \n",
    "    return unique_list\n",
    "\n",
    "# Input a list from the user (example list)\n",
    "input_list = [1, 2, 2, 3, 4, 4, 5]\n",
    "\n",
    "# Remove duplicates and display the result\n",
    "result_list = remove_duplicates(input_list)\n",
    "print(\"Original List:\", input_list)\n",
    "print(\"List with Duplicates Removed:\", result_list)\n"
   ]
  },
  {
   "cell_type": "markdown",
   "id": "f83c2fd6-3842-4713-88bf-d05d0e153858",
   "metadata": {},
   "source": [
    "### 19.Create a Python program that counts the number of words in a sentence using a for loop."
   ]
  },
  {
   "cell_type": "code",
   "execution_count": 21,
   "id": "7e8ea94d-a84e-4cb4-80e8-51a7e36f85c1",
   "metadata": {},
   "outputs": [
    {
     "name": "stdin",
     "output_type": "stream",
     "text": [
      "Enter a sentence:  woeds\n"
     ]
    },
    {
     "name": "stdout",
     "output_type": "stream",
     "text": [
      "Number of words in the sentence: 1\n"
     ]
    }
   ],
   "source": [
    "# Function to count words in a sentence\n",
    "def count_words(sentence):\n",
    "    # Initialize a word count variable to 0\n",
    "    word_count = 0\n",
    "    \n",
    "    # Iterate through the sentence using a for loop\n",
    "    for word in sentence.split():\n",
    "        word_count += 1  # Increment the word count for each word\n",
    "    \n",
    "    return word_count\n",
    "\n",
    "# Input a sentence from the user (example sentence)\n",
    "sentence = input(\"Enter a sentence: \")\n",
    "\n",
    "# Count words and display the result\n",
    "result = count_words(sentence)\n",
    "print(f\"Number of words in the sentence: {result}\")\n"
   ]
  },
  {
   "cell_type": "markdown",
   "id": "c4bff939-fccc-48b9-bece-02ba38f920b5",
   "metadata": {},
   "source": [
    "### 20.Write a Python program to find the sum of all odd numbers from 1 to 50 using a for loop."
   ]
  },
  {
   "cell_type": "code",
   "execution_count": 23,
   "id": "3daa621e-3109-4cc1-a21c-db4dd63c78ba",
   "metadata": {},
   "outputs": [
    {
     "name": "stdout",
     "output_type": "stream",
     "text": [
      "Sum of odd numbers from 1 to 50: 625\n"
     ]
    }
   ],
   "source": [
    "# Initialize a variable to store the sum\n",
    "sum_of_odds = 0\n",
    "\n",
    "# Iterate through numbers from 1 to 50 using a for loop\n",
    "for num in range(1, 51):\n",
    "    # Check if the number is odd\n",
    "    if num % 2 != 0:\n",
    "        # If it's odd, add it to the sum\n",
    "        sum_of_odds += num\n",
    "\n",
    "# Print the sum of odd numbers\n",
    "print(\"Sum of odd numbers from 1 to 50:\", sum_of_odds)\n"
   ]
  },
  {
   "cell_type": "markdown",
   "id": "d957e369-9455-4e63-90ef-e85f0a809c57",
   "metadata": {},
   "source": [
    "### 21.Write a Python program that checks if a given year is a leap year using a for loop."
   ]
  },
  {
   "cell_type": "code",
   "execution_count": 24,
   "id": "782ac5d5-a7b6-4b83-8d7d-f9293e968f3a",
   "metadata": {},
   "outputs": [
    {
     "name": "stdin",
     "output_type": "stream",
     "text": [
      "Enter a year:  1996\n"
     ]
    },
    {
     "name": "stdout",
     "output_type": "stream",
     "text": [
      "1996 is a leap year.\n"
     ]
    }
   ],
   "source": [
    "# Function to check if a year is a leap year\n",
    "def is_leap_year(year):\n",
    "    # Check for leap year conditions\n",
    "    if (year % 4 == 0 and year % 100 != 0) or (year % 400 == 0):\n",
    "        return True\n",
    "    else:\n",
    "        return False\n",
    "\n",
    "# Input the year to check\n",
    "year = int(input(\"Enter a year: \"))\n",
    "\n",
    "# Call the is_leap_year function and check the result\n",
    "if is_leap_year(year):\n",
    "    print(f\"{year} is a leap year.\")\n",
    "else:\n",
    "    print(f\"{year} is not a leap year.\")\n"
   ]
  },
  {
   "cell_type": "markdown",
   "id": "9d095061-29e4-4e72-9c67-41198e1bccec",
   "metadata": {},
   "source": [
    "### 22.Create a Python program that calculates the square root of a number using a for loop."
   ]
  },
  {
   "cell_type": "code",
   "execution_count": 26,
   "id": "598a9567-a218-4c6f-991a-5136f2d69f72",
   "metadata": {},
   "outputs": [
    {
     "name": "stdin",
     "output_type": "stream",
     "text": [
      "Enter a number:  0.22\n"
     ]
    },
    {
     "name": "stdout",
     "output_type": "stream",
     "text": [
      "The square root of 0.22 is approximately 0.469042\n"
     ]
    }
   ],
   "source": [
    "# Function to calculate the square root using the Babylonian method\n",
    "def calculate_square_root(number, tolerance=1e-7, max_iterations=100):\n",
    "    guess = number / 2  # Initial guess\n",
    "    for _ in range(max_iterations):\n",
    "        next_guess = 0.5 * (guess + number / guess)  # Babylonian method formula\n",
    "        if abs(next_guess - guess) < tolerance:\n",
    "            return next_guess  # Converged to the square root within tolerance\n",
    "        guess = next_guess\n",
    "    return guess  # Return the best guess after max_iterations\n",
    "\n",
    "# Input the number for which you want to calculate the square root\n",
    "number = float(input(\"Enter a number: \"))\n",
    "\n",
    "# Call the calculate_square_root function\n",
    "result = calculate_square_root(number)\n",
    "\n",
    "# Print the result\n",
    "print(f\"The square root of {number} is approximately {result:.6f}\")\n"
   ]
  },
  {
   "cell_type": "markdown",
   "id": "42cb2917-27f7-4c1c-bf1f-4c2dcffae381",
   "metadata": {},
   "source": [
    "### 23.Write a Python program to find the LCM (Least Common Multiple) of two numbers using a for loop."
   ]
  },
  {
   "cell_type": "code",
   "execution_count": 27,
   "id": "69afcdad-272a-4cc2-885b-a30a4f9a18ae",
   "metadata": {},
   "outputs": [
    {
     "name": "stdin",
     "output_type": "stream",
     "text": [
      "Enter the first number:  24\n",
      "Enter the second number:  2\n"
     ]
    },
    {
     "name": "stdout",
     "output_type": "stream",
     "text": [
      "The LCM of 24 and 2 is 24\n"
     ]
    }
   ],
   "source": [
    "# Function to calculate the GCD (Greatest Common Divisor) of two numbers\n",
    "def calculate_gcd(a, b):\n",
    "    while b:\n",
    "        a, b = b, a % b\n",
    "    return a\n",
    "\n",
    "# Function to calculate the LCM (Least Common Multiple) of two numbers\n",
    "def calculate_lcm(a, b):\n",
    "    gcd = calculate_gcd(a, b)\n",
    "    lcm = (a * b) // gcd  # LCM = (a * b) / GCD\n",
    "    return lcm\n",
    "\n",
    "# Input two numbers for which you want to find the LCM\n",
    "num1 = int(input(\"Enter the first number: \"))\n",
    "num2 = int(input(\"Enter the second number: \"))\n",
    "\n",
    "# Call the calculate_lcm function\n",
    "lcm_result = calculate_lcm(num1, num2)\n",
    "\n",
    "# Print the result\n",
    "print(f\"The LCM of {num1} and {num2} is {lcm_result}\")\n"
   ]
  },
  {
   "cell_type": "markdown",
   "id": "888b4b50-ae23-4879-90f8-0f83c07a2519",
   "metadata": {},
   "source": [
    "## **If else :**\n",
    "---"
   ]
  },
  {
   "cell_type": "markdown",
   "id": "5b5c051f-36a8-44a2-ad6f-cb2861030eba",
   "metadata": {},
   "source": [
    "### 1.Write a Python program to check if a number is positive, negative, or zero using an if-else statement."
   ]
  },
  {
   "cell_type": "code",
   "execution_count": 28,
   "id": "95b3a52e-25eb-4410-a855-1147f98c270f",
   "metadata": {},
   "outputs": [
    {
     "name": "stdin",
     "output_type": "stream",
     "text": [
      "Enter a number:  -38\n"
     ]
    },
    {
     "name": "stdout",
     "output_type": "stream",
     "text": [
      "The number is negative.\n"
     ]
    }
   ],
   "source": [
    "# Input a number\n",
    "number = float(input(\"Enter a number: \"))\n",
    "\n",
    "# Check if the number is positive, negative, or zero\n",
    "if number > 0:\n",
    "    print(\"The number is positive.\")\n",
    "elif number < 0:\n",
    "    print(\"The number is negative.\")\n",
    "else:\n",
    "    print(\"The number is zero.\")\n"
   ]
  },
  {
   "cell_type": "markdown",
   "id": "9bb34ee1-6746-4847-a9e8-c699c8b13b8b",
   "metadata": {},
   "source": [
    "### 2.Create a Python program that checks if a given number is even or odd using an if-else statement."
   ]
  },
  {
   "cell_type": "code",
   "execution_count": 29,
   "id": "e8a4bba0-d04c-49d4-bbee-e2c02e1d4372",
   "metadata": {},
   "outputs": [
    {
     "name": "stdin",
     "output_type": "stream",
     "text": [
      "Enter a number:  11\n"
     ]
    },
    {
     "name": "stdout",
     "output_type": "stream",
     "text": [
      "11 is odd.\n"
     ]
    }
   ],
   "source": [
    "# Input a number\n",
    "number = int(input(\"Enter a number: \"))\n",
    "\n",
    "# Check if the number is even or odd\n",
    "if number % 2 == 0:\n",
    "    print(f\"{number} is even.\")\n",
    "else:\n",
    "    print(f\"{number} is odd.\")\n"
   ]
  },
  {
   "cell_type": "markdown",
   "id": "0928392f-ce88-4315-aeb1-7fda55a5b842",
   "metadata": {},
   "source": [
    "### 3.How can you use nested if-else statements in Python, and provide an example?"
   ]
  },
  {
   "cell_type": "code",
   "execution_count": 30,
   "id": "b2bfeef5-9481-4a39-ab71-8d09c839f574",
   "metadata": {},
   "outputs": [
    {
     "name": "stdin",
     "output_type": "stream",
     "text": [
      "Enter a number:  0\n"
     ]
    },
    {
     "name": "stdout",
     "output_type": "stream",
     "text": [
      "The number is zero.\n"
     ]
    }
   ],
   "source": [
    "# Input a number\n",
    "number = float(input(\"Enter a number: \"))\n",
    "\n",
    "if number > 0:\n",
    "    print(\"The number is positive.\")\n",
    "elif number < 0:\n",
    "    print(\"The number is negative.\")\n",
    "else:\n",
    "    print(\"The number is zero.\")\n"
   ]
  },
  {
   "cell_type": "markdown",
   "id": "cbc4d689-b69d-4f1f-af1f-a104cd668429",
   "metadata": {},
   "source": [
    "### 4.Write a Python program to determine the largest of three numbers using if-else."
   ]
  },
  {
   "cell_type": "markdown",
   "id": "d1a15e98-5a5f-45e1-8e06-d1bc94600650",
   "metadata": {},
   "source": [
    "# Input three numbers\n",
    "num1 = float(input(\"Enter the first number: \"))\n",
    "num2 = float(input(\"Enter the second number: \"))\n",
    "num3 = float(input(\"Enter the third number: \"))\n",
    "\n",
    "# Compare the numbers to find the largest\n",
    "if num1 >= num2 and num1 >= num3:\n",
    "    largest = num1\n",
    "elif num2 >= num1 and num2 >= num3:\n",
    "    largest = num2\n",
    "else:\n",
    "    largest = num3\n",
    "\n",
    "# Print the largest number\n",
    "print(\"The largest number is:\", largest)\n"
   ]
  },
  {
   "cell_type": "markdown",
   "id": "29548bbc-e1ba-4b54-9b32-bc7ce1cd8f7c",
   "metadata": {},
   "source": [
    "### 5.Write a Python program that calculates the absolute value of a number using if-else."
   ]
  },
  {
   "cell_type": "code",
   "execution_count": 32,
   "id": "f954e3ba-502a-447b-95ce-ba8e045bd0ba",
   "metadata": {},
   "outputs": [
    {
     "name": "stdin",
     "output_type": "stream",
     "text": [
      "Enter a number:  -2\n"
     ]
    },
    {
     "name": "stdout",
     "output_type": "stream",
     "text": [
      "The absolute value of -2.0 is 2.0\n"
     ]
    }
   ],
   "source": [
    "# Input a number\n",
    "num = float(input(\"Enter a number: \"))\n",
    "\n",
    "# Check if the number is positive or negative\n",
    "if num >= 0:\n",
    "    absolute_value = num\n",
    "else:\n",
    "    absolute_value = -num\n",
    "\n",
    "# Print the absolute value\n",
    "print(f\"The absolute value of {num} is {absolute_value}\")\n"
   ]
  },
  {
   "cell_type": "markdown",
   "id": "29676fa2-c74f-4169-aa6a-e32f8e07112e",
   "metadata": {},
   "source": [
    "### 6.Create a Python program that checks if a given character is a vowel or consonant using if-else."
   ]
  },
  {
   "cell_type": "code",
   "execution_count": 34,
   "id": "2db8ce5c-7a93-46b0-ad94-a92123d985db",
   "metadata": {},
   "outputs": [
    {
     "name": "stdin",
     "output_type": "stream",
     "text": [
      "Enter a character:  a\n"
     ]
    },
    {
     "name": "stdout",
     "output_type": "stream",
     "text": [
      "The character 'a' is a vowel.\n"
     ]
    }
   ],
   "source": [
    "# Input a character\n",
    "char = input(\"Enter a character: \")\n",
    "\n",
    "# Convert the character to lowercase to handle both uppercase and lowercase input\n",
    "char = char.lower()\n",
    "\n",
    "# Check if the character is a vowel\n",
    "if char == 'a' or char == 'e' or char == 'i' or char == 'o' or char == 'u':\n",
    "    print(f\"The character '{char}' is a vowel.\")\n",
    "else:\n",
    "    print(f\"The character '{char}' is a consonant.\")\n"
   ]
  },
  {
   "cell_type": "markdown",
   "id": "37c65c53-7e9c-4ef7-9739-0b3e3e674d87",
   "metadata": {},
   "source": [
    "### 7.Write a Python program to determine if a user is eligible to vote based on their age using if-else."
   ]
  },
  {
   "cell_type": "code",
   "execution_count": 35,
   "id": "b528c1ba-3d4d-4f74-8607-7c0a2d1cf768",
   "metadata": {},
   "outputs": [
    {
     "name": "stdin",
     "output_type": "stream",
     "text": [
      "Enter your age:  15\n"
     ]
    },
    {
     "name": "stdout",
     "output_type": "stream",
     "text": [
      "You are not eligible to vote.\n"
     ]
    }
   ],
   "source": [
    "# Input the user's age as an integer\n",
    "age = int(input(\"Enter your age: \"))\n",
    "\n",
    "# Check if the age is greater than or equal to 18\n",
    "if age >= 18:\n",
    "    print(\"You are eligible to vote.\")\n",
    "else:\n",
    "    print(\"You are not eligible to vote.\")\n"
   ]
  },
  {
   "cell_type": "markdown",
   "id": "34132af4-a231-4d10-8379-617969c79111",
   "metadata": {},
   "source": [
    "### 8.Create a Python program that calculates the discount amount based on the purchase amount using if-else."
   ]
  },
  {
   "cell_type": "code",
   "execution_count": 36,
   "id": "cff18fbc-9f31-4c17-9aad-ee4a0c85242c",
   "metadata": {},
   "outputs": [
    {
     "name": "stdin",
     "output_type": "stream",
     "text": [
      "Enter the purchase amount:  5000\n"
     ]
    },
    {
     "name": "stdout",
     "output_type": "stream",
     "text": [
      "You qualify for a 20% discount of $1000.00\n",
      "Final amount after discount: $4000.00\n"
     ]
    }
   ],
   "source": [
    "# Input the purchase amount as a float\n",
    "purchase_amount = float(input(\"Enter the purchase amount: \"))\n",
    "\n",
    "# Define discount rates\n",
    "discount_rate_1 = 0.10  # 10% discount\n",
    "discount_rate_2 = 0.20  # 20% discount\n",
    "\n",
    "# Initialize the discount amount\n",
    "discount_amount = 0.0\n",
    "\n",
    "# Check the purchase amount to determine the discount\n",
    "if purchase_amount >= 100:\n",
    "    discount_amount = purchase_amount * discount_rate_2\n",
    "    print(f\"You qualify for a 20% discount of ${discount_amount:.2f}\")\n",
    "elif purchase_amount >= 50:\n",
    "    discount_amount = purchase_amount * discount_rate_1\n",
    "    print(f\"You qualify for a 10% discount of ${discount_amount:.2f}\")\n",
    "else:\n",
    "    print(\"Sorry, you do not qualify for a discount.\")\n",
    "\n",
    "# Calculate the final amount after applying the discount\n",
    "final_amount = purchase_amount - discount_amount\n",
    "print(f\"Final amount after discount: ${final_amount:.2f}\")\n"
   ]
  },
  {
   "cell_type": "markdown",
   "id": "6d853c35-be1f-4b69-8f28-1c26b702ac4f",
   "metadata": {},
   "source": [
    "### 9.Write a Python program to check if a number is within a specified range using if-else."
   ]
  },
  {
   "cell_type": "code",
   "execution_count": 37,
   "id": "da081018-1a86-483e-b2f6-90b5fc0100ce",
   "metadata": {},
   "outputs": [
    {
     "name": "stdin",
     "output_type": "stream",
     "text": [
      "Enter a number:  60\n"
     ]
    },
    {
     "name": "stdout",
     "output_type": "stream",
     "text": [
      "60.0 is outside the range [10, 50]\n"
     ]
    }
   ],
   "source": [
    "# Input the number to check\n",
    "number = float(input(\"Enter a number: \"))\n",
    "\n",
    "# Define the specified range\n",
    "min_range = 10\n",
    "max_range = 50\n",
    "\n",
    "# Check if the number is within the specified range\n",
    "if min_range <= number <= max_range:\n",
    "    print(f\"{number} is within the range [{min_range}, {max_range}]\")\n",
    "else:\n",
    "    print(f\"{number} is outside the range [{min_range}, {max_range}]\")\n"
   ]
  },
  {
   "cell_type": "markdown",
   "id": "8a4a6ac3-3c11-4503-9114-efdc8e8791a0",
   "metadata": {},
   "source": [
    "### 10.Create a Python program that determines the grade of a student based on their score using if-else."
   ]
  },
  {
   "cell_type": "code",
   "execution_count": 39,
   "id": "2b24d966-32b2-4107-826b-6a4fe68e778e",
   "metadata": {},
   "outputs": [
    {
     "name": "stdin",
     "output_type": "stream",
     "text": [
      "Enter the student's score:  78\n"
     ]
    },
    {
     "name": "stdout",
     "output_type": "stream",
     "text": [
      "The student's grade is: C\n"
     ]
    }
   ],
   "source": [
    "# Input the student's score\n",
    "score = float(input(\"Enter the student's score: \"))\n",
    "\n",
    "# Determine the grade based on the score\n",
    "if 90 <= score <= 100:\n",
    "    grade = 'A'\n",
    "elif 80 <= score < 90:\n",
    "    grade = 'B'\n",
    "elif 70 <= score < 80:\n",
    "    grade = 'C'\n",
    "elif 60 <= score < 70:\n",
    "    grade = 'D'\n",
    "elif 0 <= score < 60:\n",
    "    grade = 'F'\n",
    "else:\n",
    "    grade = 'Invalid'\n",
    "\n",
    "# Display the grade\n",
    "if grade == 'Invalid':\n",
    "    print(\"Invalid score. Please enter a score between 0 and 100.\")\n",
    "else:\n",
    "    print(f\"The student's grade is: {grade}\")\n"
   ]
  },
  {
   "cell_type": "markdown",
   "id": "b9b7bfbc-2599-49aa-ba12-7ea9094f9c1f",
   "metadata": {},
   "source": [
    "### 11.Write a Python program to check if a string is empty or not using if-else."
   ]
  },
  {
   "cell_type": "code",
   "execution_count": 41,
   "id": "92b3153b-331c-41fd-9662-6945e9254ce9",
   "metadata": {},
   "outputs": [
    {
     "name": "stdin",
     "output_type": "stream",
     "text": [
      "Enter a string:  \n"
     ]
    },
    {
     "name": "stdout",
     "output_type": "stream",
     "text": [
      "The string is empty.\n"
     ]
    }
   ],
   "source": [
    "# Input a string from the user\n",
    "input_string = input(\"Enter a string: \")\n",
    "\n",
    "# Check if the string is empty or not\n",
    "if input_string:\n",
    "    print(\"The string is not empty.\")\n",
    "else:\n",
    "    print(\"The string is empty.\")\n"
   ]
  },
  {
   "cell_type": "markdown",
   "id": "c5485106-7c21-4a4f-abb5-2bbb4b7cb740",
   "metadata": {},
   "source": [
    "### 12.Create a Python program that identifies the type of a triangle (e.g., equilateral, isosceles, or scalene) based on input values using if-else."
   ]
  },
  {
   "cell_type": "code",
   "execution_count": 42,
   "id": "5fbf66f3-767d-4251-8f73-caadbafb7032",
   "metadata": {},
   "outputs": [
    {
     "name": "stdin",
     "output_type": "stream",
     "text": [
      "Enter the length of side 1:  3\n",
      "Enter the length of side 2:  5\n",
      "Enter the length of side 3:  9\n"
     ]
    },
    {
     "name": "stdout",
     "output_type": "stream",
     "text": [
      "It does not form a valid triangle.\n"
     ]
    }
   ],
   "source": [
    "# Input lengths of the three sides of the triangle from the user\n",
    "side1 = float(input(\"Enter the length of side 1: \"))\n",
    "side2 = float(input(\"Enter the length of side 2: \"))\n",
    "side3 = float(input(\"Enter the length of side 3: \"))\n",
    "\n",
    "# Check if it forms a valid triangle\n",
    "if side1 + side2 > side3 and side1 + side3 > side2 and side2 + side3 > side1:\n",
    "    # Check the type of triangle\n",
    "    if side1 == side2 == side3:\n",
    "        print(\"It is an equilateral triangle.\")\n",
    "    elif side1 == side2 or side1 == side3 or side2 == side3:\n",
    "        print(\"It is an isosceles triangle.\")\n",
    "    else:\n",
    "        print(\"It is a scalene triangle.\")\n",
    "else:\n",
    "    print(\"It does not form a valid triangle.\")\n"
   ]
  },
  {
   "cell_type": "markdown",
   "id": "f5097b7a-2f86-47b8-a73a-7fbcb246eb5f",
   "metadata": {},
   "source": [
    "### 13.Write a Python program to determine the day of the week based on a user-provided number using if-else."
   ]
  },
  {
   "cell_type": "code",
   "execution_count": 43,
   "id": "f1a42081-23b4-4f5f-8006-ceea1c801d3b",
   "metadata": {},
   "outputs": [
    {
     "name": "stdin",
     "output_type": "stream",
     "text": [
      "Enter a number (1-7) to determine the day of the week:  5\n"
     ]
    },
    {
     "name": "stdout",
     "output_type": "stream",
     "text": [
      "The day corresponding to 5 is Thursday.\n"
     ]
    }
   ],
   "source": [
    "# Get the user's input for the day number\n",
    "day_number = int(input(\"Enter a number (1-7) to determine the day of the week: \"))\n",
    "\n",
    "# Check the value of day_number and determine the corresponding day\n",
    "if day_number == 1:\n",
    "    day_name = \"Sunday\"\n",
    "elif day_number == 2:\n",
    "    day_name = \"Monday\"\n",
    "elif day_number == 3:\n",
    "    day_name = \"Tuesday\"\n",
    "elif day_number == 4:\n",
    "    day_name = \"Wednesday\"\n",
    "elif day_number == 5:\n",
    "    day_name = \"Thursday\"\n",
    "elif day_number == 6:\n",
    "    day_name = \"Friday\"\n",
    "elif day_number == 7:\n",
    "    day_name = \"Saturday\"\n",
    "else:\n",
    "    day_name = \"Invalid input. Please enter a number from 1 to 7.\"\n",
    "\n",
    "# Display the day of the week\n",
    "print(f\"The day corresponding to {day_number} is {day_name}.\")\n"
   ]
  },
  {
   "cell_type": "markdown",
   "id": "207a7f08-955f-4f93-90cd-6641a15ac753",
   "metadata": {},
   "source": [
    "### 14.Create a Python program that checks if a given year is a leap year using both if-else and a function."
   ]
  },
  {
   "cell_type": "code",
   "execution_count": 44,
   "id": "deb76008-1b8f-4969-9b0e-fe4e35d30121",
   "metadata": {},
   "outputs": [
    {
     "name": "stdin",
     "output_type": "stream",
     "text": [
      "Enter a year:  2008\n"
     ]
    },
    {
     "name": "stdout",
     "output_type": "stream",
     "text": [
      "2008 is a leap year.\n"
     ]
    }
   ],
   "source": [
    "# Define a function to check if a year is a leap year\n",
    "def is_leap_year(year):\n",
    "    if (year % 4 == 0 and year % 100 != 0) or (year % 400 == 0):\n",
    "        return True\n",
    "    else:\n",
    "        return False\n",
    "\n",
    "# Get the user's input for the year\n",
    "year = int(input(\"Enter a year: \"))\n",
    "\n",
    "# Check if it's a leap year using the function\n",
    "if is_leap_year(year):\n",
    "    print(f\"{year} is a leap year.\")\n",
    "else:\n",
    "    print(f\"{year} is not a leap year.\")\n"
   ]
  },
  {
   "cell_type": "markdown",
   "id": "a40461da-dfca-433d-8411-446493a8bd48",
   "metadata": {},
   "source": [
    "### 15.How do you use the \"assert\" statement in Python to add debugging checks within if-else blocks?"
   ]
  },
  {
   "cell_type": "code",
   "execution_count": 45,
   "id": "8a7d764f-86e9-4dd3-90d5-1de3d50cd310",
   "metadata": {},
   "outputs": [
    {
     "name": "stdout",
     "output_type": "stream",
     "text": [
      "x is positive\n"
     ]
    }
   ],
   "source": [
    "x = 10\n",
    "\n",
    "if x > 0:\n",
    "    print(\"x is positive\")\n",
    "else:\n",
    "    assert x == 0, \"x should be zero\"\n",
    "    print(\"x is zero\")\n"
   ]
  },
  {
   "cell_type": "markdown",
   "id": "667926e7-729d-48a1-af70-559166b471d5",
   "metadata": {},
   "source": [
    "### 16.Create a Python program that determines the eligibility of a person for a senior citizen discount based on age using if-else."
   ]
  },
  {
   "cell_type": "code",
   "execution_count": 46,
   "id": "0a64dd09-cc06-40d0-9b74-6e2854349d1a",
   "metadata": {},
   "outputs": [
    {
     "name": "stdin",
     "output_type": "stream",
     "text": [
      "Enter your age:  70\n"
     ]
    },
    {
     "name": "stdout",
     "output_type": "stream",
     "text": [
      "Congratulations! You are eligible for a senior citizen discount.\n"
     ]
    }
   ],
   "source": [
    "# Get the age of the person as input\n",
    "age = int(input(\"Enter your age: \"))\n",
    "\n",
    "# Define the age threshold for senior citizen discount\n",
    "senior_citizen_age = 60\n",
    "\n",
    "# Check if the person is eligible for a senior citizen discount\n",
    "if age >= senior_citizen_age:\n",
    "    print(\"Congratulations! You are eligible for a senior citizen discount.\")\n",
    "else:\n",
    "    print(\"Sorry, you are not eligible for a senior citizen discount.\")\n"
   ]
  },
  {
   "cell_type": "markdown",
   "id": "79ad1051-2633-4c0f-80ec-3a408c27a486",
   "metadata": {},
   "source": [
    "### 17.Write a Python program to categorize a given character as uppercase, lowercase, or neither using if-else."
   ]
  },
  {
   "cell_type": "code",
   "execution_count": 47,
   "id": "9941376e-1033-4476-908d-847ff903c3d8",
   "metadata": {},
   "outputs": [
    {
     "name": "stdin",
     "output_type": "stream",
     "text": [
      "Enter a character:  Ryoba\n"
     ]
    },
    {
     "name": "stdout",
     "output_type": "stream",
     "text": [
      "The character 'Ryoba' is neither uppercase nor lowercase.\n"
     ]
    }
   ],
   "source": [
    "# Get a character as input\n",
    "char = input(\"Enter a character: \")\n",
    "\n",
    "# Check if the character is an uppercase letter\n",
    "if char.isupper():\n",
    "    print(f\"The character '{char}' is uppercase.\")\n",
    "# Check if the character is a lowercase letter\n",
    "elif char.islower():\n",
    "    print(f\"The character '{char}' is lowercase.\")\n",
    "# If neither uppercase nor lowercase, consider it as neither\n",
    "else:\n",
    "    print(f\"The character '{char}' is neither uppercase nor lowercase.\")\n"
   ]
  },
  {
   "cell_type": "markdown",
   "id": "763e5503-3737-42d9-81d6-346ddb2437d7",
   "metadata": {},
   "source": [
    "### 18.Write a Python program to determine the roots of a quadratic equation using if-else."
   ]
  },
  {
   "cell_type": "code",
   "execution_count": 5,
   "id": "76d6aab7-1288-4da9-81c6-c77e6752bb8f",
   "metadata": {},
   "outputs": [
    {
     "name": "stdin",
     "output_type": "stream",
     "text": [
      "Enter the coefficient a:  -2\n",
      "Enter the coefficient b:  1\n",
      "Enter the coefficient c:  2\n"
     ]
    },
    {
     "name": "stdout",
     "output_type": "stream",
     "text": [
      "Two real and distinct roots: -0.7807764064044151 and 1.2807764064044151\n"
     ]
    }
   ],
   "source": [
    "# Get coefficients from the user\n",
    "a = float(input(\"Enter the coefficient a: \"))\n",
    "b = float(input(\"Enter the coefficient b: \"))\n",
    "c = float(input(\"Enter the coefficient c: \"))\n",
    "\n",
    "# Calculate the discriminant\n",
    "discriminant = b**2 - 4*a*c\n",
    "\n",
    "# Check the value of the discriminant\n",
    "if discriminant > 0:\n",
    "    # Two real and distinct roots\n",
    "    root1 = (-b + discriminant**0.5) / (2*a)\n",
    "    root2 = (-b - discriminant**0.5) / (2*a)\n",
    "    print(f\"Two real and distinct roots: {root1} and {root2}\")\n",
    "elif discriminant == 0:\n",
    "    # One real root (repeated)\n",
    "    root = -b / (2*a)\n",
    "    print(f\"One real root (repeated): {root}\")\n",
    "else:\n",
    "    # Complex roots\n",
    "    real_part = -b / (2*a)\n",
    "    imaginary_part = (abs(discriminant)**0.5) / (2*a)\n",
    "    print(f\"Complex roots: {real_part} + {imaginary_part}i and {real_part} - {imaginary_part}i\")\n"
   ]
  },
  {
   "cell_type": "markdown",
   "id": "b620569d-0202-4d0d-bf80-1976cd2f3c0f",
   "metadata": {},
   "source": [
    "### 19.Create a Python program that checks if a given year is a century year or not using if-else."
   ]
  },
  {
   "cell_type": "code",
   "execution_count": 6,
   "id": "808d7b2e-fa53-48c9-8d69-fe0be4733985",
   "metadata": {},
   "outputs": [
    {
     "name": "stdin",
     "output_type": "stream",
     "text": [
      "Enter a year:  2000\n"
     ]
    },
    {
     "name": "stdout",
     "output_type": "stream",
     "text": [
      "2000 is a century year.\n"
     ]
    }
   ],
   "source": [
    "# Get the year from the user\n",
    "year = int(input(\"Enter a year: \"))\n",
    "\n",
    "# Check if it's a century year or not\n",
    "if year % 100 == 0:\n",
    "    print(f\"{year} is a century year.\")\n",
    "else:\n",
    "    print(f\"{year} is not a century year.\")\n"
   ]
  },
  {
   "cell_type": "markdown",
   "id": "a2e61b47-a5d5-4098-8f78-c875db91f00e",
   "metadata": {},
   "source": [
    "### 20.Write a Python program to determine if a given number is a perfect square using if-else."
   ]
  },
  {
   "cell_type": "code",
   "execution_count": 7,
   "id": "bb1875f9-ea2b-468f-ba10-274ff42bf493",
   "metadata": {},
   "outputs": [
    {
     "name": "stdin",
     "output_type": "stream",
     "text": [
      "Enter a number:  16\n"
     ]
    },
    {
     "name": "stdout",
     "output_type": "stream",
     "text": [
      "16 is a perfect square.\n"
     ]
    }
   ],
   "source": [
    "# Get the number from the user\n",
    "number = int(input(\"Enter a number: \"))\n",
    "\n",
    "# Calculate the square root of the number\n",
    "sqrt = int(number**0.5)\n",
    "\n",
    "# Check if it's a perfect square or not\n",
    "if sqrt*sqrt == number:\n",
    "    print(f\"{number} is a perfect square.\")\n",
    "else:\n",
    "    print(f\"{number} is not a perfect square.\")\n"
   ]
  },
  {
   "cell_type": "markdown",
   "id": "9f0886a5-adf2-4d04-bac8-c992e8a9c5a3",
   "metadata": {},
   "source": [
    "### 21.Explain the purpose of the \"continue\" and \"break\" statements within if-else loops.\n",
    "\n",
    "Continue Statement:\n",
    "\n",
    "Purpose: The \"continue\" statement is used to skip the rest of the current iteration of a loop and move to the next iteration.\n",
    "It allows you to control the loop's behavior based on specific conditions.\n",
    "\n",
    "Usage: When a \"continue\" statement is encountered inside a loop, the remaining code within the current iteration is skipped,\n",
    "and the loop immediately starts the next iteration. \n",
    "This is useful when you want to skip processing certain elements or conditions in a loop without terminating the loop altogether\n",
    "\n",
    "Break Statement:\n",
    "\n",
    "Purpose: The \"break\" statement is used to exit a loop prematurely, typically based on a certain condition. When a \"break\" statement is encountered, it terminates the loop and continues with the code after the loop.\n",
    "\n",
    "Usage: You can use the \"break\" statement to exit a loop early when a specific condition is met. It's often used when you want to stop iterating through the loop as soon as a particular condition is satisfied.\n"
   ]
  },
  {
   "cell_type": "code",
   "execution_count": 9,
   "id": "4094bf36-48f0-4c51-886c-532f082e6267",
   "metadata": {},
   "outputs": [
    {
     "name": "stdout",
     "output_type": "stream",
     "text": [
      "1\n",
      "2\n",
      "4\n",
      "5\n"
     ]
    }
   ],
   "source": [
    "\n",
    "for i in range(1, 6):\n",
    "    if i == 3:\n",
    "        continue  # Skip iteration when i is 3\n",
    "    print(i)\n"
   ]
  },
  {
   "cell_type": "code",
   "execution_count": 10,
   "id": "383d2d23-f5d5-424e-b9c5-a998167149ff",
   "metadata": {},
   "outputs": [
    {
     "name": "stdin",
     "output_type": "stream",
     "text": [
      "Enter 'q' to quit:  not\n"
     ]
    },
    {
     "name": "stdout",
     "output_type": "stream",
     "text": [
      "You entered: not\n"
     ]
    },
    {
     "name": "stdin",
     "output_type": "stream",
     "text": [
      "Enter 'q' to quit:  print\n"
     ]
    },
    {
     "name": "stdout",
     "output_type": "stream",
     "text": [
      "You entered: print\n"
     ]
    },
    {
     "name": "stdin",
     "output_type": "stream",
     "text": [
      "Enter 'q' to quit:  q\n"
     ]
    }
   ],
   "source": [
    "while True:\n",
    "    user_input = input(\"Enter 'q' to quit: \")\n",
    "    if user_input == 'q':\n",
    "        break  # Exit the loop when 'q' is entered\n",
    "    print(\"You entered:\", user_input)\n"
   ]
  },
  {
   "cell_type": "markdown",
   "id": "8719f8f8-0b14-4843-a420-017ee4341699",
   "metadata": {},
   "source": [
    "### 22.Create a Python program that calculates the BMI (Body Mass Index) of a person based on their weight and height using if-else."
   ]
  },
  {
   "cell_type": "code",
   "execution_count": 11,
   "id": "5ce6edc2-c219-41e8-a005-5bef92052364",
   "metadata": {},
   "outputs": [
    {
     "name": "stdin",
     "output_type": "stream",
     "text": [
      "Enter your weight in kilograms:  70\n",
      "Enter your height in meters:  5.8\n"
     ]
    },
    {
     "name": "stdout",
     "output_type": "stream",
     "text": [
      "Your BMI is: 2.08\n",
      "Category: Underweight\n"
     ]
    }
   ],
   "source": [
    "# Input weight (in kilograms) and height (in meters)\n",
    "weight_kg = float(input(\"Enter your weight in kilograms: \"))\n",
    "height_m = float(input(\"Enter your height in meters: \"))\n",
    "\n",
    "# Calculate BMI\n",
    "bmi = weight_kg / (height_m ** 2)\n",
    "\n",
    "# Interpret BMI results\n",
    "if bmi < 18.5:\n",
    "    category = \"Underweight\"\n",
    "elif 18.5 <= bmi < 24.9:\n",
    "    category = \"Normal Weight\"\n",
    "elif 25 <= bmi < 29.9:\n",
    "    category = \"Overweight\"\n",
    "else:\n",
    "    category = \"Obese\"\n",
    "\n",
    "# Display the BMI and category\n",
    "print(f\"Your BMI is: {bmi:.2f}\")\n",
    "print(f\"Category: {category}\")\n"
   ]
  },
  {
   "cell_type": "markdown",
   "id": "40d36aa5-a217-4ddf-b4e9-bc0c86b02490",
   "metadata": {},
   "source": [
    "### 23.How can you use the \"filter()\" function with if-else statements to filter elements from a list?"
   ]
  },
  {
   "cell_type": "code",
   "execution_count": 13,
   "id": "08823509-eddd-4423-9f75-15615eac6e05",
   "metadata": {},
   "outputs": [
    {
     "name": "stdout",
     "output_type": "stream",
     "text": [
      "[2, 4, 6, 8, 10]\n"
     ]
    }
   ],
   "source": [
    "# Define a list of numbers\n",
    "numbers = [1, 2, 3, 4, 5, 6, 7, 8, 9, 10]\n",
    "\n",
    "# Use filter() to filter even numbers using a lambda function with if-else\n",
    "even_numbers = list(filter(lambda x: x % 2 == 0, numbers))\n",
    "\n",
    "# Display the filtered even numbers\n",
    "print(even_numbers)\n"
   ]
  },
  {
   "cell_type": "markdown",
   "id": "5136b1ed-cc99-4b5e-84fa-c49506e89b6e",
   "metadata": {},
   "source": [
    "### 24.Write a Python program to determine if a given number is prime or not using if-else."
   ]
  },
  {
   "cell_type": "code",
   "execution_count": 1,
   "id": "3a44f75d-ad61-4c2e-aae2-a22fadc3e8c8",
   "metadata": {},
   "outputs": [
    {
     "name": "stdin",
     "output_type": "stream",
     "text": [
      "Enter a number:  3\n"
     ]
    },
    {
     "name": "stdout",
     "output_type": "stream",
     "text": [
      "3 is a prime number.\n"
     ]
    }
   ],
   "source": [
    "### Function to check if a number is prime\n",
    "def is_prime(number):\n",
    "    # Prime numbers are greater than 1\n",
    "    if number <= 1:\n",
    "        return False\n",
    "    # Check for factors from 2 to the square root of the number\n",
    "    for i in range(2, int(number ** 0.5) + 1):\n",
    "        if number % i == 0:\n",
    "            return False\n",
    "    return True\n",
    "\n",
    "# Input: Enter a number\n",
    "num = int(input(\"Enter a number: \"))\n",
    "\n",
    "# Check if the number is prime\n",
    "if is_prime(num):\n",
    "    print(f\"{num} is a prime number.\")\n",
    "else:\n",
    "    print(f\"{num} is not a prime number.\")\n"
   ]
  },
  {
   "cell_type": "markdown",
   "id": "51d47a1e-c840-492b-8504-c89d63332c2b",
   "metadata": {},
   "source": [
    "## **Map :-**\n",
    "---"
   ]
  },
  {
   "cell_type": "markdown",
   "id": "b0af4842-595d-4278-b26a-b92424a94e28",
   "metadata": {},
   "source": [
    "### 1.Explain the purpose of the `map()` function in Python and provide an example of how it can be used to apply a function to each element of an iterable.\n",
    "\n",
    "The map() function in Python is a built-in function that is used for applying a given function to each item in an iterable (such as a list, tuple, or string) and returns an iterable (typically a map object, which can be converted to other iterable types like a list) containing the results of applying the function to each item in the original iterable. It allows for concise and efficient element-wise operations on iterable data"
   ]
  },
  {
   "cell_type": "code",
   "execution_count": 2,
   "id": "a54a26b3-d0a4-4a46-9f77-fea3d6f9dd7f",
   "metadata": {},
   "outputs": [
    {
     "name": "stdout",
     "output_type": "stream",
     "text": [
      "[1, 4, 9, 16, 25]\n"
     ]
    }
   ],
   "source": [
    "# Define a function that squares a number\n",
    "def square(x):\n",
    "    return x ** 2\n",
    "\n",
    "# Create a list of numbers\n",
    "numbers = [1, 2, 3, 4, 5]\n",
    "\n",
    "# Use map() to apply the square() function to each element of the list\n",
    "squared_numbers = map(square, numbers)\n",
    "\n",
    "# Convert the result to a list (map object to list)\n",
    "squared_numbers_list = list(squared_numbers)\n",
    "\n",
    "# Print the squared numbers\n",
    "print(squared_numbers_list)\n"
   ]
  },
  {
   "cell_type": "markdown",
   "id": "8a95010a-fcb4-4384-8ef3-2a22b8c63b62",
   "metadata": {},
   "source": [
    "### 2.Write a Python program that uses the `map()` function to square each element of a list of numbers."
   ]
  },
  {
   "cell_type": "code",
   "execution_count": 3,
   "id": "60b433b9-6e90-4412-9988-68e045286f18",
   "metadata": {},
   "outputs": [
    {
     "name": "stdout",
     "output_type": "stream",
     "text": [
      "[1, 4, 9, 16, 25]\n"
     ]
    }
   ],
   "source": [
    "# Define a function that squares a number\n",
    "def square(x):\n",
    "    return x ** 2\n",
    "\n",
    "# Create a list of numbers\n",
    "numbers = [1, 2, 3, 4, 5]\n",
    "\n",
    "# Use map() to apply the square() function to each element of the list\n",
    "squared_numbers = map(square, numbers)\n",
    "\n",
    "# Convert the result to a list (map object to list)\n",
    "squared_numbers_list = list(squared_numbers)\n",
    "\n",
    "# Print the squared numbers\n",
    "print(squared_numbers_list)\n"
   ]
  },
  {
   "cell_type": "markdown",
   "id": "b0e063ec-5f00-4817-9835-f7654cfdab64",
   "metadata": {},
   "source": [
    "### 3.How does the `map()` function differ from a list comprehension in Python, and when would you choose one over the other?"
   ]
  },
  {
   "cell_type": "markdown",
   "id": "a97fc0a1-94cf-44ef-a8f1-d2e9ca2e15ef",
   "metadata": {},
   "source": [
    "The `map()` function and list comprehensions in Python are both used to transform data within an iterable (such as a list), but they have some differences in terms of usage and flexibility. Here are the key differences between `map()` and list comprehensions:\n",
    "\n",
    "1. **Syntax and Readability**:\n",
    "   - `map()`: Uses a separate function to apply to each element in the iterable, which can sometimes make the code less concise and readable.\n",
    "   - List Comprehension: Uses a more concise and visually compact syntax, making it easier to understand and maintain.\n",
    "\n",
    "   ```python\n",
    "   # Using map()\n",
    "   result = map(function, iterable)\n",
    "\n",
    "   # Using list comprehension\n",
    "   result = [expression for element in iterable]\n",
    "   ```\n",
    "\n",
    "2. **Return Type**:\n",
    "   - `map()`: Returns a map object, which is an iterator. You often need to convert it to a list or another iterable type to access the results.\n",
    "   - List Comprehension: Directly returns a list, which is a more commonly used data structure for sequences in Python.\n",
    "\n",
    "3. **Function vs. Expression**:\n",
    "   - `map()`: Requires a separate function to apply to each element, making it suitable for more complex transformations that cannot be expressed in a single expression.\n",
    "   - List Comprehension: Allows for simple element-wise operations expressed directly in an expression.\n",
    "\n",
    "   ```python\n",
    "   # Using map() with a separate function\n",
    "   def square(x):\n",
    "       return x ** 2\n",
    "\n",
    "   result = map(square, iterable)\n",
    "\n",
    "   # Using list comprehension with an expression\n",
    "   result = [x ** 2 for x in iterable]\n",
    "   ```\n",
    "\n",
    "4. **Performance**:\n",
    "   - `map()`: May be more memory-efficient for large datasets since it generates results lazily (on-the-fly) without creating a new list immediately.\n",
    "   - List Comprehension: Generates a new list in memory, which can be less memory-efficient for very large datasets.\n",
    "\n",
    "When to Choose `map()` Over List Comprehension:\n",
    "- Use `map()` when you have a specific function that needs to be applied to each element, especially for more complex transformations.\n",
    "- `map()` can be useful when you want to work with existing functions or functions that are not easily expressed as simple expressions.\n",
    "\n",
    "When to Choose List Comprehension Over `map()`:\n",
    "- Use list comprehensions when you have a straightforward transformation that can be expressed in a single expression.\n",
    "- List comprehensions are often more concise and readable for simple tasks.\n",
    "- They return a list directly, which is a common data structure in Python, and can be used immediately without conversion.\n",
    "\n",
    "In practice, the choice between `map()` and list comprehensions depends on the specific requirements of your code and your preference for readability. Python's readability and simplicity principles encourage the use of list comprehensions for straightforward tasks, while `map()` is better suited for cases where you need to apply a separate function to each element."
   ]
  },
  {
   "cell_type": "markdown",
   "id": "d4450df5-a931-4e1b-a048-5dbdc043ac28",
   "metadata": {},
   "source": [
    "### 4.Create a Python program that uses the `map()` function to convert a list of names to uppercase."
   ]
  },
  {
   "cell_type": "code",
   "execution_count": 4,
   "id": "ccd025fc-3e56-4d01-a300-3965f5b9610e",
   "metadata": {},
   "outputs": [
    {
     "name": "stdout",
     "output_type": "stream",
     "text": [
      "['ALICE', 'BOB', 'CHARLIE', 'DAVID', 'EVA']\n"
     ]
    }
   ],
   "source": [
    "# List of names\n",
    "names = [\"Alice\", \"Bob\", \"Charlie\", \"David\", \"Eva\"]\n",
    "\n",
    "# Function to convert a name to uppercase\n",
    "def convert_to_uppercase(name):\n",
    "    return name.upper()\n",
    "\n",
    "# Use map() to apply the convert_to_uppercase() function to each name in the list\n",
    "uppercase_names = map(convert_to_uppercase, names)\n",
    "\n",
    "# Convert the result to a list (map object to list)\n",
    "uppercase_names_list = list(uppercase_names)\n",
    "\n",
    "# Print the uppercase names\n",
    "print(uppercase_names_list)\n"
   ]
  },
  {
   "cell_type": "markdown",
   "id": "a1a311d3-5258-4346-82eb-4946a2c45d1e",
   "metadata": {},
   "source": [
    "### 5.Write a Python program that uses the `map()` function to calculate the length of each word in a list of strings."
   ]
  },
  {
   "cell_type": "code",
   "execution_count": 5,
   "id": "9b04668e-9f1b-447f-a0b3-0cc7472be41e",
   "metadata": {},
   "outputs": [
    {
     "name": "stdout",
     "output_type": "stream",
     "text": [
      "[5, 5, 6, 11]\n"
     ]
    }
   ],
   "source": [
    "# List of strings\n",
    "strings = [\"Hello\", \"World\", \"Python\", \"Programming\"]\n",
    "\n",
    "# Function to calculate the length of a word\n",
    "def calculate_word_length(word):\n",
    "    return len(word)\n",
    "\n",
    "# Use map() to apply the calculate_word_length() function to each string in the list\n",
    "word_lengths = map(calculate_word_length, strings)\n",
    "\n",
    "# Convert the result to a list (map object to list)\n",
    "word_lengths_list = list(word_lengths)\n",
    "\n",
    "# Print the word lengths\n",
    "print(word_lengths_list)\n"
   ]
  },
  {
   "cell_type": "markdown",
   "id": "fb5374c7-0523-4e63-8c5b-83696d75a782",
   "metadata": {},
   "source": [
    "### 6.How can you use the `map()` function to apply a custom function to elements of multiple lists simultaneously in Python?"
   ]
  },
  {
   "cell_type": "code",
   "execution_count": 6,
   "id": "d97603f2-3b82-4f4d-8f20-3d945f7fe6a5",
   "metadata": {},
   "outputs": [
    {
     "name": "stdout",
     "output_type": "stream",
     "text": [
      "[10, 40, 90, 160, 250]\n"
     ]
    }
   ],
   "source": [
    "# Define custom function that operates on multiple arguments\n",
    "def custom_function(arg1, arg2):\n",
    "    # Perform some operation on arg1 and arg2\n",
    "    return arg1 * arg2\n",
    "\n",
    "# Create two lists\n",
    "list1 = [1, 2, 3, 4, 5]\n",
    "list2 = [10, 20, 30, 40, 50]\n",
    "\n",
    "# Use map() to apply custom_function to elements of both lists\n",
    "result = map(custom_function, list1, list2)\n",
    "\n",
    "# Convert the result to a list (map object to list)\n",
    "result_list = list(result)\n",
    "\n",
    "# Print the result\n",
    "print(result_list)\n"
   ]
  },
  {
   "cell_type": "markdown",
   "id": "87ce4929-4862-4b17-95c0-56aa210c8ee0",
   "metadata": {},
   "source": [
    "### 7.Create a Python program that uses `map()` to convert a list of temperatures from Celsius to Fahrenheit."
   ]
  },
  {
   "cell_type": "code",
   "execution_count": 7,
   "id": "ce88bc18-9962-40c2-a266-5c8c7c2abd74",
   "metadata": {},
   "outputs": [
    {
     "name": "stdout",
     "output_type": "stream",
     "text": [
      "[32.0, 50.0, 68.0, 86.0, 104.0]\n"
     ]
    }
   ],
   "source": [
    "# List of temperatures in Celsius\n",
    "celsius_temperatures = [0, 10, 20, 30, 40]\n",
    "\n",
    "# Function to convert Celsius to Fahrenheit\n",
    "def celsius_to_fahrenheit(celsius):\n",
    "    return (celsius * 9/5) + 32\n",
    "\n",
    "# Use map() to apply the celsius_to_fahrenheit() function to each temperature in the list\n",
    "fahrenheit_temperatures = map(celsius_to_fahrenheit, celsius_temperatures)\n",
    "\n",
    "# Convert the result to a list (map object to list)\n",
    "fahrenheit_temperatures_list = list(fahrenheit_temperatures)\n",
    "\n",
    "# Print the Fahrenheit temperatures\n",
    "print(fahrenheit_temperatures_list)\n"
   ]
  },
  {
   "cell_type": "markdown",
   "id": "23e44e41-0a16-4513-bc39-41dd42717dcb",
   "metadata": {},
   "source": [
    "### 8.Write a Python program that uses the `map()` function to round each element of a list of floating-point numbers to the nearest integer."
   ]
  },
  {
   "cell_type": "code",
   "execution_count": 8,
   "id": "fb0711aa-fa4a-42ad-a309-eea20beb3f44",
   "metadata": {},
   "outputs": [
    {
     "name": "stdout",
     "output_type": "stream",
     "text": [
      "[3, 3, 1, 1, 5]\n"
     ]
    }
   ],
   "source": [
    "# List of floating-point numbers\n",
    "float_numbers = [3.14, 2.718, 1.414, 0.577, 4.669]\n",
    "\n",
    "# Use map() to apply the round() function to each float in the list\n",
    "rounded_integers = map(round, float_numbers)\n",
    "\n",
    "# Convert the result to a list (map object to list)\n",
    "rounded_integers_list = list(rounded_integers)\n",
    "\n",
    "# Print the rounded integers\n",
    "print(rounded_integers_list)\n"
   ]
  },
  {
   "cell_type": "markdown",
   "id": "7a1283ea-aaea-45ef-8339-939ab3e56e5c",
   "metadata": {},
   "source": [
    "## **Reduce :-**\n",
    "---\n"
   ]
  },
  {
   "cell_type": "markdown",
   "id": "fff426db-74ca-4146-a249-167179770d5e",
   "metadata": {},
   "source": [
    "### 1.What is the `reduce()` function in Python, and what module should you import to use it? Provide an example of its basic usage.\n",
    "\n",
    "The reduce() function in Python is a built-in function that is used to apply a specified function to the elements of an iterable (e.g., a list or tuple) in a cumulative way, reducing the iterable to a single value. To use the reduce() function, you need to import it from the functools module in Python."
   ]
  },
  {
   "cell_type": "code",
   "execution_count": 9,
   "id": "6c5ca5f2-1b9a-4fdd-8a6c-52675bb3f35a",
   "metadata": {},
   "outputs": [
    {
     "name": "stdout",
     "output_type": "stream",
     "text": [
      "120\n"
     ]
    }
   ],
   "source": [
    "import functools\n",
    "\n",
    "# List of numbers\n",
    "numbers = [1, 2, 3, 4, 5]\n",
    "\n",
    "# Function to multiply two numbers\n",
    "def multiply(x, y):\n",
    "    return x * y\n",
    "\n",
    "# Use reduce() to calculate the product of the numbers\n",
    "product = functools.reduce(multiply, numbers)\n",
    "\n",
    "# Print the product\n",
    "print(product)\n"
   ]
  },
  {
   "cell_type": "markdown",
   "id": "e69d44a7-c457-4575-a36b-a99fa8c6659a",
   "metadata": {},
   "source": [
    "### 2.Write a Python program that uses the `reduce()` function to find the product of all elements in a list."
   ]
  },
  {
   "cell_type": "code",
   "execution_count": 10,
   "id": "fbea43cb-4c3b-4e19-8fa7-953b43157375",
   "metadata": {},
   "outputs": [
    {
     "name": "stdout",
     "output_type": "stream",
     "text": [
      "120\n"
     ]
    }
   ],
   "source": [
    "import functools\n",
    "\n",
    "# List of numbers\n",
    "numbers = [1, 2, 3, 4, 5]\n",
    "\n",
    "# Function to multiply two numbers\n",
    "def multiply(x, y):\n",
    "    return x * y\n",
    "\n",
    "# Use reduce() to calculate the product of the numbers\n",
    "product = functools.reduce(multiply, numbers)\n",
    "\n",
    "# Print the product\n",
    "print(product)\n"
   ]
  },
  {
   "cell_type": "markdown",
   "id": "2498e2c0-d2bf-4492-b242-c4ff9287fdae",
   "metadata": {},
   "source": [
    "### 3.Create a Python program that uses `reduce()` to find the maximum element in a list of numbers."
   ]
  },
  {
   "cell_type": "code",
   "execution_count": 11,
   "id": "e53d147e-e07d-4c3a-b177-9f549685c7c2",
   "metadata": {},
   "outputs": [
    {
     "name": "stdout",
     "output_type": "stream",
     "text": [
      "89\n"
     ]
    }
   ],
   "source": [
    "import functools\n",
    "\n",
    "# List of numbers\n",
    "numbers = [12, 45, 78, 23, 56, 89, 34, 67]\n",
    "\n",
    "# Function to find the maximum of two numbers\n",
    "def find_max(x, y):\n",
    "    return x if x > y else y\n",
    "\n",
    "# Use reduce() to find the maximum element in the list\n",
    "maximum = functools.reduce(find_max, numbers)\n",
    "\n",
    "# Print the maximum element\n",
    "print(maximum)\n"
   ]
  },
  {
   "cell_type": "markdown",
   "id": "f651fa30-4194-422b-aba0-e862d25f2bcc",
   "metadata": {},
   "source": [
    "### 4.How can you use the `reduce()` function to concatenate a list of strings into a single string?"
   ]
  },
  {
   "cell_type": "code",
   "execution_count": 12,
   "id": "fed652e0-2e01-46a3-ab66-08e075bf3824",
   "metadata": {},
   "outputs": [
    {
     "name": "stdout",
     "output_type": "stream",
     "text": [
      "Hello World!\n"
     ]
    }
   ],
   "source": [
    "import functools\n",
    "\n",
    "# List of strings\n",
    "strings = [\"Hello\", \" \", \"World\", \"!\"]\n",
    "\n",
    "# Function to concatenate two strings\n",
    "def concatenate_strings(str1, str2):\n",
    "    return str1 + str2\n",
    "\n",
    "# Use reduce() to concatenate the strings into a single string\n",
    "concatenated_string = functools.reduce(concatenate_strings, strings)\n",
    "\n",
    "# Print the concatenated string\n",
    "print(concatenated_string)\n"
   ]
  },
  {
   "cell_type": "markdown",
   "id": "96bad2e1-c3bb-48a7-8f04-276c1a221625",
   "metadata": {},
   "source": [
    "### 5.Write a Python program that calculates the factorial of a number using the `reduce()` function."
   ]
  },
  {
   "cell_type": "code",
   "execution_count": 13,
   "id": "6b050233-7fdb-49a9-b789-a0a742211171",
   "metadata": {},
   "outputs": [
    {
     "name": "stdin",
     "output_type": "stream",
     "text": [
      "Enter a number:  6\n"
     ]
    },
    {
     "name": "stdout",
     "output_type": "stream",
     "text": [
      "The factorial of 6 is 720\n"
     ]
    }
   ],
   "source": [
    "import functools\n",
    "\n",
    "# Function to calculate the factorial of a number\n",
    "def calculate_factorial(result, number):\n",
    "    return result * number\n",
    "\n",
    "# Input: The number for which you want to calculate the factorial\n",
    "number = int(input(\"Enter a number: \"))\n",
    "\n",
    "# Create a list of numbers from 1 to the input number\n",
    "numbers = list(range(1, number + 1))\n",
    "\n",
    "# Use reduce() to calculate the factorial\n",
    "factorial = functools.reduce(calculate_factorial, numbers, 1)\n",
    "\n",
    "# Print the factorial\n",
    "print(f\"The factorial of {number} is {factorial}\")\n"
   ]
  },
  {
   "cell_type": "markdown",
   "id": "14f9ed84-013e-424c-b0f8-f71b766646af",
   "metadata": {},
   "source": [
    "### 6.Create a Python program that uses `reduce()` to find the GCD (Greatest Common Divisor) of a list of numbers."
   ]
  },
  {
   "cell_type": "code",
   "execution_count": 14,
   "id": "0333cc3b-8bc0-4976-9351-b628c4e7b10a",
   "metadata": {},
   "outputs": [
    {
     "name": "stdout",
     "output_type": "stream",
     "text": [
      "The GCD of the numbers is 12\n"
     ]
    }
   ],
   "source": [
    "import functools\n",
    "import math\n",
    "\n",
    "# List of numbers\n",
    "numbers = [36, 48, 60, 72]\n",
    "\n",
    "# Function to calculate the GCD of two numbers\n",
    "def calculate_gcd(x, y):\n",
    "    return math.gcd(x, y)\n",
    "\n",
    "# Use reduce() to find the GCD of the numbers\n",
    "gcd = functools.reduce(calculate_gcd, numbers)\n",
    "\n",
    "# Print the GCD\n",
    "print(f\"The GCD of the numbers is {gcd}\")\n"
   ]
  },
  {
   "cell_type": "markdown",
   "id": "12bba7af-f23c-4ded-8cfd-e16d2b995855",
   "metadata": {},
   "source": [
    "### 7.Write a Python program that uses the `reduce()` function to find the sum of the digits of a given number."
   ]
  },
  {
   "cell_type": "code",
   "execution_count": 17,
   "id": "f1e0c630-c10b-4e31-8940-45b5c83f9b56",
   "metadata": {},
   "outputs": [
    {
     "name": "stdin",
     "output_type": "stream",
     "text": [
      "Enter a number:  1234\n"
     ]
    },
    {
     "name": "stdout",
     "output_type": "stream",
     "text": [
      "The sum of digits of 1234 is 10\n"
     ]
    }
   ],
   "source": [
    "import functools\n",
    "\n",
    "# Function to sum two digits\n",
    "def sum_digits(x, y):\n",
    "    return int(x) + int(y)\n",
    "\n",
    "# Input: The number for which you want to find the sum of digits\n",
    "number = int(input(\"Enter a number: \"))\n",
    "\n",
    "# Convert the number to a string to extract its digits\n",
    "number_str = str(number)\n",
    "\n",
    "# Use reduce() to find the sum of the digits\n",
    "sum_of_digits = functools.reduce(sum_digits, number_str, 0)\n",
    "\n",
    "# Print the sum of the digits\n",
    "print(f\"The sum of digits of {number} is {sum_of_digits}\")\n"
   ]
  },
  {
   "cell_type": "markdown",
   "id": "964f1b68-7089-4c97-b730-f8d55f579914",
   "metadata": {},
   "source": [
    "## **Filter :-**\n",
    "---"
   ]
  },
  {
   "cell_type": "markdown",
   "id": "605cbbc3-97c0-4e57-98c0-e65a94254fe1",
   "metadata": {},
   "source": [
    "### 1.Explain the purpose of the `filter()` function in Python and provide an example of how it can be used to filter elements from an iterable.\n",
    "\n",
    "The filter() function in Python is a built-in function that is used to filter elements from an iterable (e.g., a list, tuple, or other iterable) based on a specified condition. It takes two arguments: a function that defines the condition and an iterable to filter. The filter() function returns an iterator containing only the elements from the iterable that satisfy the specified condition."
   ]
  },
  {
   "cell_type": "code",
   "execution_count": 18,
   "id": "eaa6547d-8dab-44f6-a366-3cd5119f5bf0",
   "metadata": {},
   "outputs": [
    {
     "name": "stdout",
     "output_type": "stream",
     "text": [
      "[2, 4, 6, 8, 10]\n"
     ]
    }
   ],
   "source": [
    "# List of numbers\n",
    "numbers = [1, 2, 3, 4, 5, 6, 7, 8, 9, 10]\n",
    "\n",
    "# Function to filter even numbers\n",
    "def is_even(num):\n",
    "    return num % 2 == 0\n",
    "\n",
    "# Use filter() to filter even numbers from the list\n",
    "even_numbers = filter(is_even, numbers)\n",
    "\n",
    "# Convert the result to a list (filter object to list)\n",
    "even_numbers_list = list(even_numbers)\n",
    "\n",
    "# Print the even numbers\n",
    "print(even_numbers_list)\n"
   ]
  },
  {
   "cell_type": "markdown",
   "id": "6c1b2576-0da5-4a63-85bc-cd5eb7d8f05f",
   "metadata": {},
   "source": [
    "### 2.Write a Python program that uses the `filter()` function to select even numbers from a list of integers."
   ]
  },
  {
   "cell_type": "code",
   "execution_count": 19,
   "id": "b9004462-796f-4bb7-8ee1-a897735f89b2",
   "metadata": {},
   "outputs": [
    {
     "name": "stdout",
     "output_type": "stream",
     "text": [
      "[2, 4, 6, 8, 10]\n"
     ]
    }
   ],
   "source": [
    "# List of numbers\n",
    "numbers = [1, 2, 3, 4, 5, 6, 7, 8, 9, 10]\n",
    "\n",
    "# Function to filter even numbers\n",
    "def is_even(num):\n",
    "    return num % 2 == 0\n",
    "\n",
    "# Use filter() to select even numbers from the list\n",
    "even_numbers = filter(is_even, numbers)\n",
    "\n",
    "# Convert the result to a list (filter object to list)\n",
    "even_numbers_list = list(even_numbers)\n",
    "\n",
    "# Print the even numbers\n",
    "print(even_numbers_list)\n"
   ]
  },
  {
   "cell_type": "markdown",
   "id": "83557448-c1d5-4df8-916b-8ce46f028865",
   "metadata": {},
   "source": [
    "### 3.Create a Python program that uses the `filter()` function to select names that start with a specific letter from a list of strings."
   ]
  },
  {
   "cell_type": "code",
   "execution_count": 21,
   "id": "9683539f-3cea-47fb-96e4-8adc8315dee4",
   "metadata": {},
   "outputs": [
    {
     "name": "stdin",
     "output_type": "stream",
     "text": [
      "Enter a letter:  B\n"
     ]
    },
    {
     "name": "stdout",
     "output_type": "stream",
     "text": [
      "Names starting with 'B':\n",
      "['Bob']\n"
     ]
    }
   ],
   "source": [
    "# List of names\n",
    "names = [\"Alice\", \"Bob\", \"Charlie\", \"David\", \"Eva\"]\n",
    "\n",
    "# Function to filter names starting with a specific letter\n",
    "def starts_with_letter(name, letter):\n",
    "    return name.startswith(letter)\n",
    "\n",
    "# Input: The letter to filter names\n",
    "letter_to_filter = input(\"Enter a letter: \")\n",
    "\n",
    "# Use filter() to select names starting with the specified letter\n",
    "selected_names = filter(lambda name: starts_with_letter(name, letter_to_filter), names)\n",
    "\n",
    "# Convert the result to a list (filter object to list)\n",
    "selected_names_list = list(selected_names)\n",
    "\n",
    "# Print the selected names\n",
    "print(f\"Names starting with '{letter_to_filter}':\")\n",
    "print(selected_names_list)\n"
   ]
  },
  {
   "cell_type": "markdown",
   "id": "b1c44984-c1ae-4f42-a559-5eca8099ddfb",
   "metadata": {},
   "source": [
    "### 4.Write a Python program that uses the `filter()` function to select prime numbers from a list of integers."
   ]
  },
  {
   "cell_type": "code",
   "execution_count": 22,
   "id": "88bf1374-8db3-4321-9840-eb9a07ca830c",
   "metadata": {},
   "outputs": [
    {
     "name": "stdout",
     "output_type": "stream",
     "text": [
      "Prime numbers in the list:\n",
      "[2, 3, 5, 7]\n"
     ]
    }
   ],
   "source": [
    "# Function to check if a number is prime\n",
    "def is_prime(number):\n",
    "    if number <= 1:\n",
    "        return False\n",
    "    elif number <= 3:\n",
    "        return True\n",
    "    elif number % 2 == 0 or number % 3 == 0:\n",
    "        return False\n",
    "    i = 5\n",
    "    while i * i <= number:\n",
    "        if number % i == 0 or number % (i + 2) == 0:\n",
    "            return False\n",
    "        i += 6\n",
    "    return True\n",
    "\n",
    "# List of numbers\n",
    "numbers = [1, 2, 3, 4, 5, 6, 7, 8, 9, 10]\n",
    "\n",
    "# Use filter() to select prime numbers from the list\n",
    "prime_numbers = filter(is_prime, numbers)\n",
    "\n",
    "# Convert the result to a list (filter object to list)\n",
    "prime_numbers_list = list(prime_numbers)\n",
    "\n",
    "# Print the prime numbers\n",
    "print(\"Prime numbers in the list:\")\n",
    "print(prime_numbers_list)\n"
   ]
  },
  {
   "cell_type": "markdown",
   "id": "59e88059-0d6c-4c6e-a40c-a213a93ae244",
   "metadata": {},
   "source": [
    "### 5.How can you use the `filter()` function to remove None values from a list in Python?"
   ]
  },
  {
   "cell_type": "code",
   "execution_count": 23,
   "id": "56ee6528-2de1-436a-a154-1aad0b905af7",
   "metadata": {},
   "outputs": [
    {
     "name": "stdout",
     "output_type": "stream",
     "text": [
      "[1, 2, 3, 4, 5]\n"
     ]
    }
   ],
   "source": [
    "# List with None values\n",
    "my_list = [1, None, 2, None, 3, None, 4, None, 5]\n",
    "\n",
    "# Function to filter out None values\n",
    "def remove_none(item):\n",
    "    return item is not None\n",
    "\n",
    "# Use filter() to remove None values from the list\n",
    "filtered_list = filter(remove_none, my_list)\n",
    "\n",
    "# Convert the result to a list (filter object to list)\n",
    "filtered_list = list(filtered_list)\n",
    "\n",
    "# Print the filtered list\n",
    "print(filtered_list)\n"
   ]
  },
  {
   "cell_type": "markdown",
   "id": "e005f453-4567-4718-ae62-b88db8224091",
   "metadata": {},
   "source": [
    "### 6.Create a Python program that uses `filter()` to select words longer than a certain length from a list of strings."
   ]
  },
  {
   "cell_type": "code",
   "execution_count": 26,
   "id": "918870d8-7127-45d3-b0f0-42a577ec78b7",
   "metadata": {},
   "outputs": [
    {
     "name": "stdin",
     "output_type": "stream",
     "text": [
      "Enter the minimum word length:  6\n"
     ]
    },
    {
     "name": "stdout",
     "output_type": "stream",
     "text": [
      "Words longer than 6 characters:\n",
      "['elderberry']\n"
     ]
    }
   ],
   "source": [
    "# List of strings\n",
    "words = [\"apple\", \"banana\", \"cherry\", \"date\", \"elderberry\"]\n",
    "\n",
    "# Function to filter words longer than a specified length\n",
    "def is_long_word(word, length):\n",
    "    return len(word) > length\n",
    "\n",
    "# Input: The minimum length for words to be selected\n",
    "min_length = int(input(\"Enter the minimum word length: \"))\n",
    "\n",
    "# Use filter() to select words longer than the specified length\n",
    "long_words = filter(lambda word: is_long_word(word, min_length), words)\n",
    "\n",
    "# Convert the result to a list (filter object to list)\n",
    "long_words_list = list(long_words)\n",
    "\n",
    "# Print the selected long words\n",
    "print(f\"Words longer than {min_length} characters:\")\n",
    "print(long_words_list)\n"
   ]
  },
  {
   "cell_type": "markdown",
   "id": "44f370d8-2b7f-4346-9c33-6cc6381c629a",
   "metadata": {},
   "source": [
    "### 7.Write a Python program that uses the `filter()` function to select elements greater than a specified threshold from a list of values."
   ]
  },
  {
   "cell_type": "code",
   "execution_count": 32,
   "id": "3c5e04c3-15ab-4ebc-b368-07ca51438776",
   "metadata": {},
   "outputs": [
    {
     "name": "stdin",
     "output_type": "stream",
     "text": [
      "Enter the threshold value:  25\n"
     ]
    },
    {
     "name": "stdout",
     "output_type": "stream",
     "text": [
      "Values greater than 25:\n",
      "[30, 40]\n"
     ]
    }
   ],
   "source": [
    "# List of values\n",
    "values = [10, 25, 5, 30, 15, 40, 20]\n",
    "\n",
    "# Function to filter elements greater than a specified threshold\n",
    "def is_greater_than_threshold(value, threshold):\n",
    "    return value > threshold\n",
    "\n",
    "# Input: The threshold value for filtering\n",
    "threshold = int(input(\"Enter the threshold value: \"))\n",
    "\n",
    "# Use filter() to select elements greater than the specified threshold\n",
    "selected_values = filter(lambda value: is_greater_than_threshold(value, threshold), values)\n",
    "\n",
    "# Convert the result to a list (filter object to list)\n",
    "selected_values_list = list(selected_values)\n",
    "\n",
    "# Print the selected elements\n",
    "print(f\"Values greater than {threshold}:\")\n",
    "print(selected_values_list)\n"
   ]
  },
  {
   "cell_type": "markdown",
   "id": "8e4aaa10-0aa9-42bf-9d00-ab62e2519089",
   "metadata": {},
   "source": [
    "## **Recursion:-**\n",
    "---"
   ]
  },
  {
   "cell_type": "markdown",
   "id": "c44f4545-3368-4367-a27a-43fc26d6081e",
   "metadata": {},
   "source": [
    "### 1.Explain the concept of recursion in Python. How does it differ from iteration?"
   ]
  },
  {
   "cell_type": "markdown",
   "id": "eb2d682e-bd0e-4ce2-95fe-e92b6cd8f2f9",
   "metadata": {},
   "source": [
    "Recursion is a programming technique in Python (and in other programming languages) where a function calls itself in order to solve a problem. Recursive functions break a problem down into smaller subproblems and solve each subproblem by calling the same function recursively until a base case is reached, at which point the recursion stops.\n",
    "\n",
    "Here are some key concepts related to recursion:\n",
    "\n",
    "1. **Base Case**: A base case is a condition that defines when the recursion should stop. It represents the simplest version of the problem that can be solved directly. When the base case is met, the recursion terminates, and the function returns a result.\n",
    "\n",
    "2. **Recursive Case**: The recursive case is the part of the function where it calls itself with a modified input to solve a smaller subproblem. The recursive case typically reduces the problem's size or complexity with each recursive call.\n",
    "\n",
    "3. **Call Stack**: Each time a function is called, information about the current function call is pushed onto a call stack. When a function returns, its information is popped from the stack, allowing the program to resume execution from the previous call.\n",
    "\n",
    "Recursion can be a powerful and elegant way to solve problems, especially when the problem can be naturally divided into smaller, similar subproblems. Common examples of problems that are often solved using recursion include calculating factorials, finding Fibonacci numbers, and traversing tree-like data structures (e.g., binary trees).\n",
    "\n",
    "In contrast, iteration is a programming technique where a loop is used to repeatedly execute a block of code until a certain condition is met. Iteration is typically used when a problem can be solved by repeating a sequence of steps a fixed number of times or when the number of iterations is known in advance.\n",
    "\n",
    "Here are some key differences between recursion and iteration:\n",
    "\n",
    "1. **Control Flow**: Recursion involves function calls and relies on the call stack for control flow. Iteration uses loops, such as `for` or `while`, to control flow.\n",
    "\n",
    "2. **Code Clarity**: Recursive solutions can be elegant and concise, especially for problems that have a recursive structure. Iterative solutions are often more explicit and may involve more code.\n",
    "\n",
    "3. **Stack Space**: Recursive solutions may use more memory due to the call stack. In some cases, excessive recursion can lead to a stack overflow error. Iterative solutions generally have a more predictable memory usage.\n",
    "\n",
    "4. **Performance**: In some cases, iterative solutions can be more efficient than recursive ones because they avoid the overhead of function calls and stack manipulation.\n",
    "\n",
    "Choosing between recursion and iteration depends on the specific problem and the trade-offs involved. Some problems are naturally suited to recursion, while others are more naturally solved with iteration. In practice, both techniques are valuable tools for solving a wide range of programming challenges."
   ]
  },
  {
   "cell_type": "markdown",
   "id": "c5f078f7-9207-4b5d-9193-82b607c5fbf7",
   "metadata": {},
   "source": [
    "### 2.Write a Python program to calculate the factorial of a number using recursion."
   ]
  },
  {
   "cell_type": "code",
   "execution_count": 33,
   "id": "01f2a15b-06b6-4036-81e7-a053290adb32",
   "metadata": {},
   "outputs": [
    {
     "name": "stdin",
     "output_type": "stream",
     "text": [
      "Enter a number:  5\n"
     ]
    },
    {
     "name": "stdout",
     "output_type": "stream",
     "text": [
      "The factorial of 5 is 120\n"
     ]
    }
   ],
   "source": [
    "# Recursive function to calculate the factorial of a number\n",
    "def factorial(n):\n",
    "    # Base case: If n is 0 or 1, return 1\n",
    "    if n == 0 or n == 1:\n",
    "        return 1\n",
    "    # Recursive case: Calculate factorial using recursion\n",
    "    else:\n",
    "        return n * factorial(n - 1)\n",
    "\n",
    "# Input: The number for which you want to calculate the factorial\n",
    "number = int(input(\"Enter a number: \"))\n",
    "\n",
    "# Check for negative input\n",
    "if number < 0:\n",
    "    print(\"Factorial is not defined for negative numbers.\")\n",
    "else:\n",
    "    # Call the factorial function\n",
    "    result = factorial(number)\n",
    "    print(f\"The factorial of {number} is {result}\")\n"
   ]
  },
  {
   "cell_type": "markdown",
   "id": "bf7ad99c-9aaf-401d-a8ba-6a46998d32c8",
   "metadata": {},
   "source": [
    "### 3.Create a recursive Python function to find the nth Fibonacci number."
   ]
  },
  {
   "cell_type": "code",
   "execution_count": 34,
   "id": "7298b0cb-c671-44a8-89e5-bbbaa32ee343",
   "metadata": {},
   "outputs": [
    {
     "name": "stdin",
     "output_type": "stream",
     "text": [
      "Enter the value of n:  6\n"
     ]
    },
    {
     "name": "stdout",
     "output_type": "stream",
     "text": [
      "The 6th Fibonacci number is 8\n"
     ]
    }
   ],
   "source": [
    "# Recursive function to find the nth Fibonacci number\n",
    "def fibonacci(n):\n",
    "    # Base cases\n",
    "    if n <= 0:\n",
    "        return 0\n",
    "    elif n == 1:\n",
    "        return 1\n",
    "    else:\n",
    "        # Recursive case: Calculate Fibonacci number using recursion\n",
    "        return fibonacci(n - 1) + fibonacci(n - 2)\n",
    "\n",
    "# Input: The value of n for which you want to find the Fibonacci number\n",
    "n = int(input(\"Enter the value of n: \"))\n",
    "\n",
    "# Check for negative input\n",
    "if n < 0:\n",
    "    print(\"Fibonacci sequence is not defined for negative values of n.\")\n",
    "else:\n",
    "    # Call the Fibonacci function\n",
    "    result = fibonacci(n)\n",
    "    print(f\"The {n}th Fibonacci number is {result}\")\n"
   ]
  },
  {
   "cell_type": "markdown",
   "id": "90d90a09-7b9a-40c4-831a-34c69823057c",
   "metadata": {},
   "source": [
    "### 4.Write a recursive Python function to calculate the sum of all elements in a list."
   ]
  },
  {
   "cell_type": "code",
   "execution_count": 35,
   "id": "78a1d622-7c8c-4a9b-a28a-49fb35dcaeab",
   "metadata": {},
   "outputs": [
    {
     "name": "stdout",
     "output_type": "stream",
     "text": [
      "The sum of the elements in the list is 15\n"
     ]
    }
   ],
   "source": [
    "# Recursive function to calculate the sum of all elements in a list\n",
    "def recursive_sum(lst):\n",
    "    # Base case: An empty list has a sum of 0\n",
    "    if not lst:\n",
    "        return 0\n",
    "    # Recursive case: Sum the first element with the sum of the rest of the elements\n",
    "    else:\n",
    "        return lst[0] + recursive_sum(lst[1:])\n",
    "\n",
    "# Input: A list of numbers\n",
    "numbers = [1, 2, 3, 4, 5]\n",
    "\n",
    "# Call the recursive_sum() function\n",
    "result = recursive_sum(numbers)\n",
    "\n",
    "# Print the sum\n",
    "print(f\"The sum of the elements in the list is {result}\")\n"
   ]
  },
  {
   "cell_type": "markdown",
   "id": "94dafcc0-aa92-4806-bfda-45b9ddfe595d",
   "metadata": {},
   "source": [
    "### 5.How can you prevent a recursive function from running indefinitely, causing a stack overflow error?"
   ]
  },
  {
   "cell_type": "markdown",
   "id": "2c7ea286-819f-4dc9-85cc-4fa2ce42da1e",
   "metadata": {},
   "source": [
    "Preventing a recursive function from running indefinitely and causing a stack overflow error can be achieved by implementing proper termination conditions and ensuring that the function reaches a base case"
   ]
  },
  {
   "cell_type": "markdown",
   "id": "4f22204b-f56c-4263-a2b2-2e98bbf08764",
   "metadata": {},
   "source": [
    "### 6.Create a recursive Python function to find the greatest common divisor (GCD) of two numbers using the Euclidean algorithm."
   ]
  },
  {
   "cell_type": "code",
   "execution_count": 36,
   "id": "51bfbe4c-a120-4d9d-a61f-c63005f95a7c",
   "metadata": {},
   "outputs": [
    {
     "name": "stdin",
     "output_type": "stream",
     "text": [
      "Enter the first number:  20\n",
      "Enter the second number:  30\n"
     ]
    },
    {
     "name": "stdout",
     "output_type": "stream",
     "text": [
      "The GCD of 20 and 30 is 10\n"
     ]
    }
   ],
   "source": [
    "# Recursive function to find the GCD using the Euclidean algorithm\n",
    "def gcd_euclidean(a, b):\n",
    "    # Base case: GCD of a number and 0 is the number itself\n",
    "    if b == 0:\n",
    "        return a\n",
    "    # Recursive case: Calculate GCD using recursion\n",
    "    else:\n",
    "        return gcd_euclidean(b, a % b)\n",
    "\n",
    "# Input: Two numbers for which you want to find the GCD\n",
    "num1 = int(input(\"Enter the first number: \"))\n",
    "num2 = int(input(\"Enter the second number: \"))\n",
    "\n",
    "# Call the gcd_euclidean() function\n",
    "result = gcd_euclidean(num1, num2)\n",
    "\n",
    "# Print the GCD\n",
    "print(f\"The GCD of {num1} and {num2} is {result}\")\n"
   ]
  },
  {
   "cell_type": "markdown",
   "id": "7f596d18-de0e-4693-9dcf-3275e8afb26a",
   "metadata": {},
   "source": [
    "### 7.Write a recursive Python function to reverse a string."
   ]
  },
  {
   "cell_type": "code",
   "execution_count": 37,
   "id": "a7234a9f-467c-44cd-9cba-bdcdac371a4f",
   "metadata": {},
   "outputs": [
    {
     "name": "stdin",
     "output_type": "stream",
     "text": [
      "Enter a string:  ryoba\n"
     ]
    },
    {
     "name": "stdout",
     "output_type": "stream",
     "text": [
      "The reversed string is: aboyr\n"
     ]
    }
   ],
   "source": [
    "# Recursive function to reverse a string\n",
    "def reverse_string(input_str):\n",
    "    # Base case: If the string has only one character or is empty, return the string as is\n",
    "    if len(input_str) <= 1:\n",
    "        return input_str\n",
    "    # Recursive case: Reverse the substring starting from the second character and append the first character\n",
    "    else:\n",
    "        return reverse_string(input_str[1:]) + input_str[0]\n",
    "\n",
    "# Input: The string to be reversed\n",
    "input_string = input(\"Enter a string: \")\n",
    "\n",
    "# Call the reverse_string() function\n",
    "result = reverse_string(input_string)\n",
    "\n",
    "# Print the reversed string\n",
    "print(f\"The reversed string is: {result}\")\n"
   ]
  },
  {
   "cell_type": "markdown",
   "id": "f82806cf-8ed3-454f-82d6-00ffb7e4e530",
   "metadata": {},
   "source": [
    "### 8.Create a recursive Python function to calculate the power of a number (x^n)."
   ]
  },
  {
   "cell_type": "code",
   "execution_count": 38,
   "id": "fa0e91e1-173d-4f71-a32a-efded2a9346e",
   "metadata": {},
   "outputs": [
    {
     "name": "stdin",
     "output_type": "stream",
     "text": [
      "Enter the base (x):  10\n",
      "Enter the exponent (n):  3\n"
     ]
    },
    {
     "name": "stdout",
     "output_type": "stream",
     "text": [
      "10.0^3 = 1000.0\n"
     ]
    }
   ],
   "source": [
    "# Recursive function to calculate the power of a number (x^n)\n",
    "def power(x, n):\n",
    "    # Base case: If n is 0, the result is 1\n",
    "    if n == 0:\n",
    "        return 1\n",
    "    # Recursive case: Calculate the power using recursion\n",
    "    else:\n",
    "        return x * power(x, n - 1)\n",
    "\n",
    "# Input: The base (x) and the exponent (n)\n",
    "x = float(input(\"Enter the base (x): \"))\n",
    "n = int(input(\"Enter the exponent (n): \"))\n",
    "\n",
    "# Call the power() function\n",
    "result = power(x, n)\n",
    "\n",
    "# Print the result\n",
    "print(f\"{x}^{n} = {result}\")\n"
   ]
  },
  {
   "cell_type": "markdown",
   "id": "96c6f545-d376-45ae-9d43-a6a18b2e6d89",
   "metadata": {},
   "source": [
    "### 9.Write a recursive Python function to find all permutations of a given string."
   ]
  },
  {
   "cell_type": "code",
   "execution_count": 39,
   "id": "51f837c8-eb01-499f-a216-1c5a6e943ff0",
   "metadata": {},
   "outputs": [
    {
     "name": "stdin",
     "output_type": "stream",
     "text": [
      "Enter a string:  ryoba\n"
     ]
    },
    {
     "name": "stdout",
     "output_type": "stream",
     "text": [
      "All permutations of 'ryoba':\n",
      "ryoba\n",
      "ryoab\n",
      "ryboa\n",
      "rybao\n",
      "ryaob\n",
      "ryabo\n",
      "royba\n",
      "royab\n",
      "robya\n",
      "robay\n",
      "roayb\n",
      "roaby\n",
      "rbyoa\n",
      "rbyao\n",
      "rboya\n",
      "rboay\n",
      "rbayo\n",
      "rbaoy\n",
      "rayob\n",
      "raybo\n",
      "raoyb\n",
      "raoby\n",
      "rabyo\n",
      "raboy\n",
      "yroba\n",
      "yroab\n",
      "yrboa\n",
      "yrbao\n",
      "yraob\n",
      "yrabo\n",
      "yorba\n",
      "yorab\n",
      "yobra\n",
      "yobar\n",
      "yoarb\n",
      "yoabr\n",
      "ybroa\n",
      "ybrao\n",
      "ybora\n",
      "yboar\n",
      "ybaro\n",
      "ybaor\n",
      "yarob\n",
      "yarbo\n",
      "yaorb\n",
      "yaobr\n",
      "yabro\n",
      "yabor\n",
      "oryba\n",
      "oryab\n",
      "orbya\n",
      "orbay\n",
      "orayb\n",
      "oraby\n",
      "oyrba\n",
      "oyrab\n",
      "oybra\n",
      "oybar\n",
      "oyarb\n",
      "oyabr\n",
      "obrya\n",
      "obray\n",
      "obyra\n",
      "obyar\n",
      "obary\n",
      "obayr\n",
      "oaryb\n",
      "oarby\n",
      "oayrb\n",
      "oaybr\n",
      "oabry\n",
      "oabyr\n",
      "bryoa\n",
      "bryao\n",
      "broya\n",
      "broay\n",
      "brayo\n",
      "braoy\n",
      "byroa\n",
      "byrao\n",
      "byora\n",
      "byoar\n",
      "byaro\n",
      "byaor\n",
      "borya\n",
      "boray\n",
      "boyra\n",
      "boyar\n",
      "boary\n",
      "boayr\n",
      "baryo\n",
      "baroy\n",
      "bayro\n",
      "bayor\n",
      "baory\n",
      "baoyr\n",
      "aryob\n",
      "arybo\n",
      "aroyb\n",
      "aroby\n",
      "arbyo\n",
      "arboy\n",
      "ayrob\n",
      "ayrbo\n",
      "ayorb\n",
      "ayobr\n",
      "aybro\n",
      "aybor\n",
      "aoryb\n",
      "aorby\n",
      "aoyrb\n",
      "aoybr\n",
      "aobry\n",
      "aobyr\n",
      "abryo\n",
      "abroy\n",
      "abyro\n",
      "abyor\n",
      "abory\n",
      "aboyr\n"
     ]
    }
   ],
   "source": [
    "# Recursive function to find all permutations of a string\n",
    "def find_permutations(input_str):\n",
    "    # Base case: If the string has only one character or is empty, return it as a single permutation\n",
    "    if len(input_str) <= 1:\n",
    "        return [input_str]\n",
    "\n",
    "    # List to store permutations\n",
    "    permutations = []\n",
    "\n",
    "    for i, char in enumerate(input_str):\n",
    "        # Generate all permutations by selecting a character as the first character\n",
    "        # and recursively permuting the remaining characters\n",
    "        remaining_chars = input_str[:i] + input_str[i + 1:]\n",
    "        for perm in find_permutations(remaining_chars):\n",
    "            permutations.append(char + perm)\n",
    "\n",
    "    return permutations\n",
    "\n",
    "# Input: The string for which you want to find permutations\n",
    "input_string = input(\"Enter a string: \")\n",
    "\n",
    "# Call the find_permutations() function\n",
    "result = find_permutations(input_string)\n",
    "\n",
    "# Print the permutations\n",
    "print(f\"All permutations of '{input_string}':\")\n",
    "for perm in result:\n",
    "    print(perm)\n"
   ]
  },
  {
   "cell_type": "markdown",
   "id": "65ae5bde-993f-4e3e-8c20-2daed0999011",
   "metadata": {},
   "source": [
    "### 10.Write a recursive Python function to check if a string is a palindrome."
   ]
  },
  {
   "cell_type": "code",
   "execution_count": 40,
   "id": "0358eb87-3345-4af6-9a17-b4d673f80c11",
   "metadata": {},
   "outputs": [
    {
     "name": "stdin",
     "output_type": "stream",
     "text": [
      "Enter a string:  ryoba\n"
     ]
    },
    {
     "name": "stdout",
     "output_type": "stream",
     "text": [
      "'ryoba' is not a palindrome.\n"
     ]
    }
   ],
   "source": [
    "# Recursive function to check if a string is a palindrome\n",
    "def is_palindrome(input_str):\n",
    "    # Base case: If the string has one character or is empty, it's a palindrome\n",
    "    if len(input_str) <= 1:\n",
    "        return True\n",
    "    # Check if the first and last characters match\n",
    "    if input_str[0] == input_str[-1]:\n",
    "        # Recursive case: Check the substring without the first and last characters\n",
    "        return is_palindrome(input_str[1:-1])\n",
    "    else:\n",
    "        return False\n",
    "\n",
    "# Input: The string to be checked for palindrome\n",
    "input_string = input(\"Enter a string: \")\n",
    "\n",
    "# Remove spaces and convert to lowercase for case-insensitive comparison\n",
    "input_string = input_string.replace(\" \", \"\").lower()\n",
    "\n",
    "# Call the is_palindrome() function\n",
    "result = is_palindrome(input_string)\n",
    "\n",
    "# Print the result\n",
    "if result:\n",
    "    print(f\"'{input_string}' is a palindrome.\")\n",
    "else:\n",
    "    print(f\"'{input_string}' is not a palindrome.\")\n"
   ]
  },
  {
   "cell_type": "markdown",
   "id": "b2a7e5c6-7d53-466c-ac09-aa9430d40f6c",
   "metadata": {},
   "source": [
    "### 11.Create a recursive Python function to generate all possible combinations of a list of elements."
   ]
  },
  {
   "cell_type": "code",
   "execution_count": 42,
   "id": "d37bfd81-3d6c-4528-b319-fe0b2b79d50e",
   "metadata": {},
   "outputs": [
    {
     "name": "stdin",
     "output_type": "stream",
     "text": [
      "Enter a list of elements separated by spaces:  datascience bigdata statistics\n",
      "Enter the length of combinations (k):  3\n"
     ]
    },
    {
     "name": "stdout",
     "output_type": "stream",
     "text": [
      "All 3-length combinations of ['datascience', 'bigdata', 'statistics']:\n",
      "['datascience', 'bigdata', 'statistics']\n",
      "['datascience', 'bigdata']\n",
      "['datascience', 'statistics']\n",
      "['datascience']\n",
      "['bigdata', 'statistics']\n",
      "['bigdata']\n",
      "['statistics']\n",
      "[]\n"
     ]
    }
   ],
   "source": [
    "# Recursive function to generate all possible combinations of a list\n",
    "def generate_combinations(elements, k):\n",
    "    # Base case: If k is 0 or the list is empty, return an empty list (no combinations)\n",
    "    if k == 0 or not elements:\n",
    "        return [[]]\n",
    "\n",
    "    # Recursive case:\n",
    "    first_element = elements[0]\n",
    "    rest_elements = elements[1:]\n",
    "\n",
    "    # Generate combinations including the first element\n",
    "    with_first_element = [[first_element] + combo for combo in generate_combinations(rest_elements, k - 1)]\n",
    "\n",
    "    # Generate combinations without the first element\n",
    "    without_first_element = generate_combinations(rest_elements, k)\n",
    "\n",
    "    # Combine both sets of combinations\n",
    "    return with_first_element + without_first_element\n",
    "\n",
    "# Input: List of elements\n",
    "elements = input(\"Enter a list of elements separated by spaces: \").split()\n",
    "\n",
    "# Input: The length of combinations to generate (k)\n",
    "k = int(input(\"Enter the length of combinations (k): \"))\n",
    "\n",
    "# Call the generate_combinations() function\n",
    "result = generate_combinations(elements, k)\n",
    "\n",
    "# Print the combinations\n",
    "print(f\"All {k}-length combinations of {elements}:\")\n",
    "for combo in result:\n",
    "    print(combo)\n"
   ]
  },
  {
   "cell_type": "markdown",
   "id": "3604ead9-ba1a-4421-913e-cd4bea675d3f",
   "metadata": {},
   "source": [
    "## **Basics of Functions:**\n",
    "---"
   ]
  },
  {
   "cell_type": "markdown",
   "id": "8b15ddeb-21de-49fb-8675-91e4d13278be",
   "metadata": {},
   "source": [
    "### 1.What is a function in Python, and why is it used?"
   ]
  },
  {
   "cell_type": "markdown",
   "id": "be2bc65c-ad97-4b3c-af4e-71bccb134e9b",
   "metadata": {},
   "source": [
    "A function in Python is a reusable block of code that performs a specific task or a set of related tasks. Functions are a fundamental concept in programming and are used to organize and encapsulate code into manageable and reusable units. Here are some key characteristics of functions in Python:\n",
    "\n",
    "1. **Name**: A function has a name that you choose, which is used to call the function in your code.\n",
    "\n",
    "2. **Parameters (Arguments)**: Functions can accept zero or more input values, known as parameters or arguments. These inputs are used within the function's code to perform operations.\n",
    "\n",
    "3. **Return Value**: A function can optionally return a value as its output. When a function computes a result, it can use the `return` statement to send that result back to the caller.\n",
    "\n",
    "4. **Reusability**: Functions promote code reusability. You can define a function once and call it multiple times from different parts of your program.\n",
    "\n",
    "5. **Modularity**: Functions allow you to break down complex tasks into smaller, more manageable parts. Each function can focus on a specific subtask, making your code easier to understand and maintain.\n",
    "\n",
    "6. **Abstraction**: Functions provide an abstraction layer. The caller of a function does not need to know the implementation details; they only need to know what the function does and how to use it.\n",
    "\n",
    "7. **Readability**: Well-named functions improve code readability and make your code self-documenting. A descriptive function name can convey the purpose of the code.\n",
    "\n",
    "8. **Namespace**: Functions create a local namespace, which means variables and data defined within a function are separate from variables in the global scope. This helps prevent naming conflicts.\n",
    "\n",
    "9. **Function Composition**: You can compose complex programs by combining functions. Smaller, reusable functions can be combined to build more significant functionality.\n"
   ]
  },
  {
   "cell_type": "markdown",
   "id": "71dad020-4fee-48c7-ae4f-83e6f68868d6",
   "metadata": {},
   "source": [
    "### 2.How do you define a function in Python? Provide an example."
   ]
  },
  {
   "cell_type": "markdown",
   "id": "ba94ca1e-8e47-46d4-a99a-cadf15a9f17f",
   "metadata": {},
   "source": [
    "In Python, you can define a function using the def keyword followed by the function name, a pair of parentheses (), and a colon : to indicate the start of the function's code block."
   ]
  },
  {
   "cell_type": "code",
   "execution_count": 1,
   "id": "5d0151cd-26cb-436e-b1e4-d4c5f7df0cce",
   "metadata": {},
   "outputs": [
    {
     "name": "stdout",
     "output_type": "stream",
     "text": [
      "The sum is: 8\n"
     ]
    }
   ],
   "source": [
    "def add_numbers(x, y):\n",
    "    # Function to add two numbers\n",
    "    result = x + y\n",
    "    return result\n",
    "\n",
    "# Calling the function and storing the result in a variable\n",
    "sum_result = add_numbers(5, 3)\n",
    "\n",
    "# Printing the result\n",
    "print(\"The sum is:\", sum_result)\n"
   ]
  },
  {
   "cell_type": "markdown",
   "id": "645a41f1-6252-4b53-87bb-092445d9a83c",
   "metadata": {},
   "source": [
    "### 3.Explain the difference between a function definition and a function call."
   ]
  },
  {
   "cell_type": "markdown",
   "id": "6b26a2db-47fd-4bef-a06c-dd8d6c440665",
   "metadata": {},
   "source": [
    "In Python, there are two fundamental aspects related to functions: function definitions and function calls. They serve different purposes in the program execution:\n",
    "\n",
    "1. **Function Definition**:\n",
    "\n",
    "   - A function definition is the initial step in creating a function. It specifies what the function does, its name, its parameters, and the code that should be executed   when the function is called.\n",
    "   - When you define a function using the `def` keyword, you are essentially creating a blueprint for the function, but the function code is not executed at this stage.\n",
    "   - A function definition is static and exists throughout the program's execution. It defines the structure and behavior of the function.\n",
    "   - You typically define functions at the beginning or in a separate module of your code to make them available for use throughout your program.\n",
    "\n",
    "   Example of a function definition:\n",
    "   ```python\n",
    "   def add_numbers(x, y):\n",
    "       # Function code here\n",
    "       result = x + y\n",
    "       return result\n",
    "   ```\n",
    "\n",
    "2. **Function Call**:\n",
    "\n",
    "   - A function call is an action taken within your program to execute the code defined in a function.\n",
    "   - When you call a function by its name and provide the required arguments (if any), Python executes the function's code block.\n",
    "   - Function calls are dynamic and occur at runtime, allowing you to execute the same function with different inputs or use the function multiple times in your program.\n",
    "   - The result of a function call can be assigned to a variable or used directly in your code.\n",
    "\n",
    "   Example of a function call:\n",
    "   ```python\n",
    "   sum_result = add_numbers(5, 3)\n",
    "   ```"
   ]
  },
  {
   "cell_type": "markdown",
   "id": "7a1ea16a-8586-4454-9bab-007cf1278314",
   "metadata": {},
   "source": [
    "### 4.Write a Python program that defines a function to calculate the sum of two numbers and then calls the function."
   ]
  },
  {
   "cell_type": "code",
   "execution_count": 2,
   "id": "c877b0d6-b724-4be8-8eea-c4d7c71ed25b",
   "metadata": {},
   "outputs": [
    {
     "name": "stdin",
     "output_type": "stream",
     "text": [
      "Enter the first number:  10\n",
      "Enter the second number:  20\n"
     ]
    },
    {
     "name": "stdout",
     "output_type": "stream",
     "text": [
      "The sum of 10.0 and 20.0 is 30.0\n"
     ]
    }
   ],
   "source": [
    "# Function definition to calculate the sum of two numbers\n",
    "def add_numbers(x, y):\n",
    "    result = x + y\n",
    "    return result\n",
    "\n",
    "# Input: Taking two numbers from the user\n",
    "num1 = float(input(\"Enter the first number: \"))\n",
    "num2 = float(input(\"Enter the second number: \"))\n",
    "\n",
    "# Calling the function with the input numbers\n",
    "sum_result = add_numbers(num1, num2)\n",
    "\n",
    "# Printing the result\n",
    "print(f\"The sum of {num1} and {num2} is {sum_result}\")\n"
   ]
  },
  {
   "cell_type": "markdown",
   "id": "f56014c1-8349-4dff-a6ac-40bef3c0b8b3",
   "metadata": {},
   "source": [
    "### 5.What is a function signature, and what information does it typically include?"
   ]
  },
  {
   "cell_type": "markdown",
   "id": "6f3875e5-cc0f-4346-b269-9a2eb585bd82",
   "metadata": {},
   "source": [
    "\n",
    "A function signature, also known as a function declaration or function prototype, is a concise description of a function's interface that provides essential information about the function without including its implementation details"
   ]
  },
  {
   "cell_type": "markdown",
   "id": "018ba00b-7954-4fd0-9d7a-5a115c284f7a",
   "metadata": {},
   "source": [
    "### 6.Create a Python function that takes two arguments and returns their product."
   ]
  },
  {
   "cell_type": "code",
   "execution_count": 3,
   "id": "76a835e4-66de-47a8-9418-e4bb0da178e7",
   "metadata": {},
   "outputs": [
    {
     "name": "stdout",
     "output_type": "stream",
     "text": [
      "The product of 5 and 3 is 15\n"
     ]
    }
   ],
   "source": [
    "def multiply(x, y):\n",
    "    \"\"\"This function takes two numbers as input and returns their product.\"\"\"\n",
    "    result = x * y\n",
    "    return result\n",
    "\n",
    "# Example usage of the function\n",
    "num1 = 5\n",
    "num2 = 3\n",
    "product = multiply(num1, num2)\n",
    "\n",
    "print(f\"The product of {num1} and {num2} is {product}\")\n"
   ]
  },
  {
   "cell_type": "markdown",
   "id": "568b0e99-30ad-4e19-aafa-9da4f9281571",
   "metadata": {},
   "source": [
    "## **Function Parameters and Arguments:**\n",
    "----"
   ]
  },
  {
   "cell_type": "markdown",
   "id": "2a336fc8-be13-49be-b78e-e9118a360100",
   "metadata": {},
   "source": [
    "### 1.Explain the concepts of formal parameters and actual arguments in Python functions."
   ]
  },
  {
   "cell_type": "markdown",
   "id": "f85958ef-48e9-4094-a391-cc5e2ff708c1",
   "metadata": {},
   "source": [
    "In Python functions, the concepts of formal parameters and actual arguments are fundamental for passing data to functions and controlling how functions operate. These concepts help define the interface of a function and specify how it should be called.\n",
    "\n",
    "1. **Formal Parameters**:\n",
    "\n",
    "   - Formal parameters are placeholders or variables that are defined in the function's parameter list. They represent the input values that a function expects to receive when it is called.\n",
    "   - These parameters are used within the function's code block to perform operations or calculations.\n",
    "   - Formal parameters are declared in the function definition and serve as variables that can store the values passed as arguments when the function is called.\n",
    "   - Formal parameters are also known as function parameters or function arguments.\n",
    "\n",
    "   Example:\n",
    "   ```python\n",
    "   def greet(name):\n",
    "       print(f\"Hello, {name}!\")\n",
    "   ```\n",
    "\n",
    "   In this example, `name` is a formal parameter of the `greet` function.\n",
    "\n",
    "2. **Actual Arguments (Arguments)**:\n",
    "\n",
    "   - Actual arguments, often referred to simply as arguments, are the real values or expressions provided when a function is called. They are the data that is passed into the function.\n",
    "   - These values or expressions replace the formal parameters within the function's code, allowing the function to work with specific data.\n",
    "   - Arguments are specified when you call the function, and they must match the order and number of the formal parameters in the function's definition.\n",
    "   - There are different ways to pass arguments, including positional arguments, keyword arguments, and default arguments.\n",
    "\n",
    "   Example:\n",
    "   ```python\n",
    "   greet(\"Alice\")\n",
    "   ```\n",
    "\n",
    "   In this example, `\"Alice\"` is an actual argument passed to the `greet` function, which will be used as the value for the `name` formal parameter.\n"
   ]
  },
  {
   "cell_type": "markdown",
   "id": "8898e854-2133-4969-9d56-a40b88ac9132",
   "metadata": {},
   "source": [
    "### 2.Write a Python program that defines a function with default argument values."
   ]
  },
  {
   "cell_type": "code",
   "execution_count": 4,
   "id": "5bdff390-e5ad-4978-b3fe-7530f7f69c03",
   "metadata": {},
   "outputs": [
    {
     "name": "stdout",
     "output_type": "stream",
     "text": [
      "Hello, Guest!\n",
      "Hello, Alice!\n"
     ]
    }
   ],
   "source": [
    "def greet(name=\"Guest\"):\n",
    "    \"\"\"This function greets a person using their name (or 'Guest' by default).\"\"\"\n",
    "    print(f\"Hello, {name}!\")\n",
    "\n",
    "# Example usage of the function with and without providing a name\n",
    "greet()  # No name provided, 'Guest' is used as the default\n",
    "greet(\"Alice\")  # A name is provided, 'Alice' is used\n"
   ]
  },
  {
   "cell_type": "markdown",
   "id": "8e5a3f44-7f72-4ca0-b4f7-419e9021d561",
   "metadata": {},
   "source": [
    "### 3.How do you use keyword arguments in Python function calls? Provide an example."
   ]
  },
  {
   "cell_type": "markdown",
   "id": "1936710a-8cf9-45c7-920e-8b960a16b485",
   "metadata": {},
   "source": [
    "In Python, you can use keyword arguments in function calls to specify the argument values by parameter names, rather than relying on the order of the arguments. This allows you to make your code more readable and explicit. To use keyword arguments, you simply provide the parameter names followed by the values you want to pass"
   ]
  },
  {
   "cell_type": "code",
   "execution_count": 5,
   "id": "91a003a9-9f95-4643-b4dd-b2e1c92a9d9c",
   "metadata": {},
   "outputs": [
    {
     "name": "stdout",
     "output_type": "stream",
     "text": [
      "Hello, Alice! You are 30 years old.\n"
     ]
    }
   ],
   "source": [
    "# Function definition with two parameters\n",
    "def greet(name, age):\n",
    "    print(f\"Hello, {name}! You are {age} years old.\")\n",
    "\n",
    "# Using keyword arguments to call the function\n",
    "greet(name=\"Alice\", age=30)\n"
   ]
  },
  {
   "cell_type": "markdown",
   "id": "9aa31083-37b5-4939-a913-69c9b5184f7b",
   "metadata": {},
   "source": [
    "### 4.Create a Python function that accepts a variable number of arguments and calculates their sum."
   ]
  },
  {
   "cell_type": "code",
   "execution_count": 6,
   "id": "13fdcd3a-e7d0-491e-b6e7-08a05f0f8f97",
   "metadata": {},
   "outputs": [
    {
     "name": "stdout",
     "output_type": "stream",
     "text": [
      "Sum 1: 30\n",
      "Sum 2: 30\n"
     ]
    }
   ],
   "source": [
    "def calculate_sum(*args):\n",
    "    \"\"\"This function accepts a variable number of arguments and calculates their sum.\"\"\"\n",
    "    total = 0\n",
    "    for num in args:\n",
    "        total += num\n",
    "    return total\n",
    "\n",
    "# Example usage of the function with different numbers of arguments\n",
    "result1 = calculate_sum(5, 10, 15)\n",
    "result2 = calculate_sum(2, 4, 6, 8, 10)\n",
    "\n",
    "print(\"Sum 1:\", result1)\n",
    "print(\"Sum 2:\", result2)\n"
   ]
  },
  {
   "cell_type": "code",
   "execution_count": 7,
   "id": "76025a33-a927-4c54-aec9-9c5094761355",
   "metadata": {},
   "outputs": [
    {
     "name": "stdout",
     "output_type": "stream",
     "text": [
      "Sum 1: 30\n",
      "Sum 2: 24\n"
     ]
    }
   ],
   "source": [
    "def calculate_sum(*args):\n",
    "    \"\"\"This function accepts a variable number of arguments and calculates the sum of valid integers.\"\"\"\n",
    "    total = 0\n",
    "    for arg in args:\n",
    "        if isinstance(arg, int):\n",
    "            total += arg\n",
    "        elif isinstance(arg, str):\n",
    "            try:\n",
    "                num = int(arg)\n",
    "                total += num\n",
    "            except ValueError:\n",
    "                # Ignore non-integer strings\n",
    "                pass\n",
    "    return total\n",
    "\n",
    "# Example usage of the function with different types of arguments\n",
    "result1 = calculate_sum(5, 10, 15)\n",
    "result2 = calculate_sum(2, 4, \"6.5\", 8, \"10\")\n",
    "\n",
    "print(\"Sum 1:\", result1)\n",
    "print(\"Sum 2:\", result2)\n"
   ]
  },
  {
   "cell_type": "markdown",
   "id": "e4fc1d3a-1739-40de-830a-22f4ecd8ea81",
   "metadata": {},
   "source": [
    "### 5.What is the purpose of the `*args` and `**kwargs` syntax in function parameter lists?"
   ]
  },
  {
   "cell_type": "markdown",
   "id": "594ae2d4-69bb-41ee-aa9c-4b0e9af2beab",
   "metadata": {},
   "source": [
    "The `*args` and `**kwargs` syntax in function parameter lists are used to accept a variable number of arguments in Python functions. They provide flexibility when defining functions that can handle different numbers of positional and keyword arguments. Here's what each of these syntaxes does:\n",
    "\n",
    "1. **`*args` (Arbitrary Positional Arguments)**:\n",
    "\n",
    "   - The `*args` syntax allows a function to accept a variable number of positional arguments (non-keyword arguments).\n",
    "   - When you use `*args` in a function parameter list, it collects any extra positional arguments passed to the function as a tuple.\n",
    "   - This is useful when you want to allow users to pass any number of values to a function without specifying them individually in the parameter list.\n",
    "\n",
    "   Example:\n",
    "   ```python\n",
    "   def sum_values(*args):\n",
    "       total = 0\n",
    "       for num in args:\n",
    "           total += num\n",
    "       return total\n",
    "\n",
    "   result = sum_values(5, 10, 15, 20)\n",
    "   ```\n",
    "\n",
    "2. **`**kwargs` (Arbitrary Keyword Arguments)**:\n",
    "\n",
    "   - The `**kwargs` syntax allows a function to accept a variable number of keyword arguments.\n",
    "   - When you use `**kwargs` in a function parameter list, it collects any extra keyword arguments passed to the function as a dictionary, where the keys are the argument names and the values are the corresponding argument values.\n",
    "   - This is useful when you want to allow users to pass named arguments to a function without specifying them individually in the parameter list.\n",
    "\n",
    "   Example:\n",
    "   ```python\n",
    "   def display_info(**kwargs):\n",
    "       for key, value in kwargs.items():\n",
    "           print(f\"{key}: {value}\")\n",
    "\n",
    "   display_info(name=\"Alice\", age=30, city=\"New York\")\n",
    "   ```\n",
    "\n",
    "The main purposes of `*args` and `**kwargs` are:\n",
    "\n",
    "- Flexibility: They make functions more flexible and adaptable to various input scenarios.\n",
    "- Avoiding Fixed Parameter Lists: You can create functions that do not have fixed parameter lists, allowing users to pass any number of arguments.\n",
    "- Handling Generic Functions: You can create generic functions that perform operations on a collection of values, whether they are positional or keyword arguments.\n",
    "\n",
    "While `*args` and `**kwargs` are powerful features, it's important to use them judiciously and provide clear documentation for how your functions should be called when they accept variable arguments."
   ]
  },
  {
   "cell_type": "markdown",
   "id": "1faa9008-0c5f-4cb5-93e5-f586e4ea82df",
   "metadata": {},
   "source": [
    "## **Return Values and Scoping:**\n",
    "---"
   ]
  },
  {
   "cell_type": "markdown",
   "id": "15fbfd3c-fbac-40fe-ade2-d43dd558024c",
   "metadata": {},
   "source": [
    "### 1.Describe the role of the `return` statement in Python functions and provide examples."
   ]
  },
  {
   "cell_type": "markdown",
   "id": "791ede34-23b0-4678-bc3f-10e55afd6edf",
   "metadata": {},
   "source": [
    "The `return` statement in Python functions serves the following primary purposes:\n",
    "\n",
    "1. **Returning Values**: It allows a function to send a value or result back to the caller. This returned value can be used in the calling code for further operations or processing.\n",
    "\n",
    "2. **Exiting the Function**: When a `return` statement is encountered, the function's execution is terminated immediately, and control is returned to the caller. This means that any code following the `return` statement within the function is not executed.\n",
    "\n",
    "3. **Specifying Function Output**: It defines what the function is supposed to produce as its output, which is essential for understanding the function's purpose and usage.\n",
    "\n",
    "Here are some examples of how the `return` statement is used in Python functions:\n",
    "\n",
    "**Example 1: Returning a Value**\n",
    "\n",
    "```python\n",
    "def add_numbers(x, y):\n",
    "    result = x + y\n",
    "    return result\n",
    "\n",
    "sum_result = add_numbers(5, 3)\n",
    "print(\"The sum is:\", sum_result)\n",
    "```\n",
    "\n",
    "In this example, the `add_numbers` function calculates the sum of `x` and `y`, and the `return` statement sends the result back to the caller. The value of `result` is returned and stored in the `sum_result` variable.\n",
    "\n",
    "**Example 2: Returning Multiple Values as a Tuple**\n",
    "\n",
    "```python\n",
    "def get_name_and_age():\n",
    "    name = \"Alice\"\n",
    "    age = 30\n",
    "    return name, age\n",
    "\n",
    "person_info = get_name_and_age()\n",
    "print(\"Name:\", person_info[0])\n",
    "print(\"Age:\", person_info[1])\n",
    "```\n",
    "\n",
    "In this example, the `get_name_and_age` function returns multiple values (name and age) as a tuple. The `return` statement allows the function to provide both values, which are then accessed individually in the calling code.\n",
    "\n",
    "**Example 3: Early Exit from a Function**\n",
    "\n",
    "```python\n",
    "def divide(x, y):\n",
    "    if y == 0:\n",
    "        return \"Division by zero is not allowed\"\n",
    "    result = x / y\n",
    "    return result\n",
    "\n",
    "division_result = divide(10, 0)\n",
    "print(division_result)\n",
    "```\n",
    "\n",
    "In this example, the `divide` function first checks if the denominator `y` is zero to avoid division by zero. If `y` is zero, it returns an error message, effectively exiting the function early. If `y` is not zero, it calculates the division result and returns it.\n",
    "\n",
    "The `return` statement plays a crucial role in specifying what a function should produce as output and how the function interacts with the calling code. It allows functions to provide results, handle errors, and communicate information back to the caller."
   ]
  },
  {
   "cell_type": "markdown",
   "id": "c5eebfbe-c30a-40aa-a1a1-4549395ffc7e",
   "metadata": {},
   "source": [
    "### 2.Explain the concept of variable scope in Python, including local and global variables."
   ]
  },
  {
   "cell_type": "markdown",
   "id": "416de479-1581-4122-b2e1-fafcca5b1137",
   "metadata": {},
   "source": [
    "Variable scope in Python refers to the visibility and accessibility of variables within different parts of a program. Understanding variable scope is crucial for writing code that behaves as expected and avoids conflicts between variables. Python has two primary variable scopes: local and global.\n",
    "\n",
    "1. **Local Scope**:\n",
    "\n",
    "   - Local scope refers to the visibility of variables within a specific block of code, such as a function.\n",
    "   - Variables defined inside a function are considered local to that function and cannot be accessed from outside the function.\n",
    "   - Local variables are created when a function is called and destroyed when the function exits. They are temporary and exist only for the duration of the function's execution.\n",
    "   - Local variables have a limited lifespan and are not accessible in other parts of the program.\n",
    "\n",
    "   Example of a local variable:\n",
    "   ```python\n",
    "   def my_function():\n",
    "       x = 10  # This is a local variable\n",
    "       print(x)\n",
    "\n",
    "   my_function()\n",
    "   # print(x)  # This would result in an error since 'x' is not defined in the global scope\n",
    "   ```\n",
    "\n",
    "2. **Global Scope**:\n",
    "\n",
    "   - Global scope refers to the visibility of variables at the top level of a Python script or module.\n",
    "   - Variables defined outside of any function or block are considered global and can be accessed from any part of the program, including functions.\n",
    "   - Global variables have a longer lifespan and persist throughout the entire program's execution.\n",
    "   - While global variables provide accessibility, it's essential to use them carefully to avoid naming conflicts and unintended side effects.\n",
    "\n",
    "   Example of a global variable:\n",
    "   ```python\n",
    "   x = 10  # This is a global variable\n",
    "\n",
    "   def my_function():\n",
    "       print(x)  # Accessing the global variable 'x' inside the function\n",
    "\n",
    "   my_function()\n",
    "   print(x)  # Accessing the global variable 'x' outside the function\n",
    "   ```\n",
    "\n",
    "3. **Variable Scope Hierarchy**:\n",
    "\n",
    "   - When a variable is referenced, Python first looks for it in the local scope (e.g., inside a function).\n",
    "   - If the variable is not found in the local scope, Python then searches in the enclosing scopes (e.g., higher-level functions or the global scope) until it finds a matching variable or reaches the global scope.\n",
    "   - If the variable is not found in any scope, a `NameError` is raised.\n",
    "\n",
    "   Example illustrating variable scope hierarchy:\n",
    "   ```python\n",
    "   x = 10  # Global variable\n",
    "\n",
    "   def outer_function():\n",
    "       y = 20  # Enclosing scope variable\n",
    "\n",
    "       def inner_function():\n",
    "           z = 30  # Local variable\n",
    "           print(x, y, z)  # Accessing variables from different scopes\n",
    "\n",
    "       inner_function()\n",
    "\n",
    "   outer_function()\n",
    "   ```\n",
    "\n",
    "In summary, variable scope in Python defines where a variable is accessible and where it isn't. Local variables are limited to the function they are defined in, while global variables are accessible throughout the entire program. Understanding variable scope is essential for writing maintainable and error-free code."
   ]
  },
  {
   "cell_type": "markdown",
   "id": "906a5e13-0665-491e-8519-86115008613a",
   "metadata": {},
   "source": [
    "### 3.Write a Python program that demonstrates the use of global variables within functions."
   ]
  },
  {
   "cell_type": "code",
   "execution_count": 1,
   "id": "9a595f32-a2fe-4abb-9de0-8fac2e9245ca",
   "metadata": {},
   "outputs": [
    {
     "name": "stdout",
     "output_type": "stream",
     "text": [
      "Accessing global_variable from within the function: 10\n",
      "Accessing global_variable from within the function: 15\n",
      "Global variable outside the functions: 15\n"
     ]
    }
   ],
   "source": [
    "# Define a global variable\n",
    "global_variable = 10\n",
    "\n",
    "# Function that accesses the global variable\n",
    "def access_global_variable():\n",
    "    # Access the global variable within the function\n",
    "    print(\"Accessing global_variable from within the function:\", global_variable)\n",
    "\n",
    "# Function that modifies the global variable\n",
    "def modify_global_variable():\n",
    "    # Modify the global variable within the function\n",
    "    global global_variable\n",
    "    global_variable += 5\n",
    "\n",
    "# Call the functions\n",
    "access_global_variable()  # Access the global variable\n",
    "modify_global_variable()  # Modify the global variable\n",
    "access_global_variable()  # Access the modified global variable\n",
    "\n",
    "# Print the global variable outside the functions\n",
    "print(\"Global variable outside the functions:\", global_variable)\n"
   ]
  },
  {
   "cell_type": "markdown",
   "id": "46d18351-984d-400f-83e0-421e16b24eeb",
   "metadata": {},
   "source": [
    "### 4.Create a Python function that calculates the factorial of a number and returns it."
   ]
  },
  {
   "cell_type": "code",
   "execution_count": 2,
   "id": "8119f9a4-5ea6-4565-a956-5c2022c72a4a",
   "metadata": {},
   "outputs": [
    {
     "name": "stdout",
     "output_type": "stream",
     "text": [
      "Factorial: 120\n"
     ]
    }
   ],
   "source": [
    "def factorial_iterative(n):\n",
    "    \"\"\"Calculate the factorial of a number using an iterative approach.\"\"\"\n",
    "    result = 1\n",
    "    for i in range(1, n + 1):\n",
    "        result *= i\n",
    "    return result\n",
    "\n",
    "# Example usage:\n",
    "result = factorial_iterative(5)\n",
    "print(\"Factorial:\", result)\n"
   ]
  },
  {
   "cell_type": "markdown",
   "id": "8e75cfc3-389c-4d4d-9d03-4cad787c0fb4",
   "metadata": {},
   "source": [
    "### 5.How can you access variables defined outside a function from within the function?"
   ]
  },
  {
   "cell_type": "code",
   "execution_count": 3,
   "id": "c33510e2-c845-49c9-9859-53e6228f088d",
   "metadata": {},
   "outputs": [
    {
     "name": "stdout",
     "output_type": "stream",
     "text": [
      "Accessing global_variable from within the function: 10\n",
      "Accessing global_variable from within the function: 15\n",
      "Global variable outside the functions: 15\n"
     ]
    }
   ],
   "source": [
    "global_variable = 10  # This is a global variable\n",
    "\n",
    "def access_global_variable():\n",
    "    # Access the global variable within the function\n",
    "    print(\"Accessing global_variable from within the function:\", global_variable)\n",
    "\n",
    "def modify_global_variable():\n",
    "    # Modify the global variable within the function using the 'global' keyword\n",
    "    global global_variable\n",
    "    global_variable += 5\n",
    "\n",
    "# Call the functions\n",
    "access_global_variable()  # Access the global variable\n",
    "modify_global_variable()  # Modify the global variable\n",
    "access_global_variable()  # Access the modified global variable\n",
    "\n",
    "# Print the global variable outside the functions\n",
    "print(\"Global variable outside the functions:\", global_variable)\n"
   ]
  },
  {
   "cell_type": "markdown",
   "id": "1f8a7617-26e2-4cfa-b155-2e0a0eb98aa9",
   "metadata": {},
   "source": [
    "## **Lambda Functions and Higher-Order Functions:**\n",
    "---"
   ]
  },
  {
   "cell_type": "markdown",
   "id": "0155fd76-f3fb-4557-b187-eac54116cca7",
   "metadata": {},
   "source": [
    "### 1. What are lambda functions in Python, and when are they typically used?"
   ]
  },
  {
   "cell_type": "markdown",
   "id": "cab289fe-9b12-4470-90c5-c1227827a4a3",
   "metadata": {},
   "source": [
    "Lambda functions, also known as anonymous functions or lambda expressions, are a feature in Python that allows you to create small, unnamed functions on the fly. These functions are defined using the `lambda` keyword and are typically used in situations where a simple, one-line function is needed for a short period, often in the context of higher-order functions like `map`, `filter`, and `sort`.\n",
    "\n",
    "Here's the basic syntax of a lambda function:\n",
    "\n",
    "```python\n",
    "lambda arguments: expression\n",
    "```\n",
    "\n",
    "Key characteristics of lambda functions:\n",
    "\n",
    "1. **Anonymous**: Lambda functions do not have a name, which means they are not defined using the `def` keyword like regular functions.\n",
    "\n",
    "2. **Short and Simple**: Lambda functions are typically concise and used for simple operations, often involving a single expression.\n",
    "\n",
    "3. **Single Expression**: Lambda functions consist of a single expression whose result is implicitly returned. There are no statements or multiline code blocks.\n",
    "\n",
    "Here are some common use cases for lambda functions:\n",
    "\n",
    "1. **Sorting**: Lambda functions are often used as the `key` argument in sorting functions like `sorted` to customize the sorting order.\n",
    "\n",
    "   ```python\n",
    "   names = [\"Alice\", \"Bob\", \"Eve\", \"David\"]\n",
    "   sorted_names = sorted(names, key=lambda x: len(x))\n",
    "   ```\n",
    "\n",
    "2. **Mapping and Transformation**: Lambda functions can be used with the `map` function to apply a simple operation to each element in an iterable.\n",
    "\n",
    "   ```python\n",
    "   numbers = [1, 2, 3, 4, 5]\n",
    "   squared_numbers = list(map(lambda x: x**2, numbers))\n",
    "   ```\n",
    "\n",
    "3. **Filtering**: Lambda functions are used with the `filter` function to filter elements based on a condition.\n",
    "\n",
    "   ```python\n",
    "   numbers = [1, 2, 3, 4, 5, 6]\n",
    "   even_numbers = list(filter(lambda x: x % 2 == 0, numbers))\n",
    "   ```\n",
    "\n",
    "4. **Callbacks**: Lambda functions are handy for providing short, custom behavior as callback functions to other functions.\n",
    "\n",
    "   ```python\n",
    "   def process_data(data, callback):\n",
    "       for item in data:\n",
    "           result = callback(item)\n",
    "           print(result)\n",
    "\n",
    "   data = [1, 2, 3, 4, 5]\n",
    "   process_data(data, lambda x: x * 2)\n",
    "   ```\n",
    "\n",
    "Lambda functions are useful when you need a small, throwaway function for a specific task. However, for more complex operations or functions with multiple expressions and statements, it's recommended to use regular named functions defined with `def`."
   ]
  },
  {
   "cell_type": "markdown",
   "id": "62a40b6f-8356-4271-94a1-77d665b24124",
   "metadata": {},
   "source": [
    "### 2.Write a Python program that uses lambda functions to sort a list of tuples based on the second element."
   ]
  },
  {
   "cell_type": "code",
   "execution_count": 4,
   "id": "24cfdc66-ba52-4f8c-ad2c-c15842f5e477",
   "metadata": {},
   "outputs": [
    {
     "name": "stdout",
     "output_type": "stream",
     "text": [
      "[(4, 1), (3, 2), (1, 5), (2, 8)]\n"
     ]
    }
   ],
   "source": [
    "# List of tuples\n",
    "data = [(1, 5), (3, 2), (2, 8), (4, 1)]\n",
    "\n",
    "# Sort the list of tuples based on the second element (index 1)\n",
    "sorted_data = sorted(data, key=lambda x: x[1])\n",
    "\n",
    "# Print the sorted list\n",
    "print(sorted_data)\n"
   ]
  },
  {
   "cell_type": "markdown",
   "id": "7722ccc0-4937-40c7-99f6-71ca72e39bda",
   "metadata": {},
   "source": [
    "### 3.Explain the concept of higher-order functions in Python, and provide an example."
   ]
  },
  {
   "cell_type": "markdown",
   "id": "ef748474-ec3b-4bb2-9b69-c8c1dce2c00e",
   "metadata": {},
   "source": [
    "In Python, higher-order functions are functions that can take other functions as arguments or return functions as results. Essentially, they treat functions as first-class citizens, allowing you to manipulate and work with functions just like any other data type such as integers, strings, or lists. Higher-order functions are a powerful concept in functional programming and provide a way to abstract and encapsulate behaviors.\n",
    "\n",
    "Here are some key concepts related to higher-order functions:\n",
    "\n",
    "1. **Function as an Argument**: Higher-order functions can accept other functions as arguments. These functions are often referred to as callback functions or function parameters.\n",
    "\n",
    "2. **Function as a Return Value**: Higher-order functions can also return functions as their result. These returned functions can be used later.\n",
    "\n",
    "3. **Abstraction**: Higher-order functions allow you to abstract and encapsulate behavior, promoting modularity and code reuse.\n"
   ]
  },
  {
   "cell_type": "code",
   "execution_count": 5,
   "id": "68847b00-98a0-4390-8c40-e99f98e740b5",
   "metadata": {},
   "outputs": [
    {
     "name": "stdout",
     "output_type": "stream",
     "text": [
      "Result 1 (add): 8\n",
      "Result 2 (subtract): 3\n",
      "Result 3 (multiply): 24\n"
     ]
    }
   ],
   "source": [
    "def apply_operation(operation, x, y):\n",
    "    \"\"\"This higher-order function takes an operation function as an argument and applies it to x and y.\"\"\"\n",
    "    return operation(x, y)\n",
    "\n",
    "# Define some operation functions\n",
    "def add(a, b):\n",
    "    return a + b\n",
    "\n",
    "def subtract(a, b):\n",
    "    return a - b\n",
    "\n",
    "def multiply(a, b):\n",
    "    return a * b\n",
    "\n",
    "# Use the higher-order function to apply different operations\n",
    "result1 = apply_operation(add, 5, 3)\n",
    "result2 = apply_operation(subtract, 10, 7)\n",
    "result3 = apply_operation(multiply, 4, 6)\n",
    "\n",
    "print(\"Result 1 (add):\", result1)\n",
    "print(\"Result 2 (subtract):\", result2)\n",
    "print(\"Result 3 (multiply):\", result3)\n"
   ]
  },
  {
   "cell_type": "markdown",
   "id": "1f97fa0d-dcf2-411e-a4c0-5ce1dbc9a8de",
   "metadata": {},
   "source": [
    "### 4.Create a Python function that takes a list of numbers and a function as arguments, applying the function to each element in the list."
   ]
  },
  {
   "cell_type": "code",
   "execution_count": 6,
   "id": "7d60ece0-be20-40c9-a158-1800350ae9a5",
   "metadata": {},
   "outputs": [
    {
     "name": "stdout",
     "output_type": "stream",
     "text": [
      "Original Numbers: [1, 2, 3, 4, 5]\n",
      "Squared Numbers: [1, 4, 9, 16, 25]\n"
     ]
    }
   ],
   "source": [
    "def apply_function_to_list(numbers, operation):\n",
    "    \"\"\"Apply the provided function to each element in the list.\"\"\"\n",
    "    result = []\n",
    "    for num in numbers:\n",
    "        result.append(operation(num))\n",
    "    return result\n",
    "\n",
    "# Define a function to be applied to the list\n",
    "def square(x):\n",
    "    return x ** 2\n",
    "\n",
    "# Define a list of numbers\n",
    "numbers = [1, 2, 3, 4, 5]\n",
    "\n",
    "# Use the apply_function_to_list function to apply the square function\n",
    "squared_numbers = apply_function_to_list(numbers, square)\n",
    "\n",
    "# Print the result\n",
    "print(\"Original Numbers:\", numbers)\n",
    "print(\"Squared Numbers:\", squared_numbers)\n"
   ]
  },
  {
   "cell_type": "markdown",
   "id": "73d1b57f-f8c4-4279-8e07-5cc544f13f63",
   "metadata": {},
   "source": [
    "## **Built-in Functions:**\n",
    "---"
   ]
  },
  {
   "cell_type": "markdown",
   "id": "914ba311-54f5-43e4-a135-7904cbe33517",
   "metadata": {},
   "source": [
    "### 1.Describe the role of built-in functions like `len()`, `max()`, and `min()` in Python."
   ]
  },
  {
   "cell_type": "markdown",
   "id": "042e1011-e0d1-4177-b926-75f78ef0a8a8",
   "metadata": {},
   "source": [
    "Built-in functions like `len()`, `max()`, and `min()` in Python are used to perform common operations on data structures and values. They provide convenient and efficient ways to retrieve information or calculate certain properties of objects. Here's a description of their roles:\n",
    "\n",
    "1. **`len()`:**\n",
    "   - The `len()` function is used to determine the length or the number of elements in a sequence or collection, such as a string, list, tuple, or dictionary.\n",
    "   - It returns an integer representing the length of the given object.\n",
    "   - Example usage:\n",
    "     ```python\n",
    "     my_list = [1, 2, 3, 4, 5]\n",
    "     length = len(my_list)  # Returns 5\n",
    "     ```\n",
    "\n",
    "2. **`max()`:**\n",
    "   - The `max()` function is used to find the maximum element in an iterable, or the maximum of multiple arguments.\n",
    "   - It returns the largest element based on the comparison rules defined for the elements.\n",
    "   - Example usage with an iterable:\n",
    "     ```python\n",
    "     numbers = [10, 5, 8, 20, 3]\n",
    "     max_value = max(numbers)  # Returns 20\n",
    "     ```\n",
    "   - Example usage with multiple arguments:\n",
    "     ```python\n",
    "     max_value = max(10, 5, 8, 20, 3)  # Returns 20\n",
    "     ```\n",
    "\n",
    "3. **`min()`:**\n",
    "   - The `min()` function is used to find the minimum element in an iterable, or the minimum of multiple arguments.\n",
    "   - It returns the smallest element based on the comparison rules defined for the elements.\n",
    "   - Example usage with an iterable:\n",
    "     ```python\n",
    "     numbers = [10, 5, 8, 20, 3]\n",
    "     min_value = min(numbers)  # Returns 3\n",
    "     ```\n",
    "   - Example usage with multiple arguments:\n",
    "     ```python\n",
    "     min_value = min(10, 5, 8, 20, 3)  # Returns 3\n",
    "     ```\n",
    "\n",
    "These built-in functions are very handy for common tasks such as finding the length of a sequence, identifying the maximum or minimum value, and more. They simplify code and improve readability by providing a standardized way to perform these operations."
   ]
  },
  {
   "cell_type": "markdown",
   "id": "b5f68621-4a4a-49db-9866-0483eea0b556",
   "metadata": {},
   "source": [
    "### 2.Write a Python program that uses the `map()` function to apply a function to each element of a list."
   ]
  },
  {
   "cell_type": "code",
   "execution_count": 7,
   "id": "50ef2cf4-c13f-4e15-a707-286be5cdc36f",
   "metadata": {},
   "outputs": [
    {
     "name": "stdout",
     "output_type": "stream",
     "text": [
      "Original Numbers: [1, 2, 3, 4, 5]\n",
      "Doubled Numbers: [2, 4, 6, 8, 10]\n"
     ]
    }
   ],
   "source": [
    "# Define a function to double a number\n",
    "def double(x):\n",
    "    return x * 2\n",
    "\n",
    "# Create a list of numbers\n",
    "numbers = [1, 2, 3, 4, 5]\n",
    "\n",
    "# Use the map() function to apply the double() function to each element of the list\n",
    "doubled_numbers = list(map(double, numbers))\n",
    "\n",
    "# Print the original list and the transformed list\n",
    "print(\"Original Numbers:\", numbers)\n",
    "print(\"Doubled Numbers:\", doubled_numbers)\n"
   ]
  },
  {
   "cell_type": "markdown",
   "id": "e5b87078-2f2c-4263-b64b-8c4973ca86f7",
   "metadata": {},
   "source": [
    "### 3.How does the `filter()` function work in Python, and when would you use it?"
   ]
  },
  {
   "cell_type": "markdown",
   "id": "f5f8ff2d-63cc-48ba-a02a-4977b0f713df",
   "metadata": {},
   "source": [
    "The `filter()` function in Python is used to filter elements from an iterable (such as a list, tuple, or string) based on a specified condition or predicate function. It returns an iterator containing only the elements that satisfy the given condition. Here's how it works:\n",
    "\n",
    "**Syntax**:\n",
    "```python\n",
    "filter(function, iterable)\n",
    "```\n",
    "\n",
    "- `function`: A function that defines the condition for filtering. This function should return `True` for elements that should be included in the result.\n",
    "\n",
    "- `iterable`: The iterable (e.g., a list, tuple, or string) from which elements are to be filtered.\n",
    "\n",
    "The `filter()` function processes each element in the iterable and applies the provided function to determine whether the element should be included in the filtered result. Elements for which the function returns `True` are retained, while elements for which the function returns `False` are excluded.\n",
    "\n",
    "Common use cases for the `filter()` function include:\n",
    "\n",
    "1. **Filtering Numbers**:\n",
    "   - You can use `filter()` to extract numbers that meet certain criteria, such as filtering even or odd numbers.\n",
    "   \n",
    "   ```python\n",
    "   numbers = [1, 2, 3, 4, 5, 6, 7, 8]\n",
    "   filtered_numbers = list(filter(lambda x: x % 2 == 0, numbers))  # Filter even numbers\n",
    "   ```\n",
    "\n",
    "2. **Filtering Strings**:\n",
    "   - It's useful for selecting strings that match specific patterns or conditions.\n",
    "\n",
    "   ```python\n",
    "   words = [\"apple\", \"banana\", \"cherry\", \"date\"]\n",
    "   filtered_words = list(filter(lambda x: 'a' in x, words))  # Filter words containing 'a'\n",
    "   ```\n",
    "\n",
    "3. **Removing None Values**:\n",
    "   - You can use `filter()` to eliminate `None` values from a list.\n",
    "\n",
    "   ```python\n",
    "   values = [10, None, 30, None, 50]\n",
    "   filtered_values = list(filter(lambda x: x is not None, values))\n",
    "   ```\n",
    "\n",
    "4. **Custom Filtering Criteria**:\n",
    "   - You can create custom filtering criteria by providing a function that defines the conditions based on your specific requirements.\n",
    "\n",
    "   ```python\n",
    "   data = [1, 2, 3, 4, 5, 6, 7, 8]\n",
    "   \n",
    "   def custom_filter(x):\n",
    "       return x > 4 and x % 2 == 0\n",
    "   \n",
    "   filtered_data = list(filter(custom_filter, data))\n",
    "   ```\n",
    "\n",
    "The `filter()` function is a powerful tool for selectively extracting elements from an iterable based on user-defined conditions. It helps you create more expressive and concise code for data filtering tasks."
   ]
  },
  {
   "cell_type": "markdown",
   "id": "85c2f602-ee23-4d74-ae87-b616539d19fc",
   "metadata": {},
   "source": [
    "### 4.Create a Python program that uses the `reduce()` function to find the product of all elements in a list."
   ]
  },
  {
   "cell_type": "code",
   "execution_count": 8,
   "id": "1c194146-201c-40e4-a23c-ca43a7ef59c5",
   "metadata": {},
   "outputs": [
    {
     "name": "stdout",
     "output_type": "stream",
     "text": [
      "Product of Numbers: 120\n"
     ]
    }
   ],
   "source": [
    "from functools import reduce\n",
    "\n",
    "# Define a function to multiply two numbers\n",
    "def multiply(x, y):\n",
    "    return x * y\n",
    "\n",
    "# Create a list of numbers\n",
    "numbers = [1, 2, 3, 4, 5]\n",
    "\n",
    "# Use the reduce() function to find the product of all elements in the list\n",
    "product = reduce(multiply, numbers)\n",
    "\n",
    "# Print the product\n",
    "print(\"Product of Numbers:\", product)\n"
   ]
  },
  {
   "cell_type": "markdown",
   "id": "ccc2fdeb-e23e-46bb-963c-48f4b2dc84cc",
   "metadata": {},
   "source": [
    "## **Function Documentation and Best Practices:**\n",
    "---"
   ]
  },
  {
   "cell_type": "markdown",
   "id": "3048161b-93ad-4529-b7c5-36e4e41897d8",
   "metadata": {},
   "source": [
    "### 1.Explain the purpose of docstrings in Python functions and how to write them."
   ]
  },
  {
   "cell_type": "markdown",
   "id": "98ca03c3-6397-43d4-8de6-6ff36e28bd55",
   "metadata": {},
   "source": [
    "Docstrings in Python are used to provide documentation and information about functions, classes, modules, and methods. They serve as a form of inline documentation, helping developers and users understand the purpose, usage, and behavior of the code they are working with. Docstrings are typically enclosed in triple quotes (`'''` or `\"\"\"`) and placed immediately after the definition statement of a function, class, module, or method.\n",
    "\n",
    "The primary purposes of docstrings in Python functions are:\n",
    "\n",
    "1. **Documentation**: Docstrings provide a clear and concise way to document the purpose and usage of a function. This documentation is accessible to developers through tools like `help()` and can also be used for generating official documentation.\n",
    "\n",
    "2. **Code Readability**: Well-written docstrings make the code more readable and understandable. They explain the function's inputs, outputs, and behavior, which can be helpful for others (or your future self) who read the code.\n",
    "\n",
    "3. **API Reference**: Docstrings serve as a reference for the function's API. Users of your code can use docstrings to understand how to call your functions correctly and what to expect in return.\n",
    "\n",
    "Here's an example of how to write a docstring for a Python function:\n",
    "\n",
    "```python\n",
    "def add(x, y):\n",
    "    \"\"\"\n",
    "    This function calculates the sum of two numbers.\n",
    "\n",
    "    Args:\n",
    "        x (int): The first number.\n",
    "        y (int): The second number.\n",
    "\n",
    "    Returns:\n",
    "        int: The sum of the two input numbers.\n",
    "    \"\"\"\n",
    "    return x + y\n",
    "```\n",
    "\n",
    "In this example:\n",
    "\n",
    "- The docstring is enclosed in triple quotes immediately following the function definition.\n",
    "\n",
    "- The docstring includes a description of the function's purpose and behavior.\n",
    "\n",
    "- It uses the `Args:` section to list the function's parameters (`x` and `y`) along with their data types and descriptions.\n",
    "\n",
    "- The `Returns:` section specifies the data type and description of the return value of the function.\n",
    "\n",
    "To access the docstring of a function, you can use the `help()` function or access the `__doc__` attribute of the function object:\n",
    "\n",
    "```python\n",
    "# Using help()\n",
    "help(add)\n",
    "\n",
    "# Accessing the docstring directly\n",
    "print(add.__doc__)\n",
    "```\n",
    "\n",
    "When you use `help(add)` or `add.__doc__`, you will see the docstring displayed, providing valuable information about the function's usage and behavior.\n",
    "\n",
    "By following good documentation practices and including meaningful docstrings, you can improve the clarity and usability of your code, making it easier for yourself and others to work with."
   ]
  },
  {
   "cell_type": "code",
   "execution_count": 9,
   "id": "9b2e5d1f-d4ee-45e1-8772-3746c1861bcc",
   "metadata": {},
   "outputs": [],
   "source": [
    "def add(x, y):\n",
    "    \"\"\"\n",
    "    This function calculates the sum of two numbers.\n",
    "\n",
    "    Args:\n",
    "        x (int): The first number.\n",
    "        y (int): The second number.\n",
    "\n",
    "    Returns:\n",
    "        int: The sum of the two input numbers.\n",
    "    \"\"\"\n",
    "    return x + y\n"
   ]
  },
  {
   "cell_type": "code",
   "execution_count": 10,
   "id": "c9dff375-9334-4037-b114-7cc1731931cb",
   "metadata": {},
   "outputs": [
    {
     "name": "stdout",
     "output_type": "stream",
     "text": [
      "Help on function add in module __main__:\n",
      "\n",
      "add(x, y)\n",
      "    This function calculates the sum of two numbers.\n",
      "    \n",
      "    Args:\n",
      "        x (int): The first number.\n",
      "        y (int): The second number.\n",
      "    \n",
      "    Returns:\n",
      "        int: The sum of the two input numbers.\n",
      "\n",
      "\n",
      "    This function calculates the sum of two numbers.\n",
      "\n",
      "    Args:\n",
      "        x (int): The first number.\n",
      "        y (int): The second number.\n",
      "\n",
      "    Returns:\n",
      "        int: The sum of the two input numbers.\n",
      "    \n"
     ]
    }
   ],
   "source": [
    "# Using help()\n",
    "help(add)\n",
    "\n",
    "# Accessing the docstring directly\n",
    "print(add.__doc__)\n"
   ]
  },
  {
   "cell_type": "markdown",
   "id": "305ae6cc-47e1-47bd-b4be-33300c1d2939",
   "metadata": {},
   "source": [
    "### 3.Describe some best practices for naming functions and variables in Python, including naming conventions and guidelines."
   ]
  },
  {
   "cell_type": "markdown",
   "id": "00a7c2b1-4079-450e-a074-729dc227cd11",
   "metadata": {},
   "source": [
    "Naming functions and variables in Python following best practices and adhering to naming conventions is important for writing clean, readable, and maintainable code. Here are some best practices and guidelines:\n",
    "\n",
    "**1. Use Descriptive Names:**\n",
    "   - Choose names that are clear and descriptive of the purpose of the function or variable.\n",
    "   - Avoid single-letter or overly abbreviated names (e.g., use `calculate_average` instead of `calc_avg`).\n",
    "\n",
    "**2. Follow PEP 8:**\n",
    "   - Python has a style guide called PEP 8 (Python Enhancement Proposal 8) that provides naming conventions and coding style guidelines.\n",
    "   - Functions and variable names should be lowercase, with words separated by underscores (snake_case).\n",
    "   - Use lowercase with underscores for function and variable names: `calculate_average`, `my_variable`.\n",
    "   - Use ALL_CAPS for constants: `MAX_LENGTH`, `PI`.\n",
    "\n",
    "**3. Be Consistent:**\n",
    "   - Maintain consistency in naming across your codebase. Use the same naming style for similar entities.\n",
    "   - If you use camelCase, snake_case, or another style in a project, stick to it throughout the project.\n",
    "\n",
    "**4. Use Verb-Noun Pairing:**\n",
    "   - For function names, use a verb-noun pairing to describe the action the function performs followed by a noun (e.g., `calculate_average`, `print_report`).\n",
    "\n",
    "**5. Avoid Reserved Words:**\n",
    "   - Avoid using Python reserved words (keywords) as function or variable names (e.g., `if`, `while`, `for`, `import`, etc.).\n",
    "\n",
    "**6. Use Meaningful Names for Variables:**\n",
    "   - Variable names should reflect the content or purpose of the variable. For example, use `student_name` instead of `x`.\n",
    "\n",
    "**7. Use Singular for Variable Names:**\n",
    "   - Variable names should typically be in the singular form unless they represent collections or sequences (e.g., `user` instead of `users`, `fruit` instead of `fruits`).\n",
    "\n",
    "**8. Give Functions Verb-Noun Names:**\n",
    "   - Function names should describe the action performed by the function followed by a noun (e.g., `calculate_average`, `get_user_data`).\n",
    "\n",
    "**9. Avoid Acronyms and Abbreviations:**\n",
    "   - Avoid using cryptic abbreviations or acronyms in names unless they are widely understood and commonly used (e.g., `html_parser` instead of `ht_par`).\n",
    "\n",
    "**10. Use Comments for Clarification:**\n",
    "    - If a name alone does not fully describe the purpose or behavior of a function or variable, use comments to provide additional context.\n",
    "\n",
    "**11. Consider Function Length:**\n",
    "    - Functions should be relatively short and focused on a single task. If a function's name becomes too long, it may be a sign that the function is doing too much and should be split into smaller functions.\n",
    "\n",
    "**12. Use Consistent Pluralization:**\n",
    "    - When naming collections or sequences, use plural forms (e.g., `students`, `fruits`).\n",
    "\n",
    "**13. Avoid Ambiguity:**\n",
    "    - Names should not be ambiguous or easily confused. Ensure that each name has a clear and distinct meaning.\n",
    "\n",
    "Here's an example of well-named functions and variables following these best practices:\n",
    "\n",
    "```python\n",
    "# Good function names:\n",
    "def calculate_average(values):\n",
    "    pass\n",
    "\n",
    "def fetch_user_data(user_id):\n",
    "    pass\n",
    "\n",
    "# Good variable names:\n",
    "student_name = \"Alice\"\n",
    "max_attempts = 3\n",
    "user_list = [\"Alice\", \"Bob\", \"Eve\"]\n",
    "```\n",
    "\n",
    "By following these best practices and naming conventions, your code will become more readable and maintainable, making it easier for you and other developers to understand and work with."
   ]
  },
  {
   "cell_type": "code",
   "execution_count": null,
   "id": "d5ab4890-c510-43b1-9619-540ee4ac0896",
   "metadata": {},
   "outputs": [],
   "source": []
  }
 ],
 "metadata": {
  "kernelspec": {
   "display_name": "Python 3 (ipykernel)",
   "language": "python",
   "name": "python3"
  },
  "language_info": {
   "codemirror_mode": {
    "name": "ipython",
    "version": 3
   },
   "file_extension": ".py",
   "mimetype": "text/x-python",
   "name": "python",
   "nbconvert_exporter": "python",
   "pygments_lexer": "ipython3",
   "version": "3.10.8"
  }
 },
 "nbformat": 4,
 "nbformat_minor": 5
}
